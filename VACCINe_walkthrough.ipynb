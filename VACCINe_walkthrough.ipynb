{
  "nbformat": 4,
  "nbformat_minor": 0,
  "metadata": {
    "kernelspec": {
      "display_name": "Python 3",
      "language": "python",
      "name": "python3"
    },
    "language_info": {
      "codemirror_mode": {
        "name": "ipython",
        "version": 3
      },
      "file_extension": ".py",
      "mimetype": "text/x-python",
      "name": "python",
      "nbconvert_exporter": "python",
      "pygments_lexer": "ipython3",
      "version": "3.7.4"
    },
    "colab": {
      "name": "VACCINe_walkthrough.ipynb",
      "provenance": [],
      "include_colab_link": true
    }
  },
  "cells": [
    {
      "cell_type": "markdown",
      "metadata": {
        "id": "view-in-github",
        "colab_type": "text"
      },
      "source": [
        "<a href=\"https://colab.research.google.com/github/SajjadAbedian/AMIA_2020_VACCINE/blob/main/VACCINe_walkthrough.ipynb\" target=\"_parent\"><img src=\"https://colab.research.google.com/assets/colab-badge.svg\" alt=\"Open In Colab\"/></a>"
      ]
    },
    {
      "cell_type": "markdown",
      "metadata": {
        "id": "Cf8GfHQ3nURV"
      },
      "source": [
        "# VACCINe - Walkthrough\n",
        "In this tutorial, we will go over the steps to access, manipulate, and join disparate Social Determinants of Health datasets.\n",
        "\n",
        "## Predefined functions\n",
        "First, we need to create a series of functions that we will use throughout this walkthrough."
      ]
    },
    {
      "cell_type": "markdown",
      "metadata": {
        "id": "yKmJCWsPnURY"
      },
      "source": [
        "### geo_to_fips\n",
        "`geo_to_fips(dataframe, latitude, longitude)`\n",
        "\n",
        "We use this function to convert pairs of latitudes and longitudes to 15-digits FIPS codes. \n",
        "\n",
        "#### Input\n",
        "* First argument (`dataframe`) is a data frame containing at least a latitude and longitude columns\n",
        "* Second argument (`latitude`) must be the name of the column which stores the latitude addresses (as a string)\n",
        "* Third argument (`longitude`) must be the name of the column that stores the longitude addresses (as a string)\n",
        "* **NOTE:** For larger datasets (more than 10000 rows), please be sure to break up the dataset into smaller subsets before using this function. This function uses the Federal Communications Commission's API to convert latitude and longitude pairs to FIPS codes.\n",
        "\n",
        "#### Output\n",
        "* The output is a new pandas dataframe with an additional column containing the 15-digits FIPS codes\n",
        "    * NOTE: you should save the result of the function in a new variable\n"
      ]
    },
    {
      "cell_type": "code",
      "metadata": {
        "id": "eGenT_2wnURZ"
      },
      "source": [
        "def geo_to_fips(dataframe, latitude, longitude):\n",
        "    fips = []\n",
        "    for index, value in enumerate(dataframe.iloc[:,0]):\n",
        "        url = \"https://geo.fcc.gov/api/census/block/find?latitude=\" + str(dataframe[latitude][index]) + \"&longitude=\"+ str(dataframe[longitude][index]) + \"&format=json\"\n",
        "        obj = json.load(urlopen(url))\n",
        "        fips.append(obj['Block']['FIPS'])\n",
        "    dataframe[\"FIPS\"] = fips\n",
        "    print(\"FIPS code converted\")\n",
        "    return  dataframe"
      ],
      "execution_count": 1,
      "outputs": []
    },
    {
      "cell_type": "markdown",
      "metadata": {
        "id": "tVfoeGC8nURc"
      },
      "source": [
        "### fips_check\n",
        "`fips_check(dataframe, col)`\n",
        "\n",
        "We use this function to identify the length of the FIPS code in any dataset. This function displays the length of the largest FIPS code in a column.\n",
        "\n",
        "#### Input\n",
        "* first argument (`dataframe`) is the name of your dataset\n",
        "* second argument (`col`) is the name of the column which holds the FIPS codes\n",
        "    * NOTE: col must be a string variable\n",
        "\n",
        "#### Output\n",
        "* Returns the length of the largest FIPS code in the `col` column of your dataset `dataframe`"
      ]
    },
    {
      "cell_type": "code",
      "metadata": {
        "id": "0jS9DNLdnURc"
      },
      "source": [
        "def fips_check(dataframe, col):\n",
        "    tract = []\n",
        "    for n in dataframe[col]:\n",
        "        tract.append(len(str(n)))\n",
        "    return max(tract)"
      ],
      "execution_count": 2,
      "outputs": []
    },
    {
      "cell_type": "markdown",
      "metadata": {
        "id": "8xBqs5JQnURe"
      },
      "source": [
        "### fips_11 & fips_12\n",
        "`fips_11(dataframe, column_list = [])` & `fips_12(dataframe, column_list = [])`\n",
        "\n",
        "We will use these two functions frequently throughout this whole walkthrough to convert the 15-digits FIPS codes to 11 or 12-digits FIPS codes. These functions also serve as a slicer, to reduce the main datasets to only the necessary columns.\n",
        "\n",
        "#### Input: \n",
        "* First argument (`dataframe`) is the variable containing the original dataset \n",
        "* Second argument (`column_list = []`) is a LIST variable that you can name all the columns you would like to include in the final dataset. You can list the columns in any order you would like, as long as the first item is the column with the FIPS code.\n",
        "    * NOTE: column_list is a list variable containing all column names as strings\n",
        "    * NOTE: the first column in your original dataset should be the column containing the geographical unit\n",
        "\n",
        "#### Output:\n",
        "* The output is a pandas data frame with the desired columns and 11 (or 12) digits FIPS codes.\n",
        "* It also includes a column with the geographical unit of interest renamed to _FIPS_.\n",
        "* The result should be saved in a separate variable."
      ]
    },
    {
      "cell_type": "code",
      "metadata": {
        "id": "C6j3KfzMnURf"
      },
      "source": [
        "def fips_11(dataframe, column_list = []):\n",
        "    df_new = dataframe.loc[:, column_list]\n",
        "    df_new[column_list[0]] = df_new[column_list[0]].astype(str)\n",
        "    df_new['CT'] = df_new[column_list[0]].str[0:11].astype(str)\n",
        "    return df_new\n",
        "\n",
        "\n",
        "\n",
        "def fips_12(dataframe, column_list = []):\n",
        "    df_new = dataframe.loc[:, column_list]\n",
        "    df_new[column_list[0]] = df_new[column_list[0]].astype(str)\n",
        "    df_new['BG'] = df_new[column_list[0]].str[0:12].astype(str)\n",
        "    return df_new"
      ],
      "execution_count": 3,
      "outputs": []
    },
    {
      "cell_type": "markdown",
      "metadata": {
        "id": "Mw6DO3ZenURi"
      },
      "source": [
        "### join_to_vaccine\n",
        "`join_to_vaccine(V, X)`\n",
        "\n",
        "#### Input\n",
        "* `V` is the main SDH dataframe\n",
        "* `X` is the processed SDH source data you would like to join to the main SDH dataframe\n",
        "\n",
        "#### Output\n",
        "* The output is a pandas data frame\n",
        "* The outout contains the main SDH data frame used as the input of this function (`V`) alongwith the additional columns from the processed SDH source data (`X`)"
      ]
    },
    {
      "cell_type": "code",
      "metadata": {
        "id": "S51Jb_oZnURj"
      },
      "source": [
        "def join_to_vaccine(V, V_index, X, X_index):\n",
        "    V[V_index] = V[V_index].astype(str)\n",
        "    X[X_index] = X[X_index].astype(str)\n",
        "    return V.join(X.set_index(X_index), on=V_index)"
      ],
      "execution_count": 4,
      "outputs": []
    },
    {
      "cell_type": "markdown",
      "metadata": {
        "id": "b1FZvjcvXIWt"
      },
      "source": [
        "![VACCINe_workflow.jpg](data:image/jpeg;base64,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)"
      ]
    },
    {
      "cell_type": "markdown",
      "metadata": {
        "id": "8BafgN2TnURn"
      },
      "source": [
        "## Importing modules\n",
        "Modules below are all essential. Please use the command below to install any module. \n",
        "\n",
        "\n",
        "from census import Census\n",
        "from us import states\n",
        "import pandas as pd \n",
        "import json\n",
        "import requests\n",
        "from urllib.request import urlopen\n",
        "import time\n",
        "import numpy as np\n",
        "import glob\n",
        "import zipfile\n",
        "import requests, zipfile, io\n",
        "from datetime import date "
      ]
    },
    {
      "cell_type": "code",
      "metadata": {
        "id": "8bBIOkdWXX7R"
      },
      "source": [
        "!pip install census us"
      ],
      "execution_count": null,
      "outputs": []
    },
    {
      "cell_type": "code",
      "metadata": {
        "id": "gXOMgXzBnURn"
      },
      "source": [
        "from census import Census\n",
        "from us import states\n",
        "import pandas as pd \n",
        "import json\n",
        "import requests\n",
        "from urllib.request import urlopen\n",
        "import time\n",
        "import numpy as np\n",
        "import glob\n",
        "import zipfile\n",
        "import requests, zipfile, io\n",
        "from datetime import date \n",
        "from google.colab import files\n",
        "from google.colab import data_table"
      ],
      "execution_count": 20,
      "outputs": []
    },
    {
      "cell_type": "markdown",
      "metadata": {
        "id": "ApOOmningqHZ"
      },
      "source": [
        "![Processing_workflow.JPG](data:image/jpeg;base64,/9j/4AAQSkZJRgABAQEAeAB4AAD/4RCgRXhpZgAATU0AKgAAAAgABAE7AAIAAAAPAAAISodpAAQAAAABAAAIWpydAAEAAAAeAAAQeuocAAcAAAgMAAAAPgAAAAAc6gAAAAgAAAAAAAAAAAAAAAAAAAAAAAAAAAAAAAAAAAAAAAAAAAAAAAAAAAAAAAAAAAAAAAAAAAAAAAAAAAAAAAAAAAAAAAAAAAAAAAAAAAAAAAAAAAAAAAAAAAAAAAAAAAAAAAAAAAAAAAAAAAAAAAAAAAAAAAAAAAAAAAAAAAAAAAAAAAAAAAAAAAAAAAAAAAAAAAAAAAAAAAAAAAAAAAAAAAAAAAAAAAAAAAAAAAAAAAAAAAAAAAAAAAAAAAAAAAAAAAAAAAAAAAAAAAAAAAAAAAAAAAAAAAAAAAAAAAAAAAAAAAAAAAAAAAAAAAAAAAAAAAAAAAAAAAAAAAAAAAAAAAAAAAAAAAAAAAAAAAAAAAAAAAAAAAAAAAAAAAAAAAAAAAAAAAAAAAAAAAAAAAAAAAAAAAAAAAAAAAAAAAAAAAAAAAAAAAAAAAAAAAAAAAAAAAAAAAAAAAAAAAAAAAAAAAAAAAAAAAAAAAAAAAAAAAAAAAAAAAAAAAAAAAAAAAAAAAAAAAAAAAAAAAAAAAAAAAAAAAAAAAAAAAAAAAAAAAAAAAAAAAAAAAAAAAAAAAAAAAAAAAAAAAAAAAAAAAAAAAAAAAAAAAAAAAAAAAAAAAAAAAAAAAAAAAAAAAAAAAAAAAAAAAAAAAAAAAAAAAAAAAAAAAAAAAAAAAAAAAAAAAAAAAAAAAAAAAAAAAAAAAAAAAAAAAAAAAAAAAAAAAAAAAAAAAAAAAAAAAAAAAAAAAAAAAAAAAAAAAAAAAAAAAAAAAAAAAAAAAAAAAAAAAAAAAAAAAAAAAAAAAAAAAAAAAAAAAAAAAAAAAAAAAAAAAAAAAAAAAAAAAAAAAAAAAAAAAAAAAAAAAAAAAAAAAAAAAAAAAAAAAAAAAAAAAAAAAAAAAAAAAAAAAAAAAAAAAAAAAAAAAAAAAAAAAAAAAAAAAAAAAAAAAAAAAAAAAAAAAAAAAAAAAAAAAAAAAAAAAAAAAAAAAAAAAAAAAAAAAAAAAAAAAAAAAAAAAAAAAAAAAAAAAAAAAAAAAAAAAAAAAAAAAAAAAAAAAAAAAAAAAAAAAAAAAAAAAAAAAAAAAAAAAAAAAAAAAAAAAAAAAAAAAAAAAAAAAAAAAAAAAAAAAAAAAAAAAAAAAAAAAAAAAAAAAAAAAAAAAAAAAAAAAAAAAAAAAAAAAAAAAAAAAAAAAAAAAAAAAAAAAAAAAAAAAAAAAAAAAAAAAAAAAAAAAAAAAAAAAAAAAAAAAAAAAAAAAAAAAAAAAAAAAAAAAAAAAAAAAAAAAAAAAAAAAAAAAAAAAAAAAAAAAAAAAAAAAAAAAAAAAAAAAAAAAAAAAAAAAAAAAAAAAAAAAAAAAAAAAAAAAAAAAAAAAAAAAAAAAAAAAAAAAAAAAAAAAAAAAAAAAAAAAAAAAAAAAAAAAAAAAAAAAAAAAAAAAAAAAAAAAAAAAAAAAAAAAAAAAAAAAAAAAAAAAAAAAAAAAAAAAAAAAAAAAAAAAAAAAAAAAAAAAAAAAAAAAAAAAAAAAAAAAAAAAAAAAAAAAAAAAAAAAAAAAAAAAAAAAAAAAAAAAAAAAAAAAAAAAAAAAAAAAAAAAAAAAAAAAAAAAAAAAAAAAAAAAAAAAAAAAAAAAAAAAAAAAAAAAAAAAAAAAAAAAAAAAAAAAAAAAAAAAAAAAAAAAAAAAAAAAAAAAAAAAAAAAAAAAAAAAAAAAAAAAAAAAAAAAAAAAAAAAAAAAAAAAAAAAAAAAAAAAAAAAAAAAAAAAAAAAAAAAAAAAAAAAAAAAAAAAAAAAAAAAAAAAAAAAAAAAAAAAAAAAAAAAAAAAAAAAAAAAAAAAAAAAAAAAAAAAAAAAAAAAAAAAAAAAAAAAAAAAAAAAAAAAAAAAAAAAAAAAAAAAAAAAAAAAAAAAAAAAAAAAAAAAAAAAAAAAAAAAAAAAAAAAAAAAAAAAAAAAAAAAAAAAAAAAAAAAAAAAAAAAAAAAAAAAAAAAAAAAAAAAAAAAAAAAAAAAAAAAAAAAAAAAAAAAAAAAAAAAAAAAAAAAAAAAAAAAAAAAAAAAAAAAAAAAAAAAAAAAAAAAAAAAAAAAAAAAAAAAAAAAAAAAAAAAAAAAAAAAAAAAAAAAAAAAAAAAAAAAAAAAAAAAAAAAAAAAAAAAAAAAAAAAAAAAAAAAAAAAAAAAAAAAAAAAAAAAAAAAAAAAAAAAAAAAAAAAAAAAAAAAAAAAAAAAAAAAAAAAAAAAAAAAAAAAAAAAAAAAAAAAAAAAAAAAAAAAAAAAAAAAAAAAAAAAAAAAAAAAAAAAAAAAAAAAAAAAAAAAAAAAAAAAAAAAAAAAAAAAAAAAAAAAAAAAAAAAAAAAAAAAAAAAAAAAAAAAAAAAAAAAAAAAAAAAAAAAAAAAAAAAAAAAAAAAAAAAAAAAAAAAAAAAAAAAAAAAAAAAAAAAAAAAAAAAAAAAAAAAAAAAAAAAAAAAAAAAAAAAAAAAAAAAAAAAAAAAAAAAAAAAAAAAAAAAAAAAAAAAAAAAAAAAAAAAAAAAAAAAAAAAAAAAAAAAAAAAAAAAAAAAAAAAAAAAAAAAAAAAAAAAAAAAAAAAAAAAAAAAAAAAAAAAAAAAAAAAAAAAAAAAAAAAAAAAAAAAAAAAAAAAAAAAAAAAAAAAAAAAAAAAAAAAAAAAAAAAAAAAAAAAAAAAAAAAAAAAAAAAAAAAAAAAAAAAAAAAAAAAAAAAAAAAAAAAAAAAAAAAAAAAAAAAAAAAAAAFNhamphZCBBYmVkaWFuAAAAAeocAAcAAAgMAAAIbAAAAAAc6gAAAAgAAAAAAAAAAAAAAAAAAAAAAAAAAAAAAAAAAAAAAAAAAAAAAAAAAAAAAAAAAAAAAAAAAAAAAAAAAAAAAAAAAAAAAAAAAAAAAAAAAAAAAAAAAAAAAAAAAAAAAAAAAAAAAAAAAAAAAAAAAAAAAAAAAAAAAAAAAAAAAAAAAAAAAAAAAAAAAAAAAAAAAAAAAAAAAAAAAAAAAAAAAAAAAAAAAAAAAAAAAAAAAAAAAAAAAAAAAAAAAAAAAAAAAAAAAAAAAAAAAAAAAAAAAAAAAAAAAAAAAAAAAAAAAAAAAAAAAAAAAAAAAAAAAAAAAAAAAAAAAAAAAAAAAAAAAAAAAAAAAAAAAAAAAAAAAAAAAAAAAAAAAAAAAAAAAAAAAAAAAAAAAAAAAAAAAAAAAAAAAAAAAAAAAAAAAAAAAAAAAAAAAAAAAAAAAAAAAAAAAAAAAAAAAAAAAAAAAAAAAAAAAAAAAAAAAAAAAAAAAAAAAAAAAAAAAAAAAAAAAAAAAAAAAAAAAAAAAAAAAAAAAAAAAAAAAAAAAAAAAAAAAAAAAAAAAAAAAAAAAAAAAAAAAAAAAAAAAAAAAAAAAAAAAAAAAAAAAAAAAAAAAAAAAAAAAAAAAAAAAAAAAAAAAAAAAAAAAAAAAAAAAAAAAAAAAAAAAAAAAAAAAAAAAAAAAAAAAAAAAAAAAAAAAAAAAAAAAAAAAAAAAAAAAAAAAAAAAAAAAAAAAAAAAAAAAAAAAAAAAAAAAAAAAAAAAAAAAAAAAAAAAAAAAAAAAAAAAAAAAAAAAAAAAAAAAAAAAAAAAAAAAAAAAAAAAAAAAAAAAAAAAAAAAAAAAAAAAAAAAAAAAAAAAAAAAAAAAAAAAAAAAAAAAAAAAAAAAAAAAAAAAAAAAAAAAAAAAAAAAAAAAAAAAAAAAAAAAAAAAAAAAAAAAAAAAAAAAAAAAAAAAAAAAAAAAAAAAAAAAAAAAAAAAAAAAAAAAAAAAAAAAAAAAAAAAAAAAAAAAAAAAAAAAAAAAAAAAAAAAAAAAAAAAAAAAAAAAAAAAAAAAAAAAAAAAAAAAAAAAAAAAAAAAAAAAAAAAAAAAAAAAAAAAAAAAAAAAAAAAAAAAAAAAAAAAAAAAAAAAAAAAAAAAAAAAAAAAAAAAAAAAAAAAAAAAAAAAAAAAAAAAAAAAAAAAAAAAAAAAAAAAAAAAAAAAAAAAAAAAAAAAAAAAAAAAAAAAAAAAAAAAAAAAAAAAAAAAAAAAAAAAAAAAAAAAAAAAAAAAAAAAAAAAAAAAAAAAAAAAAAAAAAAAAAAAAAAAAAAAAAAAAAAAAAAAAAAAAAAAAAAAAAAAAAAAAAAAAAAAAAAAAAAAAAAAAAAAAAAAAAAAAAAAAAAAAAAAAAAAAAAAAAAAAAAAAAAAAAAAAAAAAAAAAAAAAAAAAAAAAAAAAAAAAAAAAAAAAAAAAAAAAAAAAAAAAAAAAAAAAAAAAAAAAAAAAAAAAAAAAAAAAAAAAAAAAAAAAAAAAAAAAAAAAAAAAAAAAAAAAAAAAAAAAAAAAAAAAAAAAAAAAAAAAAAAAAAAAAAAAAAAAAAAAAAAAAAAAAAAAAAAAAAAAAAAAAAAAAAAAAAAAAAAAAAAAAAAAAAAAAAAAAAAAAAAAAAAAAAAAAAAAAAAAAAAAAAAAAAAAAAAAAAAAAAAAAAAAAAAAAAAAAAAAAAAAAAAAAAAAAAAAAAAAAAAAAAAAAAAAAAAAAAAAAAAAAAAAAAAAAAAAAAAAAAAAAAAAAAAAAAAAAAAAAAAAAAAAAAAAAAAAAAAAAAAAAAAAAAAAAAAAAAAAAAAAAAAAAAAAAAAAAAAAAAAAAAAAAAAAAAAAAAAAAAAAAAAAAAAAAAAAAAAAAAAAAAAAAAAAAAAAAAAAAAAAAAAAAAAAAAAAAAAAAAAAAAAAAAAAAAAAAAAAAAAAAAAAAAAAAAAAAAAAAAAAAAAAAAAAAAAAAAAAAAAAAAAAAAAAAAAAAAAAAAAAAAAAAAAAAAAAAAAAAAAAAAAAAAAAAAAAAAAAAAAAAAAAAAAAAAAAAAAAAAAAAAAAAAAAAAAAAAAAAAAAAAAAAAAAAAAAAAAAAAAAAAAAAAAAAAAAAAAAAAAAAAAAAAAAAAAAAAAAAAAAAAAAAAAAAAAAAAAAAAAAAAAAAAAAAAAAAAAAAAAAAAAAAAAAAAAAAAAAAAAAAAAAAAAAAAAAAAAAAAAAAAAAAAAAAAAAAAAAAAAAAAAAAAAAAAAAAAAAAAAAAAAAAAAAAAAAAAAAAAAAAAAAAAAAAAAAAAAAAAAAAAAAAAAAAAAAAAAAAAAAAAAAAAAAAAAAAAAAAAAAAAAAAAAAAAAAAAAAAAAAAAAAAAAAAAAAAAAAAAAAAAAAAAAAAAAAAAAAAAAAAAAAAAAAAAAAAAAAAAAAAAAAAAAAAAAAAAAAAAAAAAAAAAAAAAAAAAAAAAAAAAAAAAAAAAAAAAAAAAAAAAAAAAAAAAAAAAAAAAAAAAAAAAAAAAAAAAAAAAAAAAAAAAAAAAAAAAAAAAAAAAAAAAAAAAAAAAAAAAAAAAAAAAAAAAAAAAAAAAAAAAAAAAAAAAAAAAAAAAAAAAAAAAAAAAAAAAAAAAAAAAAAAAAAAAAAAAAAAAAAAAAAAAAAAAAAAAAAAAAAAAAAAAAAAAAAAAAAAAAAAAAAAAAAAAAAAAAAAAAAAAAAAAAAAAAAAAAAAAAAAAAAAAAAAAAAAAAAAAAAAAAAAAAAAAUwBhAGoAagBhAGQAIABBAGIAZQBkAGkAYQBuAAAA/+EKZ2h0dHA6Ly9ucy5hZG9iZS5jb20veGFwLzEuMC8APD94cGFja2V0IGJlZ2luPSfvu78nIGlkPSdXNU0wTXBDZWhpSHpyZVN6TlRjemtjOWQnPz4NCjx4OnhtcG1ldGEgeG1sbnM6eD0iYWRvYmU6bnM6bWV0YS8iPjxyZGY6UkRGIHhtbG5zOnJkZj0iaHR0cDovL3d3dy53My5vcmcvMTk5OS8wMi8yMi1yZGYtc3ludGF4LW5zIyI+PHJkZjpEZXNjcmlwdGlvbiByZGY6YWJvdXQ9InV1aWQ6ZmFmNWJkZDUtYmEzZC0xMWRhLWFkMzEtZDMzZDc1MTgyZjFiIiB4bWxuczpkYz0iaHR0cDovL3B1cmwub3JnL2RjL2VsZW1lbnRzLzEuMS8iLz48cmRmOkRlc2NyaXB0aW9uIHJkZjphYm91dD0idXVpZDpmYWY1YmRkNS1iYTNkLTExZGEtYWQzMS1kMzNkNzUxODJmMWIiIHhtbG5zOmRjPSJodHRwOi8vcHVybC5vcmcvZGMvZWxlbWVudHMvMS4xLyI+PGRjOmNyZWF0b3I+PHJkZjpTZXEgeG1sbnM6cmRmPSJodHRwOi8vd3d3LnczLm9yZy8xOTk5LzAyLzIyLXJkZi1zeW50YXgtbnMjIj48cmRmOmxpPlNhamphZCBBYmVkaWFuPC9yZGY6bGk+PC9yZGY6U2VxPg0KCQkJPC9kYzpjcmVhdG9yPjwvcmRmOkRlc2NyaXB0aW9uPjwvcmRmOlJERj48L3g6eG1wbWV0YT4NCiAgICAgICAgICAgICAgICAgICAgICAgICAgICAgICAgICAgICAgICAgICAgICAgICAgICAgICAgICAgICAgICAgICAgICAgICAgICAgICAgICAgICAgICAgICAgICAgICAgICAKICAgICAgICAgICAgICAgICAgICAgICAgICAgICAgICAgICAgICAgICAgICAgICAgICAgICAgICAgICAgICAgICAgICAgICAgICAgICAgICAgICAgICAgICAgICAgICAgICAgIAogICAgICAgICAgICAgICAgICAgICAgICAgICAgICAgICAgICAgICAgICAgICAgICAgICAgICAgICAgICAgICAgICAgICAgICAgICAgICAgICAgICAgICAgICAgICAgICAgICAgCiAgICAgICAgICAgICAgICAgICAgICAgICAgICAgICAgICAgICAgICAgICAgICAgICAgICAgICAgICAgICAgICAgICAgICAgICAgICAgICAgICAgICAgICAgICAgICAgICAgICAKICAgICAgICAgICAgICAgICAgICAgICAgICAgICAgICAgICAgICAgICAgICAgICAgICAgICAgICAgICAgICAgICAgICAgICAgICAgICAgICAgICAgICAgICAgICAgICAgICAgIAogICAgICAgICAgICAgICAgICAgICAgICAgICAgICAgICAgICAgICAgICAgICAgICAgICAgICAgICAgICAgICAgICAgICAgICAgICAgICAgICAgICAgICAgICAgICAgICAgICAgCiAgICAgICAgICAgICAgICAgICAgICAgICAgICAgICAgICAgICAgICAgICAgICAgICAgICAgICAgICAgICAgICAgICAgICAgICAgICAgICAgICAgICAgICAgICAgICAgICAgICAKICAgICAgICAgICAgICAgICAgICAgICAgICAgICAgICAgICAgICAgICAgICAgICAgICAgICAgICAgICAgICAgICAgICAgICAgICAgICAgICAgICAgICAgICAgICAgICAgICAgIAogICAgICAgICAgICAgICAgICAgICAgICAgICAgICAgICAgICAgICAgICAgICAgICAgICAgICAgICAgICAgICAgICAgICAgICAgICAgICAgICAgICAgICAgICAgICAgICAgICAgCiAgICAgICAgICAgICAgICAgICAgICAgICAgICAgICAgICAgICAgICAgICAgICAgICAgICAgICAgICAgICAgICAgICAgICAgICAgICAgICAgICAgICAgICAgICAgICAgICAgICAKICAgICAgICAgICAgICAgICAgICAgICAgICAgICAgICAgICAgICAgICAgICAgICAgICAgICAgICAgICAgICAgICAgICAgICAgICAgICAgICAgICAgICAgICAgICAgICAgICAgIAogICAgICAgICAgICAgICAgICAgICAgICAgICAgICAgICAgICAgICAgICAgICAgICAgICAgICAgICAgICAgICAgICAgICAgICAgICAgICAgICAgICAgICAgICAgICAgICAgICAgCiAgICAgICAgICAgICAgICAgICAgICAgICAgICAgICAgICAgICAgICAgICAgICAgICAgICAgICAgICAgICAgICAgICAgICAgICAgICAgICAgICAgICAgICAgICAgICAgICAgICAKICAgICAgICAgICAgICAgICAgICAgICAgICAgICAgICAgICAgICAgICAgICAgICAgICAgICAgICAgICAgICAgICAgICAgICAgICAgICAgICAgICAgICAgICAgICAgICAgICAgIAogICAgICAgICAgICAgICAgICAgICAgICAgICAgICAgICAgICAgICAgICAgICAgICAgICAgICAgICAgICAgICAgICAgICAgICAgICAgICAgICAgICAgICAgICAgICAgICAgICAgCiAgICAgICAgICAgICAgICAgICAgICAgICAgICAgICAgICAgICAgICAgICAgICAgICAgICAgICAgICAgICAgICAgICAgICAgICAgICAgICAgICAgICAgICAgICAgICAgICAgICAKICAgICAgICAgICAgICAgICAgICAgICAgICAgICAgICAgICAgICAgICAgICAgICAgICAgICAgICAgICAgICAgICAgICAgICAgICAgICAgICAgICAgICAgICAgICAgICAgICAgIAogICAgICAgICAgICAgICAgICAgICAgICAgICAgICAgICAgICAgICAgICAgICAgICAgICAgICAgICAgICAgICAgICAgICAgICAgICAgICAgICAgICAgICAgICAgICAgICAgICAgCiAgICAgICAgICAgICAgICAgICAgICAgICAgICAgICAgICAgICAgICAgICAgICAgICAgICAgICAgICAgICAgICAgICAgICAgICAgICAgICAgICAgICAgICAgICAgICAgICAgICAKICAgICAgICAgICAgICAgICAgICAgICAgICAgICAgICAgICAgICAgICAgICAgICAgICAgICAgICAgICAgICAgICAgICAgICAgICAgICAgICAgICAgICAgICAgICAgICAgICAgIAogICAgICAgICAgICAgICAgICAgICAgICAgICAgPD94cGFja2V0IGVuZD0ndyc/Pv/bAEMABwUFBgUEBwYFBggHBwgKEQsKCQkKFQ8QDBEYFRoZGBUYFxseJyEbHSUdFxgiLiIlKCkrLCsaIC8zLyoyJyorKv/bAEMBBwgICgkKFAsLFCocGBwqKioqKioqKioqKioqKioqKioqKioqKioqKioqKioqKioqKioqKioqKioqKioqKioqKv/AABEIA64CnwMBIgACEQEDEQH/xAAfAAABBQEBAQEBAQAAAAAAAAAAAQIDBAUGBwgJCgv/xAC1EAACAQMDAgQDBQUEBAAAAX0BAgMABBEFEiExQQYTUWEHInEUMoGRoQgjQrHBFVLR8CQzYnKCCQoWFxgZGiUmJygpKjQ1Njc4OTpDREVGR0hJSlNUVVZXWFlaY2RlZmdoaWpzdHV2d3h5eoOEhYaHiImKkpOUlZaXmJmaoqOkpaanqKmqsrO0tba3uLm6wsPExcbHyMnK0tPU1dbX2Nna4eLj5OXm5+jp6vHy8/T19vf4+fr/xAAfAQADAQEBAQEBAQEBAAAAAAAAAQIDBAUGBwgJCgv/xAC1EQACAQIEBAMEBwUEBAABAncAAQIDEQQFITEGEkFRB2FxEyIygQgUQpGhscEJIzNS8BVictEKFiQ04SXxFxgZGiYnKCkqNTY3ODk6Q0RFRkdISUpTVFVWV1hZWmNkZWZnaGlqc3R1dnd4eXqCg4SFhoeIiYqSk5SVlpeYmZqio6Slpqeoqaqys7S1tre4ubrCw8TFxsfIycrS09TV1tfY2dri4+Tl5ufo6ery8/T19vf4+fr/2gAMAwEAAhEDEQA/APpGiiuc+IGv3vhfwFqutaWlu93ZxB41uUZoydwByFIPQnvQB0dFcV5HxR/6CPhH/wAALr/49R5HxR/6CPhH/wAALr/49QB2tFcV5HxR/wCgj4R/8ALr/wCPUeR8Uf8AoI+Ef/AC6/8Aj1AHa0VxXkfFH/oI+Ef/AAAuv/j1HkfFH/oI+Ef/AAAuv/j1AHa0VxXkfFH/AKCPhH/wAuv/AI9R5HxR/wCgj4R/8ALr/wCPUAdrRXFeR8Uf+gj4R/8AAC6/+PUeR8Uf+gj4R/8AAC6/+PUAdrRXFeR8Uf8AoI+Ef/AC6/8Aj1HkfFH/AKCPhH/wAuv/AI9QB2tFcV5HxR/6CPhH/wAALr/49R5HxR/6CPhH/wAALr/49QB2tFcV5HxR/wCgj4R/8ALr/wCPUeR8Uf8AoI+Ef/AC6/8Aj1AHa0VxXkfFH/oI+Ef/AAAuv/j1HkfFH/oI+Ef/AAAuv/j1AHa0VxXkfFH/AKCPhH/wAuv/AI9VbUpvifpulXd8994RdbaB5iosLnLBVJx/rvagDvqKyvC+pz614P0fVLxY1uL6wguZViBCB3jViFBJOMnjJNatABRRRQAUUUUAFFFFABRRXK+P9e1fQdK01vDwsvtl9qlvYg30bvGolYrnCMp4OD19aAOqorivI+KP/QR8I/8AgBdf/HqPI+KP/QR8I/8AgBdf/HqAO1orivI+KP8A0EfCP/gBdf8Ax6jyPij/ANBHwj/4AXX/AMeoA7WiuK8j4o/9BHwj/wCAF1/8eo8j4o/9BHwj/wCAF1/8eoA7WiuK8j4o/wDQR8I/+AF1/wDHqPI+KP8A0EfCP/gBdf8Ax6gDtaK4ryPij/0EfCP/AIAXX/x6jyPij/0EfCP/AIAXX/x6gDtaK4ryPij/ANBHwj/4AXX/AMeo8j4o/wDQR8I/+AF1/wDHqAO1orivI+KP/QR8I/8AgBdf/HqPI+KP/QR8I/8AgBdf/HqAO1orivI+KP8A0EfCP/gBdf8Ax6jyPij/ANBHwj/4AXX/AMeoA7WiuK8j4o/9BHwj/wCAF1/8eo8j4o/9BHwj/wCAF1/8eoA7WiuK8j4o/wDQR8I/+AF1/wDHqyPFes/Ezwr4WvtbuLrwncR2aB2iSxuQWywHBM3vQB6ZRRRQAUUUUAFFFFABRRRQAUUVx/jTXfEOn6/4d0jwudMSbVpLhHk1GGSRUEcXmDGx1PYjv1FAHYUVxXkfFH/oI+Ef/AC6/wDj1HkfFH/oI+Ef/AC6/wDj1AHa0VxXkfFH/oI+Ef8AwAuv/j1HkfFH/oI+Ef8AwAuv/j1AHa0VxXkfFH/oI+Ef/AC6/wDj1HkfFH/oI+Ef/AC6/wDj1AHa0VxXkfFH/oI+Ef8AwAuv/j1HkfFH/oI+Ef8AwAuv/j1AHa0VxXkfFH/oI+Ef/AC6/wDj1HkfFH/oI+Ef/AC6/wDj1AHa0VxXkfFH/oI+Ef8AwAuv/j1HkfFH/oI+Ef8AwAuv/j1AHa0VxXkfFH/oI+Ef/AC6/wDj1HkfFH/oI+Ef/AC6/wDj1AHa0VxXkfFH/oI+Ef8AwAuv/j1HkfFH/oI+Ef8AwAuv/j1AHa0VxXkfFH/oI+Ef/AC6/wDj1HkfFH/oI+Ef/AC6/wDj1AHa0VxXkfFH/oI+Ef8AwAuv/j1Z2qa18QvDt3o0mr3Hhm4s77VbaxlW1s7hJAsr7SVLSkZAz1BoA9GooooAK4r4w/8AJIvEH/Xuv/oa12tcV8Yf+SReIP8Ar3X/ANDWgDtaKKKACiiigAooooAKKrahazXthJb21/cafK+NtzbLGZEwQeBIrLzjHKng9jzXA+F7rXHuvEd3qfiXW9Si0TWHsobKG0tCblBFEyhgkAbJaQ8hlAABOACaAPR6K888X+M5LnwH4wtobXU9B1nTdKa5Ec7xrKqur7JEeGR16ow4bII6dK1dN8axXMtnpt5puqadNfWryWNxexoq3exQW24cujYO7bIqNjPHBoA66ivO/BHjGSH4d+E4Z4dR17Wr/TRcGGB0eZkUAPK7yuqgZZRlmySeAcHHY+H9ftPEelm8slmiKSvBPBOoWSCVDteNwCRkEY4JB6gkc0AadFeba14y1az8eC8t7tV8L6dqFvpGoQ+Sp3zzISZfMxkBGkt1wDjl89q9JoAKKKKACiiigArK8U/8ifrP/XhP/wCi2rVrK8U/8ifrP/XhP/6LagCp4B/5Jr4Z/wCwRa/+iVroK5/wD/yTXwz/ANgi1/8ARK10FABRRRQAUUUUAFFFFABXFfEz/j18M/8AYy6f/wCja7WuK+Jn/Hr4Z/7GXT//AEbQB2tFFFABRRRQAUUUUAFFU9UsbjULPybTVLvS5Nwbz7RYmfH93EqOuPwzx1rhfBWo63LoU+t6rreta28OoXdnHp0NraATbJ3iTJWJCpwoJYuqg8nAoA9Gorzbxv40e4+HviB7OLU9F1PSrm0juIXKiaMPLEwKtC7hgyMR8rE9QR2rS1jxqLjSNc05rDVNE1FdGuL2zN2EQzoqkF4zG7FSpKEq21xuXjrgA7eiuM0fxeYdB0OxhsNR13VpNIt7u4itWi3ojIAJJHmkRcswbA3FjgnGATXR6Drll4k0O21bS2dra4UlRIhRlIJVlZT0ZWBUj1BoA0KK8U8KePdRvrXwlNF41XWtZ1S/EF/oZW0PlxHfvcLFGskexV35ZiOMY5Fe10AFFFFABRRRQAVxXxh/5JF4g/691/8AQ1rta4r4w/8AJIvEH/Xuv/oa0AdrRRRQAUUUUAFFFFABRRRQAVxXiv8A5Kf4C/6733/pK1drXFeK/wDkp/gL/rvff+krUAdrRRRQAUUUUAFFFFABRWZrlhd31oDY61faS0QZi1mkDGTjofNjcY+mK47wPrGtt4F0XxFql9rfiS81W1Rv7PgtrRERyNxYMEjCAAH78mDnAyxAoA9EorzbxV42+06Jomoaemp2TweJobK+s1U+eCpYPCVjZg4PynClgQRSeOPG0lx4B8UW9tBqega1pttDKYZ3RJljkcBZEeJ2UqSrrw2QQQQMjIB6VRXNar41g0++vrWz0jU9XbTI1kv2sEixagrvAPmSIXYr821AxwRkfMubOq+K7DT/AAJc+K7dvtlhFYm+iMZx5ybNy4z0zx19aANyiuU0HTPFE1pp2qar4nkN1MqTXWnpZw/Y1DDLRp8omGAcBjIeRkgj5a6ugAooooAKKKKACuK+Jn/Hr4Z/7GXT/wD0bXa1xXxM/wCPXwz/ANjLp/8A6NoA7WiiigArivjD/wAki8Qf9e6/+hrXa1xXxh/5JF4g/wCvdf8A0NaAO1ooooAKKKKACiiigArz+98CavP4a8YWEF5bxTa3q/2+DEkio8W2ANDKVAZQ4idG25+V+/Ir0CigDydvhdqcsPiz7Jp3h3Q01zRVsLez00sIopQZMs7CJd2d4O4KD2wdu49DH4Z8Q6l4g0a615tMit9BScW72ckjNdyPEYg7IygRAIxO0NJyfvcZPb0UAeUQfCq7tNN8LSXOnaBr91pOlnTbux1QE27gkMJYpDE5VlZccx8qzcjHPf8Ah3Sf7F0EW0OmaVp0hZ5PsmmR+XAjE8DO0bjjAL7RnrtHStiigDzWL4QW134DvNN1u9vJNZ1GOWa8mg1S6W2N3IS3mCEOEIVyMZTkKMiu90WPUIdCsYtaeKTUEt0W6eFiyPIFAYqSAcE5PIFXaKACiiigAooooAKyvFP/ACJ+s/8AXhP/AOi2rVrK8U/8ifrP/XhP/wCi2oAqeAf+Sa+Gf+wRa/8Aola6Cuf8A/8AJNfDP/YItf8A0StdBQAUUUUAFFFFABRRRQAVxXxM/wCPXwz/ANjLp/8A6Nrta4r4mf8AHr4Z/wCxl0//ANG0AdrRRRQAUUUUAFFFFABXnMngDV/+EDbR1msp5v7cl1GS1klkW3vIHuWkMEjBcgFW5+VhkYIYV6NRQB5QPhbqzaL4qtrWDQdGbW5rGS2ttPV/ItvIkDNkBE3EgZyAuSf4etbGo+EvEfiTUrm/1w6XaSQ6NdadZRWk8kiySTgBpZGZF2L8iAIA+Mn5jgZ7+igDzGf4ZTR6hpmoSaN4d8QvFo1vptzaauCEjeHOJYpPKk67mBUoM4U57V32g6aukaHbWSWdjZCNSTb6dD5UEZJLEIvpknnAycnAzitCigDyqz8A+KpvAekeDtSi0W2s7G5imfU7e9lmnAjl80GOMwoFYkBd2/gFuD0r1WiigAooooAKKKKACuK+MP8AySLxB/17r/6GtdrXFfGH/kkXiD/r3X/0NaAO1ooooAKKKKACiiigAooooAK4rxX/AMlP8Bf9d77/ANJWrta4rxX/AMlP8Bf9d77/ANJWoA7WiiigAooooAKKKKAGTIZIJEXqykDP0rzf/hXmrR+BfCOjyx6Xqh0RQt9pt5M62l7+7Kgk+W2drYYBkI+hwa9LooA8rsvhnrtj4fFtZNodjdJ4mXW4obeN/s0SCMARBQFPDDHGBjnj7tWte8B+IfFNr4lvNSbTLPUtTsINOs7aC4klhiijkMhZ5TGpLMztwEwAByc8elUUAec6t8Ombxlq+sxeHPDPiGPVjFIRrS7JLSRIxGQreTJuQhQcfLg55OeOuvvDdnqXgubw3dRxRWk9kbN1s4hEiKU2/u05CAdQOcYHWtiigDldCg8a2NvZabqa6LPBbYjk1RJ5fNnjU8H7PsAV2UAH96QCScMPlrqqKKACiiigAooooAK4r4mf8evhn/sZdP8A/RtdrXFfEz/j18M/9jLp/wD6NoA7WiiigAriPjIHPwf8Q+WwVvs64LDI/wBYtdvXFfGH/kkXiD/r3X/0NaAD+yfiR/0Nehf+CWT/AOP0f2T8SP8Aoa9C/wDBLJ/8frtaKAOK/sn4kf8AQ16F/wCCWT/4/R/ZPxI/6GvQv/BLJ/8AH67WigDzLxbP8R/DHhDVNbbxLoc4sLZ5zEujupbA6AmY4/I1rR6Z8SJIkf8A4SrQhuUHH9ivx/5Hqf4tf8kh8Uf9g6X+VdXbf8ekP+4v8qAOP/sn4kf9DXoX/glk/wDj9H9k/Ej/AKGvQv8AwSyf/H67WigDiv7J+JH/AENehf8Aglk/+P1l+Jj8R/D/AIU1XWD4m0OYafZy3JjXR3UvsQtgEzHHTrg16TXMfEv/AJJT4q/7A91/6KagDKsrH4kXlhb3I8U6EgmiWTb/AGK5xkZx/r/ep/7J+JH/AENehf8Aglk/+P10+if8i/p//XrF/wCgCr1AHFf2T8SP+hr0L/wSyf8Ax+j+yfiR/wBDXoX/AIJZP/j9drRQB53rkfxH0Xw9qOqHxPocosbWW4MY0ZwX2IWxnzjjOKk0q3+I+qaNZagPE+hRi7t45wh0Zzt3KGxnz+etdF46/wCSd+I/+wVdf+imqfwl/wAiXon/AGD4P/Ra0AYP9k/Ej/oa9C/8Esn/AMfo/sn4kf8AQ16F/wCCWT/4/Xa0UAcV/ZPxI/6GvQv/AASyf/H6zvEOlfENfDGqNc+KNEkhFnMZETR3Usuw5APnHBx3r0asrxT/AMifrP8A14T/APotqAKfw/z/AMK08M55P9kWmf8AvytdDXP+Af8Akmvhn/sEWv8A6JWugoAKKKKACiiigAooooAK4H4tx3kujeH002eK3um8RWIilmiMiq284JUEZAODjPPT3rvq4r4mf8evhn/sZdP/APRtAB/ZPxI/6GvQv/BLJ/8AH6P7J+JH/Q16F/4JZP8A4/Xa0UAcV/ZPxI/6GvQv/BLJ/wDH6P7J+JH/AENehf8Aglk/+P12tFAHmHim6+I/hvTrW6bxJok/2i/trPaujuu3zZVTdzMem7OO/qK2v7J+JH/Q16F/4JZP/j9HxS/5F3Sv+w/pv/pUldrQBxX9k/Ej/oa9C/8ABLJ/8fo/sn4kf9DXoX/glk/+P12tFAHFf2T8SP8Aoa9C/wDBLJ/8frF8WXXxH8MaAdSbxJolwBc28GxdHdT+9mSPOTMem/P4duten1xXxa/5EBv+wlp//pZDQAf2T8SP+hr0L/wSyf8Ax+j+yfiR/wBDXoX/AIJZP/j9drRQBxX9k/Ej/oa9C/8ABLJ/8fo/sn4kf9DXoX/glk/+P12tFAHmHi27+I3hXwxc6w/iPQ7kQPEvlLpDqW3yKnXzj03Z/Ctr+yfiR/0Nehf+CWT/AOP0fF7/AJJdqf8A11tf/SmKu1oA4r+yfiR/0Nehf+CWT/4/R/ZPxI/6GvQv/BLJ/wDH67WigDiv7J+JH/Q16F/4JZP/AI/XKfE/TfHcXwz1p9V8R6Pc2awjzYodKeN2G9ejGY459jXsFcV8Yf8AkkXiD/r3X/0NaAO1ooooAKKKKACiiigAooooAK87+IkOq3Hj3wNHoV5bWV4Z73ZNc25mRf8ARjnKhlzxkdepB7c+iVxXiv8A5Kf4C/6733/pK1AB/ZPxI/6GvQv/AASyf/H6P7J+JH/Q16F/4JZP/j9drRQBxX9k/Ej/AKGvQv8AwSyf/H6P7J+JH/Q16F/4JZP/AI/Xa0UAeYa1dfEfSNc0DTj4k0SQ6vdSW4caO4Ee2F5Mkecc/cx2/pW1/ZPxI/6GvQv/AASyf/H6PGn/ACPXgL/sKT/+kc1drQBxX9k/Ej/oa9C/8Esn/wAfo/sn4kf9DXoX/glk/wDj9drRQBxX9k/Ej/oa9C/8Esn/AMfrF1+6+I+h32h258SaJL/auoCyBGjuvl5ikfcf3xz/AKvpx1616fXFfED/AJDvgb/sYV/9Jp6AD+yfiR/0Nehf+CWT/wCP0f2T8SP+hr0L/wAEsn/x+u1ooA4r+yfiR/0Nehf+CWT/AOP0f2T8SP8Aoa9C/wDBLJ/8frtaKAPMPEV38RtAk0dW8R6HP/aepR2AxpDr5ZdWO7/XHONvTjr1ra/sn4kf9DXoX/glk/8Aj9HxH/1/g/8A7GW1/wDQJa7WgDiv7J+JH/Q16F/4JZP/AI/R/ZPxI/6GvQv/AASyf/H67WigDiv7J+JH/Q16F/4JZP8A4/XNeMbDxlbz+GH1/XtLvbT/AISOwBittNaF93m8HcZW9+1etVxXxM/49fDP/Yy6f/6NoA7WiiigArivjD/ySLxB/wBe6/8Aoa12tcV8Yf8AkkXiD/r3X/0NaAO1ooooAKKKKAOP+LX/ACSHxR/2Dpf5V1dt/wAekP8AuL/KuU+LX/JIfFH/AGDpf5V1dt/x6Q/7i/yoAlooooAK5j4l/wDJKfFX/YHuv/RTV09cx8S/+SU+Kv8AsD3X/opqANnRP+Rf0/8A69Yv/QBV6qOif8i/p/8A16xf+gCr1ABRRRQBg+Ov+Sd+I/8AsFXX/opqn8Jf8iXon/YPg/8ARa1B46/5J34j/wCwVdf+imqfwl/yJeif9g+D/wBFrQBr0UUUAFZXin/kT9Z/68J//RbVq1leKf8AkT9Z/wCvCf8A9FtQBU8A/wDJNfDP/YItf/RK10Fc/wCAf+Sa+Gf+wRa/+iVroKACiiigAooooAKKKKACuK+Jn/Hr4Z/7GXT/AP0bXa1xXxM/49fDP/Yy6f8A+jaAO1ooooAKKKKAOK+KX/Iu6V/2H9N/9Kkrta4r4pf8i7pX/Yf03/0qSu1oAKKKKACuK+LX/IgN/wBhLT//AEshrta4r4tf8iA3/YS0/wD9LIaAO1ooooAKKKKAOK+L3/JLtT/662v/AKUxV2tcV8Xv+SXan/11tf8A0pirtaACiiigArivjD/ySLxB/wBe6/8Aoa12tcV8Yf8AkkXiD/r3X/0NaAO1ooooAKKKKACiiigAooooAK4rxX/yU/wF/wBd77/0lau1rivFf/JT/AX/AF3vv/SVqAO1ooooAKKKKAOK8af8j14C/wCwpP8A+kc1drXFeNP+R68Bf9hSf/0jmrtaACiiigAriviB/wAh3wN/2MK/+k09drXFfED/AJDvgb/sYV/9Jp6AO1ooooAKKKKAOK+I/wDr/B//AGMtr/6BLXa1xXxH/wBf4P8A+xltf/QJa7WgAooooAK4r4mf8evhn/sZdP8A/RtdrXFfEz/j18M/9jLp/wD6NoA7WiiigArivjD/AMki8Qf9e6/+hrXa1xHxkcR/B/xCxDEfZ14VST/rF7CgDt6K4r/haOm/9ADxV/4ILn/4ij/haOm/9ADxV/4ILn/4igDtaK4r/haOm/8AQA8Vf+CC5/8AiKP+Fo6b/wBADxV/4ILn/wCIoAl+LX/JIfFH/YOl/lXV23/HpD/uL/KvKPiV8Q7DUvhl4gs4tG8RwvPYyIslxotxFGpI6s7LhR7mujt/ifpq20QOg+KThAONAufT/coA7miuK/4Wjpv/AEAPFX/gguf/AIij/haOm/8AQA8Vf+CC5/8AiKAO1rmPiX/ySnxV/wBge6/9FNVH/haOm/8AQA8Vf+CC5/8AiK5/x78RtPv/AIc+IrSPRfEkTz6ZcRq8+iXEcakxsMsxXCj1J4FAHo+if8i/p/8A16xf+gCr1ef6T8TdOi0WyjOheKGKW8akroNyQcKOh2cirf8AwtHTf+gB4q/8EFz/APEUAdrRXFf8LR03/oAeKv8AwQXP/wARR/wtHTf+gB4q/wDBBc//ABFAGv46/wCSd+I/+wVdf+imqfwl/wAiXon/AGD4P/Ra1xHjD4kafeeB9dtk0TxNG02nXEYeXQ7hEUmNhlmK4A9SelTeGviVp1t4U0mBtD8TO0VlChaPQrllJCAZBC4I96APSKK4r/haOm/9ADxV/wCCC5/+Io/4Wjpv/QA8Vf8Agguf/iKAO1rK8U/8ifrP/XhP/wCi2rn/APhaOm/9ADxV/wCCC5/+IrO8Q/EvTrjwxqkK6H4nQyWcyBpNCuVUZQjJJXAHvQB03gH/AJJr4Z/7BFr/AOiVroK574fnPw08MH10i06/9cVroaACiiigAooooAKKKKACuK+Jn/Hr4Z/7GXT/AP0bXa1wPxbvU07RvD93LFPKsPiKxcpbwtK7YcnCqoJJ44Hc4HegDvqK4r/haOm/9ADxV/4ILn/4ij/haOm/9ADxV/4ILn/4igDtaK4r/haOm/8AQA8Vf+CC5/8AiKP+Fo6b/wBADxV/4ILn/wCIoAPil/yLulf9h/Tf/SpK7WvHviH8QrDUND06OPRvEURj1mwmJuNFuIwQtwjEAleWOMAdSeBXWf8AC0dN/wCgB4q/8EFz/wDEUAdrRXFf8LR03/oAeKv/AAQXP/xFH/C0dN/6AHir/wAEFz/8RQB2tcV8Wv8AkQG/7CWn/wDpZDR/wtHTf+gB4q/8EFz/APEVyfxK+IVhqXgtreLRvEULfb7J99xotxEmFuomI3MuMnGAO5wB1oA9horiv+Fo6b/0APFX/gguf/iKP+Fo6b/0APFX/gguf/iKAO1oriv+Fo6b/wBADxV/4ILn/wCIo/4Wjpv/AEAPFX/gguf/AIigA+L3/JLtT/662v8A6UxV2teP/E34hWGp/D2/tItG8RQs8luQ9zotxEgxPG3LMuB0wPU4FdX/AMLR03/oAeKv/BBc/wDxFAHa0VxX/C0dN/6AHir/AMEFz/8AEUf8LR03/oAeKv8AwQXP/wARQB2tcV8Yf+SReIP+vdf/AENaP+Fo6b/0APFX/gguf/iK5T4n/EKw1T4Z61ZxaN4iheaEASXOi3EUa/Op+ZmXA/GgD2CiiigAooooAKKKKACiiigArivFf/JT/AX/AF3vv/SVq7WvO/iJq8WiePfA17cW95cpHPe5jsrZ55Dm3I4VASev5ZPY0AeiUVxX/C0dN/6AHir/AMEFz/8AEUf8LR03/oAeKv8AwQXP/wARQB2tFcV/wtHTf+gB4q/8EFz/APEUf8LR03/oAeKv/BBc/wDxFAB40/5HrwF/2FJ//SOau1rx7xX8QrC68YeDbhNG8RItpqE0jLLotwjODayrhFK5Y85wOwJ7V1n/AAtHTf8AoAeKv/BBc/8AxFAHa0VxX/C0dN/6AHir/wAEFz/8RR/wtHTf+gB4q/8ABBc//EUAdrXFfED/AJDvgb/sYV/9Jp6P+Fo6b/0APFX/AIILn/4iuT8afEKwvdY8IyJo3iKMWutrMwm0W4QuPs8y4QFfmb5s4HOAT2oA9horiv8AhaOm/wDQA8Vf+CC5/wDiKP8AhaOm/wDQA8Vf+CC5/wDiKAO1oriv+Fo6b/0APFX/AIILn/4ij/haOm/9ADxV/wCCC5/+IoAPiP8A6/wf/wBjLa/+gS12teP+OviFYX03hcx6N4ii+z69bzt52i3Ee8BJBtXK/M3PCjk811f/AAtHTf8AoAeKv/BBc/8AxFAHa0VxX/C0dN/6AHir/wAEFz/8RR/wtHTf+gB4q/8ABBc//EUAdrXFfEz/AI9fDP8A2Mun/wDo2j/haOm/9ADxV/4ILn/4iua8Y+OLLXZ/DFnb6Vrtq58R2DeZe6TNBHxL03OoGeelAHrVFFFABXFfGH/kkXiD/r3X/wBDWu1rivjD/wAki8Qf9e6/+hrQB2tFFFABRRRQBx/xa/5JD4o/7B0v8q6u2/49If8AcX+Vcp8Wv+SQ+KP+wdL/ACrq7b/j0h/3F/lQBLRRRQAVzHxL/wCSU+Kv+wPdf+imrp65j4l/8kp8Vf8AYHuv/RTUAbOif8i/p/8A16xf+gCr1UdE/wCRf0//AK9Yv/QBV6gAooooAwfHX/JO/Ef/AGCrr/0U1T+Ev+RL0T/sHwf+i1qDx1/yTvxH/wBgq6/9FNU/hL/kS9E/7B8H/otaANeiiigArK8U/wDIn6z/ANeE/wD6LatWsrxT/wAifrP/AF4T/wDotqAKngH/AJJr4Z/7BFr/AOiVroK5/wAA/wDJNfDP/YItf/RK10FABRRRQAUUUUAFFFFABXFfEz/j18M/9jLp/wD6Nrta4r4mf8evhn/sZdP/APRtAHa0UUUAFFFFAHFfFL/kXdK/7D+m/wDpUldrXFfFL/kXdK/7D+m/+lSV2tABRRRQAVxXxa/5EBv+wlp//pZDXa1xXxa/5EBv+wlp/wD6WQ0AdrRRRQAUUUUAcV8Xv+SXan/11tf/AEpirta4r4vf8ku1P/rra/8ApTFXa0AFFFFABXFfGH/kkXiD/r3X/wBDWu1rivjD/wAki8Qf9e6/+hrQB2tFFFABRRRQAUUUUAFFFFABXFeK/wDkp/gL/rvff+krV2tcV4r/AOSn+Av+u99/6StQB2tFFFABRRRQBxXjT/kevAX/AGFJ/wD0jmrta4rxp/yPXgL/ALCk/wD6RzV2tABRRRQAVxXxA/5Dvgb/ALGFf/Saeu1riviB/wAh3wN/2MK/+k09AHa0UUUAFFFFAHFfEf8A1/g//sZbX/0CWu1riviP/r/B/wD2Mtr/AOgS12tABRRRQAVxXxM/49fDP/Yy6f8A+ja7WuK+Jn/Hr4Z/7GXT/wD0bQB2tFFFABXFfGH/AJJF4g/691/9DWu1rivjD/ySLxB/17r/AOhrQB2tFFFABRRRQBx/xa/5JD4o/wCwdL/Kurtv+PSH/cX+Vcp8Wv8AkkPij/sHS/yrq7b/AI9If9xf5UAS0UUUAFcx8S/+SU+Kv+wPdf8Aopq6euY+Jf8AySnxV/2B7r/0U1AGzon/ACL+n/8AXrF/6AKvVR0T/kX9P/69Yv8A0AVeoAKKKKAMHx1/yTvxH/2Crr/0U1T+Ev8AkS9E/wCwfB/6LWoPHX/JO/Ef/YKuv/RTVP4S/wCRL0T/ALB8H/otaANeiiigArK8U/8AIn6z/wBeE/8A6LatWsrxT/yJ+s/9eE//AKLagCp4B/5Jr4Z/7BFr/wCiVroK5/wD/wAk18M/9gi1/wDRK10FABRRRQAUUUUAFFFFABXFfEz/AI9fDP8A2Mun/wDo2u1riviZ/wAevhn/ALGXT/8A0bQB2tFFFABRRRQBxXxS/wCRd0r/ALD+m/8ApUldrXFfFL/kXdK/7D+m/wDpUldrQAUUUUAFcV8Wv+RAb/sJaf8A+lkNdrXFfFr/AJEBv+wlp/8A6WQ0AdrRRRQAUUUUAcV8Xv8Akl2p/wDXW1/9KYq7WuK+L3/JLtT/AOutr/6UxV2tABRRRQAVxXxh/wCSReIP+vdf/Q1rta4r4w/8ki8Qf9e6/wDoa0AdrRRRQAUUUUAFFFFABRRRQAVxXiv/AJKf4C/6733/AKStXa1xXiv/AJKf4C/6733/AKStQB2tFFFABRRRQBxXjT/kevAX/YUn/wDSOau1rivGn/I9eAv+wpP/AOkc1drQAUUUUAFcV8QP+Q74G/7GFf8A0mnrta4r4gf8h3wN/wBjCv8A6TT0AdrRRRQAUUUUAcV8R/8AX+D/APsZbX/0CWu1riviP/r/AAf/ANjLa/8AoEtdrQAUUUUAFcV8TP8Aj18M/wDYy6f/AOja7WuK+Jn/AB6+Gf8AsZdP/wDRtAHa0UUUAFcV8Yf+SReIP+vdf/Q1rta4j4yIsnwf8Qq2cG3XoSP+Wi+lAHb0VxX/AAqLwb/z43//AIOLz/47R/wqLwb/AM+N/wD+Di8/+O0AdrRXFf8ACovBv/Pjf/8Ag4vP/jtH/CovBv8Az43/AP4OLz/47QBL8Wv+SQ+KP+wdL/Kurtv+PSH/AHF/lXlHxK+GXhbSvhl4gvrK0vEuLexkkjZ9UupACB3VpCD9CDXR2/wk8HNbRMbK+yUBP/E4vPT/AK60AdzRXFf8Ki8G/wDPjf8A/g4vP/jtH/CovBv/AD43/wD4OLz/AOO0AdrXMfEv/klPir/sD3X/AKKaqP8AwqLwb/z43/8A4OLz/wCO1z/j34X+FNO+HPiK9tLO9We30y4ljZtVunAZY2IyrSkHkdCCKAPR9E/5F/T/APr1i/8AQBV6vP8ASfhP4Qm0Wylksr4u9vGzEavdjkqOwlq3/wAKi8G/8+N//wCDi8/+O0AdrRXFf8Ki8G/8+N//AODi8/8AjtH/AAqLwb/z43//AIOLz/47QBr+Ov8AknfiP/sFXX/opqn8Jf8AIl6J/wBg+D/0WtcR4w+FnhKy8D67dW1nerNBp1xJGW1a7YBljYjIMpB5HQjFTeGvhT4RuvCmk3E9nfGSWyhdyNWu1BJQE8CXA+goA9Ioriv+FReDf+fG/wD/AAcXn/x2j/hUXg3/AJ8b/wD8HF5/8doA7WsrxT/yJ+s/9eE//otq5/8A4VF4N/58b/8A8HF5/wDHazvEPwp8I23hjVJ4bK+EkVnM6E6tdsAQhI4MuD9DQB03gH/kmvhn/sEWv/ola6Cue+H42/DTwwB0GkWg/wDIK10NABRRRQAUUUUAFFFFABXFfEz/AI9fDP8A2Mun/wDo2u1rgfi3YW+p6N4fs7xXaCbxFYxyKkjRkqzkH5lII4J5BoA76iuK/wCFReDf+fG//wDBxef/AB2j/hUXg3/nxv8A/wAHF5/8doA7WiuK/wCFReDf+fG//wDBxef/AB2j/hUXg3/nxv8A/wAHF5/8doAPil/yLulf9h/Tf/SpK7WvHviH8M/C2maHp0tnaXivJrNhCxfVLp8o9wisMNIQDgnnqOoIrrP+FReDf+fG/wD/AAcXn/x2gDtaK4r/AIVF4N/58b//AMHF5/8AHaP+FReDf+fG/wD/AAcXn/x2gDta4r4tf8iA3/YS0/8A9LIaP+FReDf+fG//APBxef8Ax2uT+JXwz8LaV4La6srS8SX7fZR5fVLqQbXuolbhpCOhPPUdRzQB7DRXFf8ACovBv/Pjf/8Ag4vP/jtH/CovBv8Az43/AP4OLz/47QB2tFcV/wAKi8G/8+N//wCDi8/+O0f8Ki8G/wDPjf8A/g4vP/jtAB8Xv+SXan/11tf/AEpirta8f+Jvwz8LaT8Pb+8sbS8SeOS3Cl9UupB808an5WkIPBPaur/4VF4N/wCfG/8A/Bxef/HaAO1oriv+FReDf+fG/wD/AAcXn/x2j/hUXg3/AJ8b/wD8HF5/8doA7WuK+MP/ACSLxB/17r/6GtH/AAqLwb/z43//AIOLz/47XKfE/wCGfhfSfhnrV9Y2l4lxDCGRn1S6kAO9RyrSEHr3FAHsFFFFABRRRQAUUUUAFFFFABXFeK/+Sn+Av+u99/6StXa1538RNEsdf8e+BrDVElkt5J73csU8kROLcsPmRgRyo7/zNAHolFcV/wAKi8G/8+N//wCDi8/+O0f8Ki8G/wDPjf8A/g4vP/jtAHa0VxX/AAqLwb/z43//AIOLz/47R/wqLwb/AM+N/wD+Di8/+O0AHjT/AJHrwF/2FJ//AEjmrta8e8V/DPwtZ+MPBttb2l4sV5qE0cwbVLpiVFrKwwTISvKjkYPbpXWf8Ki8G/8APjf/APg4vP8A47QB2tFcV/wqLwb/AM+N/wD+Di8/+O0f8Ki8G/8APjf/APg4vP8A47QB2tcV8QP+Q74G/wCxhX/0mno/4VF4N/58b/8A8HF5/wDHa5Pxp8M/C1hrHhGO2tLxVu9bWCYNql02U+zzNgEyHacqORg+/JoA9horiv8AhUXg3/nxv/8AwcXn/wAdo/4VF4N/58b/AP8ABxef/HaAO1oriv8AhUXg3/nxv/8AwcXn/wAdo/4VF4N/58b/AP8ABxef/HaAD4j/AOv8H/8AYy2v/oEtdrXj/jr4Z+FtPm8Li1tLxRda9b28u7VLp8oySEgbpDg8DkYPvXV/8Ki8G/8APjf/APg4vP8A47QB2tFcV/wqLwb/AM+N/wD+Di8/+O0f8Ki8G/8APjf/APg4vP8A47QB2tcV8TP+PXwz/wBjLp//AKNo/wCFReDf+fG//wDBxef/AB2ua8Y/D/w74dn8MX2k211HcDxHYJul1G4mGDL/AHXkI7elAHrVFFFABXFfGH/kkXiD/r3X/wBDWu1rivjD/wAki8Qf9e6/+hrQB2tFFFABRRRQBx/xa/5JD4o/7B0v8q6u2/49If8AcX+Vcp8Wv+SQ+KP+wdL/ACrq7b/j0h/3F/lQBLRRRQAVzHxL/wCSU+Kv+wPdf+imrp65j4l/8kp8Vf8AYHuv/RTUAbOif8i/p/8A16xf+gCr1UdE/wCRf0//AK9Yv/QBV6gAooooAwfHX/JO/Ef/AGCrr/0U1T+Ev+RL0T/sHwf+i1qDx1/yTvxH/wBgq6/9FNU/hL/kS9E/7B8H/otaANeiiigArK8U/wDIn6z/ANeE/wD6LatWsrxT/wAifrP/AF4T/wDotqAKngH/AJJr4Z/7BFr/AOiVroK5/wAA/wDJNfDP/YItf/RK10FABRRRQAUUUUAFFFFABXFfEz/j18M/9jLp/wD6Nrta4r4mf8evhn/sZdP/APRtAHa0UUUAFFFFAHFfFL/kXdK/7D+m/wDpUldrXFfFL/kXdK/7D+m/+lSV2tABRRRQAVxXxa/5EBv+wlp//pZDXa1xXxa/5EBv+wlp/wD6WQ0AdrRRRQAUUUUAcV8Xv+SXan/11tf/AEpirta4r4vf8ku1P/rra/8ApTFXa0AFFFFABXFfGH/kkXiD/r3X/wBDWu1rivjD/wAki8Qf9e6/+hrQB2tFFFABRRRQAUUUUAFFFFABXFeK/wDkp/gL/rvff+krV2tcV4r/AOSn+Av+u99/6StQB2tFFFABRRRQBxXjT/kevAX/AGFJ/wD0jmrta4rxp/yPXgL/ALCk/wD6RzV2tABRRRQAVxXxA/5Dvgb/ALGFf/Saeu1riviB/wAh3wN/2MK/+k09AHa0UUUAFFFFAHFfEf8A1/g//sZbX/0CWu1riviP/r/B/wD2Mtr/AOgS12tABRRRQAVxXxM/49fDP/Yy6f8A+ja7WuK+Jn/Hr4Z/7GXT/wD0bQB2tFFFABXFfGH/AJJF4g/691/9DWu1rivjD/ySLxB/17r/AOhrQB2tFFFABRRRQBx/xa/5JD4o/wCwdL/Kurtv+PSH/cX+Vcp8Wv8AkkPij/sHS/yrq7b/AI9If9xf5UAS0UUUAFcx8S/+SU+Kv+wPdf8Aopq6euY+Jf8AySnxV/2B7r/0U1AGzon/ACL+n/8AXrF/6AKvVR0T/kX9P/69Yv8A0AVeoAKKKKAMHx1/yTvxH/2Crr/0U1T+Ev8AkS9E/wCwfB/6LWoPHX/JO/Ef/YKuv/RTVP4S/wCRL0T/ALB8H/otaANeiiigArK8U/8AIn6z/wBeE/8A6LatWsrxT/yJ+s/9eE//AKLagCp4B/5Jr4Z/7BFr/wCiVroK5/wD/wAk18M/9gi1/wDRK10FABRRRQAUUUUAFFFFABXFfEz/AI9fDP8A2Mun/wDo2u1riviZ/wAevhn/ALGXT/8A0bQB2tFFFABRRRQBxXxS/wCRd0r/ALD+m/8ApUldrXFfFL/kXdK/7D+m/wDpUldrQAUUUUAFcV8Wv+RAb/sJaf8A+lkNdrXFfFr/AJEBv+wlp/8A6WQ0AdrRRRQAUUUUAcV8Xv8Akl2p/wDXW1/9KYq7WuK+L3/JLtT/AOutr/6UxV2tABRRRQAVxXxh/wCSReIP+vdf/Q1rta4r4w/8ki8Qf9e6/wDoa0AdrRRRQAUUUUAFFFFABRRRQAVxXiv/AJKf4C/6733/AKStXa1xXiv/AJKf4C/6733/AKStQB2tFFFABRRRQBxXjT/kevAX/YUn/wDSOau1rivGn/I9eAv+wpP/AOkc1drQAUUUUAFcV8QP+Q74G/7GFf8A0mnrta4r4gf8h3wN/wBjCv8A6TT0AdrRRRQAUUUUAcV8R/8AX+D/APsZbX/0CWu1riviP/r/AAf/ANjLa/8AoEtdrQAUUUUAFcV8TP8Aj18M/wDYy6f/AOja7WuK+Jn/AB6+Gf8AsZdP/wDRtAHa0UUUAFc74/0C88UeA9V0XTJII7q8iCRtcMRGDuB5IBPQHtXRUUAcVv8Aij/z7+Ef+/8Adf8AxFG/4o/8+/hH/v8A3X/xFdrRQBxW/wCKP/Pv4R/7/wB1/wDEUb/ij/z7+Ef+/wDdf/EV2tFAHmvijRfiZ4n8K6jok6eE4Y7+3aBpEnucqCOoylacf/C0I4lQQeESFAGfPuf/AIiu3ooA4rf8Uf8An38I/wDf+6/+Io3/ABR/59/CP/f+6/8AiK7WigDit/xR/wCffwj/AN/7r/4is7xDpfxN8QeGdT0eaPwnFHqFrLbM6T3OVDqVJHye9ejUUAebeGNQ+JOpeEdHvrK28KrbXVjDNCJprkOEaMFd2FIzgjOK1N/xR/59/CP/AH/uv/iK0fhx/wAks8Kf9gWz/wDRCV0lAHFb/ij/AM+/hH/v/df/ABFG/wCKP/Pv4R/7/wB1/wDEV2tFAHnutWHxO1nQb/TJYvCUaXttJbs6z3OVDqVJHye9P0u1+J+maRZ2EcPhJ1tYEhVmnuckKoGfue1d/RQBxW/4o/8APv4R/wC/91/8RRv+KP8Az7+Ef+/91/8AEV2tFAHFb/ij/wA+/hH/AL/3X/xFVtStvifqOlXdi8PhJFuYXhLCe5yAykZ+57131FAGX4X0yfRfCGj6XdtG9xY2MFtK0RJQskaqSuQDjI4yBWpRRQAUUUUAFFFFABRRRQAVy3j7QNW1/SdOXw+9kt5Y6pb3yi+d1jYRMWxlQTycV1NFAHFb/ij/AM+/hH/v/df/ABFG/wCKP/Pv4R/7/wB1/wDEV2tFAHFb/ij/AM+/hH/v/df/ABFG/wCKP/Pv4R/7/wB1/wDEV2tFAHmfiTQviZ4jsLa1nXwnEtvfW94Ck9zkmKRXA5ToSuK19/xR/wCffwj/AN/7r/4iu1ooA4rf8Uf+ffwj/wB/7r/4ijf8Uf8An38I/wDf+6/+IrtaKAOK3/FH/n38I/8Af+6/+IrC8Z6Z8SNa8LXFvfL4Vht4ZIrt3jmuS2IZFlx9zvsxXqVZviT/AJFXVv8Arym/9ANAHLWl78Tb2yguoIPCRinjWRMzXQOGGR/B71Nv+KP/AD7+Ef8Av/df/EV0fhv/AJFXSf8Aryh/9AFaVAHFb/ij/wA+/hH/AL/3X/xFG/4o/wDPv4R/7/3X/wARXa0UAeZ+KdD+Jnijw3caROnhOGOdo2LpPc5GyRXHVPVa19/xR/59/CP/AH/uv/iK7WigDit/xR/59/CP/f8Auv8A4ijf8Uf+ffwj/wB/7r/4iu1ooA4rf8Uf+ffwj/3/ALr/AOIrI8VaH8S/FXhe+0S4XwpDFeIEaSOe53LhgeMp7V6ZRQAUUUUAFFFFABRRRQAUUUUAFcf400HxDqOveHdX8Ltpnn6TLcO6ai8iq4ki8sY2KT3J7dq7CigDit/xR/59/CP/AH/uv/iKN/xR/wCffwj/AN/7r/4iu1ooA4rf8Uf+ffwj/wB/7r/4ijf8Uf8An38I/wDf+6/+IrtaKAPM9X0L4matrWiajIvhNH0i5e4RVnucOWiePB+T0fNa+/4o/wDPv4R/7/3X/wARXa0UAcVv+KP/AD7+Ef8Av/df/EUb/ij/AM+/hH/v/df/ABFdrRQBxW/4o/8APv4R/wC/91/8RXNeM4PiK39halfReFwum6xbPGsM1wS8kzfZlByn3QZwT3wO/Q+tVzfjz/kXbX/sNaV/6cLegDO3/FH/AJ9/CP8A3/uv/iKN/wAUf+ffwj/3/uv/AIiu1ooA4rf8Uf8An38I/wDf+6/+Io3/ABR/59/CP/f+6/8AiK7WigDzPX9D+JmvPpTTJ4Tj/s3UI75Ns9z87IGAU/J0+atff8Uf+ffwj/3/ALr/AOIrtaKAOK3/ABR/59/CP/f+6/8AiKN/xR/59/CP/f8Auv8A4iu1ooA4rf8AFH/n38I/9/7r/wCIrP1TQviD4hu9GTVx4Zhs7HVba+lNrNcGQrE+4hQyYyRnrivRaKACiiigAooooAKKKKACiiigAooooAKKKKACiiigDm/hx/ySzwp/2BbP/wBEJXSVzfw4/wCSWeFP+wLZ/wDohK6SgAooooAKKKKACiiigAooooAKKKKACiiigAooooAKKKKACiiigAooooAKKKKACiiigAooooAKzfEn/Iq6t/15Tf8AoBrSrN8Sf8irq3/XlN/6AaADw3/yKuk/9eUP/oArSrN8N/8AIq6T/wBeUP8A6AK0qACiiigAooooAKKKKACiiigAooooAKKKKACiiigAooooAKKKKACiiigAooooAKKKKACiiigArm/Hn/Iu2v8A2GtK/wDThb10lc348/5F21/7DWlf+nC3oA6SiiigAooooAKKKKACiiigAooooAKKKKACiiigAooooAKKKKACiiigAooooAKKKKAOb+HH/JLPCn/YFs//AEQldJXN/Dj/AJJZ4U/7Atn/AOiErpKACiiigAooooAKKKKACiiigAooooAKKKKACiiigAooooAKKKKACiiigAooooAKKKKACiiigArN8Sf8irq3/XlN/wCgGtKs3xJ/yKurf9eU3/oBoAPDf/Iq6T/15Q/+gCtKs3w3/wAirpP/AF5Q/wDoArSoAKKKKACiiigAooooAKKKKACiiigAooooAKKKKACiiigAooooAKKKKACiiigAooooAKKKKACub8ef8i7a/wDYa0r/ANOFvXSVzfjz/kXbX/sNaV/6cLegDpKKKKACiiigAooooAKKKKACiiigAooooAKKKKACiiigAooooAKKKKACiiigAooooA5v4cf8ks8Kf9gWz/8ARCV0lcR4bh8aeH/Cmk6MdB0ec6dZQ2plGsyL5nloF3Y+znGcZxmtP+0fGf8A0LWj/wDg7k/+RqAOkorm/wC0fGf/AELWj/8Ag7k/+RqP7R8Z/wDQtaP/AODuT/5GoA6Siub/ALR8Z/8AQtaP/wCDuT/5Go/tHxn/ANC1o/8A4O5P/kagDpKK5v8AtHxn/wBC1o//AIO5P/kaj+0fGf8A0LWj/wDg7k/+RqAOkorm/wC0fGf/AELWj/8Ag7k/+RqP7R8Z/wDQtaP/AODuT/5GoA6Siub/ALR8Z/8AQtaP/wCDuT/5Go/tHxn/ANC1o/8A4O5P/kagDpKK5v8AtHxn/wBC1o//AIO5P/kaj+0fGf8A0LWj/wDg7k/+RqAOkorm/wC0fGf/AELWj/8Ag7k/+RqP7R8Z/wDQtaP/AODuT/5GoA6Siub/ALR8Z/8AQtaP/wCDuT/5Go/tHxn/ANC1o/8A4O5P/kagDpKK5v8AtHxn/wBC1o//AIO5P/kaj+0fGf8A0LWj/wDg7k/+RqAOkorm/wC0fGf/AELWj/8Ag7k/+RqP7R8Z/wDQtaP/AODuT/5GoA6Siub/ALR8Z/8AQtaP/wCDuT/5Go/tHxn/ANC1o/8A4O5P/kagDpKK5v8AtHxn/wBC1o//AIO5P/kaj+0fGf8A0LWj/wDg7k/+RqAOkorm/wC0fGf/AELWj/8Ag7k/+RqP7R8Z/wDQtaP/AODuT/5GoA6Ss3xJ/wAirq3/AF5Tf+gGs3+0fGf/AELWj/8Ag7k/+Rq5v4g+L/Evhr4f6vqereG9NFokHlOYNYd3HmERggG3APLjuKAO28N/8irpP/XlD/6AK0q4/SLjxrZ6JY2r+GtJ3Q28cZ3a04OQoHIFuR29T9auf2j4z/6FrR//AAdyf/I1AHSUVzf9o+M/+ha0f/wdyf8AyNR/aPjP/oWtH/8AB3J/8jUAdJRXN/2j4z/6FrR//B3J/wDI1H9o+M/+ha0f/wAHcn/yNQB0lFc3/aPjP/oWtH/8Hcn/AMjUf2j4z/6FrR//AAdyf/I1AHSUVzf9o+M/+ha0f/wdyf8AyNR/aPjP/oWtH/8AB3J/8jUAdJRXN/2j4z/6FrR//B3J/wDI1H9o+M/+ha0f/wAHcn/yNQB0lFc3/aPjP/oWtH/8Hcn/AMjUf2j4z/6FrR//AAdyf/I1AHSUVzf9o+M/+ha0f/wdyf8AyNR/aPjP/oWtH/8AB3J/8jUAdJRXN/2j4z/6FrR//B3J/wDI1H9o+M/+ha0f/wAHcn/yNQB0lFc3/aPjP/oWtH/8Hcn/AMjUf2j4z/6FrR//AAdyf/I1AHSUVzf9o+M/+ha0f/wdyf8AyNR/aPjP/oWtH/8AB3J/8jUAdJRXN/2j4z/6FrR//B3J/wDI1H9o+M/+ha0f/wAHcn/yNQB0lFc3/aPjP/oWtH/8Hcn/AMjUf2j4z/6FrR//AAdyf/I1AHSUVzf9o+M/+ha0f/wdyf8AyNR/aPjP/oWtH/8AB3J/8jUAdJXN+PP+Rdtf+w1pX/pwt6P7R8Z/9C1o/wD4O5P/AJGqhq1v4u163tLK50XSrOBdQs7mWZNWeVlSG5jmbC+QuSRGQOR1oA7OiiigAooooAKKKKACiiigAooooAKKKKACiiigAooooAKKKKACiiigAooooAKKKKACiiigAooooAKKKKACiiigAooooAKKKKACiiigAooooAKKKKACiiigAooooAKKKKACiiigAooooAK82/aD/wCSE+If+3b/ANKYq9Jrzb9oP/khPiH/ALdv/SmKgD0miiigAooooAKKKKACiiigAooooAKKKKACiiigAooooAKKKKACiiigAooooAKKKKACiiigAooooAKKKKACiiigAooooAKKKKACiiigAooooAKKKKACiiigAooooAKKKKACiiigAooooAKKKKACiiigAooooAKKKKACiiigAooooAKKKKACiiigAooooAKKKKACiiigAooooAKKKKACiiigAooooAK82/aD/wCSE+If+3b/ANKYq9Jrzb9oP/khPiH/ALdv/SmKgD0miiigAooooAKKKKACiiigAooooAKKKKACiiigAooooAKKKKACiiigAooooAKKKKACiiigAooooAKKKKACiiigAooooAKKKKACiiigAooooAKKKKACiiigAooooAKKKKACiiigAooooAKKKKACiiigAooooAKKKKACiiigAooooAKKKKACiiigAooooAKKKKACiiigAooooAKKKKACiiigAooooAK82/aD/wCSE+If+3b/ANKYq9Jr5/8A2lPiK+n6XdeBW0SUpqdtDOuotOFUbZgxCoAd3+rwclSM9MYJAPoCiuG+FfxCvPiT4fudYn0H+x7VJvJgJu/OM5A+Y/cXAGQM85OemK7mgAooooAKKKKACiiigAooooAKKKKACiiigAooooAKKKKACiiigAooooAKKKKACiiigAooooAKKKKACiiigAooooAKKKKACiiigAooooAKKKKACiiigAooooAKKKKACiiigAooooAKKKKACiiigAooooAKKKKACiiigAooooAKKKKACiiigAooooAKKKKACuWPiDxHea5q9noeh6XPb6XdJatNearJA8jGCKYkItu4AAmA+92NdTXN+F/+Ri8Z/wDYaj/9N9nQAfbvG/8A0L3h/wD8H0//AMh0fbvG/wD0L3h//wAH0/8A8h10lFAHN/bvG/8A0L3h/wD8H0//AMh0fbvG/wD0L3h//wAH0/8A8h10lFAHN/bvG/8A0L3h/wD8H0//AMh0fbvG/wD0L3h//wAH0/8A8h10lFAHN/bvG/8A0L3h/wD8H0//AMh0fbvG/wD0L3h//wAH0/8A8h10lFAHN/bvG/8A0L3h/wD8H0//AMh1wHxZ+Hni34n6LZW0mk6BYXllPvhul1iaUqjcOpU2q8HCnrn5R16V7HRQBw3hnTfFfhTwvp+h6b4c8Pi2sYViU/27MC5/iY/6H1YksfcmtX7d43/6F7w//wCD6f8A+Q66SigDm/t3jf8A6F7w/wD+D6f/AOQ6Pt3jf/oXvD//AIPp/wD5DrpKKAOb+3eN/wDoXvD/AP4Pp/8A5Do+3eN/+he8P/8Ag+n/APkOukooA5v7d43/AOhe8P8A/g+n/wDkOj7d43/6F7w//wCD6f8A+Q66SigDm/t3jf8A6F7w/wD+D6f/AOQ6Pt3jf/oXvD//AIPp/wD5DrpKKAOf0PXNVvNf1HSNc0yzsbiztbe6VrO+a5SRZmmUAlooyCDAex+8K6Cubsf+Sp67/wBgXTf/AEffV0lABRRRQAUUUUAFFFFABRRRQAUUUUAFFFFABRRRQAUUUUAFFFFABRRRQAUUUUAFFFFABRRRQAUUUUAFFFFABRRRQAUUUUAFFFFABRRRQAUUUUAFFFFABRRRQAUUUUAFFFFABRRRQAUUUUAFFFFABRRRQAUUUUAFFFFABXN+F/8AkYvGf/Yaj/8ATfZ10lc34X/5GLxn/wBhqP8A9N9nQB0lFFFABRXNfEXVr3Qvhvr2qaVN5F7aWTywy7FbYwHBwwIP4isOHWtV8O+PbHSLvW7jXrS+0me/nS5hgWey8orhwYkQbH3lcMD8yDBHIoA9BorjrD4k2OoeH7TWI9H1eO11ExR6cJYolkvpZASI408zII2tln2pgFgxX5qdcfEfTLDTdVudW0/UrC40loBd2MsSPMqTMFjkXy3ZXUkn7rE/KwxnggHX0Vyq+PrSKe8g1PStU0ya3sJNRiju44wbqBPvmPa7YI+XKvtYb1464ii+ItnNo9nqC6Nq6rqckcelwtFEJdQLqW/dr5mVAVSxaTYAOckUAdfRXKH4h6Vb2Oqy6ta32mXWk+V9psLiNWmPm8RbPLZ1k3n5RtY/MCDgip5PGcdnp09xq+iatps0ckcUNpPHE8l3JISI0iMcjozFgRgsNvVtqkNQB0lFcjN8RdOsbXVG1nTtR0u70yGOaSxuUiaWVJG2RtGY3ZGDPlPvDBHzbRzVi78ax6fpsE19oerW95c3q2NvpzpD500rKXAVxJ5RG0Mc+ZgbSPvcUAdNRXJ3OsW114k8KNdDW9OuruS7SKxLKkbMkbbxcKCQwG0lCpIJwQSCDVax+J+m30VjdLpGrw6be3n2FNRmhjWFJy5QKR5m/BYbd4UrlgCRzgA7WiuM1T4lWmnSXBg0HWNRtbfUF017y1FusX2lmVNn7yVG4dgpbG0HPPFaHj+9vrD4d63eaTdxWF7DZu8M88ioqNjpub5QT0BPGSKAOjorzD4daxBf6hLrumajfw+Fbu3hs7dda1J55J77zGDFPNdmTqE25G5hkLgAn0+gAooooA5ux/5Knrv/AGBdN/8AR99XSVzdj/yVPXf+wLpv/o++rpKACiiigAooooAKKKKACiiigAooooAKKKKACiiigAooooAKKKKACiiigAooooAKKKKACiiigAooooAKKKKACiiigAooooAKKKKACiiigAooooAKKKKACiiigAooooAKKKKACiiigAooooAKKKKACiiigAooooAKKKKACub8L/8AIxeM/wDsNR/+m+zrpK5vwv8A8jF4z/7DUf8A6b7OgDpKKKKAMHxzoVz4m8B6zotg8UdzfWrwxPMSEDEcZIBOPoDT7PwrpWkaLd2eg6Vp+mPdQlJPslskKyNtIBbaBnqa26KAPO774cXN78NfCuiXC6bd33h77PIYLtDJaXTRxGN42yuQpDEhtpIIBwelZHjPw6dF+FeuyR+H/D2gTXE9kqxaPFvB23MeGkfZEX5bhdoxg/Md3HrdFAHAaj4S8R+JNSub/XDpdpJDo11p1lFaTySLJJOAGlkZkXYvyIAgD4yfmOBm1eeEdUTRvCMumy2jav4aCYindlguAYDDKm8KWXhiVbaeQMrzx2tFAHnOp+ANa8QrrWqalc2FjrN59j+xQwM88EH2WQyxh3Koz7nJ3EKuARjJGTc8TeGNf8aeH2t9atNDt5rW7gu7OzMkl3BM0ZJZZ2aNPkcHbgIdvJy2do7qigDhrHwhNaaXqQtvB/g3TZblEiNlbxl4rpA2XWWUQpwQcAeWwUjcd2doz7LwHqtt4Zv9MutM0TULC7uw8Wg3l7PLbWcIjC7Yp2jLKd43gCMBckLt616TWVqPibSNJvJbTULvyZ4bCXUZE8p2xbxkB3yARwWHHU54FAHK6N4H1uzufCc+o6jHdNo1xezTiS4klZEmRxHEjuC0gTcF3OQcD8KZF4B1RPhjpvhwz2f2y11SO8dw7eWUW988gHbnO3jpjPfHNd5ZXkGoWFve2b+Zb3MSyxPgjcjDIODyOD3qagD5+W4hsNU1fWP7R0271aLxBNcw+Fro3H2u4cT7Y8Qrc+WJNm0o/kNgBHJOCR69448OXPiXQYYLCaGO7s7yC+gS5UmGZ4nDiOTHO1sYJGSOuDjFdHRQB5bdfD7xJd+MI/E8SaNp5iuYrqXQ4rueS3vplyvnyTbE2SBW4xE2Sq7ie3qVFFABRRRQBzdj/wAlT13/ALAum/8Ao++rpK5ux/5Knrv/AGBdN/8AR99XSUAFFFFABRRRQAUUUUAFFFFABRRRQAUUUUAFFFFABRRRQAUUUUAFFFFABRRRQAUUUUAFFFFABRRRQAUUUUAFFFFABRRRQAUUUUAFFFFABRRRQAUUUUAFFFFABRRRQAUUUUAFFFFABRRRQAUUUUAFFFFABRRRQAUUUUAFc34X/wCRi8Z/9hqP/wBN9nXSVzfhf/kYvGf/AGGo/wD032dAHSUUUUAFFFFABXnnjXxHqVt4xGj2moatYW8ekm8D6NpX26Z5mkKosgMUmxMI2OF3EN8wxz6HXBeJvBNxqnjV9bfQvD/iOB7GO1jttZby/spV2YshEMu7dv5yARt4PNAGJHrnjVb7R/Dd62tS6kmiRalqU+mJp/2gzSOymPM22IIpUj5VZjlfm4Ja9aaz4xvbzw54b1mZ9C1C7gu7i7u4o4HnkjgdVj2j95EjuJFZuGAwQAM8bGjfDqxg8N6TZ628txqGmxukd5ZXM1q8SOxbyUeNw/lKCFCk4wi8cVq3PgzQrrT7K0ks5EXT2Z7WaC5liniZgQ7CZGEm58ncd2XJJbOaAOJn8XeILO6u/DB1LzrtfEVvpMWsNBH5iwzW/wBo3MgAjMqgFAdoXJUleoOzrM+v6VqWheG4fEM0smtX0o/tSa1h+0QQxQGVkUBBEzsykBimApPysRmtweCfDw0CTRv7OBs5Z/tLlppDK027d5xmLeYZMgHfu3cDnimP4G8PyaYbGW1nlU3C3X2iS9na5WZQAJBcF/NDBQFyG+78vTigDjNX8XeIPD83iDQF1L7ddQS6bFY6ncwRh4PtkhiJkVFVGKFSy4UZyAQcZMOrLqvh74lX0765NqU9v4Ov57ae5ghWWJhLCRny1VGGRkfIO+c13aeCPDy6Hf6RJp/n2mpZN4bmaSaW4PZmldi5YYG07srgYxgVFb+APDlvdXF0LKaa6ubOSxnubm9nnllgkILIzu5Yj5RjnK84xk0Aczp+reIvEHiTRdMTX5tPt7nwxBqVzJb20LSvMXAJUujKuc8jaRjoB1rMt/HWtXuk+F7W91G+t5biTUItQvdI00XNy5tZPKVxEI5AquSCxCHDEAYBr0my8OaVp9/b3tna+XcW1iunxP5jnbbqchME4PI6nn3rkNd+G0Lappc+laJo2rafZJdg6VrEjCNZbiRZHmVzHKS2VI2lcYbjGKAN34f/ANut4Qhn8VXV1c39xLJKPtcMUMiRFiIgUjRQhKBWKnLBmYE8YHTVzngjw7ceGtFntbk28fn3ktzHZ2efs9kjnIhiyBlRyc7VBLMQo6V0dABRRRQAUUUUAc3Y/wDJU9d/7Aum/wDo++rpK5ux/wCSp67/ANgXTf8A0ffV0lABRRRQAUUUUAFFFFABRRRQAUUUUAFFFFABRRRQAUUUUAFFFFABRRRQAUUUUAFFFFABRRRQAUUUUAFFFFABRRRQAUUUUAFFFFABRRRQAUUUUAFFFFABRRRQAUUUUAFFFFABRRRQAUUUUAFFFFABRRRQAUUUUAFFFFABXN+F/wDkYvGf/Yaj/wDTfZ10lc34X/5GLxn/ANhqP/032dAHSUUUUAFFFFABRRRQAUUUUAFFFFABRRRQAUUUUAFFFFABRRRQAUUUUAc3Y/8AJU9d/wCwLpv/AKPvq6Subsf+Sp67/wBgXTf/AEffV0lABRRRQAUUUUAFFFFABRRRQAUUUUAFFFFABRRRQAUUUUAFFFFABRRRQAUUUUAFFFFABRRRQAUUUUAFFFFABRRRQAUUUUAFFFFABRRRQAUUUUAFFFFABRRRQAUUUUAFFFFABRRRQAUUUUAFFFFABRRRQAUUUUAFFFFABXP3fgnR7zU7q/ZtUguLx1kn+x6xd2ySMEVAxSOVVztRRnH8IroKKAOb/wCED0j/AJ/PEH/hR6h/8fo/4QPSP+fzxB/4Ueof/H66SigDm/8AhA9I/wCfzxB/4Ueof/H6P+ED0j/n88Qf+FHqH/x+ukooA5v/AIQPSP8An88Qf+FHqH/x+j/hA9I/5/PEH/hR6h/8frpKKAOb/wCED0j/AJ/PEH/hR6h/8fo/4QPSP+fzxB/4Ueof/H66SigDm/8AhA9I/wCfzxB/4Ueof/H65H4qeH4fDfwv1vV9F1TxBbX1rCrQy/8ACQXz7SXUdGmIPBPUV6lXBfHD/kiniT/r3X/0YlAGz/wgekf8/niD/wAKPUP/AI/R/wAIHpH/AD+eIP8Awo9Q/wDj9dJRQBzf/CB6R/z+eIP/AAo9Q/8Aj9H/AAgekf8AP54g/wDCj1D/AOP10lFAHN/8IHpH/P54g/8ACj1D/wCP0f8ACB6R/wA/niD/AMKPUP8A4/XSUUAc3/wgekf8/niD/wAKPUP/AI/R/wAIHpH/AD+eIP8Awo9Q/wDj9dJRQBzf/CB6R/z+eIP/AAo9Q/8Aj9H/AAgekf8AP54g/wDCj1D/AOP10lFAGRo3hjTdBurm6sPtj3F0kcc0t5fz3TsqFyigyuxABkc4GPvGteiigAooooAKKKKACiiigAooooAKKKKACiiigAooooAKKKKACiiigAooooAKKKKACiiigAooooAKKKKACiiigAooooAKKKKACiiigAooooAKKKKACiiigAooooAKKKKACiiigAooooAKKKKACiiigAooooAKKKKACiiigAooooAKKKKACiiigAooooAKKKKACuC+OH/JFPEn/Xuv/oxK72uC+OH/ACRTxJ/17r/6MSgDvaKKKACiiigAooooAKKKKACiiigAooooAKKKKACiiigAooooAKKKKACiiigAooooAKKKKACiiigAooooAKKKKACiiigAooooAKKKKACiiigAooooAKKKKACiiigAooooAKKKKACiiigAooooAKKKKACiiigAooooAKKKKACiiigAooooAKKKKACiiigAooooAKKKKACiiigAooooAKKKKACiiigArgvjh/yRTxJ/17r/AOjErva4L44f8kU8Sf8AXuv/AKMSgDvaKKKACiiigAooooAKKKKACiiigAooooAKKKKACiiigAooooAKKKKACiiigAooooAKKKKACiiigAooooAKKKKACiiigAooooAKKKKACiiigAooooAKKKKACiiigAooooAKKKKACiiigAooooAKK4DwX4Wt9Y8BaBqWoarr8t3eaZbXE7jXLtdzvErMcCTA5J4Fbf8Awgunf9BLxB/4Prz/AOO0AdJRXN/8ILp3/QS8Qf8Ag+vP/jtH/CC6d/0EvEH/AIPrz/47QB0lFc3/AMILp3/QS8Qf+D68/wDjtH/CC6d/0EvEH/g+vP8A47QB0lFc3/wgunf9BLxB/wCD68/+O0f8ILp3/QS8Qf8Ag+vP/jtAHSUVzf8Awgunf9BLxB/4Prz/AOO0f8ILp3/QS8Qf+D68/wDjtAHSUVzf/CC6d/0EvEH/AIPrz/47R/wgunf9BLxB/wCD68/+O0AdJRXN/wDCC6d/0EvEH/g+vP8A47R/wgunf9BLxB/4Prz/AOO0AdJRXN/8ILp3/QS8Qf8Ag+vP/jtH/CC6d/0EvEH/AIPrz/47QB0lFc3/AMILp3/QS8Qf+D68/wDjtH/CC6d/0EvEH/g+vP8A47QB0lFc3/wgunf9BLxB/wCD68/+O0f8ILp3/QS8Qf8Ag+vP/jtAHSUVzf8Awgunf9BLxB/4Prz/AOO0f8ILp3/QS8Qf+D68/wDjtAHSUVzf/CC6d/0EvEH/AIPrz/47R/wgunf9BLxB/wCD68/+O0AdJRXN/wDCC6d/0EvEH/g+vP8A47R/wgunf9BLxB/4Prz/AOO0AdJRXN/8ILp3/QS8Qf8Ag+vP/jtH/CC6d/0EvEH/AIPrz/47QB0lcF8cP+SKeJP+vdf/AEYlbP8Awgunf9BLxB/4Prz/AOO1n698OdE1Dw/fWt9c61cwSQtuim1q6dGwMjKtIQeQDyKAO0orhvC/hK11Hwho97d6r4gkuLmxgmlf+3bsbmaMEnAk9TWr/wAILp3/AEEvEH/g+vP/AI7QB0lFc3/wgunf9BLxB/4Prz/47R/wgunf9BLxB/4Prz/47QB0lFc3/wAILp3/AEEvEH/g+vP/AI7R/wAILp3/AEEvEH/g+vP/AI7QB0lFc3/wgunf9BLxB/4Prz/47R/wgunf9BLxB/4Prz/47QB0lFc3/wAILp3/AEEvEH/g+vP/AI7R/wAILp3/AEEvEH/g+vP/AI7QB0lFc3/wgunf9BLxB/4Prz/47R/wgunf9BLxB/4Prz/47QB0lFc3/wAILp3/AEEvEH/g+vP/AI7R/wAILp3/AEEvEH/g+vP/AI7QB0lFc3/wgunf9BLxB/4Prz/47R/wgunf9BLxB/4Prz/47QB0lFc3/wAILp3/AEEvEH/g+vP/AI7R/wAILp3/AEEvEH/g+vP/AI7QB0lFc3/wgunf9BLxB/4Prz/47R/wgunf9BLxB/4Prz/47QB0lFc3/wAILp3/AEEvEH/g+vP/AI7R/wAILp3/AEEvEH/g+vP/AI7QB0lFc3/wgunf9BLxB/4Prz/47R/wgunf9BLxB/4Prz/47QB0lFc3/wAILp3/AEEvEH/g+vP/AI7R/wAILp3/AEEvEH/g+vP/AI7QB0lFc3/wgunf9BLxB/4Prz/47R/wgunf9BLxB/4Prz/47QB0lFc3/wAILp3/AEEvEH/g+vP/AI7WL4w8MQaN4O1TUtP1XXo7q1t2liZtbunAYcjIMhB+hoA76iiigAooooAKKKKACiiigAooooAKKKKACiiigAooooAKKKKACiiigAooooAKKKKAOb+HH/JLPCn/AGBbP/0QldJXN/Dj/klnhT/sC2f/AKISukoAKKKKACiiigAooooAKKKKACiiigAooooAKKKKACiiigAooooAKKKKACiiigAooooAKKKKACq2pf8AIKu/+uL/APoJqzVbUv8AkFXf/XF//QTQBm+Cv+RB8P8A/YMtv/RS1t1ieCv+RB8P/wDYMtv/AEUtbdABRRRQAUUUUAFFFFABRRRQAUUUUAFFFFABRRRQAUUUUAFFFFABRRRQAUUUUAFFFFABRRRQAVzfxE/5Jxr3/XlJ/Kukrm/iJ/yTjXv+vKT+VAHSUUUUAFFFFABRRRQAUUUUAFFFFABRRRQAUUUUAFFFFABRRRQAUUUUAFFFFABRRRQBzfw4/wCSWeFP+wLZ/wDohK6Sub+HH/JLPCn/AGBbP/0QldJQAUUUUAFFFFABRRRQAUUUUAFFFFABRRRQAUUUUAFFFFABRRRQAUUUUAFFFFABRRRQAUUUUAFVtS/5BV3/ANcX/wDQTVmq2pf8gq7/AOuL/wDoJoAzfBX/ACIPh/8A7Blt/wCilrbrE8Ff8iD4f/7Blt/6KWtugAooooAKKKKACiiigAooooAKKKKACiiigAooooAKKKKACiiigAooooAKKKKACiiigAooooAK5v4if8k417/ryk/lXSVzfxE/5Jxr3/XlJ/KgDpKKKKACiiigAooooAKKKKACiiigAooooAKKKKACiiigAooooAKKKKACiiigAoorzz42aTrl/wDDm6vfCuq6hp2paX/pQ+w3TwmeMD94h2kZ+X5h1OVwOtAG/wDDj/klnhT/ALAtn/6ISukrxX9mrStdHguTW9e1XUbm3uQLfTbS4uneKGCPjcqE4XJGBgcBOODXtVABRRRQAUUUUAFFFFABRRRQAUUUUAFFFFABRRRQAUUUUAFFFFABRRRQAUUUUAFFFFABRRRQAVW1L/kFXf8A1xf/ANBNWa8y+POla5d/DmfU/DGq6hYXmlZnlSyuni8+DGJAwUjOB83PQK3rQB2Xgr/kQfD/AP2DLb/0UtbdeP8A7Oela7F4D/tnxFquo3Yv9q2NtdXLyJBbpwpVWOFyc9P4QtewUAFFFFABRRRQAUUUUAFFFFABRRRQAUUUUAFFFFABRRRQAUUUUAFFFFABRRRQAUUUUAFFFFABXN/ET/knGvf9eUn8q6SvD/2mNM16Pwrb6/oWrajbWtv/AKNqNpb3UiRSRufldkBwcMdpyOdy+lAHuFFcF8G9I1vS/h1Zz+KdT1DUNT1D/SpPt1y8rQqwGxBvJxhcEj1JrvaACiiigAooooAKKKKACiiigAooooAK5/x6A3w38SqwyDpN0CP+2LV0FYHjz/knPiT/ALBN1/6JagDl/Dnwk8BXXhXSri48LafJNNZQvI7RnLMUBJ6+taX/AAp34e/9Clp3/fs/41v+FP8AkTNF/wCwfB/6LWtagDiv+FO/D3/oUtO/79n/ABo/4U78Pf8AoUtO/wC/Z/xrtaKAOK/4U78Pf+hS07/v2f8AGj/hTvw9/wChS07/AL9n/Gu1ooA4r/hTvw9/6FLTv+/Z/wAaP+FO/D3/AKFLTv8Av2f8a6+7vLbT7OW7v7iK1toVLyzTOERFHUljwB9axbfx/wCDru5it7XxZoc08zhI4o9ShZnYnAUANkknjFAGV/wp34e/9Clp3/fs/wCNH/Cnfh7/ANClp3/fs/412NxcR2trLcXDbIoULu2CcKBknA9qi03ULXV9KtNS0+XzrS8hSeCTaV3o6hlOCARkEcEZoA5Jfg58PVUAeE9OwBjlCf60v/Cnfh7/ANClp3/fs/411Gk6xY67YG80qfz7cSyQ79jL88blHGGAPDKR+HFXaAOK/wCFO/D3/oUtO/79n/Gj/hTvw9/6FLTv+/Z/xrq7nVLCyvLW0vL62t7m8ZltoZZlV5yBkhFJyxAPOKtUAcV/wp34e/8AQpad/wB+z/jR/wAKd+Hv/Qpad/37P+NdrRQBxX/Cnfh7/wBClp3/AH7P+NH/AAp34e/9Clp3/fs/412tFAHFf8Kd+Hv/AEKWnf8Afs/40f8ACnfh7/0KWnf9+z/jXa0UAcR8Go0i+EGgJEoVRC+AB/00eu3rivg9/wAkj0H/AK4v/wCjGrtaACiiigAooooAKKKKACuH+MkMdx8KdUhnQPG8tqrKehH2mKu4rivi9/yS/Uf+u1p/6VRUAH/Cnfh7/wBClp3/AH7P+NH/AAp34e/9Clp3/fs/412tFAHFf8Kd+Hv/AEKWnf8Afs/40f8ACnfh7/0KWnf9+z/jXa0UAcV/wp34e/8AQpad/wB+z/jR/wAKd+Hv/Qpad/37P+NdrRQBxX/Cnfh7/wBClp3/AH7P+NH/AAp34e/9Clp3/fs/411moalY6RYSX2q3lvY2kWPMuLmVY40yQBlmIAySB9TWXZeOfCWpXsVnp3ijRbu6mbbHBBqETu59AobJNAGP/wAKd+Hv/Qpad/37P+NH/Cnfh7/0KWnf9+z/AI11eqanaaNpN1qepS+TZ2cLTTybS2xFGScAEngdAKnhmS4gjmhbdHIodTjGQRkUAcaPg58PQoA8J6dx6oT/AFo/4U78Pf8AoUtO/wC/Z/xrqNG1ix8QaNa6rpE/2iyu0EkMuxl3r64YAj8RV2gDiv8AhTvw9/6FLTv+/Z/xo/4U78Pf+hS07/v2f8a3IvGXhifVv7Lg8R6TJqHmGL7Il9EZd44K7A2cjB4xnitmgDiv+FO/D3/oUtO/79n/ABo/4U78Pf8AoUtO/wC/Z/xrtaKAOK/4U78Pf+hS07/v2f8AGj/hTvw9/wChS07/AL9n/Gu1ooA4r/hTvw9/6FLTv+/Z/wAaxvGPwn8CWPgXXruz8L6fDcW+m3EsUixnKMsTEEc9QRXp1YHjz/knHiT/ALBN1/6JagCx4SVU8FaIqAKq6fbgADgDy1rXrJ8Kf8ibov8A14Qf+i1rWoAKKKKACiiigAooooAK4D4saZZ6xb+FLDU7dLm1n8R26SRSDKuDHLkGu/riviN/x8+Dv+xltv8A0XLQAf8ACnfh7/0KWnf9+z/jR/wp34e/9Clp3/fs/wCNdrRQBxX/AAp34e/9Clp3/fs/40f8Kd+Hv/Qpad/37P8AjXa0UAcV/wAKd+Hv/Qpad/37P+NH/Cnfh7/0KWnf9+z/AI12tFAHFf8ACnfh7/0KWnf9+z/jR/wp34e/9Clp3/fs/wCNdRqus6XoVoLrW9StNOt2cIJrudYkLEEhdzEDOAePaqem+MfDGtXos9H8R6Tf3TAsILW+ilcgdTtViaAMP/hTvw9/6FLTv+/Z/wAaD8HPh6VIPhPTufRCP611Gr6xY6Dprahqs/kWqPHG0mxmwzuqKMKCeWZR+PpUt/fW+l6bc399J5VtawvNNJtLbUUFmOBycAHgUAcl/wAKd+Hv/Qpad/37P+NH/Cnfh7/0KWnf9+z/AI12FrdQ3tnDdWr74Z41kjbBG5WGQcHnoaloA4r/AIU78Pf+hS07/v2f8aP+FO/D3/oUtO/79n/Guhl8T6BBrS6PPrmmx6oxCrYvdxickjIHlk7uQQRxWpQBxX/Cnfh7/wBClp3/AH7P+NH/AAp34e/9Clp3/fs/412tFAHFf8Kd+Hv/AEKWnf8Afs/40f8ACnfh7/0KWnf9+z/jXa0UAcV/wp34e/8AQpad/wB+z/jXK/Er4Y+C9F8A3l/pXhuxtbuGa22Sxx8rm4jU/mCR+Nev1xXxe/5JfqP/AF3tP/SqKgDtaKKKACsDx5/yTnxJ/wBgm6/9EtW/WB48/wCSc+JP+wTdf+iWoAs+FP8AkTNF/wCwfB/6LWtasnwp/wAiZov/AGD4P/Ra1rUAFFFFABRRRQAV5zaapFoniz4mancXUdpHai0lNxLC0qx4tBhiikFgD/CCCemR1r0asqTwzo80mrtNYpL/AG0qpfiRmZZwqbACCcD5eOMfnQB55aeINfXWr7RdY/ts2l54dubyP+24rJZVkQqvy/ZeikSchxkEDHem+F7vXPDfgv4d3ra3Je2uqJY2EmnNbRJFHHJb/I0ZC+ZvXau4s7BvmICjAXtrH4f+HNOvWvILO4kumtXsjPc3088nkNtzHukdjt+UYHbnGMnJpXw/8M6Ld2lxpunNEbFSLSFrmV4bYkYZo4mYojHnLKoY7mJOWOQDzjQvEGraf4b0PRdDivTLqur6u0kunrbm4RIrmRsJ9oYRAksMls8BsDJBHovgmfxLJZ30Xiq2uY/KuiLKe8NuLiaEqD+8W3YxhlYsuVxkBTjOSZpPA3h6TSYtNNgyW8Fy93C0VxKksMzuXZ0lVg6Elm+6w4JHTitLSdGstEtXg09JAJJDJLJPO88sr4A3PJIWdjtVVBJOAqgcACgDx/xvqSa7rnibULO21Ga/8PiCDRJLbSrm4j+0QOJ5v3kaMqlmCREEjATnrmvYND1e21/QLDV7Ft1vfW6XEfqAyg4PuM4NLpOj2OhaeLLS4PIg8ySUqXZyXdy7MWYkklmJ5NJoui2Hh7R4NL0e3+zWVvu8qLezBAWLEAsScZJwOgHAwABQBeooooAKKKKACiiigDivg9/ySPQf+uL/APoxq7WuK+D3/JI9B/64v/6Mau1oAKKKKACiiigAooooAK4r4vf8kv1H/rtaf+lUVdrXFfF7/kl+o/8AXa0/9KoqAO1ooooAKKKKACiiigArzHSNYTQdI+ImoyXLWvl+JJFWSO3M773htkVVTI3MWYKM8ZIzxmvTqxZvCOhXGm6tYTWCvbaxObi9jaRz5spVV3g5ypxGmNuMFQRg80AeZa7ruuNoPjzQNb/tQxx+GGvYP7XWzE6lvORhm1Owodgxn5shu2K6SxvNc8P654PtrvWpNTttcSS3mtXtoo0t2W3MqPDtXeANhUh2fhs5yOd6P4e+Go11ENZTTNqlobO9luL6eaSeHn5Wd3LdyAc5AwAcAVPpfgnQNG1KO/0+xZJ4UaO3ElxLIlsjEblhR2KxA4HCBRgAdKAPLfB/iHWovBngbw7okWogT6JJezy6WtqbghJFQKv2phGFy+W4Zvu4AGTXqHgufxDNoTjxZayQXcdxIkTTGHzZoQfkeQQsyByDghTjIyAM4pjeAfDh0nS9OjsZIIdIBWwkt7uaKa2DDDBZkcSAEcEbsHAznArY03TLTSLFbSwjZIgSxLyNI7sTkszsSzMe5JJNAHiM51dvhl4hZ9Os20Sz8R3V5cXUd2TeJHFfGRzHC0YTcApwTKOM8Z4r3aGZLiCOaFt0cih1OMZBGRXMP8NPC8jTCWzu5be4uWuprOTUrlrWWRn8wloDJ5bAtzgrj2rqqACiiigAooooAKwPHn/JOPEn/YJuv/RLVv1gePP+SceJP+wTdf8AolqALPhT/kTdF/68IP8A0Wta1ZPhT/kTdF/68IP/AEWta1ABRRRQAUUUUAFFFFABXFfEb/j58Hf9jLbf+i5a7WuK+I3/AB8+Dv8AsZbb/wBFy0AdrRRRQAUUUUAFFFFABXlPhjV20j4Vx+Tc3UFzea9eWluLO3SaeV3vJvkjEh8tWwCd0nyqASa9WrBk8FaBJoI0Y2LLZLdG8QJcSJJHOZDL5iSBg6NvJOVYdSOnFAHl/iHXNb1HwH4v0nVmuxcaZqulrbvqcVv56rJPbuBILY+W2GyRtIOCAea2/F17rGj/ANuaBqGsTaxa6h4Wv7sNPBFG9tJEoUhfLVfkYSjhtxBX7xya61fh34WXTr+xfS/Pt9SlimvVuLiWU3LxMGRnZ2JY5UZyfm75qW28CeHrSK+RLKWX7faGyne5u5p3+znP7pXdyyJ8x+VSBnmgDh4PEPiC7vLDQNFi1hLex0KyuXk0dbEyu8qsBuN2wXYBHwFBJJOSMAHttJvPEZ+Hn2rXLNbfX0tJS8CFCDIu4IflZl+YBTgEgZxUl54J0K+ks5Xtp7eeytvskNxZ3s9tMIeD5ZkidWZcgHDEjPPWtiysrfTrKK0sohFBCu1EHYfXqT6k8mgDkfhjp+mXXwj0MGGC7jv7OO6vDKgfz7hwHkZ853Nvzye49q7WucHgHw6l7LcR2c8SzTefLaxXs6Wsj8ZZrcOIjkgE5Xk8nJro6ACiiigAooooAK4r4vf8kv1H/rvaf+lUVdrXFfF7/kl+o/8AXe0/9KoqAO1ooooAKwPHn/JOPEn/AGCbr/0S1b9YHj0Bvhv4lDDIOk3QIPf9y1ACeFdTsF8HaMrXtsCLCAEGVeP3a+9av9q6f/z/ANt/3+X/ABr4at9Os2tYi1rCSUBJKDnipP7Nsv8An0h/74FcDxsU7WPrY8L15RUvaLX1PuH+1dP/AOf+2/7/AC/40f2rp/8Az/23/f5f8a+Hv7Nsv+fSH/vgUf2bZf8APpD/AN8Cl9ej2K/1Vr/8/F+J9w/2rp//AD/23/f5f8aBq2nEAi/tSD0ImX/Gvhq406zW1lK2sIIQkEIOOK+q/Bfw38FXngHw/c3fhTR5p5tMtpJZZLKMs7GJSSTjkknNdNGsqqbSPGzLLJ5fKKnJPm7Hdf2rp/8Az/23/f5f8aP7V0//AJ/7b/v8v+NYH/CrvAn/AEJ+if8AgDH/AIUf8Ku8Cf8AQn6J/wCAMf8AhW55Jv8A9q6f/wA/9t/3+X/Gj+1dP/5/7b/v8v8AjWB/wq7wJ/0J+if+AMf+FVNV+GXgaLRr2SPwjoqulvIysLGMEEKeelAHUrq+muoZdQtWUjIImXBH50v9q6f/AM/9t/3+X/GvJ/AngHwjffDzw/dXnhrS57ibToJJZZLRGZ2MYJJJHJJrf/4Vv4K/6FTR/wDwCj/wry5ZjCLa5WdKw7avc7n+1dP/AOf+2/7/AC/40f2rp/8Az/23/f5f8a4b/hW/gr/oVNH/APAKP/Cj/hW/gr/oVNH/APAKP/Cl/acP5WH1eXc7n+1dP/5/7b/v8v8AjSLq+muoZdQtWUjIImXBH51wsvw38FCFyPCmjghTj/Qk/wAKofDD4eeDtS+Fvh691DwvpNzdT2MbyzS2aMzsR1JI5NdeHxMa97K1jOpTcNz0r+1dP/5/7b/v8v8AjR/aun/8/wDbf9/l/wAawP8AhV3gT/oT9E/8AY/8KP8AhV3gT/oT9E/8AY/8K6jI3/7V0/8A5/7b/v8AL/jR/aun/wDP/bf9/l/xrA/4Vd4E/wChP0T/AMAY/wDCj/hV3gT/AKE/RP8AwBj/AMKAKnwe5+Eeg4/54v8A+jGrta4j4NxpF8IdASNVRRC+AowP9Y9dvQAUUUUAFFFFABRRRQAVxXxfIX4XakWOAJrXJP8A18xV2teffHVQ/wAFNfDAEYg4I/6eI6BpXdjtv7V0/wD5/wC2/wC/y/40f2rp/wDz/wBt/wB/l/xr4e/s2y/59If++BR/Ztl/z6Q/98CvP+vR7H13+qtf/n4vxPuH+1dP/wCf+2/7/L/jR/aun/8AP/bf9/l/xr4e/s2y/wCfSH/vgUf2bZf8+kP/AHwKPr0ewf6q1/8An4vxPuE6tpwBJv7UAdSZl/xo/tXT/wDn/tv+/wAv+NfC97p9olo7JbRKcjkIPUV9Qf8ACvPB3/Qr6T/4Bp/hWixcWr2PJxuU1MJUVOUk9L/n/kekf2rp/wDz/wBt/wB/l/xo/tXT/wDn/tv+/wAv+Neb/wDCvPB3/Qr6T/4Bp/hR/wAK88Hf9CvpP/gGn+FP61HscX1SXc9I/tXT/wDn/tv+/wAv+NI2r6ailm1C1VQMkmZcAfnXnH/CvPB3/Qr6T/4Bp/hXOfELwP4WsPh3rl1ZeHtNt7iGzdo5Y7VFZDjqCBwaaxMW7WE8LJK9z2v+1dP/AOf+2/7/AC/40f2rp/8Az/23/f5f8a5yH4X+BWt4yfCGiklRk/YY/T6VJ/wq7wJ/0J+if+AMf+FdRyG//aun/wDP/bf9/l/xo/tXT/8An/tv+/y/41gf8Ku8Cf8AQn6J/wCAMf8AhR/wq7wJ/wBCfon/AIAx/wCFAG82r6ailm1C1VQMkmZcAfnS/wBq6f8A8/8Abf8Af5f8a89+IXw58GWHw18SXdl4W0i3uYNLuJIpY7NFZGEbEMCBwQa2NJ+GXgaXRbKSTwjozu9vGzMbGMkkqOelAHVf2rp//P8A23/f5f8AGj+1dP8A+f8Atv8Av8v+NYH/AAq7wJ/0J+if+AMf+FH/AAq7wJ/0J+if+AMf+FAG/wD2rp//AD/23/f5f8awvHWp2L/DvxGqXtuzNpV0ABKpJPlN703/AIVd4E/6E/RP/AGP/CsTxn8N/BVn4D1+5tPCmjwzw6ZcyRSJZRhkYRMQQccEEZoA6/wp/wAibov/AF4Qf+i1rWrI8JKqeCtEVAFVdPgAAGAB5a1r0AFFFFABRRRQAUUUUAFcR8SpEil8HvK6oi+JbYlmOAP3ctdvXkH7ScaS/DrTFlRXX+2YeGGf+WctKTsmzSlTdWpGC6tL7z1T+1dP/wCf+2/7/L/jR/aun/8AP/bf9/l/xr4e/s2y/wCfSH/vgUf2bZf8+kP/AHwK4Pr0ex9X/qrX/wCfi/E+4f7V0/8A5/7b/v8AL/jR/aun/wDP/bf9/l/xr4e/s2y/59If++BR/Ztl/wA+kP8A3wKPr0ewf6q1/wDn4vxPuE6tpw639qP+2y/40f2rp/8Az/23/f5f8a+MPDGj6dc+OfDltcWNvLBPq1tFLG8YKuhkAKkdwR2r6w/4Vd4E/wChP0T/AMAY/wDCuulVVWPMjwMwwM8DW9jN3dr6G/8A2rp//P8A23/f5f8AGj+1dP8A+f8Atv8Av8v+NYH/AAq7wJ/0J+if+AMf+FH/AAq7wJ/0J+if+AMf+Fannm//AGrp/wDz/wBt/wB/l/xpG1fTVGW1C1AyBzMvU/jWD/wq7wJ/0J+if+AMf+FcX8Uvh/4Q0zwtZTad4Z0q1lfV7KJnhtEUlGnUMuQOhBIIprVgep/2rp//AD/23/f5f8aP7V0//n/tv+/y/wCNeT/8ID4R/wCha0v/AMBE/wAKP+EB8I/9C1pf/gIn+FdH1eXcx9qj1j+1dP8A+f8Atv8Av8v+NH9q6f8A8/8Abf8Af5f8a8n/AOEB8I/9C1pf/gIn+FH/AAgPhH/oWtL/APARP8KPq8u4e1R6u2r6aoy2oWoGQOZl6n8aX+1dP/5/7b/v8v8AjXgnjvwZ4asfC/nWeg6dBL9ttE3x2yqdrXEasMgdCCR+NdH/AMID4R/6FrS//ARP8KX1d3tcftVY9Y/tXT/+f+2/7/L/AI0f2rp//P8A23/f5f8AGvJ/+EB8I/8AQtaX/wCAif4Uf8ID4R/6FrS//ARP8Kf1eXcXtUesf2rp/wDz/wBt/wB/l/xrjfizqFnN8NNQjhu4JHae1wqygk/6TF2zXM/8ID4R/wCha0v/AMBE/wAKwPG3g3w1p/hOe5sdB063nSe32yR2yKwzPGDzj0JFJ0Gle41VTdj6CooornNQrA8ef8k58Sf9gm6/9EtW/WB48/5Jz4k/7BN1/wCiWoA+N7X/AI84f+ua/wAqlqK1/wCPOH/rmv8AKpa+cluz9ppfw4+iCiiipNSK5/49Jv8Acb+VfZHgL/km/hr/ALBNr/6JWvje5/49Jv8Acb+VfZHgL/km/hr/ALBNr/6JWvUwO0j4Tir+JS9H+hv0UUV6J8YFUtZ/5AV//wBe0n/oJq7VLWf+QFf/APXtJ/6CaAOK+HP/ACTHw1/2C7f/ANFrXSVzfw5/5Jj4a/7Bdv8A+i1rpK+RqfG/U9SOyCiiioKGTf6iT/dP8qzvhF/yR/wx/wBg+P8AlWjN/qJP90/yrO+EX/JH/DH/AGD4/wCVezln2/l+pyYnodlRRRXsHIFFFFAHFfB7/kkeg/8AXF//AEY1drXFfB7/AJJHoP8A1xf/ANGNXa0AFFFFABRRRQAUUUUAFef/ABz/AOSLa9/uwf8ApRHXoFef/HP/AJItr3+7B/6UR0nsXD40fLtFFFfNn7WFFFFAFa//AOPJ/qv8xX13XyJf/wDHk/1X+Yr67rph8Hz/AMj4zPv96j/hX5sKKKKo8EK5b4m/8kv8Q/8AXjJ/Kuprlvib/wAkv8Q/9eMn8qqHxIifws9Vg/49ov8AcH8qkqOD/j2i/wBwfyqSvYPFCiiigDl/ib/ySjxV/wBgi6/9FNW3o3/IBsP+vaP/ANBFYnxN/wCSUeKv+wRdf+imrb0b/kA2H/XtH/6CKALtFFFABWB48/5Jx4k/7BN1/wCiWrfrA8ef8k48Sf8AYJuv/RLUAWfCn/Im6L/14Qf+i1rWrJ8Kf8ibov8A14Qf+i1rWoAKKKKACiiigAooooAK8j/aQ/5J7pn/AGGYf/RcteuV5H+0h/yT3TP+wzD/AOi5aip8D9Dqwf8AvNP/ABL8z55ooor50/ZAooooA1fCX/JQ/C3/AGGbX/0YK+za+MvCX/JQ/C3/AGGbX/0YK+za9nB/wvmfm3Ev+/f9ur9QooorsPmgrg/jB/yJ9h/2G9P/APShK7yuD+MH/In2H/Yb0/8A9KEpx3QnsQ0UUV6pxBRRRQBy3xF/5FH/ALf7L/0pjrqa5b4i/wDIo/8Ab/Zf+lMddTU/aY+gUUUVQgrmfiF/yJNz/wBd7b/0ojrpq5n4hf8AIk3P/Xe2/wDSiOon8LKjuj2iiiivMOwKwPHn/JOfEn/YJuv/AES1b9YHjz/knPiT/sE3X/olqAPje1/484f+ua/yqWorX/jzh/65r/Kpa+cluz9ppfw4+iCiiipNSK5/49Jv9xv5V9keAv8Akm/hr/sE2v8A6JWvje5/49Jv9xv5V9keAv8Akm/hr/sE2v8A6JWvUwO0j4Tir+JS9H+hv0UUV6J8YFUtZ/5AV/8A9e0n/oJq7VLWf+QFf/8AXtJ/6CaAOK+HP/JMfDX/AGC7f/0WtdJXN/Dn/kmPhr/sF2//AKLWukr5Gp8b9T1I7IKKKKgoZN/qJP8AdP8AKs74Rf8AJH/DH/YPj/lWjN/qJP8AdP8AKs74Rf8AJH/DH/YPj/lXs5Z9v5fqcmJ6HZUUUV7ByBRRRQBxXwe/5JHoP/XF/wD0Y1drXFfB7/kkeg/9cX/9GNXa0AFFFFABRRRQAUUUUAFef/HP/ki2vf7sH/pRHXoFef8Axz/5Itr3+7B/6UR0nsXD40fLtFFFfNn7WFFFFAFa/wD+PJ/qv8xX13XyJf8A/Hk/1X+Yr67rph8Hz/yPjM+/3qP+FfmwoooqjwQrlvib/wAkv8Q/9eMn8q6muW+Jv/JL/EP/AF4yfyqofEiJ/Cz1WD/j2i/3B/KpKjg/49ov9wfyqSvYPFCiiigDl/ib/wAko8Vf9gi6/wDRTVt6N/yAbD/r2j/9BFYnxN/5JR4q/wCwRdf+imrb0b/kA2H/AF7R/wDoIoAu0UUUAFYHjz/knHiT/sE3X/olq36wPHn/ACTjxJ/2Cbr/ANEtQBZ8Kf8AIm6L/wBeEH/ota1qyfCn/Im6L/14Qf8Aota1qACiiigAooooAKKKKACvI/2kP+Se6Z/2GYf/AEXLXrleR/tIf8k90z/sMw/+i5aip8D9Dqwf+80/8S/M+eaKKK+dP2QKKKKANXwl/wAlD8Lf9hm1/wDRgr7Nr4y8Jf8AJQ/C3/YZtf8A0YK+za9nB/wvmfm3Ev8Av3/bq/UKKKK7D5oK4P4wf8ifYf8AYb0//wBKErvK4P4wf8ifYf8AYb0//wBKEpx3QnsQ0UUV6pxBRRRQBy3xF/5FH/t/sv8A0pjrqa5b4i/8ij/2/wBl/wClMddTU/aY+gUUUVQgrmfiF/yJNz/13tv/AEojrpq5n4hf8iTc/wDXe2/9KI6ifwsqO6PaKKKK8w7ArA8e5Pw38S7Tg/2TdYOOn7lq36wPHn/JOfEn/YJuv/RLUAfFlvDfG2i23cYGwYHk9OPrUnkX/wDz+Rf9+P8A7Kp7X/jzh/65r/Kpa+flN3e33I/YKWFg6cdZbL7Uv8yn5F//AM/kX/fj/wCyo8i//wCfyL/vx/8AZVcopc78vuRp9Vp95f8AgUv8zPuIb4W0u67jI2HI8jrx9a+o/BuiePJPAmgvZ+MtNgt2023MUT6HvMaGJcKW84ZIHGcDNfM9z/x6Tf7jfyr7I8Bf8k38Nf8AYJtf/RK16WCk2mfE8T0o050rX2e7b7d2zJ/sH4if9Dxpf/gg/wDt9H9g/ET/AKHjS/8AwQf/AG+u1orvPkTiv7B+In/Q8aX/AOCD/wC31V1TQ/iCuj3hl8a6W6CByyjQcEjacjPn8V39UtZ/5AV//wBe0n/oJoA8h8DaR40l+H+gSWPivT7e2bToDFC+j+Y0a+WMKW80ZIHfAzW9/Ynj3/octN/8Ef8A9uq38Of+SY+Gv+wXb/8Aota6SvlalSXO9t+yPSjFWRyH9iePf+hy03/wR/8A26j+xPHv/Q5ab/4I/wD7dXX0VHtZeX3L/IrlRxsui+PPJfPjHTSNpyP7D/8At1Ufhno3jif4Y+H5dN8XadaWjWSGGCTRfNaNccAv5w3fXArvZv8AUSf7p/lWd8Iv+SP+GP8AsHx/yr18tk5c1/L9TlxCtYZ/YPxE/wCh40v/AMEH/wBvo/sH4if9Dxpf/gg/+312tFescpxX9g/ET/oeNL/8EH/2+j+wfiJ/0PGl/wDgg/8At9drRQBxHwbDj4QaAJWDN5L5IXGf3j9q7euK+D3/ACSPQf8Ari//AKMau1oAKKKKACiiigAooooAK8++OwY/BTX9h2nEHJGf+XiOvQa8/wDjn/yRbXv92D/0ojpPYqHxI+UfIv8A/n8i/wC/H/2VHkX/APz+Rf8Afj/7KrlFfP8AO/L7kfsX1Wn3l/4FL/Mp+Rf/APP5F/34/wDsqPIv/wDn8i/78f8A2VXKKOd+X3IPqtPvL/wKX+ZmXkN6LRi93GwyOBDjuPevpn+xvHH/AEN2nf8Agl/+3V84X/8Ax5P9V/mK+u66ITfJ8+y8j5DO6MYYlJN/CurfV92cn/Y3jj/obtO/8Ev/ANuo/sbxx/0N2nf+CX/7dXWUU+Z/0jxORf02cn/Y3jj/AKG7Tv8AwS//AG6ud8f6X4vh+H2tyX/iaxubZbRzLCmk+WzrjkBvNOPrg16dXLfE3/kl/iH/AK8ZP5VUZPmRM4rlf+Z0MOhfEMwR48b6WBtGB/YHt/13p/8AYPxE/wCh40v/AMEH/wBvrsYP+PaL/cH8qkr1jxziv7B+In/Q8aX/AOCD/wC30f2D8RP+h40v/wAEH/2+u1ooA8p8f6L46h+HHiKS/wDGGm3NqmmXDTQponltInltlQ3nHaSOM4OPStbStD+ILaPZmLxrpaIYEKqdByQNowM+fzWx8Tf+SUeKv+wRdf8Aopq29G/5ANh/17R/+gigDl/7B+In/Q8aX/4IP/t9H9g/ET/oeNL/APBB/wDb67WigDiv7B+In/Q8aX/4IP8A7fWN4x0Tx5H4F157zxlps9uum3BliTQ9hkTymyobzjgkcZwcV6dWB48/5Jx4k/7BN1/6JagCx4S3DwVom8gt/Z8GSBgE+Wvatesnwp/yJui/9eEH/ota1qACiiigAooooAKKKKACvIP2lFkb4c6YInCN/bMPJXP/ACylr1+vI/2kP+Se6Z/2GYf/AEXLUVPgZ04RXxFNea/M+bfIv/8An8i/78f/AGVHkX//AD+Rf9+P/squUV4PO/L7kfrf1Wn3l/4FL/Mp+Rf/APP5F/34/wDsqPIv/wDn8i/78f8A2VXKKOd+X3IPqtPvL/wKX+ZL4attUfxt4eS21CGK4fVbdYZWttwjcuMMV3DcAe2Rn1r6o/sH4if9Dxpf/gg/+318z+Ev+Sh+Fv8AsM2v/owV9m162Ed6Z+e8RQVPG2V9lu2+/c4r+wfiJ/0PGl/+CD/7fR/YPxE/6HjS/wDwQf8A2+u1orrPnTiv7B+In/Q8aX/4IP8A7fXG/E7R/G0HhizbU/Fmn3cR1ayVUj0byiHM6hWz5xyAcHHfpkV7PXB/GD/kT7D/ALDen/8ApQlNbiexyH9keNP+hr0//wAE/wD9to/sjxp/0Nen/wDgn/8AttdTRXp8qOS5y39keNP+hr0//wAE/wD9to/sjxp/0Nen/wDgn/8AttdTRRyoLnmnjjTPFcXhndfeI7K4i+2Wo2JpflncbhApz5h6HBx3xjiui/sjxp/0Nen/APgn/wDttHxF/wCRR/7f7L/0pjrqanlXMO+hy39keNP+hr0//wAE/wD9to/sjxp/0Nen/wDgn/8AttdTRVcqFc5b+yPGn/Q16f8A+Cf/AO21heM9N8VQ+F5pNQ8RWV1bie33xJpfllv36Y+bzTjnB6dq9GrmfiF/yJNz/wBd7b/0ojqZxXKxxeqPaKKKK806wrA8ef8AJOfEn/YJuv8A0S1b9YHjz/knPiT/ALBN1/6JagD43tf+POH/AK5r/Kpaitf+POH/AK5r/Kpa+cluz9ppfw4+iCiiipNSK5/49Jv9xv5V9keAv+Sb+Gv+wTa/+iVr43uf+PSb/cb+VfZHgL/km/hr/sE2v/ola9TA7SPhOKv4lL0f6G/RRRXonxgVS1n/AJAV/wD9e0n/AKCau1S1n/kBX/8A17Sf+gmgDivhz/yTHw1/2C7f/wBFrXSVzfw5/wCSY+Gv+wXb/wDota6Svkanxv1PUjsgoooqChk3+ok/3T/Ks74Rf8kf8Mf9g+P+VaM3+ok/3T/Ks74Rf8kf8Mf9g+P+Vezln2/l+pyYnodlRRRXsHIFFFFAHFfB7/kkeg/9cX/9GNXa1xXwe/5JHoP/AFxf/wBGNXa0AFFFFABRRRQAUUUUAFef/HP/AJItr3+7B/6UR16BXn/xz/5Itr3+7B/6UR0nsXD40fLtFFFfNn7WFFFFAFa//wCPJ/qv8xX13XyJf/8AHk/1X+Yr67rph8Hz/wAj4zPv96j/AIV+bCiiiqPBCuW+Jv8AyS/xD/14yfyrqa5b4m/8kv8AEP8A14yfyqofEiJ/Cz1WD/j2i/3B/KpKjg/49ov9wfyqSvYPFCiiigDl/ib/AMko8Vf9gi6/9FNW3o3/ACAbD/r2j/8AQRWJ8Tf+SUeKv+wRdf8Aopq29G/5ANh/17R/+gigC7RRRQAVgePP+SceJP8AsE3X/olq36wPHn/JOPEn/YJuv/RLUAWfCn/Im6L/ANeEH/ota1qyfCn/ACJui/8AXhB/6LWtagAooooAKKKKACiiigAryP8AaQ/5J7pn/YZh/wDRcteuV5H+0h/yT3TP+wzD/wCi5aip8D9Dqwf+80/8S/M+eaKKK+dP2QKKKKANXwl/yUPwt/2GbX/0YK+za+MvCX/JQ/C3/YZtf/Rgr7Nr2cH/AAvmfm3Ev+/f9ur9QooorsPmgrg/jB/yJ9h/2G9P/wDShK7yuD+MH/In2H/Yb0//ANKEpx3QnsQ0UUV6pxBRRRQBy3xF/wCRR/7f7L/0pjrqa5b4i/8AIo/9v9l/6Ux11NT9pj6BRRRVCCuZ+IX/ACJNz/13tv8A0ojrpq5n4hf8iTc/9d7b/wBKI6ifwsqO6PaKKKK8w7ArA8ef8k58Sf8AYJuv/RLVv1z/AI9O34b+JTgnGk3RwB/0xagD44tf+POH/rmv8qlrPt9QVbWIfZ7o4QDIhPpUn9or/wA+11/34avn5U5Xeh+wUsXQVOPvdC5RVP8AtFf+fa6/78NR/aK/8+11/wB+Gpezl2NPrlD+Ynuf+PSb/cb+VfZHgL/km/hr/sE2v/ola+LLjUFa2lH2e6GUIyYT6V9R+DfiLbWfgTQbZvDXimUw6bbxmSHRZnR8RKMqwGCD2PcV6WCi0nc+J4nqwqzpcjvo/wBD0+iuK/4Wba/9Ct4u/wDBDP8A4Uf8LNtf+hW8Xf8Aghn/AMK7z5E7WqWs/wDICv8A/r2k/wDQTXL/APCzbX/oVvF3/ghn/wAKq6p8SraXR7yMeF/Fi7oHXc2hzADKnknHAoAZ8Of+SY+Gv+wXb/8Aota6SvMvA3jyCy+H+gWreH/Ekxh06BDJBpErxviMDKsBgj0Nb3/Cxbb/AKFrxV/4JJv8K+VqUp8706npRkrI6+iuQ/4WLbf9C14q/wDBJN/hR/wsW2/6FrxV/wCCSb/Co9lPsVzROsm/1En+6f5VnfCL/kj/AIY/7B8f8qwZfiJbmFx/wjXikZU9dFm/wqj8M/iBb6d8MfD9m/h3xNcNDZIhlttGmkjfA6qwGCPcV6+WxlHmv5fqcuIadrHr1FcV/wALNtf+hW8Xf+CGf/Cj/hZtr/0K3i7/AMEM/wDhXrHKdrRXFf8ACzbX/oVvF3/ghn/wo/4Wba/9Ct4u/wDBDP8A4UAHwe/5JHoP/XF//RjV2tcR8GnEnwg0BgGXML8MuD/rH7V29ABRRRQAUUUUAFFFFABXn/xz/wCSLa9/uwf+lEdegV598dm2fBTXzgniDgDJ/wCPiOk9iofEj5eoqn/aK/8APtdf9+Go/tFf+fa6/wC/DV8/7OXY/YvrlD+YuUVT/tFf+fa6/wC/DUf2iv8Az7XX/fhqPZy7B9cofzD7/wD48n+q/wAxX13Xx1e36vaMv2e5HI5MJA6ivpn/AIWBb/8AQu+J/wDwTTf4V0QhLk26/wCR8hndanPEpxf2V+bOsork/wDhYFv/ANC74n/8E03+FH/CwLf/AKF3xP8A+Cab/CnyS7Hic8e51lct8Tf+SX+If+vGT+VM/wCFgW//AELvif8A8E03+Fc74/8AGsF98PtbtV0LxBAZbR1Elxpcsca8dWYjAHvVRjLmRM5x5Xqe9Qf8e0X+4P5VJXDw/Ey2EEY/4RbxccKOmhT+n0p//CzbX/oVvF3/AIIZ/wDCvWPHO1oriv8AhZtr/wBCt4u/8EM/+FH/AAs21/6Fbxd/4IZ/8KALvxN/5JR4q/7BF1/6KatvRv8AkA2H/XtH/wCgivNvH/xCt774ceIrRfDfiiAz6ZcRiW40WaONMxsMsxGFA7k9K19K+JVtFo9lGfC/ixtsCLuTQ5iDhRyDjkUAd/RXFf8ACzbX/oVvF3/ghn/wo/4Wba/9Ct4u/wDBDP8A4UAdrWB48/5Jx4k/7BN1/wCiWrJ/4Wba/wDQreLv/BDP/hWN4x+Ittd+Bdetl8NeKojNptxGJJtFmREzEwyzEYAHc9qAO48Kf8ibov8A14Qf+i1rWrI8JNv8FaIwBAOn25wRg/6te1a9ABRRRQAUUUUAFFFFABXkf7SH/JPdM/7DMP8A6Llr1yvIP2lJPK+HOmMVZv8Aicw8IuT/AKqWoqfAzpwjSxFNvuvzPnyiqf8AaK/8+11/34aj+0V/59rr/vw1eD7OXY/W/rlD+YuUVT/tFf8An2uv+/DUf2iv/Ptdf9+Go9nLsH1yh/MdD4S/5KH4W/7DNr/6MFfZtfEXhrV0tvG3h64NnfSCDVbeQxxWzM74cHCqOWY9gOtfVH/CzbX/AKFbxd/4IZ/8K9bCJqnZn57xFUjUxvNB3Vl+p2tFcV/ws21/6Fbxd/4IZ/8ACj/hZtr/ANCt4u/8EM/+FdZ86drXB/GD/kT7D/sN6f8A+lCVP/ws21/6Fbxd/wCCGf8Awrjvid49t9S8MWcKeHvEtuV1ayl33WkSxKds6naCRyxxgDueKa3E9jpKK5b/AITyD/oX/En/AIKJf8KP+E8g/wChf8Sf+CiX/CvT5onJZnU0Vy3/AAnkH/Qv+JP/AAUS/wCFH/CeQf8AQv8AiT/wUS/4Uc0Qsw+Iv/Io/wDb/Zf+lMddTXmnjjxjDe+GfJXRddhP2y1fdPpkiL8twhxkjqcYA7kgV0X/AAnkH/Qv+JP/AAUS/wCFTzLmHZ2Oporlv+E8g/6F/wASf+CiX/Cj/hPIP+hf8Sf+CiX/AAquaIrM6muZ+IX/ACJNz/13tv8A0ojpn/CeQf8AQv8AiT/wUS/4VheM/GEN/wCFprZdG12AvPb/ALy40ySNFxOh5Yjjp+eKmclyscU7o+iKKKK806wrA8ef8k58Sf8AYJuv/RLVv1gePP8AknPiT/sE3X/olqAPje1/484f+ua/yqWorX/jzh/65r/Kpa+cluz9ppfw4+iCiiipNSK5/wCPSb/cb+VfZHgL/km/hr/sE2v/AKJWvje5/wCPSb/cb+VfZHgL/km/hr/sE2v/AKJWvUwO0j4Tir+JS9H+hv0UUV6J8YFUtZ/5AV//ANe0n/oJq7VLWf8AkBX/AP17Sf8AoJoA4r4c/wDJMfDX/YLt/wD0WtdJXN/Dn/kmPhr/ALBdv/6LWukr5Gp8b9T1I7IKKKKgoZN/qJP90/yrO+EX/JH/AAx/2D4/5Vozf6iT/dP8qzvhF/yR/wAMf9g+P+Vezln2/l+pyYnodlRRRXsHIFFFFAHFfB7/AJJHoP8A1xf/ANGNXa1xXwe/5JHoP/XF/wD0Y1drQAUUUUAFFFFABRRRQAV5/wDHP/ki2vf7sH/pRHXoFef/ABz/AOSLa9/uwf8ApRHSexcPjR8u0UUV82ftYUUUUAVr/wD48n+q/wAxX13XyJf/APHk/wBV/mK+u66YfB8/8j4zPv8Aeo/4V+bCiiiqPBCuW+Jv/JL/ABD/ANeMn8q6muW+Jv8AyS/xD/14yfyqofEiJ/Cz1WD/AI9ov9wfyqSo4P8Aj2i/3B/KpK9g8UKKKKAOX+Jv/JKPFX/YIuv/AEU1bejf8gGw/wCvaP8A9BFYnxN/5JR4q/7BF1/6KatvRv8AkA2H/XtH/wCgigC7RRRQAVgePP8AknHiT/sE3X/olq36wPHn/JOPEn/YJuv/AES1AFnwp/yJui/9eEH/AKLWtasnwp/yJui/9eEH/ota1qACiiigAooooAKKKKACvI/2kP8Aknumf9hmH/0XLXrleR/tIf8AJPdM/wCwzD/6LlqKnwP0OrB/7zT/AMS/M+eaKKK+dP2QKKKKANXwl/yUPwt/2GbX/wBGCvs2vjLwl/yUPwt/2GbX/wBGCvs2vZwf8L5n5txL/v3/AG6v1Ciiiuw+aCuD+MH/ACJ9h/2G9P8A/ShK7yuD+MH/ACJ9h/2G9P8A/ShKcd0J7ENFFFeqcQUUUUAct8Rf+RR/7f7L/wBKY66muW+Iv/Io/wDb/Zf+lMddTU/aY+gUUUVQgrmfiF/yJNz/ANd7b/0ojrpq5n4hf8iTc/8AXe2/9KI6ifwsqO6PaKKKK8w7ArA8ef8AJOfEn/YJuv8A0S1b9YHjz/knPiT/ALBN1/6JagD43tf+POH/AK5r/Kpaitf+POH/AK5r/Kpa+cluz9ppfw4+iCiiipNSK5/49Jv9xv5V9keAv+Sb+Gv+wTa/+iVr43uf+PSb/cb+VfZHgL/km/hr/sE2v/ola9TA7SPhOKv4lL0f6G/RRRXonxgVS1n/AJAV/wD9e0n/AKCau1S1n/kBX/8A17Sf+gmgDivhz/yTHw1/2C7f/wBFrXSVzfw5/wCSY+Gv+wXb/wDota6Svkanxv1PUjsgoooqChk3+ok/3T/Ks74Rf8kf8Mf9g+P+VaM3+ok/3T/Ks74Rf8kf8Mf9g+P+Vezln2/l+pyYnodlRRRXsHIFFFFAHFfB7/kkeg/9cX/9GNXa1xXwe/5JHoP/AFxf/wBGNXa0AFFFFABRRRQAUUUUAFef/HP/AJItr3+7B/6UR16BXn/xz/5Itr3+7B/6UR0nsXD40fLtFFFfNn7WFFFFAFa//wCPJ/qv8xX13XyJf/8AHk/1X+Yr67rph8Hz/wAj4zPv96j/AIV+bCiiiqPBCuW+Jv8AyS/xD/14yfyrqa5b4m/8kv8AEP8A14yfyqofEiJ/Cz1WD/j2i/3B/KpKjg/49ov9wfyqSvYPFCiiigDl/ib/AMko8Vf9gi6/9FNW3o3/ACAbD/r2j/8AQRWJ8Tf+SUeKv+wRdf8Aopq29G/5ANh/17R/+gigC7RRRQAVgePP+SceJP8AsE3X/olq36wPHn/JOPEn/YJuv/RLUAWfCn/Im6L/ANeEH/ota1qyfCn/ACJui/8AXhB/6LWtagAooooAKKKKACiiigAryP8AaQ/5J7pn/YZh/wDRcteuV5H+0h/yT3TP+wzD/wCi5aip8D9Dqwf+80/8S/M+eaKKK+dP2QKKKKANXwl/yUPwt/2GbX/0YK+za+MvCX/JQ/C3/YZtf/Rgr7Nr2cH/AAvmfm3Ev+/f9ur9QooorsPmgrg/jB/yJ9h/2G9P/wDShK7yuD+MH/In2H/Yb0//ANKEpx3QnsQ0UUV6pxBRRRQBy3xF/wCRR/7f7L/0pjrqa5b4i/8AIo/9v9l/6Ux11NT9pj6BRRRVCCuZ+IX/ACJNz/13tv8A0ojrpq5n4hf8iTc/9d7b/wBKI6ifwsqO6PaKKKK8w7ArA8ef8k58Sf8AYJuv/RLVv1X1CwttV0y60+/j821u4Xgmj3Fd6MCrDIwRkE9KAPiC1/484f8Armv8qlr6iHwM+HIAA8Npgf8AT3P/APF0v/Cjfhz/ANC2n/gXP/8AF15rwLbvzH28OKYxio+y28/+AfLlFfUf/Cjfhz/0Laf+Bc//AMXR/wAKN+HP/Qtp/wCBc/8A8XS+ov8AmK/1rj/z6/H/AIB8r3P/AB6Tf7jfyr7I8Bf8k38Nf9gm1/8ARK1zx+Bnw5IIPhtMH/p7n/8Ai6sx/B3wPFGscejyqiAKqjULngDt/rK6qFD2Kave54ObZosxlBqPLy3633O3oriv+FQ+Cf8AoEzf+DG5/wDjlH/CofBP/QJm/wDBjc//AByuk8Q7WqWs/wDICv8A/r2k/wDQTXL/APCofBP/AECZv/Bjc/8AxykPwg8EMpDaRMQRgj+0Ln/45QBT+HP/ACTHw1/2C7f/ANFrXSVxPgX4VeDtR+Hfhy9u9Kke4udKtppWF9cLudolJOA4A5J4HFb3/CnvA/8A0B5f/Bhc/wDxyvHllrlJvm/A61iLK1jYorH/AOFPeB/+gPL/AODC5/8AjlH/AAp7wP8A9AeX/wAGFz/8cqf7Mf8AN+AfWPI1Zv8AUSf7p/lWd8Iv+SP+GP8AsHx/yqP/AIU94H/6A8v/AIMLn/45TYfg34Ft4Uih0aVI0GFVdQucAf8Afyu3C4V4e+t7mVSpz20O4oriv+FQ+Cf+gTN/4Mbn/wCOUf8ACofBP/QJm/8ABjc//HK7TE7WiuK/4VD4J/6BM3/gxuf/AI5R/wAKh8E/9Amb/wAGNz/8coAPg9/ySPQf+uL/APoxq7WqGiaJp/hzRbfSdGt/s1jbKVii3s+0EknliSeSepq/QAUUUUAFFFFABRRRQAV5/wDHP/ki2vf7sH/pRHXoFZ2vaDpvifRLjSNctvtVhc7fNh3sm7awYcqQRyoPBoHF2aZ8XUV9R/8ACjfhz/0Laf8AgXP/APF0f8KN+HP/AELaf+Bc/wD8XXmfUX/Mfcf61x/59fj/AMA+XKK+o/8AhRvw5/6FtP8AwLn/APi6P+FG/Dn/AKFtP/Auf/4uj6i/5g/1rj/z6/H/AIB8p3//AB5P9V/mK+u6zm+BXw4dSreG0wfS7nH/ALPVr/hTvgb/AKA0n/gfc/8AxytI4RqNrni5hm6xlVVFC2lt/Xy8yeioP+FO+Bv+gNJ/4H3P/wAco/4U74G/6A0n/gfc/wDxyn9Vfc8/62uxPXLfE3/kl/iH/rxk/lXRf8Kd8Df9AaT/AMD7n/45VXUvg54FOlXWdFcjyXODf3B7H/ppTjhmne4pYpNWsd7B/wAe0X+4P5VJXmvhb4WeENQ8H6NeXemzSXFxYQSyv9vuBuZo1JOBJgcntWr/AMKh8E/9Amb/AMGNz/8AHK7ThO1oriv+FQ+Cf+gTN/4Mbn/45R/wqHwT/wBAmb/wY3P/AMcoAu/E3/klHir/ALBF1/6KatvRv+QDYf8AXtH/AOgiuVl+DngaaF4pdHldHUqynULnBB7f6ylHwg8EKoC6RMABgAahc8f+RKAO2oriv+FQ+Cf+gTN/4Mbn/wCOUf8ACofBP/QJm/8ABjc//HKAO1rA8ef8k48Sf9gm6/8ARLVk/wDCofBP/QJm/wDBjc//ABymyfB3wPLG0cmjysjgqynULnkHt/rKAOh8Kf8AIm6L/wBeEH/ota1qhs7SDT7GCztE8u3t41iiTJO1VGAMnk8DvU1ABRRRQAUUUUAFFFFABXkf7SH/ACT3TP8AsMw/+i5a9crG8T+E9E8ZabFp/iSxF7axTCdIzK6YcAgHKkHox46c1MlzRaNaNT2VWNTs0/uPjaivqP8A4Ub8Of8AoW0/8C5//i6P+FG/Dn/oW0/8C5//AIuvO+ov+Y+0/wBa4/8APr8f+AfLlFfUf/Cjfhz/ANC2n/gXP/8AF0f8KN+HP/Qtp/4Fz/8AxdH1F/zB/rXH/n1+P/APnHwl/wAlD8Lf9hm1/wDRgr7NrgB8Dfh0HR18OBWRgyst5cAgjoeJKtf8Kh8E/wDQJm/8GNz/APHK7aNL2UeW58zmmOWPr+2UbaW7na0VxX/CofBP/QJm/wDBjc//AByj/hUPgn/oEzf+DG5/+OVseYdrXB/GD/kT7D/sN6f/AOlCVP8A8Kh8E/8AQJm/8GNz/wDHKwPHPwq8HWXgbVby20qVZ7a3aaJzfXDbXXkHBcjg01owNKirX/Cm/An/AEBX/wDA+4/+OUf8Kb8Cf9AV/wDwPuP/AI5XV9Y8jD2XmVaKtf8ACm/An/QFf/wPuP8A45R/wpvwJ/0BX/8AA+4/+OUfWPIPZeZxnxF/5FH/ALf7L/0pjrqanl+C3gGZNkuhsy5Bwb+46g5H/LSn/wDCm/An/QFf/wAD7j/45S+sa3sHstNyrRVr/hTfgT/oCv8A+B9x/wDHKP8AhTfgT/oCv/4H3H/xyn9Y8g9l5lWuZ+IX/Ik3P/Xe2/8ASiOuw/4U34E/6Ar/APgfcf8AxykPwZ8BtjdobHawYA31weQcj/lp6ilLEXVrDVKzvc7miiiuU2CiiigAooooAKKKKACiiigAooooAKKKKAOb+HH/ACSzwp/2BbP/ANEJXSVzfw4/5JZ4U/7Atn/6ISukoAKKKKACiiigAooooAKKKKACiiigAooooAKKKKACiiigAooooAKKKKACiiigAooooAKKKKACq2pf8gq7/wCuL/8AoJqzVbUv+QVd/wDXF/8A0E0AZvgr/kQfD/8A2DLb/wBFLW3WJ4K/5EHw/wD9gy2/9FLW3QAUUUUAFFFFABRRRQAUUUUAFFFFABRRRQAUUUUAFFFFABRRRQAUUUUAFFFFABRRRQAUUUUAFc38RP8AknGvf9eUn8q6Sub+In/JONe/68pP5UAdJRRRQAUUUUAFFFFABRRRQAUUUUAFFFFABRRRQAUUUUAFFFFABRRRQAUUUUAFFFFAHN/Dj/klnhT/ALAtn/6ISukrm/hx/wAks8Kf9gWz/wDRCV0lABRRRQAUUUUAFFFFABRRRQAUUUUAFFFFABRRRQAUUUUAFFFFABRRRQAUUUUAFFFFABRRRQAVW1L/AJBV3/1xf/0E1ZqtqX/IKu/+uL/+gmgDN8Ff8iD4f/7Blt/6KWtusTwV/wAiD4f/AOwZbf8Aopa26ACiiigAooooAKKKKACiiigAooooAKKKKACiiigAooooAKKKKACiiigAooooAKKKKACiiigArm/iJ/yTjXv+vKT+VdJXN/ET/knGvf8AXlJ/KgDpKKKKACiiigAooooAKKKKACiiigAooooAKKKKACiiigAooooAKKKKACiiigAooooA5v4cf8ks8Kf9gWz/APRCV0lc38OP+SWeFP8AsC2f/ohK6SgAooooAKKKKACiiigAooooAKKKKACiiigAooooAKKKKACiiigAooooAKKKKACiiigAooooAKral/yCrv8A64v/AOgmrNVtS/5BV3/1xf8A9BNAGb4K/wCRB8P/APYMtv8A0UtbdYngr/kQfD//AGDLb/0UtbdABRRRQAUUUUAFFFFABRRRQAUUUUAFFFFABRRRQAUUUUAFFFFABRRRQAUUUUAFFFFABRRRQAVzfxE/5Jxr3/XlJ/Kukrm/iJ/yTjXv+vKT+VAHSUUUUAFFFFABRRRQAUUUUAFFFFABRRRQAUUUUAFFFFABRRRQAUUUUAFFFFABRRRQBy1r8PNHsbOG0s7zXILeCNY4oo9cu1WNFGAoAk4AAxipf+EF07/oJeIP/B9ef/Ha6SigDm/+EF07/oJeIP8AwfXn/wAdo/4QXTv+gl4g/wDB9ef/AB2ukooA5v8A4QXTv+gl4g/8H15/8do/4QXTv+gl4g/8H15/8drpKKAOb/4QXTv+gl4g/wDB9ef/AB2j/hBdO/6CXiD/AMH15/8AHa6SigDm/wDhBdO/6CXiD/wfXn/x2j/hBdO/6CXiD/wfXn/x2ukooA5v/hBdO/6CXiD/AMH15/8AHaP+EF07/oJeIP8AwfXn/wAdrpKKAOb/AOEF07/oJeIP/B9ef/HaP+EF07/oJeIP/B9ef/Ha6SigDm/+EF07/oJeIP8AwfXn/wAdo/4QXTv+gl4g/wDB9ef/AB2ukooA5v8A4QXTv+gl4g/8H15/8do/4QXTv+gl4g/8H15/8drpKKAOb/4QXTv+gl4g/wDB9ef/AB2j/hBdO/6CXiD/AMH15/8AHa6SigDm/wDhBdO/6CXiD/wfXn/x2j/hBdO/6CXiD/wfXn/x2ukooA5v/hBdO/6CXiD/AMH15/8AHaP+EF07/oJeIP8AwfXn/wAdrpKKAOb/AOEF07/oJeIP/B9ef/HaP+EF07/oJeIP/B9ef/Ha6SigDm/+EF07/oJeIP8AwfXn/wAdo/4QXTv+gl4g/wDB9ef/AB2ukooA5v8A4QXTv+gl4g/8H15/8drkPit4fTw98Ldc1TSdX1+G7t4AY3bW7pwMuqnhpCDwTXqdcF8cP+SKeJP+vdf/AEYlAGpb/D7SbS1it7a+16OGFBHGia7dgKoGAABJgDFS/wDCC6d/0EvEH/g+vP8A47XSUUAc3/wgunf9BLxB/wCD68/+O0f8ILp3/QS8Qf8Ag+vP/jtdJRQBzf8Awgunf9BLxB/4Prz/AOO0f8ILp3/QS8Qf+D68/wDjtdJRQBzf/CC6d/0EvEH/AIPrz/47R/wgunf9BLxB/wCD68/+O10lFAHN/wDCC6d/0EvEH/g+vP8A47R/wgunf9BLxB/4Prz/AOO10lFAHN/8ILp3/QS8Qf8Ag+vP/jtH/CC6d/0EvEH/AIPrz/47XSUUAc3/AMILp3/QS8Qf+D68/wDjtH/CC6d/0EvEH/g+vP8A47XSUUAc3/wgunf9BLxB/wCD68/+O0f8ILp3/QS8Qf8Ag+vP/jtdJRQBzf8Awgunf9BLxB/4Prz/AOO0f8ILp3/QS8Qf+D68/wDjtdJRQBzf/CC6d/0EvEH/AIPrz/47R/wgunf9BLxB/wCD68/+O10lFAHN/wDCC6d/0EvEH/g+vP8A47R/wgunf9BLxB/4Prz/AOO10lFAHN/8ILp3/QS8Qf8Ag+vP/jtH/CC6d/0EvEH/AIPrz/47XSUUAc3/AMILp3/QS8Qf+D68/wDjtH/CC6d/0EvEH/g+vP8A47XSUUAc3/wgunf9BLxB/wCD68/+O0f8ILp3/QS8Qf8Ag+vP/jtdJRQBzf8Awgunf9BLxB/4Prz/AOO1HP8AD7R7q3eC7u9bnhkG14pdbu3Rx6FTJgj2NdRRQAUUUUAFFFFABRRRQAUUUUAFFFFABRRRQAUUUUAFFFFABRRRQAUUUUAFFFFABRRRQAUUUUAFFFFABRRRQAUUUUAFFFFABRRRQAUUUUAFFFFABRRRQAUUUUAFFFFABRRRQAUUUUAFFFFABXBfHD/kiniT/r3X/wBGJXe1wXxw/wCSKeJP+vdf/RiUAd7RRRQAUUUUAFFFFABRRRQAUUUUAFFFFABRRRQAUUUUAFFFFABRRRQAUUUUAFFFFABRRRQAUUUUAFFFFABRRRQAUUUUAFFFFABRRRQAUUUUAFFFFABRRRQAUUUUAFFFFABRRRQAUUUUAFFFFABRRRQAUUUUAFFFFABRRRQAUUUUAFFFFABRRRQAUUUUAFFFFABRRRQAUUUUAFFFFABRRRQAUUUUAFcF8cP+SKeJP+vdf/RiV3tcF8cP+SKeJP8Ar3X/ANGJQB3tFFFABRRRQAUUUUAFFFFABRRRQAUUUUAFFFFABRRRQAUUUUAFFFFABRRRQAUUUUAFFFFABRRRQAUUUUAFFFFABRRRQAUUUUAFFFFABRRRQAUUUUAFFFFABRRRQAUUUUAFFFFABRRRQAUUUUAFFFFABRRRQAUUUUAFFFFABRRRQAUUUUAFFFFABRXCfFS1S/tfDFjO86QXXiC3hmEE7ws6GOXK7kIOPxqb/hUnhL/nhqn/AIO7z/47QB2tFcV/wqTwl/zw1T/wd3n/AMdo/wCFSeEv+eGqf+Du8/8AjtAHa0VxX/CpPCX/ADw1T/wd3n/x2j/hUnhL/nhqn/g7vP8A47QB2tFcV/wqTwl/zw1T/wAHd5/8do/4VJ4S/wCeGqf+Du8/+O0AdrRXFf8ACpPCX/PDVP8Awd3n/wAdo/4VJ4S/54ap/wCDu8/+O0AdrRXFf8Kk8Jf88NU/8Hd5/wDHaP8AhUnhL/nhqn/g7vP/AI7QB2tFcV/wqTwl/wA8NU/8Hd5/8do/4VJ4S/54ap/4O7z/AOO0AdrXz5+1DpWu2+l2mt6ZquoppMwFnqNil04gzndG5jB288gnHUL3Nenf8Kk8Jf8APDVP/B3ef/Haiufg14Kvbdre8sb+4hf70cusXjK3OeQZcHmgDN+BGma9b/DuLVvFWrajqN7q5FxGt9dSTeTDj92BuJxuBLEjqGUHpXplcSvwi8IKoVbfUwoGABrV5x/5Fpf+FSeEv+eGqf8Ag7vP/jtAHa0VxX/CpPCX/PDVP/B3ef8Ax2j/AIVJ4S/54ap/4O7z/wCO0AdrRXFf8Kk8Jf8APDVP/B3ef/HaP+FSeEv+eGqf+Du8/wDjtAHa0VxX/CpPCX/PDVP/AAd3n/x2j/hUnhL/AJ4ap/4O7z/47QB2tFcV/wAKk8Jf88NU/wDB3ef/AB2j/hUnhL/nhqn/AIO7z/47QB2tFcV/wqTwl/zw1T/wd3n/AMdo/wCFSeEv+eGqf+Du8/8AjtAHa0VxX/CpPCX/ADw1T/wd3n/x2j/hUnhL/nhqn/g7vP8A47QB2tFeS/Eb4ceHdF+G2v6lpq6nFdWtlJJE51i7cKwH91pSD9CK9Wts/ZYskk7F5JyTxQBJRRRQAUUUUAFFFFABRRRQAUUUUAFFFFABRRRQAUUUUAFFFFABRRRQAUUUUAFFFFABRRRQAUUUUAFFFFABRRRQAUUUUAFFFFABRRRQAUUUUAFFFFABRRRQAUUUUAFFFFABRRRQAUUUUAcV8R/9f4P/AOxltf8A0CWu1riviP8A6/wf/wBjLa/+gS12tABRRRQAUUUUAFFFFABRRRQAUVg+ONG1HxD4J1LStFu1tL26jCRyu7IuNwLKWX5gGUFSRyA1eZa7e6PF8M/GmlQ+FD4Q1tNH8670tFQQuhBxLGYj5cgySpcANwAegAAPa6K8x8V6Dpfg2x0LX/CWn2uj38epWlvIlhEsC3sU0ixvFKqgBxhtwJBKlcjHOXeDtav9P1TxhDaeGdU1RD4iuGM9pLaqgPlxfLiWZGzx6Y560AemVljxPoJvpbMa3ppuoZUglg+1x745HO1EZc5DMeADyT0rmvhKJn+DOiC2ZIp2tX8tpU3qjb2wWUEZAPUAjPqOtcFo0epL8MPD0uoXVrPHL4zgMYhtWjcN/acgcuxkbfk8jhdo4JbrQB7tRXmviL4j3mj6tO9rc2V3ZWuow2VxbQaXdS7N8iI269BEKSDeCYypwflySRVrwjN4kn+JnjCG/wBZtrjT7O8gX7N9lkBUNaoyiImYiMcgt8p3HcflzgAHZ6nrWl6JFFLrOpWenxzOI43u51iDv/dBYjJ46Uia3pUoiMWp2biadraIrcIfMmXO6Mc8uNrZUcjB9K4jxLDq8nxu8LfZL6yihGn3rxpNZvIVAMAk5EqjcQQAcDbzkNnjFGpDU5/CsgsbOyEXja9gEdnD5atsW6XeRnl2xlj3JJoA9foryuD4n63qGNS0rTpbqxN8YE02LQb15XhWUxGQXgHkhuC+3aQANu7PNeqUAFFFFABRRRQAUUUUAFFFFAHH/Fv/AJJB4n/7B0v8q6u2/wCPSH/cX+Vcp8W/+SQeJ/8AsHS/yrq7b/j0h/3F/lQBLRRRQAUUUUAFFFFABRRRQAUUUUAFFFFABRRRQAUUUUAFFFFABRRRQAUUUUAFFFFABRRRQAUUUUAFFFFABRRRQAUUUUAFFFFABRRRQAUUUUAFFFFABRRRQAUUUUAFFFFABRRRQAUUUUAcV8R/9f4P/wCxltf/AECWu1riviP/AK/wf/2Mtr/6BLXa0AFFFFABRRRQAUUUUAFFFFAFPVNP/tOwa2F5dWTlldLi0k2SRspBBGQQRkcqwKkcEEHFc5c/Dmw1Cw1iHWNU1PUrrV7T7FPfTvEsscAyRHGEjWNRklvuZJPJPGOvooA5m38ExHUbG81rWdU1xtOfzLOK+MKxQSYx5myGOMOwHQvu25JXBOa0tF0C10KTU3tJJnOpXz303msDtkdVUhcAYXCDrk9ea1KKAMvw3oFr4X8O2ei6fJNJbWiFI2nYFyCSeSAB39Ky4vAOlw+HdP0ZZ7w22n6mNTiYuu9pRcNcYY7cbd7EYABx3zzXUUUAcXffDHT7/wC2QNrGsQ6dd341F9OiliEIuPMWQsCYy+C67ipYrkkgA4xs2/hmKz8W3mvWmoXsLX6p9rswYzBMyJsVzlC6kLgfKwBwMg1t0UAZd14ftbvxRp+vSSTC60+3mt4kVhsZZShYsMZz+7GMEd+tZdv4A0u2+w7Li8P2LV5tYjy68zS+ZuU/L9z962BweBye/UUUAcxY+B4dLu5P7M1vV7TTZLlro6VFLGIA7NuYKxTzVVnyxVZAMswxgkV09FFABRRRQAUUUUAFFFFABRRRQBx/xb/5JB4n/wCwdL/Kurtv+PSH/cX+Vcp8W/8AkkHif/sHS/yrq7b/AI9If9xf5UAS0UUUAFFFFABRRRQAUUUUAFFFFABRRRQAUUUUAFFFFABRRRQAUUUUAFFFFABRRRQAUUUUAFFFFABRRRQAUUUUAFFFFABRRRQAUUUUAFFFFABRRRQAUUUUAFFFFABRRRQAUUUUAFFFFAHkX7SKhvh3pmcjGswkFWII/dy9xXzt5X/TW4/7/v8A419FftH/APJO9N/7DMH/AKLlr55rzMZOUZqzPueGsPRrYebqQT16pPoR+V/01uP+/wC/+NHlf9Nbj/v+/wDjUlFcPtan8z+8+p+o4T/n1H/wFf5Eflf9Nbj/AL/v/jVvRbGG98WaFaXTTSwXGp28UqNO+GVnAI61BWh4b/5Hnw1/2F7X/wBGCrjUnf4mcGY4PDQwlSUacU7Poj6G/wCFWeDv+gS3/gZP/wDF0f8ACrPB3/QJb/wMn/8Ai666iuH21X+Z/efn/JHscj/wqzwd/wBAlv8AwMn/APi6P+FWeDv+gS3/AIGT/wDxdddRR7ar/M/vDkj2PKfH3w+8M6XodjNYac8Ukmq2ULH7VMco86Kw5fuDWz/wrPwn/wBAt/8AwMm/+Lq58Tv+Rc07/sNWH/pQlb9ehRqTdO7b3KhCN3ocp/wrPwn/ANAt/wDwMm/+Lo/4Vn4T/wCgW/8A4GTf/F11dFa+0n3NPZw7I5T/AIVn4T/6Bb/+Bk3/AMXXN+P/AAH4c0vwk1zY2DxTC8tEDfapTw1xGp6t6E16fXI/E7/kR3/6/rL/ANKoqulOTmk31IqwioNpdCp/wrrwv/0Dn/8AAub/AOLo/wCFdeF/+gc//gXN/wDF109FfT8kex87zPucx/wrrwv/ANA5/wDwLm/+Lo/4V14X/wCgc/8A4Fzf/F109FHJHsHM+55v478EaBpvg28urKykimR4QrfapTjMyA8FsdCa6H/hXXhf/oHP/wCBc3/xdN+JP/IgX3/XS3/9Hx11NLkjzbD5nbc5j/hXXhf/AKBz/wDgXN/8XR/wrrwv/wBA5/8AwLm/+Lrp6KfJHsLmfc5j/hXXhf8A6Bz/APgXN/8AF1z3jzwRoGm+BdUu7KykiniiBR/tUpx8wHQtivSK5b4lf8k31j/riP8A0NamUY8r0GpO+5f/AOFaeE/+gY//AIFzf/F0f8K08J/9Ax//AALm/wDi66qsrxLrR0DQ5b2O2a6nLxw29urYMssjhEXPYFmGT6Zr53mk+o7syv8AhWnhP/oGP/4Fzf8AxdH/AArTwn/0DH/8C5v/AIuqVxffEHSLOTVNQh0K/toUMs9jZrKkoQcny3YkMwHYgZxxiuxtLqK9soLq3bdFPGsiH1VhkfoablJdR3fc868feAPDWnfD7W7yz09o54bN3jY3UrYIHoWwa94tv+PSH/cX+VeVfEv/AJJj4h/68ZP5V6rbf8ekP+4v8q6aLbTua022iWiiitzQKKKKACiiigAooooAKKKKACiiigAooooAKKKKACiiigAooooAKKKKACiiigAooooAKKKKACiiigAooooAKKKKACiiigAooooAKKKKACiiigAooooAKKKKACiiigAooooAKKKKAPI/2j/+Sd6b/wBhmD/0XLXzzX0N+0f/AMk703/sMwf+i5a+ea8rHfGvQ/QOFv8Adp/4v0QUUUV559cFaHhv/kefDX/YXtf/AEYKz60PDf8AyPPhr/sL2v8A6MFXD4jz8z/3Kr6M+tKKKK4D83CiiigDjvid/wAi5p3/AGGrD/0oSt+sD4nf8i5p3/YasP8A0oSt+vRofwvm/wBBw3YUUUVsbBXI/E7/AJEd/wDr+sv/AEqirrq5H4nf8iO//X9Zf+lUVaUv4kfUyq/w5ehuUUUV9YfMhRRRQBy3xJ/5EC+/66W//o+OuprlviT/AMiBff8AXS3/APR8ddTU/aK6BRRRVEhXLfEr/km+sf8AXEf+hrXU1y3xK/5JvrH/AFxH/oa1E/hZUd0dzXOeO5IIvCrmaCeeQ3Vutslu6o/nmZPKIZgQvz7eSCMZro6wvGdnb3/ha5t7yy1C+hdk3QaawEzYYEYJIHBAPXtXzUdxrcy4vEY8RwtoOpWlxpV1eG4sbjyJ1cwSpGrkK+MHdG+4Nj8Aa6y2t4rO0htrdQkUKLGijsoGAPyrzLRI7PQtXbU4PB/ja6u2LHfeyRzYZgqswDT/AHiqqu7rgAV6Tp141/p8V09pcWbSDJguVCyJzjDAEj8iaclbYbMD4l/8kx8Q/wDXjJ/KvVbb/j0h/wBxf5V5V8S/+SY+If8Arxk/lXqtt/x6Q/7i/wAq6aGzNaexLRRRXQahRRRQAUUUUAFFFFABRRRQAUUUUAFFFFABRRRQAUUUUAFFFFABRRRQAUUUUAFFFFABRRRQAUUUUAFFFFABRRRQAUUUUAFFFFABRRRQAUUUUAFFFFABRRRQAUUUUAFFFFABRRRQB5H+0f8A8k703/sMwf8AouWvnmvoP9pTzP8AhXGm+Tt3f2zD9/OP9XLXzhjUvW1/Jq8zGRvNan3XDNXkw81yt69PQuUVTxqXra/k1GNS9bX8mrh5PNH1X1h/yS+7/glytDw3/wAjz4a/7C9r/wCjBWHjUvW1/Jqu6ENW/wCEu0H7M1l9o/tO38nzFfZv3jbuwc4z1xzVRhrujgzGvfB1FyPZ9D7DorkNvxJ/56+Ff+/Vz/8AFUbfiT/z18K/9+rn/wCKrh9n5o/PubyOvorkNvxJ/wCevhX/AL9XP/xVG34k/wDPXwr/AN+rn/4qj2fmg5vIb8Tv+Rc07/sNWH/pQlb9ec+P18djQ7H+05PDpi/tWy2fZ45w3meeuzOW+7nGe+OlbW34if8APXwx/wB+rj/4qvQoRtT36/5DhLV6HWUVye34if8APXwx/wB+rj/4qjb8RP8Anr4Y/wC/Vx/8VWvL5mvN5HWVyPxO/wCRHf8A6/rL/wBKoqdt+In/AD18Mf8Afq4/+KrmfiAvjf8A4RF/7Tk8Pm3+2Wmfs8c4fd9oj29TjG7GfbNaUo/vI69TOrL93LToegUVy23x/wD89fDf/fuf/wCKo2+P/wDnr4b/AO/c/wD8VX1HN5HztjqaK5bb4/8A+evhv/v3P/8AFUbfH/8Az18N/wDfuf8A+Ko5vILB8Sf+RAvv+ulv/wCj466mvNPHi+M/+EMvP7Rk0I22+Hd5EcwfPnJjGTjrjPtmui2+P/8Anr4b/wC/c/8A8VU83vbDtodTRXLbfH//AD18N/8Afuf/AOKo2+P/APnr4b/79z//ABVVzeQrHU1y3xK/5JvrH/XEf+hrRt8f/wDPXw3/AN+5/wD4qud8er4z/wCEF1T+0pNCNr5Q8wW8cwfG4dMnFTKXuvQaWp63WD40j1CXwvNHpT3McrzQrK9pnzlhMqiUx4/i2bsd/TnFb1cv8RLma18FXMsMt1EBNCJfsYbzmi81fMVCoJDFdwB9+o6183HdAtyvZeHD4d8YaeugnUTY3EM329bi6knhGANjZkY4ct6dRuz2rsK8/wDCf/CDf2/D/wAI9/av2/Y2z7T9v2Y285835Onr+FegU5bjZy/xL/5Jj4h/68ZP5V6rbf8AHpD/ALi/yryr4l/8kx8Q/wDXjJ/KvVbb/j0h/wBxf5V00Nma09iWiiiug1CiiigAooooAKKKKACiiigAooooAKKKKACiiigAooooAKKKKACiiigAooooAKKKKACiiigAooooAKKKKACiiigAooooAKKKKACiiigAooooAKKKKACiiigAooooAKKKKACiiigDyP8AaP8A+Sd6b/2GYP8A0XLXzzX0N+0f/wAk703/ALDMH/ouWvnmvKx3xr0P0Dhb/dp/4v0QUUUV559cFaHhv/kefDX/AGF7X/0YKz60PDf/ACPPhr/sL2v/AKMFXD4jz8z/ANyq+jPrSiiiuA/NwooooA474nf8i5p3/YasP/ShK36wPid/yLmnf9hqw/8AShK369Gh/C+b/QcN2FFFFbGwVyPxO/5Ed/8Ar+sv/SqKuurkfid/yI7/APX9Zf8ApVFWlL+JH1Mqv8OXoblFFFfWHzIUUUUAct8Sf+RAvv8Arpb/APo+OuprlviT/wAiBff9dLf/ANHx11NT9oroFFFFUSFct8Sv+Sb6x/1xH/oa11Nct8Sv+Sb6x/1xH/oa1E/hZUd0dzWH4wuobPwzPLcXuoWYLxoj6aFNwzs4VUQMCCWJA6d+1blc945gsp/CNyNU1T+ybeOSKX7YFBaJlkVlK5/i3AYxzmvmo7jW5y2k2sOrTW8C+MPGFrczNLH5Fy8CvHJHtLRtiIgNhgw5wRyDXoOnWbWGnxWsl3cXrRjBuLllMj89WKgD9BXlGi614Y0nxhbXl74tvtZnup5ZF32IijjmaJULsFQEkoiqAOBycck17BVTKkcv8S/+SY+If+vGT+Veq23/AB6Q/wC4v8q8q+Jf/JMfEP8A14yfyr1W2/49If8AcX+VdFDZmlPYloooroNQooooAKKKKACiiigAooooAKKKKACiiigAooooAKKKKACiiigAooooAKKKKACiiigAooooAKKKKACiiigAooooAKKKKACiiigAooooAKKKKACiiigAooooAKKKKACiiigAooooA8j/AGj/APknem/9hmD/ANFy18819DftH/8AJO9N/wCwzB/6Llr55rysd8a9D9A4W/3af+L9EFFFFeefXBWh4b/5Hnw1/wBhe1/9GCs+tDw3/wAjz4a/7C9r/wCjBVw+I8/M/wDcqvoz60ooorgPzcKKKKAOO+J3/Iuad/2GrD/0oSt+sD4nf8i5p3/YasP/AEoSt+vRofwvm/0HDdhRRRWxsFcj8Tv+RHf/AK/rL/0qirrq5H4nf8iO/wD1/WX/AKVRVpS/iR9TKr/Dl6G5RRRX1h8yFFFFAHLfEn/kQL7/AK6W/wD6Pjrqa5b4k/8AIgX3/XS3/wDR8ddTU/aK6BRRRVEhXLfEr/km+sf9cR/6GtdTXLfEr/km+sf9cR/6GtRP4WVHdHc1z/jW4htvDgkkslvpjd2y2kDSFFNwZkERLDkAOVJ9hXQVg+M7q0tfDExvrGTUFllhiitY5PLaWZpVEYD5G07yp3Z4xmvmo7jW5zmha7ql/wCMo7LxXZac9xZ3c9taXNg0i7JRBHIwKsTkFJSM+q9ORXoNcBoURsvH32nXvDY07UtWWR4LqHUTdRFgq712kKEYoi8gfNs68V39OW42cv8AEv8A5Jj4h/68ZP5V6rbf8ekP+4v8q8q+Jf8AyTHxD/14yfyr1W2/49If9xf5V00Nma09iWiiiug1CiiigAooooAKKKKACiiigAooooAKKKKACiiigAooooAKKKKACiiigAooooAKKKKACiiigAooooAKKKKACiiigAooooAKKKKACiiigAooooAKKKKACiiigAooooAKKKKACiiigDyD9pSVIfhxprSEgf2zD0BP/LOX0r5w/tW0/vv/AN+n/wAK+kv2j/8Aknem/wDYZg/9Fy18815mM5edXR91wyqrw8/ZyS16pvp6op/2raf33/79P/hR/atp/ff/AL9P/hVyiuG8Oz+//gH1XLif54/+Av8A+SKf9q2n99/+/T/4Vd0LWrG38XaDcyySCKDU7eWQiFyQquCSABk/Qc0laHhv/kefDX/YXtf/AEYKqLhfZ/f/AMA4MxjiPqdTmkrWf2X/APJH0L/wtTwj/wA/15/4K7r/AON0f8LU8I/8/wBef+Cu6/8AjddfRXDen2f3/wDAPz73u5yH/C1PCP8Az/Xn/gruv/jdH/C1PCP/AD/Xn/gruv8A43XX0UXp9n9//AD3u55P8QPiJ4a1LQ7GKzu7l3TVbKVg2n3CfKs6sxy0Y7Dp1Patr/hZ3hX/AJ/bv/wWXP8A8bq78Tv+Rc07/sNWH/pQlb9ehQcPZ6Lr3/4A4c13qcn/AMLO8K/8/t3/AOCy5/8AjdH/AAs7wr/z+3f/AILLn/43XWUVrePb+vuNbS7/ANfecn/ws7wr/wA/t3/4LLn/AON1zPxA8f8Ah3UvCL29ndXLSm8tHw1hcIMLcRseWQDoD9e1epVyPxO/5Ed/+v6y/wDSqKtKXL7SOnUzq83s5a9Cl/wsjwx/z+XX/guuf/jdH/CyPDH/AD+XX/guuf8A43XU0V9R73c+d0OW/wCFkeGP+fy6/wDBdc//ABuj/hZHhj/n8uv/AAXXP/xuupoo97uGh5p488d+H9R8GXlraXVw0rvCVDWM6DiZCeWQDoDXRf8ACyPDH/P5df8Aguuf/jdHxJ/5EC+/66W//o+Oupqfe5h6WOW/4WR4Y/5/Lr/wXXP/AMbo/wCFkeGP+fy6/wDBdc//ABuupoqve7i0OW/4WR4Y/wCfy6/8F1z/APG653x7478P6j4F1S0tLq4aaWIBA1jOgJ3A9WQAfia9LrlviV/yTfWP+uI/9DWplzcrGrXO5rL8R6IviPQZ9Lku5rRZip86ALvXawYEbgcHIHPUdRWpWN4rube08PTTXmtPocSsub2PblPmHHzAjnp07180twW5hP8AD+/l1KG/k8aa09zBG0cUjR252KxG7A8vAJ2jnrxXWaday2WnxW9xeTX0kYw1xOFDyc9TtAH5CvLYHttf8SaZFo3xPurySHzncAwh0XyzyoEWD756CvQ/CN7daj4T0+7v7qK8nljy1xCBtlGThuOMkYJxxnOKuSdtSncofEv/AJJj4h/68ZP5V6rbf8ekP+4v8q8q+Jf/ACTHxD/14yfyr1W2/wCPSH/cX+VdFDZmlPYloooroNQooooAKKKKACiiigAooooAKKKKACiiigAooooAKKKKACiiigAooooAKKKKACiiigAooooAKKKKACiiigAooooAKKKKACiiigAooooAKKKKACiiigAooooAKKKKACiiigAooooA8j/aP/5J3pv/AGGYP/RctfPNfQ37R/8AyTvTf+wzB/6Llr55rysd8a9D9A4W/wB2n/i/RBRRRXnn1wVoeG/+R58Nf9he1/8ARgrPrQ8N/wDI8+Gv+wva/wDowVcPiPPzP/cqvoz60ooorgPzcKKKKAOO+J3/ACLmnf8AYasP/ShK36wPid/yLmnf9hqw/wDShK369Gh/C+b/AEHDdhRRRWxsFcj8Tv8AkR3/AOv6y/8ASqKuurkfid/yI7/9f1l/6VRVpS/iR9TKr/Dl6G5RRRX1h8yFFFFAHLfEn/kQL7/rpb/+j466muW+JP8AyIF9/wBdLf8A9Hx11NT9oroFFFFUSFct8Sv+Sb6x/wBcR/6GtdTXLfEr/km+sf8AXEf+hrUT+FlR3R3NYni7VLvSPDzTab5a3U08FtFJKuUiMsqx72Hou7P4Vt1l+JFmfw/ciBdNY4BcaoCbfbn5t+PavmluNbnIeGNe1638aT6JrWrx6tH9rmtlJtkhkj8uCKXzPk42kyFcEddvPWvQlVUUKihVHAAGAK820OfV9S1W81Hw9N4Eu7+QAXNxaPI8jAcDcy844HtxXoOnfbv7Pi/tb7P9sx+9+zbvLzn+Hdz0x1qpDkYHxL/5Jj4h/wCvGT+Veq23/HpD/uL/ACryr4l/8kx8Q/8AXjJ/KvVbb/j0h/3F/lXRQ2ZrT2JaKKK6DUKKKKACiiigAooooAKKKKACiiigAooooAKKKKACiiigAooooAKKKKACiiigAooooAKKKKACiiigAooooAKKKKACiiigAooooAKKKKACiiigAooooAKKKKACiiigAooooAKKKKAPI/2j/wDknem/9hmD/wBFy18819DftH/8k703/sMwf+i5a+ea8rHfGvQ/QOFv92n/AIv0QUUUV559cFaHhv8A5Hnw1/2F7X/0YKz60PDf/I8+Gv8AsL2v/owVcPiPPzP/AHKr6M+tKKKK4D83CiiigDjvid/yLmnf9hqw/wDShK36wPid/wAi5p3/AGGrD/0oSt+vRofwvm/0HDdhRRRWxsFcj8Tv+RHf/r+sv/SqKuurkfid/wAiO/8A1/WX/pVFWlL+JH1Mqv8ADl6G5RRRX1h8yFFFFAHLfEn/AJEC+/66W/8A6Pjrqa5b4k/8iBff9dLf/wBHx11NT9oroFFFFUSFct8Sv+Sb6x/1xH/oa11Nct8Sv+Sb6x/1xH/oa1E/hZUd0dzXNeP7C41HwfPDZ2D6jMs8Eos1KgXASVWKNuIG0hcH27HpXS0V8ynZ3GeZy3Wqf8JZpmq2fw+1C0jsoJkkMTWyyS7woVDiQDYME89wMAc16Fp11Ne6fFcXNnNYyyDLW8xUvHz0O0ke/Bq1RTbuNu5y/wAS/wDkmPiH/rxk/lXqtt/x6Q/7i/yryr4l/wDJMfEP/XjJ/KvVbb/j0h/3F/lXVQ2ZrT2JaKKK6DUKKKKACiiigAooooAKKKKACiiigAooooAKKKKACiiigAooooAKKKKACiiigAooooAKKKKACiiigAooooAKKKKACiiigAooooAKKKKACiiigAooooAKKKKACiiigAooooAKKKKAMDxh4M0nxzo8Wm68s7W8NwtwvkTGNt4VlHI7YY1x3/DPfgb+5qn/AIMZP8a9QopOKe6NI1akFaMmjy//AIZ78Df3NU/8GMn+NH/DPfgb+5qn/gxk/wAa9Qopckexf1it/O/vZ5f/AMM9+Bv7mqf+DGT/ABpU/Z+8ExTRTQnVopYnWSORNSkDIwOQQc8H3616fRRyx7Cdeq1Zyf3nDf8ACqNK/wCg74o/8H1x/wDFUf8ACqNK/wCg74o/8H1x/wDFV3NFL2cOxlzM4b/hVGlf9B3xR/4Prj/4qj/hVGlf9B3xR/4Prj/4qu5oo9nDsHMzz+7+Deg30Sx3er+JJkSRZFWTWp3AZSCDgk8gjr1Hapf+FSaN/wBBrxP/AODy4/8Aiq7uinyxXQOZ9zhP+FSaN/0GvE//AIPLj/4qj/hUmjf9BrxP/wCDy4/+Kru6KfKuw+aXc4T/AIVJo3/Qa8T/APg8uP8A4qobv4MeH7638i71TxHNFvVykmszOCVYMOCSOoH07c16DRRyoXM+5wX/AAqDQ/8AoL+Jf/B3cf8AxVH/AAqDQ/8AoL+Jf/B3cf8AxVd7RVczJsjgv+FQaH/0F/Ev/g7uP/iqP+FQaH/0F/Ev/g7uP/iq72ijmYWR55dfBXw5e27QXepeIZomILJJrEzKcEEcE46gVN/wqDQ/+gv4l/8AB3cf/FV3tFHMwsjgv+FQaH/0F/Ev/g7uP/iqP+FQaH/0F/Ev/g7uP/iq72ijmYWRwX/CoND/AOgv4l/8Hdx/8VUN18FfDl9ayW13qXiGaGQYZJNYmZT9QSQfxr0Oii7CyOE/4VHo3/Qa8Tf+Dy4/+Ko/4VHo3/Qa8Tf+Dy4/+Kru6KnlQWRwn/Co9G/6DXib/wAHlx/8VR/wqPRv+g14m/8AB5cf/FV3dFHKgsjz67+DPh++s5bW61XxHLDMhR0k1md1YH1BJB/EV36II41ROFUADJzxTqKLJDCiiimAUUUUAFFFFABRRRQAUUUUAFFFFABRRRQAUUUUAFFFFABRRRQAUUUUAFFFFABRRRQB/9k=)"
      ]
    },
    {
      "cell_type": "markdown",
      "metadata": {
        "id": "M0FptUmJnURr"
      },
      "source": [
        "## American Community Survey (ACS)\n",
        "We will use ACS's API to access its data.\n",
        "\n",
        "It is important to note, the main SDH dataset should start with a column that includes all the geographical units of interest. We chose to start constructing VACCINe by incorporating ACS data since ACS provides data for **ALL** of FIPS codes. \n",
        "\n",
        "If you are not using ACS, you may obtain the list of geographical units of your area in a separate column in a dataframe as your starting point. Then you would be able to join additional datasets to this column. You can easily use ACS's API to generate the FIPS column.\n",
        "\n",
        "### API setup\n",
        "In order to use the API, you must acquire an API key. See address below:\n",
        "https://api.census.gov/data/key_signup.html\n",
        "\n",
        "To read the detailed API documentation, please visit the website below:\n",
        "https://github.com/datamade/census \n",
        "\n",
        "Demystifying the Census API webinar: https://www.census.gov/data/academy/webinars/2020/demystifying-the-census-api.html?utm_campaign=20200722mscacs2ccstars&utm_medium=email&utm_source=govdelivery"
      ]
    },
    {
      "cell_type": "code",
      "metadata": {
        "id": "_c5G6L1ynURs"
      },
      "source": [
        "c = Census(\"EnterYourUniqueKey\")"
      ],
      "execution_count": 7,
      "outputs": []
    },
    {
      "cell_type": "markdown",
      "metadata": {
        "id": "lClwK8dxnURv"
      },
      "source": [
        "### Organizing the variables of interest\n",
        "We create a dictionary from the variables we want to include in the dataset along with a human-readable name for each. Note that you can name these variables based on your preference. For example, we know `B27010_023E` corresponds to the number of 18 to 34 years olds who only have Medicaid. We chose to name this variable `18_34y__MedcaidOnly`, however, you have the flexibility to name this based on your liking. \n",
        "\n",
        "This step will be crucial to \"decode\" ambiguous variable names in our dataset and rename the column headers.\n",
        "\n",
        "To obtain a complete list of available variables please visit: https://www.census.gov/programs-surveys/acs/guidance/which-data-tool/table-ids-explained.html"
      ]
    },
    {
      "cell_type": "code",
      "metadata": {
        "id": "Taa8Zx-5nURv"
      },
      "source": [
        "dataHeadDict = {\n",
        "    \"NAME\" : \"Description\",\n",
        "    \"B99051_001E\":\"fbTotal\",\n",
        "    \"B99051_005E\" : \"foreignBorn\",\n",
        "    \n",
        "    \"B27010_033E\" : \"18_34y__NOinsurance\", \n",
        "    \"B27010_050E\" : \"35_64y__NOinsurance\",\n",
        "    \"B27010_018E\" : \"18_34y__total\",\n",
        "    \"B27010_034E\": \"35_64y__total\", \n",
        "    \"B27010_023E\" : \"18_34y__MedcaidOnly\", \n",
        "    \"B27010_039E\" : \"35_64y__MedcaidOnly\",\n",
        "    \"B27010_029E\" : \"18_34y__Medicare/Medicaid\",\n",
        "    \"B27010_046E\" : \"35_64y__Medicare/Medicaid\", \n",
        "    \n",
        "    \"B15003_001E\": \"totalPop_b\",\n",
        "    \"B15003_017E\" : \"high_school_diploma\", \n",
        "    \"B15003_018E\" : \"GED\", \n",
        "    \"B15003_002E\" : \"no_school\", \n",
        "    \"B15003_003E\" : \"nursery_school\", \n",
        "    \"B15003_004E\" : \"kindergarten\", \n",
        "    \"B15003_005E\" : \"grade1_school\", \n",
        "    \"B15003_006E\" : \"grade2_school\", \n",
        "    \"B15003_007E\" : \"grade3_school\",\n",
        "    \"B15003_008E\" : \"grade4_school\",\n",
        "    \"B15003_009E\" : \"grade5_school\",\n",
        "    \"B15003_010E\" : \"grade6_school\",\n",
        "    \"B15003_011E\" : \"grade7_school\",\n",
        "    \"B15003_012E\" : \"grade8_school\",\n",
        "    \"B15003_013E\" : \"grade9_school\",\n",
        "    \"B15003_014E\" : \"grade10_school\",\n",
        "    \"B15003_015E\" : \"grade11_school\",\n",
        "    \"B15003_016E\" : \"grade12_school_no_diploma\", \n",
        "    \n",
        "    \"B23025_005E\" : \"unemployed_labor_force_16up\", \n",
        "    \"B23025_002E\" : \"labor_force_16up\", \n",
        "    \n",
        "    \"B19113_001E\" : \"medianHouseIncome\", \n",
        "    \n",
        "    \"C17002_001E\" : \"totalPop_a\", \n",
        "    \"C17002_002E\" : \"estimateUnder_.50\",\n",
        "    \"C17002_003E\" : \"estimate_.50_.99\",\n",
        "    \n",
        "    \"B19083_001E\" : \"GINI\",\n",
        "    \"B01003_001E\" : \"totalPop\"\n",
        "}\n",
        "\n",
        "censusCodes = list(dataHeadDict.keys())"
      ],
      "execution_count": 9,
      "outputs": []
    },
    {
      "cell_type": "markdown",
      "metadata": {
        "id": "rsdynFvcnURx"
      },
      "source": [
        "All variables are taken from ACS 5 year estimate 2018 as listed above. `censusCodes` variable contains only the keys in `dataHeadDict` (i.e. the coded variable names)."
      ]
    },
    {
      "cell_type": "code",
      "metadata": {
        "id": "0w2UPKjTnURy"
      },
      "source": [
        "#ACS 5 year estimate 2018.\n",
        "acs5DataCT = c.acs5.get(censusCodes, geo = {'for': 'tract:*', 'in':'state:{}'.format(states.NY.fips)}, year =2018)\n",
        "dfCT = pd.DataFrame(data = acs5DataCT)\n",
        "\n",
        "#create census tract fips code \n",
        "dfCT['Census_Tract'] = dfCT['state'].map(str) + dfCT['county'].map(str) + dfCT['tract'].map(str)\n",
        "\n",
        "# include only NYC in dfCT\n",
        "dfCT = dfCT[(dfCT.county == '005')| (dfCT.county =='047')| (dfCT.county == '061') |(dfCT.county == '081')| (dfCT.county == '085')]"
      ],
      "execution_count": 10,
      "outputs": []
    },
    {
      "cell_type": "code",
      "metadata": {
        "id": "rZP8BqWvHzAA"
      },
      "source": [
        "data_table.DataTable(dfCT, include_index=False, num_rows_per_page=5)"
      ],
      "execution_count": null,
      "outputs": []
    },
    {
      "cell_type": "markdown",
      "metadata": {
        "id": "0jtugbYmnUR0"
      },
      "source": [
        "You are not only limited to variables you can pull from ACS dataset. You can combine them when appropriate to derive new variables. Below we are calculate the percentage for some of these variables based on the total population of each geographical area."
      ]
    },
    {
      "cell_type": "code",
      "metadata": {
        "id": "rxiRvAAEnUR0"
      },
      "source": [
        "dfCT['foriegnBornPercent'] = dfCT.B99051_005E / dfCT.B99051_001E *100\n",
        "dfCT['woInsurance18_64Percent'] = (dfCT.B27010_033E + dfCT.B27010_050E) / (dfCT.B27010_018E + dfCT.B27010_034E)  *100\n",
        "dfCT['medicaid18_64Percent'] = (dfCT.B27010_023E + dfCT.B27010_039E) / (dfCT.B27010_018E + dfCT.B27010_034E)  *100\n",
        "dfCT['medicaid_Medicare18_64Percent'] = (dfCT.B27010_029E + dfCT.B27010_046E) / (dfCT.B27010_018E + dfCT.B27010_034E)  *100\n",
        "dfCT['no_school_to_12_grade_no_diplomaPercent'] = (dfCT.B15003_002E + dfCT.B15003_003E + dfCT.B15003_004E +  dfCT.B15003_005E+ \\\n",
        "                                                dfCT.B15003_006E+  dfCT.B15003_007E+  dfCT.B15003_008E+  dfCT.B15003_009E+  \\\n",
        "                                               dfCT.B15003_010E+  dfCT.B15003_011E+  dfCT.B15003_012E+  dfCT.B15003_013E+  \\\n",
        "                                               dfCT.B15003_014E+  dfCT.B15003_015E+  dfCT.B15003_016E) / dfCT.B15003_001E  *100\n",
        "dfCT['highSchool_GEDPercent'] = (dfCT.B15003_017E + dfCT.B15003_018E) / dfCT.B15003_001E  *100\n",
        "dfCT['unemployedPercent'] = dfCT.B23025_005E / dfCT.B23025_002E *100\n",
        "\n",
        "dfCT['medianHouseIncome'] = dfCT.B19113_001E \n",
        "dfCT['belowPovertyPercent'] = (dfCT.C17002_002E + dfCT.C17002_003E) / dfCT.C17002_001E *100 \n",
        "dfCT['GINI'] = dfCT['B19083_001E'].apply(pd.to_numeric)\n",
        "dfCT['totalPopulation'] = dfCT.B01003_001E\n",
        "\n",
        "#remove original raw data \n",
        "dfCT = dfCT.drop(censusCodes, axis =1)\n",
        "dfCT = dfCT.drop(['county','state','tract'], axis =1)\n",
        "dfCT = dfCT.reset_index(drop = True)\n",
        "dfCT.rename(columns={dfCT.columns[0]:'FIPS'}, inplace=True)"
      ],
      "execution_count": 22,
      "outputs": []
    },
    {
      "cell_type": "code",
      "metadata": {
        "id": "c-7jhloiIXnB"
      },
      "source": [
        "data_table.DataTable(dfCT, include_index=False, num_rows_per_page=5)"
      ],
      "execution_count": null,
      "outputs": []
    },
    {
      "cell_type": "markdown",
      "metadata": {
        "id": "ukKDabNsnUR4"
      },
      "source": [
        "## Air quality - Environmental Protection Agency\n",
        "This data set has several useful variables. However, we are only using _Total Respiratory (hazard quotient)_.\n",
        "\n",
        "### Reading the dataset\n",
        "We access the dataset directly from EPA's website by reading the URL in pandas."
      ]
    },
    {
      "cell_type": "code",
      "metadata": {
        "id": "_92W95N5nUR5"
      },
      "source": [
        "url_epa = \"https://www.epa.gov/sites/production/files/2018-08/nata2014v2_national_resphi_by_tract_poll.xlsx\"\n",
        "epa_df = pd.read_excel(url_epa, sheet_name=0)"
      ],
      "execution_count": 24,
      "outputs": []
    },
    {
      "cell_type": "markdown",
      "metadata": {
        "id": "YGB-HlX1nUR7"
      },
      "source": [
        "### Exploring the dataset\n",
        "It's a good practice to explore the dataset at hand by looking at the column names (or data dictionary if available), some sample data."
      ]
    },
    {
      "cell_type": "code",
      "metadata": {
        "id": "TAzzLHaqnUR7",
        "outputId": "ea8e8799-924a-436f-d99b-313ea46c8b87",
        "colab": {
          "base_uri": "https://localhost:8080/"
        }
      },
      "source": [
        "epa_df.columns"
      ],
      "execution_count": 26,
      "outputs": [
        {
          "output_type": "execute_result",
          "data": {
            "text/plain": [
              "Index(['State', 'EPA Region', 'County', 'FIPS', 'Tract', 'Population',\n",
              "       'Total Respiratory (hazard quotient)', '1,2-EPOXYBUTANE',\n",
              "       '1,3-DICHLOROPROPENE', '2-CHLOROACETOPHENONE',\n",
              "       '2,4-TOLUENE DIISOCYANATE', '4,4'-METHYLENEDIPHENYL DIISOCYANATE (MDI)',\n",
              "       'ACETALDEHYDE', 'ACROLEIN', 'ACRYLIC ACID', 'ACRYLONITRILE',\n",
              "       'ANTIMONY COMPOUNDS', 'BERYLLIUM COMPOUNDS',\n",
              "       'BIS(2-ETHYLHEXYL)PHTHALATE (DEHP)', 'CHROMIUM VI (HEXAVALENT)',\n",
              "       'CHLORINE', 'CHLOROPRENE', 'COBALT COMPOUNDS', 'DIESEL PM',\n",
              "       'DIETHANOLAMINE', 'EPICHLOROHYDRIN',\n",
              "       'ETHYLENE DIBROMIDE (DIBROMOETHANE)', 'ETHYLENE GLYCOL', 'FORMALDEHYDE',\n",
              "       'HEXACHLOROCYCLOPENTADIENE', 'HEXAMETHYLENE DIISOCYANATE',\n",
              "       'HYDROCHLORIC ACID (HYDROGEN CHLORIDE [GAS ONLY])', 'MALEIC ANHYDRIDE',\n",
              "       'METHYL BROMIDE (BROMOMETHANE)', 'METHYL ISOCYANATE',\n",
              "       'METHYL METHACRYLATE', 'METHYLENE CHLORIDE', 'NICKEL COMPOUNDS',\n",
              "       'NAPHTHALENE', 'NITROBENZENE', 'PHOSGENE', 'PHTHALIC ANHYDRIDE',\n",
              "       'PROPIONALDEHYDE', 'PROPYLENE DICHLORIDE (1,2-DICHLOROPROPANE)',\n",
              "       'PROPYLENE OXIDE', 'STYRENE OXIDE', 'TITANIUM TETRACHLORIDE',\n",
              "       'TRIETHYLAMINE', 'VINYL ACETATE', '1,4-DIOXANE'],\n",
              "      dtype='object')"
            ]
          },
          "metadata": {
            "tags": []
          },
          "execution_count": 26
        }
      ]
    },
    {
      "cell_type": "code",
      "metadata": {
        "id": "ELJtRRVmnUR9"
      },
      "source": [
        "epa_df.sample(5)"
      ],
      "execution_count": null,
      "outputs": []
    },
    {
      "cell_type": "markdown",
      "metadata": {
        "id": "QjFYQK4lnUR_"
      },
      "source": [
        "### Preprocessing \n",
        "We can now start manipulating the original dataset using the predefined functions above.\n",
        "\n",
        "Keep in mind this dataset has data from all states in the US. To use the functions above, we must filter out all the other states and counties."
      ]
    },
    {
      "cell_type": "code",
      "metadata": {
        "id": "d-QteE6vnUSA"
      },
      "source": [
        "# Saving the names of the boroughs of NYC (as they appear in the dataset) in an array.\n",
        "FiveBoroughs = [\"Bronx\", \"Kings\", \"New York\", \"Queens\", \"Richmond\"]\n",
        "# Filtering out all the other states\n",
        "epa = epa_df.loc[epa_df.State == 'NY']\n",
        "# Filtering out all the counties except the five boroughs of NYC\n",
        "epa = epa[epa[\"County\"].isin(FiveBoroughs)]"
      ],
      "execution_count": 30,
      "outputs": []
    },
    {
      "cell_type": "markdown",
      "metadata": {
        "id": "GFMiolevnUSD"
      },
      "source": [
        "We should now determine the geographical units of the original dataset. We could either do this by manually looking at the dataset or using `fips_check` function we defined earlier. The results ensure us we do not have any FIPS code longer than 11 digits."
      ]
    },
    {
      "cell_type": "code",
      "metadata": {
        "id": "iCfhBEs4nUSD"
      },
      "source": [
        "fips_check(epa, 'Tract')"
      ],
      "execution_count": null,
      "outputs": []
    },
    {
      "cell_type": "markdown",
      "metadata": {
        "id": "bsBY5iv8nUSH"
      },
      "source": [
        "We can now use the `fips_11()` function and save it in a new dataframe. As described above, this function will ensures we only get the columns of interest in our final dataset. However, in this case we need to remove the previous geogrpahical unit column, `Tract`. `fips_11()` creates a column, _CT_ which serves as the new geographical unit column."
      ]
    },
    {
      "cell_type": "code",
      "metadata": {
        "id": "Mbm28nqanUSI"
      },
      "source": [
        "epa_11 = fips_11(epa, ['Tract', 'Total Respiratory (hazard quotient)'])\n",
        "epa_11.drop(columns='Tract', inplace=True)"
      ],
      "execution_count": 33,
      "outputs": []
    },
    {
      "cell_type": "markdown",
      "metadata": {
        "id": "xlp6w7MonUSL"
      },
      "source": [
        "## social Vulnerability Index (SVI)\n",
        "\n",
        "The SVI is developed by CDC (https://svi.cdc.gov/data-and-tools-download.html) to evaluate community risk to hazardous events.\" Several factors, including poverty, lack of access to transportation, and crowded housing may weaken a community’s ability to prevent human suffering and financial loss in a disaster. These factors are known as social vulnerability\" \n",
        "\n",
        "Centers for Disease Control and Prevention/ Agency for Toxic Substances and Disease Registry/ Geospatial Research, Analysis, and Services Program. Social Vulnerability Index 2016 Database New York. data-and-tools-download.html. Accessed on 2018.\n",
        "\n",
        "### Reading the dataset\n",
        "Similar to EPA's dataset, we read this dataset via direct URL from CDC's website."
      ]
    },
    {
      "cell_type": "code",
      "metadata": {
        "id": "Gr7lBT8ZnUSL"
      },
      "source": [
        "url_svi = \"https://svi.cdc.gov/Documents/Data/2016_SVI_Data/CSV/States/NewYork.csv\"\n",
        "svi_df = pd.read_csv(url_svi)"
      ],
      "execution_count": 34,
      "outputs": []
    },
    {
      "cell_type": "markdown",
      "metadata": {
        "id": "p6y0ziqUnUSO"
      },
      "source": [
        "### Preprocessing the dataset\n",
        "This dataset contains all counties in New York state. We only need the subset of the dataset for the 5 boroughs in NY."
      ]
    },
    {
      "cell_type": "code",
      "metadata": {
        "id": "ckBpOL20nUSP"
      },
      "source": [
        "FiveBoroughs = ['Bronx', 'Kings', 'New York', 'Queens', 'Richmond']\n",
        "svi = svi_df[svi_df['COUNTY'].isin(FiveBoroughs)]"
      ],
      "execution_count": 35,
      "outputs": []
    },
    {
      "cell_type": "markdown",
      "metadata": {
        "id": "LeTP4tK4nUSS"
      },
      "source": [
        "### Final step\n",
        "We are now ready to use our predefined functions to trim the columns and the FIPS codes. In this case, we are using the `fips_11` function which ensures we are extracting census tract level data."
      ]
    },
    {
      "cell_type": "code",
      "metadata": {
        "id": "mPRIHOADnUSS"
      },
      "source": [
        "svi_11 = fips_11(svi, ['FIPS', 'RPL_THEME1', 'RPL_THEME2', 'RPL_THEME3', 'RPL_THEME4', 'RPL_THEMES'])\n",
        "svi_11.drop(columns='FIPS', inplace=True)"
      ],
      "execution_count": 36,
      "outputs": []
    },
    {
      "cell_type": "markdown",
      "metadata": {
        "id": "drf5vbEAnUSV"
      },
      "source": [
        "## Food Access Research Atlas from Economic Research Service \n",
        "\n",
        "https://www.ers.usda.gov/data-products/food-access-research-atlas/ (Data is from 2015.  Data version downloaded was last updated 5/18/2017. Data was downloaded 2018).\n",
        "\n",
        "This is a measure of food access based on supermarket accessibility\n",
        "This is a binary variable of YES[1]/NO[0] low access to food.  (If an area has low food access, the value will be 1). \n",
        "\n",
        "### Reading the dataset\n",
        "\n",
        "Similar to other datasets, we will be reading the dataset via URL from USDA's website."
      ]
    },
    {
      "cell_type": "code",
      "metadata": {
        "id": "IKsbJdKTnUSW"
      },
      "source": [
        "url_food = \"https://www.ers.usda.gov/webdocs/DataFiles/80591/DataDownload2015.xlsx?v=0\"\n",
        "food_df = pd.read_excel(url_food, sheet_name='Food Access Research Atlas')"
      ],
      "execution_count": 37,
      "outputs": []
    },
    {
      "cell_type": "markdown",
      "metadata": {
        "id": "xHi68YNCnUSY"
      },
      "source": [
        "### Preprocessing\n",
        "This dataset also contains data elements for all states in the United States. We only want the five boroughs of NYC."
      ]
    },
    {
      "cell_type": "code",
      "metadata": {
        "id": "bd4KZ_zQnUSZ"
      },
      "source": [
        "FiveBoroughs = [\"Bronx\", \"Kings\", \"New York\", \"Queens\", \"Richmond\"]\n",
        "food = food_df.loc[food_df.State == \"New York\"]\n",
        "food = food[food[\"County\"].isin(FiveBoroughs)]"
      ],
      "execution_count": 38,
      "outputs": []
    },
    {
      "cell_type": "markdown",
      "metadata": {
        "id": "6GKHVXhInUSa"
      },
      "source": [
        "### Final step"
      ]
    },
    {
      "cell_type": "code",
      "metadata": {
        "id": "45_QPyE_nUSb"
      },
      "source": [
        "food_11 = fips_11(food, [\"CensusTract\", \"LAhalfand10\"])\n",
        "food_11.drop(columns='CensusTract', inplace=True)"
      ],
      "execution_count": 39,
      "outputs": []
    },
    {
      "cell_type": "markdown",
      "metadata": {
        "id": "hPmsZgPtnUSd"
      },
      "source": [
        "## NYC Open \n",
        "\n",
        "We used _NYC Open Data_ (https://opendata.cityofnewyork.us/), to access several datasets for many of the variables used in VACCINe.\n",
        "\n",
        "- Trees\n",
        "- Bus Stop \n",
        "- Subway Stops \n",
        "- Crime Data \n",
        "\n",
        "We downloaded a local copy of each dataset and converted pairs of latitude and longitude to FIPS code using the function defined above. We broke up the larger datasets into smaller subsets before conversion, to prevent potential API timeouts. In this walkthrough, we dedicate a section to using the `geo_to_fips` function. However, for the remainder of the walkthrough, we will use the already converted and local version of the datasets.\n",
        "\n",
        "\n",
        "## Trees\n",
        "\n",
        "This measure is a count of alive trees (according to NYC Open dataset) in each geographical area in 2015. \n",
        "\n",
        "https://data.cityofnewyork.us/Environment/2015-Street-Tree-Census-Tree-Data/uvpi-gqnh\n",
        "\n",
        "### Reading the dataset\n",
        "We have uploaded the converted dataset on our GitHub repository, however, you may download the original dataset from the link above."
      ]
    },
    {
      "cell_type": "code",
      "metadata": {
        "id": "rJTE2sJ_nUSe"
      },
      "source": [
        "url_tree = \"https://github.com/SajjadAbedian/SDH_variables/blob/master/treeLocation.zip?raw=true\"\n",
        "r = requests.get(url_tree)\n",
        "z = zipfile.ZipFile(io.BytesIO(r.content))\n",
        "z.extractall()\n",
        "tree_df = pd.read_csv(z.open('treeLocation.csv')) "
      ],
      "execution_count": 40,
      "outputs": []
    },
    {
      "cell_type": "code",
      "metadata": {
        "id": "pi55NvdqQHuM"
      },
      "source": [
        "data_table.DataTable(tree_df, include_index=False, num_rows_per_page=5)"
      ],
      "execution_count": null,
      "outputs": []
    },
    {
      "cell_type": "markdown",
      "metadata": {
        "id": "bM_JmATwnUSh"
      },
      "source": [
        "### Preprocessing\n",
        "This dataset is a subset of the original data. We only selected trees with the status of _alive_. At this step, we only need to find the count of trees in each geographical unit. We use the _Census_Tract_ column to aggregate the rows. "
      ]
    },
    {
      "cell_type": "code",
      "metadata": {
        "id": "gn-q7qkLnUSh"
      },
      "source": [
        "tree = fips_11(tree_df, ['fips', 'tree_id'])\n",
        "tree_11 = pd.value_counts(tree['CT']).to_frame('tree_count')\n",
        "tree_11['CT'] = tree_11.index"
      ],
      "execution_count": 43,
      "outputs": []
    },
    {
      "cell_type": "code",
      "metadata": {
        "id": "SQNmANklQmea"
      },
      "source": [
        "data_table.DataTable(tree_11, include_index=False, num_rows_per_page=5)"
      ],
      "execution_count": null,
      "outputs": []
    },
    {
      "cell_type": "markdown",
      "metadata": {
        "id": "TsoLhHFhnUSk"
      },
      "source": [
        "## Bus shelters\n",
        "\n",
        "This measure is not a count of subway lines but a binary YES[1]/NO[0] value. (Times square has multiple lines and more connected while some other borough stops will have only one subway line).\n",
        "\n",
        "### Source\n",
        "https://data.cityofnewyork.us/Transportation/Bus-Stop-Shelters/qafz-7myz \n",
        "The raw dataset has latitude and longitude coordinates along with a few other data points for each bus shelter in NYC.\n",
        "\n",
        "For our purpose, we need to create a binary indicator for each geographical unit to identify areas with or without bus shelters. Another way of manipulating the raw dataset would be to count the number of bus shelters in each area. (Please see Tree dataset).\n",
        "\n",
        "### Reading Raw Dataset\n",
        "**NOTE** We are also reading a preprocessed file called `bus_df` which has the latitude and longitude pairs converted to FIPS code using the `geo_to_fips()` function."
      ]
    },
    {
      "cell_type": "code",
      "metadata": {
        "id": "8ct-PtsbnUSl"
      },
      "source": [
        "url = \"https://raw.githubusercontent.com/SajjadAbedian/SDH_variables/master/bustopLocation.csv\"\n",
        "bus_df = pd.read_csv(url)"
      ],
      "execution_count": 48,
      "outputs": []
    },
    {
      "cell_type": "markdown",
      "metadata": {
        "id": "hynmd1UgnUSn"
      },
      "source": [
        "### Creating Binary Indicators\n",
        "In this step we first count the number of bus shelters in each geographical unit. As mentioned earlier, you could stop and use this data element as one of your variables."
      ]
    },
    {
      "cell_type": "code",
      "metadata": {
        "id": "xEMcB-iXnUSn"
      },
      "source": [
        "bus = fips_11(bus_df, ['FIPS', 'Location'])\n",
        "bus_11 = pd.value_counts(bus['CT']).to_frame('BusStopCount')"
      ],
      "execution_count": 49,
      "outputs": []
    },
    {
      "cell_type": "markdown",
      "metadata": {
        "id": "TnOUp-ZGnUSq"
      },
      "source": [
        "The next step is to flag the geographical units with at least one bus shelter with `1` and `0` for geographical units with no bus shelter."
      ]
    },
    {
      "cell_type": "code",
      "metadata": {
        "id": "PBAv14EOnUSq"
      },
      "source": [
        "bus_11['busStopYN'] = np.where(bus_11['BusStopCount'] > 0, 1, 0)\n",
        "bus_11['CT'] = bus_11.index"
      ],
      "execution_count": 50,
      "outputs": []
    },
    {
      "cell_type": "code",
      "metadata": {
        "id": "xe5Ogjy4RECy"
      },
      "source": [
        "data_table.DataTable(bus_11, include_index=False, num_rows_per_page=5)"
      ],
      "execution_count": null,
      "outputs": []
    },
    {
      "cell_type": "markdown",
      "metadata": {
        "id": "sH_GWLYAnUSs"
      },
      "source": [
        "## Subway Stations & Subway Entrances \n",
        "\n",
        "To accurately identify geographical units with ACCESS to a subway line we need to look at subway entrances as well as subway stations. We need to combine both variables with an OR logical operator. The subway entrance and subway location are in slightly different census tracts or census block groups.  This happens if there are some subways on the border of a geographical area.  \n",
        "\n",
        "For example, the central park has 6 subway stations but the surrounding census tracts do not appear to have subways.  The combination of the two data sets aims to better portray access to subway stations. We understand this to be a limitation of this variable, especially in smaller geographical areas.\n",
        "\n",
        "This measure is not a count of subway lines but a binary YES[1]/NO[0] value. (Times square has multiple lines and more connected while some other borough stops will have only one subway line).\n",
        "\n",
        "### Data Sources\n",
        "#### Subway Stations\n",
        "https://data.cityofnewyork.us/Transportation/Subway-Stations/arq3-7z49\n",
        "\n",
        "#### Subway Entrance\n",
        "https://data.cityofnewyork.us/Transportation/Subway-Entrances/drex-xx56 \n",
        "\n",
        "### Reading the dataset\n",
        "The raw datasets each have a row per subway line/entrance identified by latitude and longitude. Similar to other datasets, we are using a preprocessed dataset where we already converted the pair of latitudes and longitudes to FIPS codes."
      ]
    },
    {
      "cell_type": "code",
      "metadata": {
        "id": "FcK8mDyLnUSs"
      },
      "source": [
        "url_loc = \"https://raw.githubusercontent.com/SajjadAbedian/SDH_variables/master/subwayLocation.csv\"\n",
        "url_entrance = \"https://raw.githubusercontent.com/SajjadAbedian/SDH_variables/master/subwayEntrance.csv\"\n",
        "\n",
        "subloc_df = pd.read_csv(url_loc)\n",
        "subentrance_df = pd.read_csv(url_entrance)"
      ],
      "execution_count": 52,
      "outputs": []
    },
    {
      "cell_type": "markdown",
      "metadata": {
        "id": "mMrKvfTOnUSt"
      },
      "source": [
        "### Creating Binary Indicators\n",
        "In this step we first count the number of subway lines/entrances in each geographical unit."
      ]
    },
    {
      "cell_type": "code",
      "metadata": {
        "id": "rpQGVvvDnUSu"
      },
      "source": [
        "subloc = fips_11(subloc_df, ['FIPS', 'NAME'])\n",
        "subloc_11 = pd.value_counts(subloc['CT']).to_frame('SubwayCount')\n",
        "subloc_11['station_yn'] = np.where(subloc_11['SubwayCount'] > 0, 1, 0)\n",
        "subloc_11['CT'] = subloc_11.index\n",
        "\n",
        "subentrance = fips_11(subentrance_df, ['FIPS', 'NAME'])\n",
        "subentrance_11 = pd.value_counts(subentrance['CT']).to_frame('EntranceCount')\n",
        "subentrance_11['entrance_yn'] = np.where(subentrance_11['EntranceCount'] > 0, 1, 0)\n",
        "subentrance_11['CT'] = subentrance_11.index"
      ],
      "execution_count": 54,
      "outputs": []
    },
    {
      "cell_type": "markdown",
      "metadata": {
        "id": "rckqLRlXnUSv"
      },
      "source": [
        "### Combining the two variables\n",
        "In this step, we need to combine the two variables in one. In other words, we need to create a final binary indicator where we assign `1` when a geographical area has either a subway station or a subway entrance and `0` for a geographical area has neither. We then save the results in a new data frame `subway`. We will complete this task at the end once we join all variables together."
      ]
    },
    {
      "cell_type": "markdown",
      "metadata": {
        "id": "Y1QJrwz-nUSv"
      },
      "source": [
        "## Crime\n",
        "### Reading the original dataset\n",
        "This dataset contains all Felonies, Misdemeanors, and Violations. In order to speed up the processing time, we suggest breaking up the dataset based on the crime types. You can further speed up the process by only selecting a few columns for your dataset (i.e. Latitude, Longitude, and LAW_CAT_CD).]\n",
        "\n",
        "In this walkthrough, we briefly go over breaking up the dataset based on the crime type. However, due to the large size of the datasets, we will use a preprocessed dataset which contains converted latitudes and longitudes."
      ]
    },
    {
      "cell_type": "code",
      "metadata": {
        "id": "1KsvefkknUSw"
      },
      "source": [
        "# DO NOT RUN\n",
        "# Steps below detail breaking up the crime dataset to smaller subsets according to the crime type\n",
        "crime = pd.read_csv('NYPD_Complaint_Data_Historic.csv')\n",
        "crime_felony = crime[crime['LAW_CAT_CD'] == 'FELONY']\n",
        "crime_misdemeanor = crime[crime['LAW_CAT_CD'] == 'MISDEMEANOR']\n",
        "crime_violation = crime[crime['LAW_CAT_CD'] == 'VIOLATION']"
      ],
      "execution_count": null,
      "outputs": []
    },
    {
      "cell_type": "markdown",
      "metadata": {
        "id": "VPGivvRDnUSx"
      },
      "source": [
        "## Felony\n",
        "### Reading the dataset"
      ]
    },
    {
      "cell_type": "code",
      "metadata": {
        "id": "qB_bQTtFnUSy"
      },
      "source": [
        "url_felony = \"https://raw.githubusercontent.com/SajjadAbedian/SDH_variables/master/crimeLocationFelony.csv\"\n",
        "felony_df= pd.read_csv(url_felony)"
      ],
      "execution_count": 61,
      "outputs": []
    },
    {
      "cell_type": "markdown",
      "metadata": {
        "id": "PiDi-NXHnUSz"
      },
      "source": [
        "### Preprocessing\n",
        "Similar to the _tree_ dataset we need to get a count of felonies in each geographical unit."
      ]
    },
    {
      "cell_type": "code",
      "metadata": {
        "id": "svxpMInynUS0"
      },
      "source": [
        "felony = fips_11(felony_df, ['FIPS', 'LAW_CAT_CD'])\n",
        "felony_11 = pd.value_counts(felony['CT']).to_frame('felony_count')\n",
        "felony_11['felony_count'].fillna(0, inplace = True)\n",
        "felony_11['CT'] = felony_11.index"
      ],
      "execution_count": 62,
      "outputs": []
    },
    {
      "cell_type": "markdown",
      "metadata": {
        "id": "hfXDr0KBnUS1"
      },
      "source": [
        "## Violation\n",
        "### Reading the dataset"
      ]
    },
    {
      "cell_type": "code",
      "metadata": {
        "id": "KUyaFOsqnUS1"
      },
      "source": [
        "url_violation = \"https://raw.githubusercontent.com/SajjadAbedian/SDH_variables/master/crimeLocationViolation.csv\"\n",
        "violation_df= pd.read_csv(url_violation)"
      ],
      "execution_count": 56,
      "outputs": []
    },
    {
      "cell_type": "markdown",
      "metadata": {
        "id": "5xlD-w2NnUS3"
      },
      "source": [
        "### Preprocessing\n",
        "Similar to the _tree_ dataset we need to get a count of violations in each geographical unit."
      ]
    },
    {
      "cell_type": "code",
      "metadata": {
        "id": "bnJCmgyunUS3"
      },
      "source": [
        "violation = fips_11(violation_df, ['FIPS', 'LAW_CAT_CD'])\n",
        "violation_11 = pd.value_counts(violation['CT']).to_frame('violation_count')\n",
        "violation_11['violation_count'].fillna(0, inplace = True)\n",
        "violation_11['CT'] = violation_11.index"
      ],
      "execution_count": 57,
      "outputs": []
    },
    {
      "cell_type": "markdown",
      "metadata": {
        "id": "cLyqDvOCnUS7"
      },
      "source": [
        "## Misdemeanor\n",
        "### Reading the dataset"
      ]
    },
    {
      "cell_type": "code",
      "metadata": {
        "id": "MXvzDaoAnUS7"
      },
      "source": [
        "url_misdemeanor = \"https://raw.githubusercontent.com/SajjadAbedian/SDH_variables/master/crimeLocationMisdemeanor.csv\"\n",
        "misdemeanor_df= pd.read_csv(url_misdemeanor)"
      ],
      "execution_count": 58,
      "outputs": []
    },
    {
      "cell_type": "markdown",
      "metadata": {
        "id": "2OJBd00dnUS8"
      },
      "source": [
        "### Preprocessing\n",
        "Similar to the _tree_ dataset we need to get a count of misdemeanors in each geographical unit."
      ]
    },
    {
      "cell_type": "code",
      "metadata": {
        "id": "6HLrjhPgnUS9"
      },
      "source": [
        "misdemeanor = fips_11(misdemeanor_df, ['FIPS', 'LAW_CAT_CD'])\n",
        "misdemeanor_11 = pd.value_counts(misdemeanor['CT']).to_frame('misdemeanor_count')\n",
        "misdemeanor_11['misdemeanor_count'].fillna(0, inplace = True)\n",
        "misdemeanor_11['CT'] = misdemeanor_11.index"
      ],
      "execution_count": 59,
      "outputs": []
    },
    {
      "cell_type": "markdown",
      "metadata": {
        "id": "OARPMgA5nUS_"
      },
      "source": [
        "## Putting it all together\n",
        "We now have processed all datasets from different sources. We can now combine them all in one dataset. We start with the dataset that has **ALL** the FIPS code (in this case ACS, `dfCT`). "
      ]
    },
    {
      "cell_type": "markdown",
      "metadata": {
        "id": "VrSpHywfgRNd"
      },
      "source": [
        "![Processing_workflow.JPG](data:image/jpeg;base64,/9j/4AAQSkZJRgABAQEAeAB4AAD/4RCgRXhpZgAATU0AKgAAAAgABAE7AAIAAAAPAAAISodpAAQAAAABAAAIWpydAAEAAAAeAAAQeuocAAcAAAgMAAAAPgAAAAAc6gAAAAgAAAAAAAAAAAAAAAAAAAAAAAAAAAAAAAAAAAAAAAAAAAAAAAAAAAAAAAAAAAAAAAAAAAAAAAAAAAAAAAAAAAAAAAAAAAAAAAAAAAAAAAAAAAAAAAAAAAAAAAAAAAAAAAAAAAAAAAAAAAAAAAAAAAAAAAAAAAAAAAAAAAAAAAAAAAAAAAAAAAAAAAAAAAAAAAAAAAAAAAAAAAAAAAAAAAAAAAAAAAAAAAAAAAAAAAAAAAAAAAAAAAAAAAAAAAAAAAAAAAAAAAAAAAAAAAAAAAAAAAAAAAAAAAAAAAAAAAAAAAAAAAAAAAAAAAAAAAAAAAAAAAAAAAAAAAAAAAAAAAAAAAAAAAAAAAAAAAAAAAAAAAAAAAAAAAAAAAAAAAAAAAAAAAAAAAAAAAAAAAAAAAAAAAAAAAAAAAAAAAAAAAAAAAAAAAAAAAAAAAAAAAAAAAAAAAAAAAAAAAAAAAAAAAAAAAAAAAAAAAAAAAAAAAAAAAAAAAAAAAAAAAAAAAAAAAAAAAAAAAAAAAAAAAAAAAAAAAAAAAAAAAAAAAAAAAAAAAAAAAAAAAAAAAAAAAAAAAAAAAAAAAAAAAAAAAAAAAAAAAAAAAAAAAAAAAAAAAAAAAAAAAAAAAAAAAAAAAAAAAAAAAAAAAAAAAAAAAAAAAAAAAAAAAAAAAAAAAAAAAAAAAAAAAAAAAAAAAAAAAAAAAAAAAAAAAAAAAAAAAAAAAAAAAAAAAAAAAAAAAAAAAAAAAAAAAAAAAAAAAAAAAAAAAAAAAAAAAAAAAAAAAAAAAAAAAAAAAAAAAAAAAAAAAAAAAAAAAAAAAAAAAAAAAAAAAAAAAAAAAAAAAAAAAAAAAAAAAAAAAAAAAAAAAAAAAAAAAAAAAAAAAAAAAAAAAAAAAAAAAAAAAAAAAAAAAAAAAAAAAAAAAAAAAAAAAAAAAAAAAAAAAAAAAAAAAAAAAAAAAAAAAAAAAAAAAAAAAAAAAAAAAAAAAAAAAAAAAAAAAAAAAAAAAAAAAAAAAAAAAAAAAAAAAAAAAAAAAAAAAAAAAAAAAAAAAAAAAAAAAAAAAAAAAAAAAAAAAAAAAAAAAAAAAAAAAAAAAAAAAAAAAAAAAAAAAAAAAAAAAAAAAAAAAAAAAAAAAAAAAAAAAAAAAAAAAAAAAAAAAAAAAAAAAAAAAAAAAAAAAAAAAAAAAAAAAAAAAAAAAAAAAAAAAAAAAAAAAAAAAAAAAAAAAAAAAAAAAAAAAAAAAAAAAAAAAAAAAAAAAAAAAAAAAAAAAAAAAAAAAAAAAAAAAAAAAAAAAAAAAAAAAAAAAAAAAAAAAAAAAAAAAAAAAAAAAAAAAAAAAAAAAAAAAAAAAAAAAAAAAAAAAAAAAAAAAAAAAAAAAAAAAAAAAAAAAAAAAAAAAAAAAAAAAAAAAAAAAAAAAAAAAAAAAAAAAAAAAAAAAAAAAAAAAAAAAAAAAAAAAAAAAAAAAAAAAAAAAAAAAAAAAAAAAAAAAAAAAAAAAAAAAAAAAAAAAAAAAAAAAAAAAAAAAAAAAAAAAAAAAAAAAAAAAAAAAAAAAAAAAAAAAAAAAAAAAAAAAAAAAAAAAAAAAAAAAAAAAAAAAAAAAAAAAAAAAAAAAAAAAAAAAAAAAAAAAAAAAAAAAAAAAAAAAAAAAAAAAAAAAAAAAAAAAAAAAAAAAAAAAAAAAAAAAAAAAAAAAAAAAAAAAAAAAAAAAAAAAAAAAAAAAAAAAAAAAAAAAAAAAAAAAAAAAAAAAAAAAAAAAAAAAAAAAAAAAAAAAAAAAAAAAAAAAAAAAAAAAAAAAAAAAAAAAAAAAAAAAAAAAAAAAAAAAAAAAAAAAAAAAAAAAAAAAAAAAAAAAAAAAAAAAAAAAAAAAAAAAAAAAAAAAAAAAAAAAAAAAAAAAAAAAAAAAAAAAAAAAAAAAAAAAAAAAAAAAAAAAAAAAAAAAAAAAAAAAAAAAAAAAAAAAAAAAAAAAAAAAAAAAAAAAAAAAAAAAAAAAAAAAAAAAAAAAAAAAAAAAAAAAAAAAAAAAAAAAAAAAAAAAAAAAAAAAAAAAAAAAAAAAAAAAAAAAAAAAAAAAAAAAAAAAAAAAAAAAAAAAAAAAAAAAAAAAAAAAAAAAAAAAAAAAAAAAAAAAAAAAAAAAAAAAAAAAAAAAAAAAAAAAAAAAAAAAAAAAAAAAAAAAAAAAAAAAAAAAAAAAAAAAAAAAAAAAAAAAAAAAAAAAAAAAAAAAAAAAAAAAAAAAAAAAAAAAAAAAAAAAAAAAAAAAAAAAAAAAAAAAAAAAAAAAAAAAAAAAAAAAAAAAAAAAAAAAAAAAAAAAAAAAAAAAAAAAAAAAAAAAAAAAAAAAAAAAAAAAAAAAAAAAAAAAAAAAAAAAAAAAAAAAAAAAAAAAAAAAAAAAAAAAAAAAAAAAAAAAAAAAAAAAAAAAAAAAAAAAAAAAAAAAAAAAAAAAAAAAAAAAAAAAAAAAAAAAAAAAAAAAAAAAAAAAAAAAAAAAAAAAAAAAAAAAAAAAAAAAAAAAAAAAAAAAAAAAAAAAAAAAAAAAAAAAAAAAAAAAAAAAAAAAAAAAAAAAAAAAAAAAAAAAAAAAAAAAAAAAAAAAAAAAAAAAAAAAAAAAAAAAAAAAAAAAAAAAAAAAAAAAAAAAAAAAAAAAAAAAAAAAAAAAAAAAAAAAAAAAAAAAAAAAAAAAAAAAAAAAAAAAAAAAAAAAAAAAAAAAAAAAAAAAAAAAAAAAAAAAAAAAAAAFNhamphZCBBYmVkaWFuAAAAAeocAAcAAAgMAAAIbAAAAAAc6gAAAAgAAAAAAAAAAAAAAAAAAAAAAAAAAAAAAAAAAAAAAAAAAAAAAAAAAAAAAAAAAAAAAAAAAAAAAAAAAAAAAAAAAAAAAAAAAAAAAAAAAAAAAAAAAAAAAAAAAAAAAAAAAAAAAAAAAAAAAAAAAAAAAAAAAAAAAAAAAAAAAAAAAAAAAAAAAAAAAAAAAAAAAAAAAAAAAAAAAAAAAAAAAAAAAAAAAAAAAAAAAAAAAAAAAAAAAAAAAAAAAAAAAAAAAAAAAAAAAAAAAAAAAAAAAAAAAAAAAAAAAAAAAAAAAAAAAAAAAAAAAAAAAAAAAAAAAAAAAAAAAAAAAAAAAAAAAAAAAAAAAAAAAAAAAAAAAAAAAAAAAAAAAAAAAAAAAAAAAAAAAAAAAAAAAAAAAAAAAAAAAAAAAAAAAAAAAAAAAAAAAAAAAAAAAAAAAAAAAAAAAAAAAAAAAAAAAAAAAAAAAAAAAAAAAAAAAAAAAAAAAAAAAAAAAAAAAAAAAAAAAAAAAAAAAAAAAAAAAAAAAAAAAAAAAAAAAAAAAAAAAAAAAAAAAAAAAAAAAAAAAAAAAAAAAAAAAAAAAAAAAAAAAAAAAAAAAAAAAAAAAAAAAAAAAAAAAAAAAAAAAAAAAAAAAAAAAAAAAAAAAAAAAAAAAAAAAAAAAAAAAAAAAAAAAAAAAAAAAAAAAAAAAAAAAAAAAAAAAAAAAAAAAAAAAAAAAAAAAAAAAAAAAAAAAAAAAAAAAAAAAAAAAAAAAAAAAAAAAAAAAAAAAAAAAAAAAAAAAAAAAAAAAAAAAAAAAAAAAAAAAAAAAAAAAAAAAAAAAAAAAAAAAAAAAAAAAAAAAAAAAAAAAAAAAAAAAAAAAAAAAAAAAAAAAAAAAAAAAAAAAAAAAAAAAAAAAAAAAAAAAAAAAAAAAAAAAAAAAAAAAAAAAAAAAAAAAAAAAAAAAAAAAAAAAAAAAAAAAAAAAAAAAAAAAAAAAAAAAAAAAAAAAAAAAAAAAAAAAAAAAAAAAAAAAAAAAAAAAAAAAAAAAAAAAAAAAAAAAAAAAAAAAAAAAAAAAAAAAAAAAAAAAAAAAAAAAAAAAAAAAAAAAAAAAAAAAAAAAAAAAAAAAAAAAAAAAAAAAAAAAAAAAAAAAAAAAAAAAAAAAAAAAAAAAAAAAAAAAAAAAAAAAAAAAAAAAAAAAAAAAAAAAAAAAAAAAAAAAAAAAAAAAAAAAAAAAAAAAAAAAAAAAAAAAAAAAAAAAAAAAAAAAAAAAAAAAAAAAAAAAAAAAAAAAAAAAAAAAAAAAAAAAAAAAAAAAAAAAAAAAAAAAAAAAAAAAAAAAAAAAAAAAAAAAAAAAAAAAAAAAAAAAAAAAAAAAAAAAAAAAAAAAAAAAAAAAAAAAAAAAAAAAAAAAAAAAAAAAAAAAAAAAAAAAAAAAAAAAAAAAAAAAAAAAAAAAAAAAAAAAAAAAAAAAAAAAAAAAAAAAAAAAAAAAAAAAAAAAAAAAAAAAAAAAAAAAAAAAAAAAAAAAAAAAAAAAAAAAAAAAAAAAAAAAAAAAAAAAAAAAAAAAAAAAAAAAAAAAAAAAAAAAAAAAAAAAAAAAAAAAAAAAAAAAAAAAAAAAAAAAAAAAAAAAAAAAAAAAAAAAAAAAAAAAAAAAAAAAAAAAAAAAAAAAAAAAAAAAAAAAAAAAAAAAAAAAAAAAAAAAAAAAAAAAAAAAAAAAAAAAAAAAAAAAAAAAAAAAAAAAAAAAAAAAAAAAAAAAAAAAAAAAAAAAAAAAAAAAAAAAAAAAAAAAAAAAAAAAAAAAAAAAAAAAAAAAAAAAAAAAAAAAAAAAAAAAAAAAAAAAAAAAAAAAAAAAAAAAAAAAAAAAAAAAAAAAAAAAAAAAAAAAAAAAAAAAAAAAAAAAAAAAAAAAAAAAAAAAAAAAAAAAAAAAAAAAAAAAAAAAAAAAAAAAAAAAAAAAAAAAAAAAAAAAAAAAAAAAAAAAAAAAAAAAAAAAAAAAAAAAAAAAAAAAAAAAAAAAAAAAAAAAAAAAAAAAAAAAAAAAAAAAAAAAAAAAAAAAAAAAAAAAAAAAAAAAAAAAAAAAAAAAAAAAAAAAAAAAAAAAAAAAAAAAAAAAAAAAAAAAAAAAAAAAAAAAAAAAAAAAAAAAAAAAAAAAAAAAAAAAAAAAAAAAAAAAAAAAAAAAAAAAAAAAAAAAAAAAAAAAAAAAAAAAAAAAAAAAAAAAAAAAAAAAAAAAAAAAAAAAAAAAAAAAAAAAAAAAAAAAAAAAAAAAAAAAAAAAAAAAAAAAAAAAAAAAAAAAAAAAAAAAAAAAAAAAAAAAAAAAAAAAAAAAAAAAAAAAAAAAAAAAAAAAAAAAAAAAAAAAAAAAAAAAAAAAAAAAAAAAAAAAAAAAAAAAAAAAAAAAAAAAAAAAAAAAAAAAAAAAAAAAAAAAAAAAAAAAAAAAAAAAAAAAAAAAAAAAAAAAAAAAAAAAAAAAAAAAAAAAAAAAAAAAAAAAAAAAAAAAAAAAAAAAAAAAAAAAAAAAAAAAAAAAAAAAAAAAAAAAAAAAAAAAAAAAAAAAAAAAAAAAAAAAAAAAAAAAAAAAAAAAAAAAAAAAAAAAAAAAAAAAAAAAAAAAAAAAAAAAAAAAAAAAAAAAAAAAAAAAAAAAAAAAAAAAAAAAAAAAAAAAAAAAAAAAAAAAAAAAAAAAAAAAAAAAAAAAAAAAAAAAAAAAAAAAAAAAAAAAAAAAAAAAAAAAAAAAAAAAAAAAAAAAAAAAAAAAAAAAAAAUwBhAGoAagBhAGQAIABBAGIAZQBkAGkAYQBuAAAA/+EKZ2h0dHA6Ly9ucy5hZG9iZS5jb20veGFwLzEuMC8APD94cGFja2V0IGJlZ2luPSfvu78nIGlkPSdXNU0wTXBDZWhpSHpyZVN6TlRjemtjOWQnPz4NCjx4OnhtcG1ldGEgeG1sbnM6eD0iYWRvYmU6bnM6bWV0YS8iPjxyZGY6UkRGIHhtbG5zOnJkZj0iaHR0cDovL3d3dy53My5vcmcvMTk5OS8wMi8yMi1yZGYtc3ludGF4LW5zIyI+PHJkZjpEZXNjcmlwdGlvbiByZGY6YWJvdXQ9InV1aWQ6ZmFmNWJkZDUtYmEzZC0xMWRhLWFkMzEtZDMzZDc1MTgyZjFiIiB4bWxuczpkYz0iaHR0cDovL3B1cmwub3JnL2RjL2VsZW1lbnRzLzEuMS8iLz48cmRmOkRlc2NyaXB0aW9uIHJkZjphYm91dD0idXVpZDpmYWY1YmRkNS1iYTNkLTExZGEtYWQzMS1kMzNkNzUxODJmMWIiIHhtbG5zOmRjPSJodHRwOi8vcHVybC5vcmcvZGMvZWxlbWVudHMvMS4xLyI+PGRjOmNyZWF0b3I+PHJkZjpTZXEgeG1sbnM6cmRmPSJodHRwOi8vd3d3LnczLm9yZy8xOTk5LzAyLzIyLXJkZi1zeW50YXgtbnMjIj48cmRmOmxpPlNhamphZCBBYmVkaWFuPC9yZGY6bGk+PC9yZGY6U2VxPg0KCQkJPC9kYzpjcmVhdG9yPjwvcmRmOkRlc2NyaXB0aW9uPjwvcmRmOlJERj48L3g6eG1wbWV0YT4NCiAgICAgICAgICAgICAgICAgICAgICAgICAgICAgICAgICAgICAgICAgICAgICAgICAgICAgICAgICAgICAgICAgICAgICAgICAgICAgICAgICAgICAgICAgICAgICAgICAgICAKICAgICAgICAgICAgICAgICAgICAgICAgICAgICAgICAgICAgICAgICAgICAgICAgICAgICAgICAgICAgICAgICAgICAgICAgICAgICAgICAgICAgICAgICAgICAgICAgICAgIAogICAgICAgICAgICAgICAgICAgICAgICAgICAgICAgICAgICAgICAgICAgICAgICAgICAgICAgICAgICAgICAgICAgICAgICAgICAgICAgICAgICAgICAgICAgICAgICAgICAgCiAgICAgICAgICAgICAgICAgICAgICAgICAgICAgICAgICAgICAgICAgICAgICAgICAgICAgICAgICAgICAgICAgICAgICAgICAgICAgICAgICAgICAgICAgICAgICAgICAgICAKICAgICAgICAgICAgICAgICAgICAgICAgICAgICAgICAgICAgICAgICAgICAgICAgICAgICAgICAgICAgICAgICAgICAgICAgICAgICAgICAgICAgICAgICAgICAgICAgICAgIAogICAgICAgICAgICAgICAgICAgICAgICAgICAgICAgICAgICAgICAgICAgICAgICAgICAgICAgICAgICAgICAgICAgICAgICAgICAgICAgICAgICAgICAgICAgICAgICAgICAgCiAgICAgICAgICAgICAgICAgICAgICAgICAgICAgICAgICAgICAgICAgICAgICAgICAgICAgICAgICAgICAgICAgICAgICAgICAgICAgICAgICAgICAgICAgICAgICAgICAgICAKICAgICAgICAgICAgICAgICAgICAgICAgICAgICAgICAgICAgICAgICAgICAgICAgICAgICAgICAgICAgICAgICAgICAgICAgICAgICAgICAgICAgICAgICAgICAgICAgICAgIAogICAgICAgICAgICAgICAgICAgICAgICAgICAgICAgICAgICAgICAgICAgICAgICAgICAgICAgICAgICAgICAgICAgICAgICAgICAgICAgICAgICAgICAgICAgICAgICAgICAgCiAgICAgICAgICAgICAgICAgICAgICAgICAgICAgICAgICAgICAgICAgICAgICAgICAgICAgICAgICAgICAgICAgICAgICAgICAgICAgICAgICAgICAgICAgICAgICAgICAgICAKICAgICAgICAgICAgICAgICAgICAgICAgICAgICAgICAgICAgICAgICAgICAgICAgICAgICAgICAgICAgICAgICAgICAgICAgICAgICAgICAgICAgICAgICAgICAgICAgICAgIAogICAgICAgICAgICAgICAgICAgICAgICAgICAgICAgICAgICAgICAgICAgICAgICAgICAgICAgICAgICAgICAgICAgICAgICAgICAgICAgICAgICAgICAgICAgICAgICAgICAgCiAgICAgICAgICAgICAgICAgICAgICAgICAgICAgICAgICAgICAgICAgICAgICAgICAgICAgICAgICAgICAgICAgICAgICAgICAgICAgICAgICAgICAgICAgICAgICAgICAgICAKICAgICAgICAgICAgICAgICAgICAgICAgICAgICAgICAgICAgICAgICAgICAgICAgICAgICAgICAgICAgICAgICAgICAgICAgICAgICAgICAgICAgICAgICAgICAgICAgICAgIAogICAgICAgICAgICAgICAgICAgICAgICAgICAgICAgICAgICAgICAgICAgICAgICAgICAgICAgICAgICAgICAgICAgICAgICAgICAgICAgICAgICAgICAgICAgICAgICAgICAgCiAgICAgICAgICAgICAgICAgICAgICAgICAgICAgICAgICAgICAgICAgICAgICAgICAgICAgICAgICAgICAgICAgICAgICAgICAgICAgICAgICAgICAgICAgICAgICAgICAgICAKICAgICAgICAgICAgICAgICAgICAgICAgICAgICAgICAgICAgICAgICAgICAgICAgICAgICAgICAgICAgICAgICAgICAgICAgICAgICAgICAgICAgICAgICAgICAgICAgICAgIAogICAgICAgICAgICAgICAgICAgICAgICAgICAgICAgICAgICAgICAgICAgICAgICAgICAgICAgICAgICAgICAgICAgICAgICAgICAgICAgICAgICAgICAgICAgICAgICAgICAgCiAgICAgICAgICAgICAgICAgICAgICAgICAgICAgICAgICAgICAgICAgICAgICAgICAgICAgICAgICAgICAgICAgICAgICAgICAgICAgICAgICAgICAgICAgICAgICAgICAgICAKICAgICAgICAgICAgICAgICAgICAgICAgICAgICAgICAgICAgICAgICAgICAgICAgICAgICAgICAgICAgICAgICAgICAgICAgICAgICAgICAgICAgICAgICAgICAgICAgICAgIAogICAgICAgICAgICAgICAgICAgICAgICAgICAgPD94cGFja2V0IGVuZD0ndyc/Pv/bAEMABwUFBgUEBwYFBggHBwgKEQsKCQkKFQ8QDBEYFRoZGBUYFxseJyEbHSUdFxgiLiIlKCkrLCsaIC8zLyoyJyorKv/bAEMBBwgICgkKFAsLFCocGBwqKioqKioqKioqKioqKioqKioqKioqKioqKioqKioqKioqKioqKioqKioqKioqKioqKv/AABEIA64CnwMBIgACEQEDEQH/xAAfAAABBQEBAQEBAQAAAAAAAAAAAQIDBAUGBwgJCgv/xAC1EAACAQMDAgQDBQUEBAAAAX0BAgMABBEFEiExQQYTUWEHInEUMoGRoQgjQrHBFVLR8CQzYnKCCQoWFxgZGiUmJygpKjQ1Njc4OTpDREVGR0hJSlNUVVZXWFlaY2RlZmdoaWpzdHV2d3h5eoOEhYaHiImKkpOUlZaXmJmaoqOkpaanqKmqsrO0tba3uLm6wsPExcbHyMnK0tPU1dbX2Nna4eLj5OXm5+jp6vHy8/T19vf4+fr/xAAfAQADAQEBAQEBAQEBAAAAAAAAAQIDBAUGBwgJCgv/xAC1EQACAQIEBAMEBwUEBAABAncAAQIDEQQFITEGEkFRB2FxEyIygQgUQpGhscEJIzNS8BVictEKFiQ04SXxFxgZGiYnKCkqNTY3ODk6Q0RFRkdISUpTVFVWV1hZWmNkZWZnaGlqc3R1dnd4eXqCg4SFhoeIiYqSk5SVlpeYmZqio6Slpqeoqaqys7S1tre4ubrCw8TFxsfIycrS09TV1tfY2dri4+Tl5ufo6ery8/T19vf4+fr/2gAMAwEAAhEDEQA/APpGiiuc+IGv3vhfwFqutaWlu93ZxB41uUZoydwByFIPQnvQB0dFcV5HxR/6CPhH/wAALr/49R5HxR/6CPhH/wAALr/49QB2tFcV5HxR/wCgj4R/8ALr/wCPUeR8Uf8AoI+Ef/AC6/8Aj1AHa0VxXkfFH/oI+Ef/AAAuv/j1HkfFH/oI+Ef/AAAuv/j1AHa0VxXkfFH/AKCPhH/wAuv/AI9R5HxR/wCgj4R/8ALr/wCPUAdrRXFeR8Uf+gj4R/8AAC6/+PUeR8Uf+gj4R/8AAC6/+PUAdrRXFeR8Uf8AoI+Ef/AC6/8Aj1HkfFH/AKCPhH/wAuv/AI9QB2tFcV5HxR/6CPhH/wAALr/49R5HxR/6CPhH/wAALr/49QB2tFcV5HxR/wCgj4R/8ALr/wCPUeR8Uf8AoI+Ef/AC6/8Aj1AHa0VxXkfFH/oI+Ef/AAAuv/j1HkfFH/oI+Ef/AAAuv/j1AHa0VxXkfFH/AKCPhH/wAuv/AI9VbUpvifpulXd8994RdbaB5iosLnLBVJx/rvagDvqKyvC+pz614P0fVLxY1uL6wguZViBCB3jViFBJOMnjJNatABRRRQAUUUUAFFFFABRRXK+P9e1fQdK01vDwsvtl9qlvYg30bvGolYrnCMp4OD19aAOqorivI+KP/QR8I/8AgBdf/HqPI+KP/QR8I/8AgBdf/HqAO1orivI+KP8A0EfCP/gBdf8Ax6jyPij/ANBHwj/4AXX/AMeoA7WiuK8j4o/9BHwj/wCAF1/8eo8j4o/9BHwj/wCAF1/8eoA7WiuK8j4o/wDQR8I/+AF1/wDHqPI+KP8A0EfCP/gBdf8Ax6gDtaK4ryPij/0EfCP/AIAXX/x6jyPij/0EfCP/AIAXX/x6gDtaK4ryPij/ANBHwj/4AXX/AMeo8j4o/wDQR8I/+AF1/wDHqAO1orivI+KP/QR8I/8AgBdf/HqPI+KP/QR8I/8AgBdf/HqAO1orivI+KP8A0EfCP/gBdf8Ax6jyPij/ANBHwj/4AXX/AMeoA7WiuK8j4o/9BHwj/wCAF1/8eo8j4o/9BHwj/wCAF1/8eoA7WiuK8j4o/wDQR8I/+AF1/wDHqyPFes/Ezwr4WvtbuLrwncR2aB2iSxuQWywHBM3vQB6ZRRRQAUUUUAFFFFABRRRQAUUVx/jTXfEOn6/4d0jwudMSbVpLhHk1GGSRUEcXmDGx1PYjv1FAHYUVxXkfFH/oI+Ef/AC6/wDj1HkfFH/oI+Ef/AC6/wDj1AHa0VxXkfFH/oI+Ef8AwAuv/j1HkfFH/oI+Ef8AwAuv/j1AHa0VxXkfFH/oI+Ef/AC6/wDj1HkfFH/oI+Ef/AC6/wDj1AHa0VxXkfFH/oI+Ef8AwAuv/j1HkfFH/oI+Ef8AwAuv/j1AHa0VxXkfFH/oI+Ef/AC6/wDj1HkfFH/oI+Ef/AC6/wDj1AHa0VxXkfFH/oI+Ef8AwAuv/j1HkfFH/oI+Ef8AwAuv/j1AHa0VxXkfFH/oI+Ef/AC6/wDj1HkfFH/oI+Ef/AC6/wDj1AHa0VxXkfFH/oI+Ef8AwAuv/j1HkfFH/oI+Ef8AwAuv/j1AHa0VxXkfFH/oI+Ef/AC6/wDj1HkfFH/oI+Ef/AC6/wDj1AHa0VxXkfFH/oI+Ef8AwAuv/j1Z2qa18QvDt3o0mr3Hhm4s77VbaxlW1s7hJAsr7SVLSkZAz1BoA9GooooAK4r4w/8AJIvEH/Xuv/oa12tcV8Yf+SReIP8Ar3X/ANDWgDtaKKKACiiigAooooAKKrahazXthJb21/cafK+NtzbLGZEwQeBIrLzjHKng9jzXA+F7rXHuvEd3qfiXW9Si0TWHsobKG0tCblBFEyhgkAbJaQ8hlAABOACaAPR6K888X+M5LnwH4wtobXU9B1nTdKa5Ec7xrKqur7JEeGR16ow4bII6dK1dN8axXMtnpt5puqadNfWryWNxexoq3exQW24cujYO7bIqNjPHBoA66ivO/BHjGSH4d+E4Z4dR17Wr/TRcGGB0eZkUAPK7yuqgZZRlmySeAcHHY+H9ftPEelm8slmiKSvBPBOoWSCVDteNwCRkEY4JB6gkc0AadFeba14y1az8eC8t7tV8L6dqFvpGoQ+Sp3zzISZfMxkBGkt1wDjl89q9JoAKKKKACiiigArK8U/8ifrP/XhP/wCi2rVrK8U/8ifrP/XhP/6LagCp4B/5Jr4Z/wCwRa/+iVroK5/wD/yTXwz/ANgi1/8ARK10FABRRRQAUUUUAFFFFABXFfEz/j18M/8AYy6f/wCja7WuK+Jn/Hr4Z/7GXT//AEbQB2tFFFABRRRQAUUUUAFFU9UsbjULPybTVLvS5Nwbz7RYmfH93EqOuPwzx1rhfBWo63LoU+t6rreta28OoXdnHp0NraATbJ3iTJWJCpwoJYuqg8nAoA9Gorzbxv40e4+HviB7OLU9F1PSrm0juIXKiaMPLEwKtC7hgyMR8rE9QR2rS1jxqLjSNc05rDVNE1FdGuL2zN2EQzoqkF4zG7FSpKEq21xuXjrgA7eiuM0fxeYdB0OxhsNR13VpNIt7u4itWi3ojIAJJHmkRcswbA3FjgnGATXR6Drll4k0O21bS2dra4UlRIhRlIJVlZT0ZWBUj1BoA0KK8U8KePdRvrXwlNF41XWtZ1S/EF/oZW0PlxHfvcLFGskexV35ZiOMY5Fe10AFFFFABRRRQAVxXxh/5JF4g/691/8AQ1rta4r4w/8AJIvEH/Xuv/oa0AdrRRRQAUUUUAFFFFABRRRQAVxXiv8A5Kf4C/6733/pK1drXFeK/wDkp/gL/rvff+krUAdrRRRQAUUUUAFFFFABRWZrlhd31oDY61faS0QZi1mkDGTjofNjcY+mK47wPrGtt4F0XxFql9rfiS81W1Rv7PgtrRERyNxYMEjCAAH78mDnAyxAoA9EorzbxV42+06Jomoaemp2TweJobK+s1U+eCpYPCVjZg4PynClgQRSeOPG0lx4B8UW9tBqega1pttDKYZ3RJljkcBZEeJ2UqSrrw2QQQQMjIB6VRXNar41g0++vrWz0jU9XbTI1kv2sEixagrvAPmSIXYr821AxwRkfMubOq+K7DT/AAJc+K7dvtlhFYm+iMZx5ybNy4z0zx19aANyiuU0HTPFE1pp2qar4nkN1MqTXWnpZw/Y1DDLRp8omGAcBjIeRkgj5a6ugAooooAKKKKACuK+Jn/Hr4Z/7GXT/wD0bXa1xXxM/wCPXwz/ANjLp/8A6NoA7WiiigArivjD/wAki8Qf9e6/+hrXa1xXxh/5JF4g/wCvdf8A0NaAO1ooooAKKKKACiiigArz+98CavP4a8YWEF5bxTa3q/2+DEkio8W2ANDKVAZQ4idG25+V+/Ir0CigDydvhdqcsPiz7Jp3h3Q01zRVsLez00sIopQZMs7CJd2d4O4KD2wdu49DH4Z8Q6l4g0a615tMit9BScW72ckjNdyPEYg7IygRAIxO0NJyfvcZPb0UAeUQfCq7tNN8LSXOnaBr91pOlnTbux1QE27gkMJYpDE5VlZccx8qzcjHPf8Ah3Sf7F0EW0OmaVp0hZ5PsmmR+XAjE8DO0bjjAL7RnrtHStiigDzWL4QW134DvNN1u9vJNZ1GOWa8mg1S6W2N3IS3mCEOEIVyMZTkKMiu90WPUIdCsYtaeKTUEt0W6eFiyPIFAYqSAcE5PIFXaKACiiigAooooAKyvFP/ACJ+s/8AXhP/AOi2rVrK8U/8ifrP/XhP/wCi2oAqeAf+Sa+Gf+wRa/8Aola6Cuf8A/8AJNfDP/YItf8A0StdBQAUUUUAFFFFABRRRQAVxXxM/wCPXwz/ANjLp/8A6Nrta4r4mf8AHr4Z/wCxl0//ANG0AdrRRRQAUUUUAFFFFABXnMngDV/+EDbR1msp5v7cl1GS1klkW3vIHuWkMEjBcgFW5+VhkYIYV6NRQB5QPhbqzaL4qtrWDQdGbW5rGS2ttPV/ItvIkDNkBE3EgZyAuSf4etbGo+EvEfiTUrm/1w6XaSQ6NdadZRWk8kiySTgBpZGZF2L8iAIA+Mn5jgZ7+igDzGf4ZTR6hpmoSaN4d8QvFo1vptzaauCEjeHOJYpPKk67mBUoM4U57V32g6aukaHbWSWdjZCNSTb6dD5UEZJLEIvpknnAycnAzitCigDyqz8A+KpvAekeDtSi0W2s7G5imfU7e9lmnAjl80GOMwoFYkBd2/gFuD0r1WiigAooooAKKKKACuK+MP8AySLxB/17r/6GtdrXFfGH/kkXiD/r3X/0NaAO1ooooAKKKKACiiigAooooAK4rxX/AMlP8Bf9d77/ANJWrta4rxX/AMlP8Bf9d77/ANJWoA7WiiigAooooAKKKKAGTIZIJEXqykDP0rzf/hXmrR+BfCOjyx6Xqh0RQt9pt5M62l7+7Kgk+W2drYYBkI+hwa9LooA8rsvhnrtj4fFtZNodjdJ4mXW4obeN/s0SCMARBQFPDDHGBjnj7tWte8B+IfFNr4lvNSbTLPUtTsINOs7aC4klhiijkMhZ5TGpLMztwEwAByc8elUUAec6t8Ombxlq+sxeHPDPiGPVjFIRrS7JLSRIxGQreTJuQhQcfLg55OeOuvvDdnqXgubw3dRxRWk9kbN1s4hEiKU2/u05CAdQOcYHWtiigDldCg8a2NvZabqa6LPBbYjk1RJ5fNnjU8H7PsAV2UAH96QCScMPlrqqKKACiiigAooooAK4r4mf8evhn/sZdP8A/RtdrXFfEz/j18M/9jLp/wD6NoA7WiiigAriPjIHPwf8Q+WwVvs64LDI/wBYtdvXFfGH/kkXiD/r3X/0NaAD+yfiR/0Nehf+CWT/AOP0f2T8SP8Aoa9C/wDBLJ/8frtaKAOK/sn4kf8AQ16F/wCCWT/4/R/ZPxI/6GvQv/BLJ/8AH67WigDzLxbP8R/DHhDVNbbxLoc4sLZ5zEujupbA6AmY4/I1rR6Z8SJIkf8A4SrQhuUHH9ivx/5Hqf4tf8kh8Uf9g6X+VdXbf8ekP+4v8qAOP/sn4kf9DXoX/glk/wDj9H9k/Ej/AKGvQv8AwSyf/H67WigDiv7J+JH/AENehf8Aglk/+P1l+Jj8R/D/AIU1XWD4m0OYafZy3JjXR3UvsQtgEzHHTrg16TXMfEv/AJJT4q/7A91/6KagDKsrH4kXlhb3I8U6EgmiWTb/AGK5xkZx/r/ep/7J+JH/AENehf8Aglk/+P10+if8i/p//XrF/wCgCr1AHFf2T8SP+hr0L/wSyf8Ax+j+yfiR/wBDXoX/AIJZP/j9drRQB53rkfxH0Xw9qOqHxPocosbWW4MY0ZwX2IWxnzjjOKk0q3+I+qaNZagPE+hRi7t45wh0Zzt3KGxnz+etdF46/wCSd+I/+wVdf+imqfwl/wAiXon/AGD4P/Ra0AYP9k/Ej/oa9C/8Esn/AMfo/sn4kf8AQ16F/wCCWT/4/Xa0UAcV/ZPxI/6GvQv/AASyf/H6zvEOlfENfDGqNc+KNEkhFnMZETR3Usuw5APnHBx3r0asrxT/AMifrP8A14T/APotqAKfw/z/AMK08M55P9kWmf8AvytdDXP+Af8Akmvhn/sEWv8A6JWugoAKKKKACiiigAooooAK4H4tx3kujeH002eK3um8RWIilmiMiq284JUEZAODjPPT3rvq4r4mf8evhn/sZdP/APRtAB/ZPxI/6GvQv/BLJ/8AH6P7J+JH/Q16F/4JZP8A4/Xa0UAcV/ZPxI/6GvQv/BLJ/wDH6P7J+JH/AENehf8Aglk/+P12tFAHmHim6+I/hvTrW6bxJok/2i/trPaujuu3zZVTdzMem7OO/qK2v7J+JH/Q16F/4JZP/j9HxS/5F3Sv+w/pv/pUldrQBxX9k/Ej/oa9C/8ABLJ/8fo/sn4kf9DXoX/glk/+P12tFAHFf2T8SP8Aoa9C/wDBLJ/8frF8WXXxH8MaAdSbxJolwBc28GxdHdT+9mSPOTMem/P4duten1xXxa/5EBv+wlp//pZDQAf2T8SP+hr0L/wSyf8Ax+j+yfiR/wBDXoX/AIJZP/j9drRQBxX9k/Ej/oa9C/8ABLJ/8fo/sn4kf9DXoX/glk/+P12tFAHmHi27+I3hXwxc6w/iPQ7kQPEvlLpDqW3yKnXzj03Z/Ctr+yfiR/0Nehf+CWT/AOP0fF7/AJJdqf8A11tf/SmKu1oA4r+yfiR/0Nehf+CWT/4/R/ZPxI/6GvQv/BLJ/wDH67WigDiv7J+JH/Q16F/4JZP/AI/XKfE/TfHcXwz1p9V8R6Pc2awjzYodKeN2G9ejGY459jXsFcV8Yf8AkkXiD/r3X/0NaAO1ooooAKKKKACiiigAooooAK87+IkOq3Hj3wNHoV5bWV4Z73ZNc25mRf8ARjnKhlzxkdepB7c+iVxXiv8A5Kf4C/6733/pK1AB/ZPxI/6GvQv/AASyf/H6P7J+JH/Q16F/4JZP/j9drRQBxX9k/Ej/AKGvQv8AwSyf/H6P7J+JH/Q16F/4JZP/AI/Xa0UAeYa1dfEfSNc0DTj4k0SQ6vdSW4caO4Ee2F5Mkecc/cx2/pW1/ZPxI/6GvQv/AASyf/H6PGn/ACPXgL/sKT/+kc1drQBxX9k/Ej/oa9C/8Esn/wAfo/sn4kf9DXoX/glk/wDj9drRQBxX9k/Ej/oa9C/8Esn/AMfrF1+6+I+h32h258SaJL/auoCyBGjuvl5ikfcf3xz/AKvpx1616fXFfED/AJDvgb/sYV/9Jp6AD+yfiR/0Nehf+CWT/wCP0f2T8SP+hr0L/wAEsn/x+u1ooA4r+yfiR/0Nehf+CWT/AOP0f2T8SP8Aoa9C/wDBLJ/8frtaKAPMPEV38RtAk0dW8R6HP/aepR2AxpDr5ZdWO7/XHONvTjr1ra/sn4kf9DXoX/glk/8Aj9HxH/1/g/8A7GW1/wDQJa7WgDiv7J+JH/Q16F/4JZP/AI/R/ZPxI/6GvQv/AASyf/H67WigDiv7J+JH/Q16F/4JZP8A4/XNeMbDxlbz+GH1/XtLvbT/AISOwBittNaF93m8HcZW9+1etVxXxM/49fDP/Yy6f/6NoA7WiiigArivjD/ySLxB/wBe6/8Aoa12tcV8Yf8AkkXiD/r3X/0NaAO1ooooAKKKKAOP+LX/ACSHxR/2Dpf5V1dt/wAekP8AuL/KuU+LX/JIfFH/AGDpf5V1dt/x6Q/7i/yoAlooooAK5j4l/wDJKfFX/YHuv/RTV09cx8S/+SU+Kv8AsD3X/opqANnRP+Rf0/8A69Yv/QBV6qOif8i/p/8A16xf+gCr1ABRRRQBg+Ov+Sd+I/8AsFXX/opqn8Jf8iXon/YPg/8ARa1B46/5J34j/wCwVdf+imqfwl/yJeif9g+D/wBFrQBr0UUUAFZXin/kT9Z/68J//RbVq1leKf8AkT9Z/wCvCf8A9FtQBU8A/wDJNfDP/YItf/RK10Fc/wCAf+Sa+Gf+wRa/+iVroKACiiigAooooAKKKKACuK+Jn/Hr4Z/7GXT/AP0bXa1xXxM/49fDP/Yy6f8A+jaAO1ooooAKKKKAOK+KX/Iu6V/2H9N/9Kkrta4r4pf8i7pX/Yf03/0qSu1oAKKKKACuK+LX/IgN/wBhLT//AEshrta4r4tf8iA3/YS0/wD9LIaAO1ooooAKKKKAOK+L3/JLtT/662v/AKUxV2tcV8Xv+SXan/11tf8A0pirtaACiiigArivjD/ySLxB/wBe6/8Aoa12tcV8Yf8AkkXiD/r3X/0NaAO1ooooAKKKKACiiigAooooAK4rxX/yU/wF/wBd77/0lau1rivFf/JT/AX/AF3vv/SVqAO1ooooAKKKKAOK8af8j14C/wCwpP8A+kc1drXFeNP+R68Bf9hSf/0jmrtaACiiigAriviB/wAh3wN/2MK/+k09drXFfED/AJDvgb/sYV/9Jp6AO1ooooAKKKKAOK+I/wDr/B//AGMtr/6BLXa1xXxH/wBf4P8A+xltf/QJa7WgAooooAK4r4mf8evhn/sZdP8A/RtdrXFfEz/j18M/9jLp/wD6NoA7WiiigArivjD/AMki8Qf9e6/+hrXa1xHxkcR/B/xCxDEfZ14VST/rF7CgDt6K4r/haOm/9ADxV/4ILn/4ij/haOm/9ADxV/4ILn/4igDtaK4r/haOm/8AQA8Vf+CC5/8AiKP+Fo6b/wBADxV/4ILn/wCIoAl+LX/JIfFH/YOl/lXV23/HpD/uL/KvKPiV8Q7DUvhl4gs4tG8RwvPYyIslxotxFGpI6s7LhR7mujt/ifpq20QOg+KThAONAufT/coA7miuK/4Wjpv/AEAPFX/gguf/AIij/haOm/8AQA8Vf+CC5/8AiKAO1rmPiX/ySnxV/wBge6/9FNVH/haOm/8AQA8Vf+CC5/8AiK5/x78RtPv/AIc+IrSPRfEkTz6ZcRq8+iXEcakxsMsxXCj1J4FAHo+if8i/p/8A16xf+gCr1ef6T8TdOi0WyjOheKGKW8akroNyQcKOh2cirf8AwtHTf+gB4q/8EFz/APEUAdrRXFf8LR03/oAeKv8AwQXP/wARR/wtHTf+gB4q/wDBBc//ABFAGv46/wCSd+I/+wVdf+imqfwl/wAiXon/AGD4P/Ra1xHjD4kafeeB9dtk0TxNG02nXEYeXQ7hEUmNhlmK4A9SelTeGviVp1t4U0mBtD8TO0VlChaPQrllJCAZBC4I96APSKK4r/haOm/9ADxV/wCCC5/+Io/4Wjpv/QA8Vf8Agguf/iKAO1rK8U/8ifrP/XhP/wCi2rn/APhaOm/9ADxV/wCCC5/+IrO8Q/EvTrjwxqkK6H4nQyWcyBpNCuVUZQjJJXAHvQB03gH/AJJr4Z/7BFr/AOiVroK574fnPw08MH10i06/9cVroaACiiigAooooAKKKKACuK+Jn/Hr4Z/7GXT/AP0bXa1wPxbvU07RvD93LFPKsPiKxcpbwtK7YcnCqoJJ44Hc4HegDvqK4r/haOm/9ADxV/4ILn/4ij/haOm/9ADxV/4ILn/4igDtaK4r/haOm/8AQA8Vf+CC5/8AiKP+Fo6b/wBADxV/4ILn/wCIoAPil/yLulf9h/Tf/SpK7WvHviH8QrDUND06OPRvEURj1mwmJuNFuIwQtwjEAleWOMAdSeBXWf8AC0dN/wCgB4q/8EFz/wDEUAdrRXFf8LR03/oAeKv/AAQXP/xFH/C0dN/6AHir/wAEFz/8RQB2tcV8Wv8AkQG/7CWn/wDpZDR/wtHTf+gB4q/8EFz/APEVyfxK+IVhqXgtreLRvEULfb7J99xotxEmFuomI3MuMnGAO5wB1oA9horiv+Fo6b/0APFX/gguf/iKP+Fo6b/0APFX/gguf/iKAO1oriv+Fo6b/wBADxV/4ILn/wCIo/4Wjpv/AEAPFX/gguf/AIigA+L3/JLtT/662v8A6UxV2teP/E34hWGp/D2/tItG8RQs8luQ9zotxEgxPG3LMuB0wPU4FdX/AMLR03/oAeKv/BBc/wDxFAHa0VxX/C0dN/6AHir/AMEFz/8AEUf8LR03/oAeKv8AwQXP/wARQB2tcV8Yf+SReIP+vdf/AENaP+Fo6b/0APFX/gguf/iK5T4n/EKw1T4Z61ZxaN4iheaEASXOi3EUa/Op+ZmXA/GgD2CiiigAooooAKKKKACiiigArivFf/JT/AX/AF3vv/SVq7WvO/iJq8WiePfA17cW95cpHPe5jsrZ55Dm3I4VASev5ZPY0AeiUVxX/C0dN/6AHir/AMEFz/8AEUf8LR03/oAeKv8AwQXP/wARQB2tFcV/wtHTf+gB4q/8EFz/APEUf8LR03/oAeKv/BBc/wDxFAB40/5HrwF/2FJ//SOau1rx7xX8QrC68YeDbhNG8RItpqE0jLLotwjODayrhFK5Y85wOwJ7V1n/AAtHTf8AoAeKv/BBc/8AxFAHa0VxX/C0dN/6AHir/wAEFz/8RR/wtHTf+gB4q/8ABBc//EUAdrXFfED/AJDvgb/sYV/9Jp6P+Fo6b/0APFX/AIILn/4iuT8afEKwvdY8IyJo3iKMWutrMwm0W4QuPs8y4QFfmb5s4HOAT2oA9horiv8AhaOm/wDQA8Vf+CC5/wDiKP8AhaOm/wDQA8Vf+CC5/wDiKAO1oriv+Fo6b/0APFX/AIILn/4ij/haOm/9ADxV/wCCC5/+IoAPiP8A6/wf/wBjLa/+gS12teP+OviFYX03hcx6N4ii+z69bzt52i3Ee8BJBtXK/M3PCjk811f/AAtHTf8AoAeKv/BBc/8AxFAHa0VxX/C0dN/6AHir/wAEFz/8RR/wtHTf+gB4q/8ABBc//EUAdrXFfEz/AI9fDP8A2Mun/wDo2j/haOm/9ADxV/4ILn/4iua8Y+OLLXZ/DFnb6Vrtq58R2DeZe6TNBHxL03OoGeelAHrVFFFABXFfGH/kkXiD/r3X/wBDWu1rivjD/wAki8Qf9e6/+hrQB2tFFFABRRRQBx/xa/5JD4o/7B0v8q6u2/49If8AcX+Vcp8Wv+SQ+KP+wdL/ACrq7b/j0h/3F/lQBLRRRQAVzHxL/wCSU+Kv+wPdf+imrp65j4l/8kp8Vf8AYHuv/RTUAbOif8i/p/8A16xf+gCr1UdE/wCRf0//AK9Yv/QBV6gAooooAwfHX/JO/Ef/AGCrr/0U1T+Ev+RL0T/sHwf+i1qDx1/yTvxH/wBgq6/9FNU/hL/kS9E/7B8H/otaANeiiigArK8U/wDIn6z/ANeE/wD6LatWsrxT/wAifrP/AF4T/wDotqAKngH/AJJr4Z/7BFr/AOiVroK5/wAA/wDJNfDP/YItf/RK10FABRRRQAUUUUAFFFFABXFfEz/j18M/9jLp/wD6Nrta4r4mf8evhn/sZdP/APRtAHa0UUUAFFFFAHFfFL/kXdK/7D+m/wDpUldrXFfFL/kXdK/7D+m/+lSV2tABRRRQAVxXxa/5EBv+wlp//pZDXa1xXxa/5EBv+wlp/wD6WQ0AdrRRRQAUUUUAcV8Xv+SXan/11tf/AEpirta4r4vf8ku1P/rra/8ApTFXa0AFFFFABXFfGH/kkXiD/r3X/wBDWu1rivjD/wAki8Qf9e6/+hrQB2tFFFABRRRQAUUUUAFFFFABXFeK/wDkp/gL/rvff+krV2tcV4r/AOSn+Av+u99/6StQB2tFFFABRRRQBxXjT/kevAX/AGFJ/wD0jmrta4rxp/yPXgL/ALCk/wD6RzV2tABRRRQAVxXxA/5Dvgb/ALGFf/Saeu1riviB/wAh3wN/2MK/+k09AHa0UUUAFFFFAHFfEf8A1/g//sZbX/0CWu1riviP/r/B/wD2Mtr/AOgS12tABRRRQAVxXxM/49fDP/Yy6f8A+ja7WuK+Jn/Hr4Z/7GXT/wD0bQB2tFFFABXFfGH/AJJF4g/691/9DWu1rivjD/ySLxB/17r/AOhrQB2tFFFABRRRQBx/xa/5JD4o/wCwdL/Kurtv+PSH/cX+Vcp8Wv8AkkPij/sHS/yrq7b/AI9If9xf5UAS0UUUAFcx8S/+SU+Kv+wPdf8Aopq6euY+Jf8AySnxV/2B7r/0U1AGzon/ACL+n/8AXrF/6AKvVR0T/kX9P/69Yv8A0AVeoAKKKKAMHx1/yTvxH/2Crr/0U1T+Ev8AkS9E/wCwfB/6LWoPHX/JO/Ef/YKuv/RTVP4S/wCRL0T/ALB8H/otaANeiiigArK8U/8AIn6z/wBeE/8A6LatWsrxT/yJ+s/9eE//AKLagCp4B/5Jr4Z/7BFr/wCiVroK5/wD/wAk18M/9gi1/wDRK10FABRRRQAUUUUAFFFFABXFfEz/AI9fDP8A2Mun/wDo2u1riviZ/wAevhn/ALGXT/8A0bQB2tFFFABRRRQBxXxS/wCRd0r/ALD+m/8ApUldrXFfFL/kXdK/7D+m/wDpUldrQAUUUUAFcV8Wv+RAb/sJaf8A+lkNdrXFfFr/AJEBv+wlp/8A6WQ0AdrRRRQAUUUUAcV8Xv8Akl2p/wDXW1/9KYq7WuK+L3/JLtT/AOutr/6UxV2tABRRRQAVxXxh/wCSReIP+vdf/Q1rta4r4w/8ki8Qf9e6/wDoa0AdrRRRQAUUUUAFFFFABRRRQAVxXiv/AJKf4C/6733/AKStXa1xXiv/AJKf4C/6733/AKStQB2tFFFABRRRQBxXjT/kevAX/YUn/wDSOau1rivGn/I9eAv+wpP/AOkc1drQAUUUUAFcV8QP+Q74G/7GFf8A0mnrta4r4gf8h3wN/wBjCv8A6TT0AdrRRRQAUUUUAcV8R/8AX+D/APsZbX/0CWu1riviP/r/AAf/ANjLa/8AoEtdrQAUUUUAFcV8TP8Aj18M/wDYy6f/AOja7WuK+Jn/AB6+Gf8AsZdP/wDRtAHa0UUUAFcV8Yf+SReIP+vdf/Q1rta4j4yIsnwf8Qq2cG3XoSP+Wi+lAHb0VxX/AAqLwb/z43//AIOLz/47R/wqLwb/AM+N/wD+Di8/+O0AdrRXFf8ACovBv/Pjf/8Ag4vP/jtH/CovBv8Az43/AP4OLz/47QBL8Wv+SQ+KP+wdL/Kurtv+PSH/AHF/lXlHxK+GXhbSvhl4gvrK0vEuLexkkjZ9UupACB3VpCD9CDXR2/wk8HNbRMbK+yUBP/E4vPT/AK60AdzRXFf8Ki8G/wDPjf8A/g4vP/jtH/CovBv/AD43/wD4OLz/AOO0AdrXMfEv/klPir/sD3X/AKKaqP8AwqLwb/z43/8A4OLz/wCO1z/j34X+FNO+HPiK9tLO9We30y4ljZtVunAZY2IyrSkHkdCCKAPR9E/5F/T/APr1i/8AQBV6vP8ASfhP4Qm0Wylksr4u9vGzEavdjkqOwlq3/wAKi8G/8+N//wCDi8/+O0AdrRXFf8Ki8G/8+N//AODi8/8AjtH/AAqLwb/z43//AIOLz/47QBr+Ov8AknfiP/sFXX/opqn8Jf8AIl6J/wBg+D/0WtcR4w+FnhKy8D67dW1nerNBp1xJGW1a7YBljYjIMpB5HQjFTeGvhT4RuvCmk3E9nfGSWyhdyNWu1BJQE8CXA+goA9Ioriv+FReDf+fG/wD/AAcXn/x2j/hUXg3/AJ8b/wD8HF5/8doA7WsrxT/yJ+s/9eE//otq5/8A4VF4N/58b/8A8HF5/wDHazvEPwp8I23hjVJ4bK+EkVnM6E6tdsAQhI4MuD9DQB03gH/kmvhn/sEWv/ola6Cue+H42/DTwwB0GkWg/wDIK10NABRRRQAUUUUAFFFFABXFfEz/AI9fDP8A2Mun/wDo2u1rgfi3YW+p6N4fs7xXaCbxFYxyKkjRkqzkH5lII4J5BoA76iuK/wCFReDf+fG//wDBxef/AB2j/hUXg3/nxv8A/wAHF5/8doA7WiuK/wCFReDf+fG//wDBxef/AB2j/hUXg3/nxv8A/wAHF5/8doAPil/yLulf9h/Tf/SpK7WvHviH8M/C2maHp0tnaXivJrNhCxfVLp8o9wisMNIQDgnnqOoIrrP+FReDf+fG/wD/AAcXn/x2gDtaK4r/AIVF4N/58b//AMHF5/8AHaP+FReDf+fG/wD/AAcXn/x2gDta4r4tf8iA3/YS0/8A9LIaP+FReDf+fG//APBxef8Ax2uT+JXwz8LaV4La6srS8SX7fZR5fVLqQbXuolbhpCOhPPUdRzQB7DRXFf8ACovBv/Pjf/8Ag4vP/jtH/CovBv8Az43/AP4OLz/47QB2tFcV/wAKi8G/8+N//wCDi8/+O0f8Ki8G/wDPjf8A/g4vP/jtAB8Xv+SXan/11tf/AEpirta8f+Jvwz8LaT8Pb+8sbS8SeOS3Cl9UupB808an5WkIPBPaur/4VF4N/wCfG/8A/Bxef/HaAO1oriv+FReDf+fG/wD/AAcXn/x2j/hUXg3/AJ8b/wD8HF5/8doA7WuK+MP/ACSLxB/17r/6GtH/AAqLwb/z43//AIOLz/47XKfE/wCGfhfSfhnrV9Y2l4lxDCGRn1S6kAO9RyrSEHr3FAHsFFFFABRRRQAUUUUAFFFFABXFeK/+Sn+Av+u99/6StXa1538RNEsdf8e+BrDVElkt5J73csU8kROLcsPmRgRyo7/zNAHolFcV/wAKi8G/8+N//wCDi8/+O0f8Ki8G/wDPjf8A/g4vP/jtAHa0VxX/AAqLwb/z43//AIOLz/47R/wqLwb/AM+N/wD+Di8/+O0AHjT/AJHrwF/2FJ//AEjmrta8e8V/DPwtZ+MPBttb2l4sV5qE0cwbVLpiVFrKwwTISvKjkYPbpXWf8Ki8G/8APjf/APg4vP8A47QB2tFcV/wqLwb/AM+N/wD+Di8/+O0f8Ki8G/8APjf/APg4vP8A47QB2tcV8QP+Q74G/wCxhX/0mno/4VF4N/58b/8A8HF5/wDHa5Pxp8M/C1hrHhGO2tLxVu9bWCYNql02U+zzNgEyHacqORg+/JoA9horiv8AhUXg3/nxv/8AwcXn/wAdo/4VF4N/58b/AP8ABxef/HaAO1oriv8AhUXg3/nxv/8AwcXn/wAdo/4VF4N/58b/AP8ABxef/HaAD4j/AOv8H/8AYy2v/oEtdrXj/jr4Z+FtPm8Li1tLxRda9b28u7VLp8oySEgbpDg8DkYPvXV/8Ki8G/8APjf/APg4vP8A47QB2tFcV/wqLwb/AM+N/wD+Di8/+O0f8Ki8G/8APjf/APg4vP8A47QB2tcV8TP+PXwz/wBjLp//AKNo/wCFReDf+fG//wDBxef/AB2ua8Y/D/w74dn8MX2k211HcDxHYJul1G4mGDL/AHXkI7elAHrVFFFABXFfGH/kkXiD/r3X/wBDWu1rivjD/wAki8Qf9e6/+hrQB2tFFFABRRRQBx/xa/5JD4o/7B0v8q6u2/49If8AcX+Vcp8Wv+SQ+KP+wdL/ACrq7b/j0h/3F/lQBLRRRQAVzHxL/wCSU+Kv+wPdf+imrp65j4l/8kp8Vf8AYHuv/RTUAbOif8i/p/8A16xf+gCr1UdE/wCRf0//AK9Yv/QBV6gAooooAwfHX/JO/Ef/AGCrr/0U1T+Ev+RL0T/sHwf+i1qDx1/yTvxH/wBgq6/9FNU/hL/kS9E/7B8H/otaANeiiigArK8U/wDIn6z/ANeE/wD6LatWsrxT/wAifrP/AF4T/wDotqAKngH/AJJr4Z/7BFr/AOiVroK5/wAA/wDJNfDP/YItf/RK10FABRRRQAUUUUAFFFFABXFfEz/j18M/9jLp/wD6Nrta4r4mf8evhn/sZdP/APRtAHa0UUUAFFFFAHFfFL/kXdK/7D+m/wDpUldrXFfFL/kXdK/7D+m/+lSV2tABRRRQAVxXxa/5EBv+wlp//pZDXa1xXxa/5EBv+wlp/wD6WQ0AdrRRRQAUUUUAcV8Xv+SXan/11tf/AEpirta4r4vf8ku1P/rra/8ApTFXa0AFFFFABXFfGH/kkXiD/r3X/wBDWu1rivjD/wAki8Qf9e6/+hrQB2tFFFABRRRQAUUUUAFFFFABXFeK/wDkp/gL/rvff+krV2tcV4r/AOSn+Av+u99/6StQB2tFFFABRRRQBxXjT/kevAX/AGFJ/wD0jmrta4rxp/yPXgL/ALCk/wD6RzV2tABRRRQAVxXxA/5Dvgb/ALGFf/Saeu1riviB/wAh3wN/2MK/+k09AHa0UUUAFFFFAHFfEf8A1/g//sZbX/0CWu1riviP/r/B/wD2Mtr/AOgS12tABRRRQAVxXxM/49fDP/Yy6f8A+ja7WuK+Jn/Hr4Z/7GXT/wD0bQB2tFFFABXFfGH/AJJF4g/691/9DWu1rivjD/ySLxB/17r/AOhrQB2tFFFABRRRQBx/xa/5JD4o/wCwdL/Kurtv+PSH/cX+Vcp8Wv8AkkPij/sHS/yrq7b/AI9If9xf5UAS0UUUAFcx8S/+SU+Kv+wPdf8Aopq6euY+Jf8AySnxV/2B7r/0U1AGzon/ACL+n/8AXrF/6AKvVR0T/kX9P/69Yv8A0AVeoAKKKKAMHx1/yTvxH/2Crr/0U1T+Ev8AkS9E/wCwfB/6LWoPHX/JO/Ef/YKuv/RTVP4S/wCRL0T/ALB8H/otaANeiiigArK8U/8AIn6z/wBeE/8A6LatWsrxT/yJ+s/9eE//AKLagCp4B/5Jr4Z/7BFr/wCiVroK5/wD/wAk18M/9gi1/wDRK10FABRRRQAUUUUAFFFFABXFfEz/AI9fDP8A2Mun/wDo2u1riviZ/wAevhn/ALGXT/8A0bQB2tFFFABRRRQBxXxS/wCRd0r/ALD+m/8ApUldrXFfFL/kXdK/7D+m/wDpUldrQAUUUUAFcV8Wv+RAb/sJaf8A+lkNdrXFfFr/AJEBv+wlp/8A6WQ0AdrRRRQAUUUUAcV8Xv8Akl2p/wDXW1/9KYq7WuK+L3/JLtT/AOutr/6UxV2tABRRRQAVxXxh/wCSReIP+vdf/Q1rta4r4w/8ki8Qf9e6/wDoa0AdrRRRQAUUUUAFFFFABRRRQAVxXiv/AJKf4C/6733/AKStXa1xXiv/AJKf4C/6733/AKStQB2tFFFABRRRQBxXjT/kevAX/YUn/wDSOau1rivGn/I9eAv+wpP/AOkc1drQAUUUUAFcV8QP+Q74G/7GFf8A0mnrta4r4gf8h3wN/wBjCv8A6TT0AdrRRRQAUUUUAcV8R/8AX+D/APsZbX/0CWu1riviP/r/AAf/ANjLa/8AoEtdrQAUUUUAFcV8TP8Aj18M/wDYy6f/AOja7WuK+Jn/AB6+Gf8AsZdP/wDRtAHa0UUUAFc74/0C88UeA9V0XTJII7q8iCRtcMRGDuB5IBPQHtXRUUAcVv8Aij/z7+Ef+/8Adf8AxFG/4o/8+/hH/v8A3X/xFdrRQBxW/wCKP/Pv4R/7/wB1/wDEUb/ij/z7+Ef+/wDdf/EV2tFAHmvijRfiZ4n8K6jok6eE4Y7+3aBpEnucqCOoylacf/C0I4lQQeESFAGfPuf/AIiu3ooA4rf8Uf8An38I/wDf+6/+Io3/ABR/59/CP/f+6/8AiK7WigDit/xR/wCffwj/AN/7r/4is7xDpfxN8QeGdT0eaPwnFHqFrLbM6T3OVDqVJHye9ejUUAebeGNQ+JOpeEdHvrK28KrbXVjDNCJprkOEaMFd2FIzgjOK1N/xR/59/CP/AH/uv/iK0fhx/wAks8Kf9gWz/wDRCV0lAHFb/ij/AM+/hH/v/df/ABFG/wCKP/Pv4R/7/wB1/wDEV2tFAHnutWHxO1nQb/TJYvCUaXttJbs6z3OVDqVJHye9P0u1+J+maRZ2EcPhJ1tYEhVmnuckKoGfue1d/RQBxW/4o/8APv4R/wC/91/8RRv+KP8Az7+Ef+/91/8AEV2tFAHFb/ij/wA+/hH/AL/3X/xFVtStvifqOlXdi8PhJFuYXhLCe5yAykZ+57131FAGX4X0yfRfCGj6XdtG9xY2MFtK0RJQskaqSuQDjI4yBWpRRQAUUUUAFFFFABRRRQAVy3j7QNW1/SdOXw+9kt5Y6pb3yi+d1jYRMWxlQTycV1NFAHFb/ij/AM+/hH/v/df/ABFG/wCKP/Pv4R/7/wB1/wDEV2tFAHFb/ij/AM+/hH/v/df/ABFG/wCKP/Pv4R/7/wB1/wDEV2tFAHmfiTQviZ4jsLa1nXwnEtvfW94Ck9zkmKRXA5ToSuK19/xR/wCffwj/AN/7r/4iu1ooA4rf8Uf+ffwj/wB/7r/4ijf8Uf8An38I/wDf+6/+IrtaKAOK3/FH/n38I/8Af+6/+IrC8Z6Z8SNa8LXFvfL4Vht4ZIrt3jmuS2IZFlx9zvsxXqVZviT/AJFXVv8Arym/9ANAHLWl78Tb2yguoIPCRinjWRMzXQOGGR/B71Nv+KP/AD7+Ef8Av/df/EV0fhv/AJFXSf8Aryh/9AFaVAHFb/ij/wA+/hH/AL/3X/xFG/4o/wDPv4R/7/3X/wARXa0UAeZ+KdD+Jnijw3caROnhOGOdo2LpPc5GyRXHVPVa19/xR/59/CP/AH/uv/iK7WigDit/xR/59/CP/f8Auv8A4ijf8Uf+ffwj/wB/7r/4iu1ooA4rf8Uf+ffwj/3/ALr/AOIrI8VaH8S/FXhe+0S4XwpDFeIEaSOe53LhgeMp7V6ZRQAUUUUAFFFFABRRRQAUUUUAFcf400HxDqOveHdX8Ltpnn6TLcO6ai8iq4ki8sY2KT3J7dq7CigDit/xR/59/CP/AH/uv/iKN/xR/wCffwj/AN/7r/4iu1ooA4rf8Uf+ffwj/wB/7r/4ijf8Uf8An38I/wDf+6/+IrtaKAPM9X0L4matrWiajIvhNH0i5e4RVnucOWiePB+T0fNa+/4o/wDPv4R/7/3X/wARXa0UAcVv+KP/AD7+Ef8Av/df/EUb/ij/AM+/hH/v/df/ABFdrRQBxW/4o/8APv4R/wC/91/8RXNeM4PiK39halfReFwum6xbPGsM1wS8kzfZlByn3QZwT3wO/Q+tVzfjz/kXbX/sNaV/6cLegDO3/FH/AJ9/CP8A3/uv/iKN/wAUf+ffwj/3/uv/AIiu1ooA4rf8Uf8An38I/wDf+6/+Io3/ABR/59/CP/f+6/8AiK7WigDzPX9D+JmvPpTTJ4Tj/s3UI75Ns9z87IGAU/J0+atff8Uf+ffwj/3/ALr/AOIrtaKAOK3/ABR/59/CP/f+6/8AiKN/xR/59/CP/f8Auv8A4iu1ooA4rf8AFH/n38I/9/7r/wCIrP1TQviD4hu9GTVx4Zhs7HVba+lNrNcGQrE+4hQyYyRnrivRaKACiiigAooooAKKKKACiiigAooooAKKKKACiiigDm/hx/ySzwp/2BbP/wBEJXSVzfw4/wCSWeFP+wLZ/wDohK6SgAooooAKKKKACiiigAooooAKKKKACiiigAooooAKKKKACiiigAooooAKKKKACiiigAooooAKzfEn/Iq6t/15Tf8AoBrSrN8Sf8irq3/XlN/6AaADw3/yKuk/9eUP/oArSrN8N/8AIq6T/wBeUP8A6AK0qACiiigAooooAKKKKACiiigAooooAKKKKACiiigAooooAKKKKACiiigAooooAKKKKACiiigArm/Hn/Iu2v8A2GtK/wDThb10lc348/5F21/7DWlf+nC3oA6SiiigAooooAKKKKACiiigAooooAKKKKACiiigAooooAKKKKACiiigAooooAKKKKAOb+HH/JLPCn/YFs//AEQldJXN/Dj/AJJZ4U/7Atn/AOiErpKACiiigAooooAKKKKACiiigAooooAKKKKACiiigAooooAKKKKACiiigAooooAKKKKACiiigArN8Sf8irq3/XlN/wCgGtKs3xJ/yKurf9eU3/oBoAPDf/Iq6T/15Q/+gCtKs3w3/wAirpP/AF5Q/wDoArSoAKKKKACiiigAooooAKKKKACiiigAooooAKKKKACiiigAooooAKKKKACiiigAooooAKKKKACub8ef8i7a/wDYa0r/ANOFvXSVzfjz/kXbX/sNaV/6cLegDpKKKKACiiigAooooAKKKKACiiigAooooAKKKKACiiigAooooAKKKKACiiigAooooA5v4cf8ks8Kf9gWz/8ARCV0lcR4bh8aeH/Cmk6MdB0ec6dZQ2plGsyL5nloF3Y+znGcZxmtP+0fGf8A0LWj/wDg7k/+RqAOkorm/wC0fGf/AELWj/8Ag7k/+RqP7R8Z/wDQtaP/AODuT/5GoA6Siub/ALR8Z/8AQtaP/wCDuT/5Go/tHxn/ANC1o/8A4O5P/kagDpKK5v8AtHxn/wBC1o//AIO5P/kaj+0fGf8A0LWj/wDg7k/+RqAOkorm/wC0fGf/AELWj/8Ag7k/+RqP7R8Z/wDQtaP/AODuT/5GoA6Siub/ALR8Z/8AQtaP/wCDuT/5Go/tHxn/ANC1o/8A4O5P/kagDpKK5v8AtHxn/wBC1o//AIO5P/kaj+0fGf8A0LWj/wDg7k/+RqAOkorm/wC0fGf/AELWj/8Ag7k/+RqP7R8Z/wDQtaP/AODuT/5GoA6Siub/ALR8Z/8AQtaP/wCDuT/5Go/tHxn/ANC1o/8A4O5P/kagDpKK5v8AtHxn/wBC1o//AIO5P/kaj+0fGf8A0LWj/wDg7k/+RqAOkorm/wC0fGf/AELWj/8Ag7k/+RqP7R8Z/wDQtaP/AODuT/5GoA6Siub/ALR8Z/8AQtaP/wCDuT/5Go/tHxn/ANC1o/8A4O5P/kagDpKK5v8AtHxn/wBC1o//AIO5P/kaj+0fGf8A0LWj/wDg7k/+RqAOkorm/wC0fGf/AELWj/8Ag7k/+RqP7R8Z/wDQtaP/AODuT/5GoA6Ss3xJ/wAirq3/AF5Tf+gGs3+0fGf/AELWj/8Ag7k/+Rq5v4g+L/Evhr4f6vqereG9NFokHlOYNYd3HmERggG3APLjuKAO28N/8irpP/XlD/6AK0q4/SLjxrZ6JY2r+GtJ3Q28cZ3a04OQoHIFuR29T9auf2j4z/6FrR//AAdyf/I1AHSUVzf9o+M/+ha0f/wdyf8AyNR/aPjP/oWtH/8AB3J/8jUAdJRXN/2j4z/6FrR//B3J/wDI1H9o+M/+ha0f/wAHcn/yNQB0lFc3/aPjP/oWtH/8Hcn/AMjUf2j4z/6FrR//AAdyf/I1AHSUVzf9o+M/+ha0f/wdyf8AyNR/aPjP/oWtH/8AB3J/8jUAdJRXN/2j4z/6FrR//B3J/wDI1H9o+M/+ha0f/wAHcn/yNQB0lFc3/aPjP/oWtH/8Hcn/AMjUf2j4z/6FrR//AAdyf/I1AHSUVzf9o+M/+ha0f/wdyf8AyNR/aPjP/oWtH/8AB3J/8jUAdJRXN/2j4z/6FrR//B3J/wDI1H9o+M/+ha0f/wAHcn/yNQB0lFc3/aPjP/oWtH/8Hcn/AMjUf2j4z/6FrR//AAdyf/I1AHSUVzf9o+M/+ha0f/wdyf8AyNR/aPjP/oWtH/8AB3J/8jUAdJRXN/2j4z/6FrR//B3J/wDI1H9o+M/+ha0f/wAHcn/yNQB0lFc3/aPjP/oWtH/8Hcn/AMjUf2j4z/6FrR//AAdyf/I1AHSUVzf9o+M/+ha0f/wdyf8AyNR/aPjP/oWtH/8AB3J/8jUAdJXN+PP+Rdtf+w1pX/pwt6P7R8Z/9C1o/wD4O5P/AJGqhq1v4u163tLK50XSrOBdQs7mWZNWeVlSG5jmbC+QuSRGQOR1oA7OiiigAooooAKKKKACiiigAooooAKKKKACiiigAooooAKKKKACiiigAooooAKKKKACiiigAooooAKKKKACiiigAooooAKKKKACiiigAooooAKKKKACiiigAooooAKKKKACiiigAooooAK82/aD/wCSE+If+3b/ANKYq9Jrzb9oP/khPiH/ALdv/SmKgD0miiigAooooAKKKKACiiigAooooAKKKKACiiigAooooAKKKKACiiigAooooAKKKKACiiigAooooAKKKKACiiigAooooAKKKKACiiigAooooAKKKKACiiigAooooAKKKKACiiigAooooAKKKKACiiigAooooAKKKKACiiigAooooAKKKKACiiigAooooAKKKKACiiigAooooAKKKKACiiigAooooAK82/aD/wCSE+If+3b/ANKYq9Jrzb9oP/khPiH/ALdv/SmKgD0miiigAooooAKKKKACiiigAooooAKKKKACiiigAooooAKKKKACiiigAooooAKKKKACiiigAooooAKKKKACiiigAooooAKKKKACiiigAooooAKKKKACiiigAooooAKKKKACiiigAooooAKKKKACiiigAooooAKKKKACiiigAooooAKKKKACiiigAooooAKKKKACiiigAooooAKKKKACiiigAooooAK82/aD/wCSE+If+3b/ANKYq9Jr5/8A2lPiK+n6XdeBW0SUpqdtDOuotOFUbZgxCoAd3+rwclSM9MYJAPoCiuG+FfxCvPiT4fudYn0H+x7VJvJgJu/OM5A+Y/cXAGQM85OemK7mgAooooAKKKKACiiigAooooAKKKKACiiigAooooAKKKKACiiigAooooAKKKKACiiigAooooAKKKKACiiigAooooAKKKKACiiigAooooAKKKKACiiigAooooAKKKKACiiigAooooAKKKKACiiigAooooAKKKKACiiigAooooAKKKKACiiigAooooAKKKKACuWPiDxHea5q9noeh6XPb6XdJatNearJA8jGCKYkItu4AAmA+92NdTXN+F/+Ri8Z/wDYaj/9N9nQAfbvG/8A0L3h/wD8H0//AMh0fbvG/wD0L3h//wAH0/8A8h10lFAHN/bvG/8A0L3h/wD8H0//AMh0fbvG/wD0L3h//wAH0/8A8h10lFAHN/bvG/8A0L3h/wD8H0//AMh0fbvG/wD0L3h//wAH0/8A8h10lFAHN/bvG/8A0L3h/wD8H0//AMh0fbvG/wD0L3h//wAH0/8A8h10lFAHN/bvG/8A0L3h/wD8H0//AMh1wHxZ+Hni34n6LZW0mk6BYXllPvhul1iaUqjcOpU2q8HCnrn5R16V7HRQBw3hnTfFfhTwvp+h6b4c8Pi2sYViU/27MC5/iY/6H1YksfcmtX7d43/6F7w//wCD6f8A+Q66SigDm/t3jf8A6F7w/wD+D6f/AOQ6Pt3jf/oXvD//AIPp/wD5DrpKKAOb+3eN/wDoXvD/AP4Pp/8A5Do+3eN/+he8P/8Ag+n/APkOukooA5v7d43/AOhe8P8A/g+n/wDkOj7d43/6F7w//wCD6f8A+Q66SigDm/t3jf8A6F7w/wD+D6f/AOQ6Pt3jf/oXvD//AIPp/wD5DrpKKAOf0PXNVvNf1HSNc0yzsbiztbe6VrO+a5SRZmmUAlooyCDAex+8K6Cubsf+Sp67/wBgXTf/AEffV0lABRRRQAUUUUAFFFFABRRRQAUUUUAFFFFABRRRQAUUUUAFFFFABRRRQAUUUUAFFFFABRRRQAUUUUAFFFFABRRRQAUUUUAFFFFABRRRQAUUUUAFFFFABRRRQAUUUUAFFFFABRRRQAUUUUAFFFFABRRRQAUUUUAFFFFABXN+F/8AkYvGf/Yaj/8ATfZ10lc34X/5GLxn/wBhqP8A9N9nQB0lFFFABRXNfEXVr3Qvhvr2qaVN5F7aWTywy7FbYwHBwwIP4isOHWtV8O+PbHSLvW7jXrS+0me/nS5hgWey8orhwYkQbH3lcMD8yDBHIoA9BorjrD4k2OoeH7TWI9H1eO11ExR6cJYolkvpZASI408zII2tln2pgFgxX5qdcfEfTLDTdVudW0/UrC40loBd2MsSPMqTMFjkXy3ZXUkn7rE/KwxnggHX0Vyq+PrSKe8g1PStU0ya3sJNRiju44wbqBPvmPa7YI+XKvtYb1464ii+ItnNo9nqC6Nq6rqckcelwtFEJdQLqW/dr5mVAVSxaTYAOckUAdfRXKH4h6Vb2Oqy6ta32mXWk+V9psLiNWmPm8RbPLZ1k3n5RtY/MCDgip5PGcdnp09xq+iatps0ckcUNpPHE8l3JISI0iMcjozFgRgsNvVtqkNQB0lFcjN8RdOsbXVG1nTtR0u70yGOaSxuUiaWVJG2RtGY3ZGDPlPvDBHzbRzVi78ax6fpsE19oerW95c3q2NvpzpD500rKXAVxJ5RG0Mc+ZgbSPvcUAdNRXJ3OsW114k8KNdDW9OuruS7SKxLKkbMkbbxcKCQwG0lCpIJwQSCDVax+J+m30VjdLpGrw6be3n2FNRmhjWFJy5QKR5m/BYbd4UrlgCRzgA7WiuM1T4lWmnSXBg0HWNRtbfUF017y1FusX2lmVNn7yVG4dgpbG0HPPFaHj+9vrD4d63eaTdxWF7DZu8M88ioqNjpub5QT0BPGSKAOjorzD4daxBf6hLrumajfw+Fbu3hs7dda1J55J77zGDFPNdmTqE25G5hkLgAn0+gAooooA5ux/5Knrv/AGBdN/8AR99XSVzdj/yVPXf+wLpv/o++rpKACiiigAooooAKKKKACiiigAooooAKKKKACiiigAooooAKKKKACiiigAooooAKKKKACiiigAooooAKKKKACiiigAooooAKKKKACiiigAooooAKKKKACiiigAooooAKKKKACiiigAooooAKKKKACiiigAooooAKKKKACub8L/8AIxeM/wDsNR/+m+zrpK5vwv8A8jF4z/7DUf8A6b7OgDpKKKKAMHxzoVz4m8B6zotg8UdzfWrwxPMSEDEcZIBOPoDT7PwrpWkaLd2eg6Vp+mPdQlJPslskKyNtIBbaBnqa26KAPO774cXN78NfCuiXC6bd33h77PIYLtDJaXTRxGN42yuQpDEhtpIIBwelZHjPw6dF+FeuyR+H/D2gTXE9kqxaPFvB23MeGkfZEX5bhdoxg/Md3HrdFAHAaj4S8R+JNSub/XDpdpJDo11p1lFaTySLJJOAGlkZkXYvyIAgD4yfmOBm1eeEdUTRvCMumy2jav4aCYindlguAYDDKm8KWXhiVbaeQMrzx2tFAHnOp+ANa8QrrWqalc2FjrN59j+xQwM88EH2WQyxh3Koz7nJ3EKuARjJGTc8TeGNf8aeH2t9atNDt5rW7gu7OzMkl3BM0ZJZZ2aNPkcHbgIdvJy2do7qigDhrHwhNaaXqQtvB/g3TZblEiNlbxl4rpA2XWWUQpwQcAeWwUjcd2doz7LwHqtt4Zv9MutM0TULC7uw8Wg3l7PLbWcIjC7Yp2jLKd43gCMBckLt616TWVqPibSNJvJbTULvyZ4bCXUZE8p2xbxkB3yARwWHHU54FAHK6N4H1uzufCc+o6jHdNo1xezTiS4klZEmRxHEjuC0gTcF3OQcD8KZF4B1RPhjpvhwz2f2y11SO8dw7eWUW988gHbnO3jpjPfHNd5ZXkGoWFve2b+Zb3MSyxPgjcjDIODyOD3qagD5+W4hsNU1fWP7R0271aLxBNcw+Fro3H2u4cT7Y8Qrc+WJNm0o/kNgBHJOCR69448OXPiXQYYLCaGO7s7yC+gS5UmGZ4nDiOTHO1sYJGSOuDjFdHRQB5bdfD7xJd+MI/E8SaNp5iuYrqXQ4rueS3vplyvnyTbE2SBW4xE2Sq7ie3qVFFABRRRQBzdj/wAlT13/ALAum/8Ao++rpK5ux/5Knrv/AGBdN/8AR99XSUAFFFFABRRRQAUUUUAFFFFABRRRQAUUUUAFFFFABRRRQAUUUUAFFFFABRRRQAUUUUAFFFFABRRRQAUUUUAFFFFABRRRQAUUUUAFFFFABRRRQAUUUUAFFFFABRRRQAUUUUAFFFFABRRRQAUUUUAFFFFABRRRQAUUUUAFc34X/wCRi8Z/9hqP/wBN9nXSVzfhf/kYvGf/AGGo/wD032dAHSUUUUAFFFFABXnnjXxHqVt4xGj2moatYW8ekm8D6NpX26Z5mkKosgMUmxMI2OF3EN8wxz6HXBeJvBNxqnjV9bfQvD/iOB7GO1jttZby/spV2YshEMu7dv5yARt4PNAGJHrnjVb7R/Dd62tS6kmiRalqU+mJp/2gzSOymPM22IIpUj5VZjlfm4Ja9aaz4xvbzw54b1mZ9C1C7gu7i7u4o4HnkjgdVj2j95EjuJFZuGAwQAM8bGjfDqxg8N6TZ628txqGmxukd5ZXM1q8SOxbyUeNw/lKCFCk4wi8cVq3PgzQrrT7K0ks5EXT2Z7WaC5liniZgQ7CZGEm58ncd2XJJbOaAOJn8XeILO6u/DB1LzrtfEVvpMWsNBH5iwzW/wBo3MgAjMqgFAdoXJUleoOzrM+v6VqWheG4fEM0smtX0o/tSa1h+0QQxQGVkUBBEzsykBimApPysRmtweCfDw0CTRv7OBs5Z/tLlppDK027d5xmLeYZMgHfu3cDnimP4G8PyaYbGW1nlU3C3X2iS9na5WZQAJBcF/NDBQFyG+78vTigDjNX8XeIPD83iDQF1L7ddQS6bFY6ncwRh4PtkhiJkVFVGKFSy4UZyAQcZMOrLqvh74lX0765NqU9v4Ov57ae5ghWWJhLCRny1VGGRkfIO+c13aeCPDy6Hf6RJp/n2mpZN4bmaSaW4PZmldi5YYG07srgYxgVFb+APDlvdXF0LKaa6ubOSxnubm9nnllgkILIzu5Yj5RjnK84xk0Aczp+reIvEHiTRdMTX5tPt7nwxBqVzJb20LSvMXAJUujKuc8jaRjoB1rMt/HWtXuk+F7W91G+t5biTUItQvdI00XNy5tZPKVxEI5AquSCxCHDEAYBr0my8OaVp9/b3tna+XcW1iunxP5jnbbqchME4PI6nn3rkNd+G0Lappc+laJo2rafZJdg6VrEjCNZbiRZHmVzHKS2VI2lcYbjGKAN34f/ANut4Qhn8VXV1c39xLJKPtcMUMiRFiIgUjRQhKBWKnLBmYE8YHTVzngjw7ceGtFntbk28fn3ktzHZ2efs9kjnIhiyBlRyc7VBLMQo6V0dABRRRQAUUUUAc3Y/wDJU9d/7Aum/wDo++rpK5ux/wCSp67/ANgXTf8A0ffV0lABRRRQAUUUUAFFFFABRRRQAUUUUAFFFFABRRRQAUUUUAFFFFABRRRQAUUUUAFFFFABRRRQAUUUUAFFFFABRRRQAUUUUAFFFFABRRRQAUUUUAFFFFABRRRQAUUUUAFFFFABRRRQAUUUUAFFFFABRRRQAUUUUAFFFFABXN+F/wDkYvGf/Yaj/wDTfZ10lc34X/5GLxn/ANhqP/032dAHSUUUUAFFFFABRRRQAUUUUAFFFFABRRRQAUUUUAFFFFABRRRQAUUUUAc3Y/8AJU9d/wCwLpv/AKPvq6Subsf+Sp67/wBgXTf/AEffV0lABRRRQAUUUUAFFFFABRRRQAUUUUAFFFFABRRRQAUUUUAFFFFABRRRQAUUUUAFFFFABRRRQAUUUUAFFFFABRRRQAUUUUAFFFFABRRRQAUUUUAFFFFABRRRQAUUUUAFFFFABRRRQAUUUUAFFFFABRRRQAUUUUAFFFFABXP3fgnR7zU7q/ZtUguLx1kn+x6xd2ySMEVAxSOVVztRRnH8IroKKAOb/wCED0j/AJ/PEH/hR6h/8fo/4QPSP+fzxB/4Ueof/H66SigDm/8AhA9I/wCfzxB/4Ueof/H6P+ED0j/n88Qf+FHqH/x+ukooA5v/AIQPSP8An88Qf+FHqH/x+j/hA9I/5/PEH/hR6h/8frpKKAOb/wCED0j/AJ/PEH/hR6h/8fo/4QPSP+fzxB/4Ueof/H66SigDm/8AhA9I/wCfzxB/4Ueof/H65H4qeH4fDfwv1vV9F1TxBbX1rCrQy/8ACQXz7SXUdGmIPBPUV6lXBfHD/kiniT/r3X/0YlAGz/wgekf8/niD/wAKPUP/AI/R/wAIHpH/AD+eIP8Awo9Q/wDj9dJRQBzf/CB6R/z+eIP/AAo9Q/8Aj9H/AAgekf8AP54g/wDCj1D/AOP10lFAHN/8IHpH/P54g/8ACj1D/wCP0f8ACB6R/wA/niD/AMKPUP8A4/XSUUAc3/wgekf8/niD/wAKPUP/AI/R/wAIHpH/AD+eIP8Awo9Q/wDj9dJRQBzf/CB6R/z+eIP/AAo9Q/8Aj9H/AAgekf8AP54g/wDCj1D/AOP10lFAGRo3hjTdBurm6sPtj3F0kcc0t5fz3TsqFyigyuxABkc4GPvGteiigAooooAKKKKACiiigAooooAKKKKACiiigAooooAKKKKACiiigAooooAKKKKACiiigAooooAKKKKACiiigAooooAKKKKACiiigAooooAKKKKACiiigAooooAKKKKACiiigAooooAKKKKACiiigAooooAKKKKACiiigAooooAKKKKACiiigAooooAKKKKACuC+OH/JFPEn/Xuv/oxK72uC+OH/ACRTxJ/17r/6MSgDvaKKKACiiigAooooAKKKKACiiigAooooAKKKKACiiigAooooAKKKKACiiigAooooAKKKKACiiigAooooAKKKKACiiigAooooAKKKKACiiigAooooAKKKKACiiigAooooAKKKKACiiigAooooAKKKKACiiigAooooAKKKKACiiigAooooAKKKKACiiigAooooAKKKKACiiigAooooAKKKKACiiigArgvjh/yRTxJ/17r/AOjErva4L44f8kU8Sf8AXuv/AKMSgDvaKKKACiiigAooooAKKKKACiiigAooooAKKKKACiiigAooooAKKKKACiiigAooooAKKKKACiiigAooooAKKKKACiiigAooooAKKKKACiiigAooooAKKKKACiiigAooooAKKKKACiiigAooooAKK4DwX4Wt9Y8BaBqWoarr8t3eaZbXE7jXLtdzvErMcCTA5J4Fbf8Awgunf9BLxB/4Prz/AOO0AdJRXN/8ILp3/QS8Qf8Ag+vP/jtH/CC6d/0EvEH/AIPrz/47QB0lFc3/AMILp3/QS8Qf+D68/wDjtH/CC6d/0EvEH/g+vP8A47QB0lFc3/wgunf9BLxB/wCD68/+O0f8ILp3/QS8Qf8Ag+vP/jtAHSUVzf8Awgunf9BLxB/4Prz/AOO0f8ILp3/QS8Qf+D68/wDjtAHSUVzf/CC6d/0EvEH/AIPrz/47R/wgunf9BLxB/wCD68/+O0AdJRXN/wDCC6d/0EvEH/g+vP8A47R/wgunf9BLxB/4Prz/AOO0AdJRXN/8ILp3/QS8Qf8Ag+vP/jtH/CC6d/0EvEH/AIPrz/47QB0lFc3/AMILp3/QS8Qf+D68/wDjtH/CC6d/0EvEH/g+vP8A47QB0lFc3/wgunf9BLxB/wCD68/+O0f8ILp3/QS8Qf8Ag+vP/jtAHSUVzf8Awgunf9BLxB/4Prz/AOO0f8ILp3/QS8Qf+D68/wDjtAHSUVzf/CC6d/0EvEH/AIPrz/47R/wgunf9BLxB/wCD68/+O0AdJRXN/wDCC6d/0EvEH/g+vP8A47R/wgunf9BLxB/4Prz/AOO0AdJRXN/8ILp3/QS8Qf8Ag+vP/jtH/CC6d/0EvEH/AIPrz/47QB0lcF8cP+SKeJP+vdf/AEYlbP8Awgunf9BLxB/4Prz/AOO1n698OdE1Dw/fWt9c61cwSQtuim1q6dGwMjKtIQeQDyKAO0orhvC/hK11Hwho97d6r4gkuLmxgmlf+3bsbmaMEnAk9TWr/wAILp3/AEEvEH/g+vP/AI7QB0lFc3/wgunf9BLxB/4Prz/47R/wgunf9BLxB/4Prz/47QB0lFc3/wAILp3/AEEvEH/g+vP/AI7R/wAILp3/AEEvEH/g+vP/AI7QB0lFc3/wgunf9BLxB/4Prz/47R/wgunf9BLxB/4Prz/47QB0lFc3/wAILp3/AEEvEH/g+vP/AI7R/wAILp3/AEEvEH/g+vP/AI7QB0lFc3/wgunf9BLxB/4Prz/47R/wgunf9BLxB/4Prz/47QB0lFc3/wAILp3/AEEvEH/g+vP/AI7R/wAILp3/AEEvEH/g+vP/AI7QB0lFc3/wgunf9BLxB/4Prz/47R/wgunf9BLxB/4Prz/47QB0lFc3/wAILp3/AEEvEH/g+vP/AI7R/wAILp3/AEEvEH/g+vP/AI7QB0lFc3/wgunf9BLxB/4Prz/47R/wgunf9BLxB/4Prz/47QB0lFc3/wAILp3/AEEvEH/g+vP/AI7R/wAILp3/AEEvEH/g+vP/AI7QB0lFc3/wgunf9BLxB/4Prz/47R/wgunf9BLxB/4Prz/47QB0lFc3/wAILp3/AEEvEH/g+vP/AI7R/wAILp3/AEEvEH/g+vP/AI7QB0lFc3/wgunf9BLxB/4Prz/47R/wgunf9BLxB/4Prz/47QB0lFc3/wAILp3/AEEvEH/g+vP/AI7WL4w8MQaN4O1TUtP1XXo7q1t2liZtbunAYcjIMhB+hoA76iiigAooooAKKKKACiiigAooooAKKKKACiiigAooooAKKKKACiiigAooooAKKKKAOb+HH/JLPCn/AGBbP/0QldJXN/Dj/klnhT/sC2f/AKISukoAKKKKACiiigAooooAKKKKACiiigAooooAKKKKACiiigAooooAKKKKACiiigAooooAKKKKACq2pf8AIKu/+uL/APoJqzVbUv8AkFXf/XF//QTQBm+Cv+RB8P8A/YMtv/RS1t1ieCv+RB8P/wDYMtv/AEUtbdABRRRQAUUUUAFFFFABRRRQAUUUUAFFFFABRRRQAUUUUAFFFFABRRRQAUUUUAFFFFABRRRQAVzfxE/5Jxr3/XlJ/Kukrm/iJ/yTjXv+vKT+VAHSUUUUAFFFFABRRRQAUUUUAFFFFABRRRQAUUUUAFFFFABRRRQAUUUUAFFFFABRRRQBzfw4/wCSWeFP+wLZ/wDohK6Sub+HH/JLPCn/AGBbP/0QldJQAUUUUAFFFFABRRRQAUUUUAFFFFABRRRQAUUUUAFFFFABRRRQAUUUUAFFFFABRRRQAUUUUAFVtS/5BV3/ANcX/wDQTVmq2pf8gq7/AOuL/wDoJoAzfBX/ACIPh/8A7Blt/wCilrbrE8Ff8iD4f/7Blt/6KWtugAooooAKKKKACiiigAooooAKKKKACiiigAooooAKKKKACiiigAooooAKKKKACiiigAooooAK5v4if8k417/ryk/lXSVzfxE/5Jxr3/XlJ/KgDpKKKKACiiigAooooAKKKKACiiigAooooAKKKKACiiigAooooAKKKKACiiigAoorzz42aTrl/wDDm6vfCuq6hp2paX/pQ+w3TwmeMD94h2kZ+X5h1OVwOtAG/wDDj/klnhT/ALAtn/6ISukrxX9mrStdHguTW9e1XUbm3uQLfTbS4uneKGCPjcqE4XJGBgcBOODXtVABRRRQAUUUUAFFFFABRRRQAUUUUAFFFFABRRRQAUUUUAFFFFABRRRQAUUUUAFFFFABRRRQAVW1L/kFXf8A1xf/ANBNWa8y+POla5d/DmfU/DGq6hYXmlZnlSyuni8+DGJAwUjOB83PQK3rQB2Xgr/kQfD/AP2DLb/0UtbdeP8A7Oela7F4D/tnxFquo3Yv9q2NtdXLyJBbpwpVWOFyc9P4QtewUAFFFFABRRRQAUUUUAFFFFABRRRQAUUUUAFFFFABRRRQAUUUUAFFFFABRRRQAUUUUAFFFFABXN/ET/knGvf9eUn8q6SvD/2mNM16Pwrb6/oWrajbWtv/AKNqNpb3UiRSRufldkBwcMdpyOdy+lAHuFFcF8G9I1vS/h1Zz+KdT1DUNT1D/SpPt1y8rQqwGxBvJxhcEj1JrvaACiiigAooooAKKKKACiiigAooooAK5/x6A3w38SqwyDpN0CP+2LV0FYHjz/knPiT/ALBN1/6JagDl/Dnwk8BXXhXSri48LafJNNZQvI7RnLMUBJ6+taX/AAp34e/9Clp3/fs/41v+FP8AkTNF/wCwfB/6LWtagDiv+FO/D3/oUtO/79n/ABo/4U78Pf8AoUtO/wC/Z/xrtaKAOK/4U78Pf+hS07/v2f8AGj/hTvw9/wChS07/AL9n/Gu1ooA4r/hTvw9/6FLTv+/Z/wAaP+FO/D3/AKFLTv8Av2f8a6+7vLbT7OW7v7iK1toVLyzTOERFHUljwB9axbfx/wCDru5it7XxZoc08zhI4o9ShZnYnAUANkknjFAGV/wp34e/9Clp3/fs/wCNH/Cnfh7/ANClp3/fs/412NxcR2trLcXDbIoULu2CcKBknA9qi03ULXV9KtNS0+XzrS8hSeCTaV3o6hlOCARkEcEZoA5Jfg58PVUAeE9OwBjlCf60v/Cnfh7/ANClp3/fs/411Gk6xY67YG80qfz7cSyQ79jL88blHGGAPDKR+HFXaAOK/wCFO/D3/oUtO/79n/Gj/hTvw9/6FLTv+/Z/xrq7nVLCyvLW0vL62t7m8ZltoZZlV5yBkhFJyxAPOKtUAcV/wp34e/8AQpad/wB+z/jR/wAKd+Hv/Qpad/37P+NdrRQBxX/Cnfh7/wBClp3/AH7P+NH/AAp34e/9Clp3/fs/412tFAHFf8Kd+Hv/AEKWnf8Afs/40f8ACnfh7/0KWnf9+z/jXa0UAcR8Go0i+EGgJEoVRC+AB/00eu3rivg9/wAkj0H/AK4v/wCjGrtaACiiigAooooAKKKKACuH+MkMdx8KdUhnQPG8tqrKehH2mKu4rivi9/yS/Uf+u1p/6VRUAH/Cnfh7/wBClp3/AH7P+NH/AAp34e/9Clp3/fs/412tFAHFf8Kd+Hv/AEKWnf8Afs/40f8ACnfh7/0KWnf9+z/jXa0UAcV/wp34e/8AQpad/wB+z/jR/wAKd+Hv/Qpad/37P+NdrRQBxX/Cnfh7/wBClp3/AH7P+NH/AAp34e/9Clp3/fs/411moalY6RYSX2q3lvY2kWPMuLmVY40yQBlmIAySB9TWXZeOfCWpXsVnp3ijRbu6mbbHBBqETu59AobJNAGP/wAKd+Hv/Qpad/37P+NH/Cnfh7/0KWnf9+z/AI11eqanaaNpN1qepS+TZ2cLTTybS2xFGScAEngdAKnhmS4gjmhbdHIodTjGQRkUAcaPg58PQoA8J6dx6oT/AFo/4U78Pf8AoUtO/wC/Z/xrqNG1ix8QaNa6rpE/2iyu0EkMuxl3r64YAj8RV2gDiv8AhTvw9/6FLTv+/Z/xo/4U78Pf+hS07/v2f8a3IvGXhifVv7Lg8R6TJqHmGL7Il9EZd44K7A2cjB4xnitmgDiv+FO/D3/oUtO/79n/ABo/4U78Pf8AoUtO/wC/Z/xrtaKAOK/4U78Pf+hS07/v2f8AGj/hTvw9/wChS07/AL9n/Gu1ooA4r/hTvw9/6FLTv+/Z/wAaxvGPwn8CWPgXXruz8L6fDcW+m3EsUixnKMsTEEc9QRXp1YHjz/knHiT/ALBN1/6JagCx4SVU8FaIqAKq6fbgADgDy1rXrJ8Kf8ibov8A14Qf+i1rWoAKKKKACiiigAooooAK4D4saZZ6xb+FLDU7dLm1n8R26SRSDKuDHLkGu/riviN/x8+Dv+xltv8A0XLQAf8ACnfh7/0KWnf9+z/jR/wp34e/9Clp3/fs/wCNdrRQBxX/AAp34e/9Clp3/fs/40f8Kd+Hv/Qpad/37P8AjXa0UAcV/wAKd+Hv/Qpad/37P+NH/Cnfh7/0KWnf9+z/AI12tFAHFf8ACnfh7/0KWnf9+z/jR/wp34e/9Clp3/fs/wCNdRqus6XoVoLrW9StNOt2cIJrudYkLEEhdzEDOAePaqem+MfDGtXos9H8R6Tf3TAsILW+ilcgdTtViaAMP/hTvw9/6FLTv+/Z/wAaD8HPh6VIPhPTufRCP611Gr6xY6Dprahqs/kWqPHG0mxmwzuqKMKCeWZR+PpUt/fW+l6bc399J5VtawvNNJtLbUUFmOBycAHgUAcl/wAKd+Hv/Qpad/37P+NH/Cnfh7/0KWnf9+z/AI12FrdQ3tnDdWr74Z41kjbBG5WGQcHnoaloA4r/AIU78Pf+hS07/v2f8aP+FO/D3/oUtO/79n/Guhl8T6BBrS6PPrmmx6oxCrYvdxickjIHlk7uQQRxWpQBxX/Cnfh7/wBClp3/AH7P+NH/AAp34e/9Clp3/fs/412tFAHFf8Kd+Hv/AEKWnf8Afs/40f8ACnfh7/0KWnf9+z/jXa0UAcV/wp34e/8AQpad/wB+z/jXK/Er4Y+C9F8A3l/pXhuxtbuGa22Sxx8rm4jU/mCR+Nev1xXxe/5JfqP/AF3tP/SqKgDtaKKKACsDx5/yTnxJ/wBgm6/9EtW/WB48/wCSc+JP+wTdf+iWoAs+FP8AkTNF/wCwfB/6LWtasnwp/wAiZov/AGD4P/Ra1rUAFFFFABRRRQAV5zaapFoniz4mancXUdpHai0lNxLC0qx4tBhiikFgD/CCCemR1r0asqTwzo80mrtNYpL/AG0qpfiRmZZwqbACCcD5eOMfnQB55aeINfXWr7RdY/ts2l54dubyP+24rJZVkQqvy/ZeikSchxkEDHem+F7vXPDfgv4d3ra3Je2uqJY2EmnNbRJFHHJb/I0ZC+ZvXau4s7BvmICjAXtrH4f+HNOvWvILO4kumtXsjPc3088nkNtzHukdjt+UYHbnGMnJpXw/8M6Ld2lxpunNEbFSLSFrmV4bYkYZo4mYojHnLKoY7mJOWOQDzjQvEGraf4b0PRdDivTLqur6u0kunrbm4RIrmRsJ9oYRAksMls8BsDJBHovgmfxLJZ30Xiq2uY/KuiLKe8NuLiaEqD+8W3YxhlYsuVxkBTjOSZpPA3h6TSYtNNgyW8Fy93C0VxKksMzuXZ0lVg6Elm+6w4JHTitLSdGstEtXg09JAJJDJLJPO88sr4A3PJIWdjtVVBJOAqgcACgDx/xvqSa7rnibULO21Ga/8PiCDRJLbSrm4j+0QOJ5v3kaMqlmCREEjATnrmvYND1e21/QLDV7Ft1vfW6XEfqAyg4PuM4NLpOj2OhaeLLS4PIg8ySUqXZyXdy7MWYkklmJ5NJoui2Hh7R4NL0e3+zWVvu8qLezBAWLEAsScZJwOgHAwABQBeooooAKKKKACiiigDivg9/ySPQf+uL/APoxq7WuK+D3/JI9B/64v/6Mau1oAKKKKACiiigAooooAK4r4vf8kv1H/rtaf+lUVdrXFfF7/kl+o/8AXa0/9KoqAO1ooooAKKKKACiiigArzHSNYTQdI+ImoyXLWvl+JJFWSO3M773htkVVTI3MWYKM8ZIzxmvTqxZvCOhXGm6tYTWCvbaxObi9jaRz5spVV3g5ypxGmNuMFQRg80AeZa7ruuNoPjzQNb/tQxx+GGvYP7XWzE6lvORhm1Owodgxn5shu2K6SxvNc8P654PtrvWpNTttcSS3mtXtoo0t2W3MqPDtXeANhUh2fhs5yOd6P4e+Go11ENZTTNqlobO9luL6eaSeHn5Wd3LdyAc5AwAcAVPpfgnQNG1KO/0+xZJ4UaO3ElxLIlsjEblhR2KxA4HCBRgAdKAPLfB/iHWovBngbw7okWogT6JJezy6WtqbghJFQKv2phGFy+W4Zvu4AGTXqHgufxDNoTjxZayQXcdxIkTTGHzZoQfkeQQsyByDghTjIyAM4pjeAfDh0nS9OjsZIIdIBWwkt7uaKa2DDDBZkcSAEcEbsHAznArY03TLTSLFbSwjZIgSxLyNI7sTkszsSzMe5JJNAHiM51dvhl4hZ9Os20Sz8R3V5cXUd2TeJHFfGRzHC0YTcApwTKOM8Z4r3aGZLiCOaFt0cih1OMZBGRXMP8NPC8jTCWzu5be4uWuprOTUrlrWWRn8wloDJ5bAtzgrj2rqqACiiigAooooAKwPHn/JOPEn/YJuv/RLVv1gePP+SceJP+wTdf8AolqALPhT/kTdF/68IP8A0Wta1ZPhT/kTdF/68IP/AEWta1ABRRRQAUUUUAFFFFABXFfEb/j58Hf9jLbf+i5a7WuK+I3/AB8+Dv8AsZbb/wBFy0AdrRRRQAUUUUAFFFFABXlPhjV20j4Vx+Tc3UFzea9eWluLO3SaeV3vJvkjEh8tWwCd0nyqASa9WrBk8FaBJoI0Y2LLZLdG8QJcSJJHOZDL5iSBg6NvJOVYdSOnFAHl/iHXNb1HwH4v0nVmuxcaZqulrbvqcVv56rJPbuBILY+W2GyRtIOCAea2/F17rGj/ANuaBqGsTaxa6h4Wv7sNPBFG9tJEoUhfLVfkYSjhtxBX7xya61fh34WXTr+xfS/Pt9SlimvVuLiWU3LxMGRnZ2JY5UZyfm75qW28CeHrSK+RLKWX7faGyne5u5p3+znP7pXdyyJ8x+VSBnmgDh4PEPiC7vLDQNFi1hLex0KyuXk0dbEyu8qsBuN2wXYBHwFBJJOSMAHttJvPEZ+Hn2rXLNbfX0tJS8CFCDIu4IflZl+YBTgEgZxUl54J0K+ks5Xtp7eeytvskNxZ3s9tMIeD5ZkidWZcgHDEjPPWtiysrfTrKK0sohFBCu1EHYfXqT6k8mgDkfhjp+mXXwj0MGGC7jv7OO6vDKgfz7hwHkZ853Nvzye49q7WucHgHw6l7LcR2c8SzTefLaxXs6Wsj8ZZrcOIjkgE5Xk8nJro6ACiiigAooooAK4r4vf8kv1H/rvaf+lUVdrXFfF7/kl+o/8AXe0/9KoqAO1ooooAKwPHn/JOPEn/AGCbr/0S1b9YHj0Bvhv4lDDIOk3QIPf9y1ACeFdTsF8HaMrXtsCLCAEGVeP3a+9av9q6f/z/ANt/3+X/ABr4at9Os2tYi1rCSUBJKDnipP7Nsv8An0h/74FcDxsU7WPrY8L15RUvaLX1PuH+1dP/AOf+2/7/AC/40f2rp/8Az/23/f5f8a+Hv7Nsv+fSH/vgUf2bZf8APpD/AN8Cl9ej2K/1Vr/8/F+J9w/2rp//AD/23/f5f8aBq2nEAi/tSD0ImX/Gvhq406zW1lK2sIIQkEIOOK+q/Bfw38FXngHw/c3fhTR5p5tMtpJZZLKMs7GJSSTjkknNdNGsqqbSPGzLLJ5fKKnJPm7Hdf2rp/8Az/23/f5f8aP7V0//AJ/7b/v8v+NYH/CrvAn/AEJ+if8AgDH/AIUf8Ku8Cf8AQn6J/wCAMf8AhW55Jv8A9q6f/wA/9t/3+X/Gj+1dP/5/7b/v8v8AjWB/wq7wJ/0J+if+AMf+FVNV+GXgaLRr2SPwjoqulvIysLGMEEKeelAHUrq+muoZdQtWUjIImXBH50v9q6f/AM/9t/3+X/GvJ/AngHwjffDzw/dXnhrS57ibToJJZZLRGZ2MYJJJHJJrf/4Vv4K/6FTR/wDwCj/wry5ZjCLa5WdKw7avc7n+1dP/AOf+2/7/AC/40f2rp/8Az/23/f5f8a4b/hW/gr/oVNH/APAKP/Cj/hW/gr/oVNH/APAKP/Cl/acP5WH1eXc7n+1dP/5/7b/v8v8AjSLq+muoZdQtWUjIImXBH51wsvw38FCFyPCmjghTj/Qk/wAKofDD4eeDtS+Fvh691DwvpNzdT2MbyzS2aMzsR1JI5NdeHxMa97K1jOpTcNz0r+1dP/5/7b/v8v8AjR/aun/8/wDbf9/l/wAawP8AhV3gT/oT9E/8AY/8KP8AhV3gT/oT9E/8AY/8K6jI3/7V0/8A5/7b/v8AL/jR/aun/wDP/bf9/l/xrA/4Vd4E/wChP0T/AMAY/wDCj/hV3gT/AKE/RP8AwBj/AMKAKnwe5+Eeg4/54v8A+jGrta4j4NxpF8IdASNVRRC+AowP9Y9dvQAUUUUAFFFFABRRRQAVxXxfIX4XakWOAJrXJP8A18xV2teffHVQ/wAFNfDAEYg4I/6eI6BpXdjtv7V0/wD5/wC2/wC/y/40f2rp/wDz/wBt/wB/l/xr4e/s2y/59If++BR/Ztl/z6Q/98CvP+vR7H13+qtf/n4vxPuH+1dP/wCf+2/7/L/jR/aun/8AP/bf9/l/xr4e/s2y/wCfSH/vgUf2bZf8+kP/AHwKPr0ewf6q1/8An4vxPuE6tpwBJv7UAdSZl/xo/tXT/wDn/tv+/wAv+NfC97p9olo7JbRKcjkIPUV9Qf8ACvPB3/Qr6T/4Bp/hWixcWr2PJxuU1MJUVOUk9L/n/kekf2rp/wDz/wBt/wB/l/xo/tXT/wDn/tv+/wAv+Neb/wDCvPB3/Qr6T/4Bp/hR/wAK88Hf9CvpP/gGn+FP61HscX1SXc9I/tXT/wDn/tv+/wAv+NI2r6ailm1C1VQMkmZcAfnXnH/CvPB3/Qr6T/4Bp/hXOfELwP4WsPh3rl1ZeHtNt7iGzdo5Y7VFZDjqCBwaaxMW7WE8LJK9z2v+1dP/AOf+2/7/AC/40f2rp/8Az/23/f5f8a5yH4X+BWt4yfCGiklRk/YY/T6VJ/wq7wJ/0J+if+AMf+FdRyG//aun/wDP/bf9/l/xo/tXT/8An/tv+/y/41gf8Ku8Cf8AQn6J/wCAMf8AhR/wq7wJ/wBCfon/AIAx/wCFAG82r6ailm1C1VQMkmZcAfnS/wBq6f8A8/8Abf8Af5f8a89+IXw58GWHw18SXdl4W0i3uYNLuJIpY7NFZGEbEMCBwQa2NJ+GXgaXRbKSTwjozu9vGzMbGMkkqOelAHVf2rp//P8A23/f5f8AGj+1dP8A+f8Atv8Av8v+NYH/AAq7wJ/0J+if+AMf+FH/AAq7wJ/0J+if+AMf+FAG/wD2rp//AD/23/f5f8awvHWp2L/DvxGqXtuzNpV0ABKpJPlN703/AIVd4E/6E/RP/AGP/CsTxn8N/BVn4D1+5tPCmjwzw6ZcyRSJZRhkYRMQQccEEZoA6/wp/wAibov/AF4Qf+i1rWrI8JKqeCtEVAFVdPgAAGAB5a1r0AFFFFABRRRQAUUUUAFcR8SpEil8HvK6oi+JbYlmOAP3ctdvXkH7ScaS/DrTFlRXX+2YeGGf+WctKTsmzSlTdWpGC6tL7z1T+1dP/wCf+2/7/L/jR/aun/8AP/bf9/l/xr4e/s2y/wCfSH/vgUf2bZf8+kP/AHwK4Pr0ex9X/qrX/wCfi/E+4f7V0/8A5/7b/v8AL/jR/aun/wDP/bf9/l/xr4e/s2y/59If++BR/Ztl/wA+kP8A3wKPr0ewf6q1/wDn4vxPuE6tpw639qP+2y/40f2rp/8Az/23/f5f8a+MPDGj6dc+OfDltcWNvLBPq1tFLG8YKuhkAKkdwR2r6w/4Vd4E/wChP0T/AMAY/wDCuulVVWPMjwMwwM8DW9jN3dr6G/8A2rp//P8A23/f5f8AGj+1dP8A+f8Atv8Av8v+NYH/AAq7wJ/0J+if+AMf+FH/AAq7wJ/0J+if+AMf+Fannm//AGrp/wDz/wBt/wB/l/xpG1fTVGW1C1AyBzMvU/jWD/wq7wJ/0J+if+AMf+FcX8Uvh/4Q0zwtZTad4Z0q1lfV7KJnhtEUlGnUMuQOhBIIprVgep/2rp//AD/23/f5f8aP7V0//n/tv+/y/wCNeT/8ID4R/wCha0v/AMBE/wAKP+EB8I/9C1pf/gIn+FdH1eXcx9qj1j+1dP8A+f8Atv8Av8v+NH9q6f8A8/8Abf8Af5f8a8n/AOEB8I/9C1pf/gIn+FH/AAgPhH/oWtL/APARP8KPq8u4e1R6u2r6aoy2oWoGQOZl6n8aX+1dP/5/7b/v8v8AjXgnjvwZ4asfC/nWeg6dBL9ttE3x2yqdrXEasMgdCCR+NdH/AMID4R/6FrS//ARP8KX1d3tcftVY9Y/tXT/+f+2/7/L/AI0f2rp//P8A23/f5f8AGvJ/+EB8I/8AQtaX/wCAif4Uf8ID4R/6FrS//ARP8Kf1eXcXtUesf2rp/wDz/wBt/wB/l/xrjfizqFnN8NNQjhu4JHae1wqygk/6TF2zXM/8ID4R/wCha0v/AMBE/wAKwPG3g3w1p/hOe5sdB063nSe32yR2yKwzPGDzj0JFJ0Gle41VTdj6CooornNQrA8ef8k58Sf9gm6/9EtW/WB48/5Jz4k/7BN1/wCiWoA+N7X/AI84f+ua/wAqlqK1/wCPOH/rmv8AKpa+cluz9ppfw4+iCiiipNSK5/49Jv8Acb+VfZHgL/km/hr/ALBNr/6JWvje5/49Jv8Acb+VfZHgL/km/hr/ALBNr/6JWvUwO0j4Tir+JS9H+hv0UUV6J8YFUtZ/5AV//wBe0n/oJq7VLWf+QFf/APXtJ/6CaAOK+HP/ACTHw1/2C7f/ANFrXSVzfw5/5Jj4a/7Bdv8A+i1rpK+RqfG/U9SOyCiiioKGTf6iT/dP8qzvhF/yR/wx/wBg+P8AlWjN/qJP90/yrO+EX/JH/DH/AGD4/wCVezln2/l+pyYnodlRRRXsHIFFFFAHFfB7/kkeg/8AXF//AEY1drXFfB7/AJJHoP8A1xf/ANGNXa0AFFFFABRRRQAUUUUAFef/ABz/AOSLa9/uwf8ApRHXoFef/HP/AJItr3+7B/6UR0nsXD40fLtFFFfNn7WFFFFAFa//AOPJ/qv8xX13XyJf/wDHk/1X+Yr67rph8Hz/AMj4zPv96j/hX5sKKKKo8EK5b4m/8kv8Q/8AXjJ/Kuprlvib/wAkv8Q/9eMn8qqHxIifws9Vg/49ov8AcH8qkqOD/j2i/wBwfyqSvYPFCiiigDl/ib/ySjxV/wBgi6/9FNW3o3/IBsP+vaP/ANBFYnxN/wCSUeKv+wRdf+imrb0b/kA2H/XtH/6CKALtFFFABWB48/5Jx4k/7BN1/wCiWrfrA8ef8k48Sf8AYJuv/RLUAWfCn/Im6L/14Qf+i1rWrJ8Kf8ibov8A14Qf+i1rWoAKKKKACiiigAooooAK8j/aQ/5J7pn/AGGYf/RcteuV5H+0h/yT3TP+wzD/AOi5aip8D9Dqwf8AvNP/ABL8z55ooor50/ZAooooA1fCX/JQ/C3/AGGbX/0YK+za+MvCX/JQ/C3/AGGbX/0YK+za9nB/wvmfm3Ev+/f9ur9QooorsPmgrg/jB/yJ9h/2G9P/APShK7yuD+MH/In2H/Yb0/8A9KEpx3QnsQ0UUV6pxBRRRQBy3xF/5FH/ALf7L/0pjrqa5b4i/wDIo/8Ab/Zf+lMddTU/aY+gUUUVQgrmfiF/yJNz/wBd7b/0ojrpq5n4hf8AIk3P/Xe2/wDSiOon8LKjuj2iiiivMOwKwPHn/JOfEn/YJuv/AES1b9YHjz/knPiT/sE3X/olqAPje1/484f+ua/yqWorX/jzh/65r/Kpa+cluz9ppfw4+iCiiipNSK5/49Jv9xv5V9keAv8Akm/hr/sE2v8A6JWvje5/49Jv9xv5V9keAv8Akm/hr/sE2v8A6JWvUwO0j4Tir+JS9H+hv0UUV6J8YFUtZ/5AV/8A9e0n/oJq7VLWf+QFf/8AXtJ/6CaAOK+HP/JMfDX/AGC7f/0WtdJXN/Dn/kmPhr/sF2//AKLWukr5Gp8b9T1I7IKKKKgoZN/qJP8AdP8AKs74Rf8AJH/DH/YPj/lWjN/qJP8AdP8AKs74Rf8AJH/DH/YPj/lXs5Z9v5fqcmJ6HZUUUV7ByBRRRQBxXwe/5JHoP/XF/wD0Y1drXFfB7/kkeg/9cX/9GNXa0AFFFFABRRRQAUUUUAFef/HP/ki2vf7sH/pRHXoFef8Axz/5Itr3+7B/6UR0nsXD40fLtFFFfNn7WFFFFAFa/wD+PJ/qv8xX13XyJf8A/Hk/1X+Yr67rph8Hz/yPjM+/3qP+FfmwoooqjwQrlvib/wAkv8Q/9eMn8q6muW+Jv/JL/EP/AF4yfyqofEiJ/Cz1WD/j2i/3B/KpKjg/49ov9wfyqSvYPFCiiigDl/ib/wAko8Vf9gi6/wDRTVt6N/yAbD/r2j/9BFYnxN/5JR4q/wCwRdf+imrb0b/kA2H/AF7R/wDoIoAu0UUUAFYHjz/knHiT/sE3X/olq36wPHn/ACTjxJ/2Cbr/ANEtQBZ8Kf8AIm6L/wBeEH/ota1qyfCn/Im6L/14Qf8Aota1qACiiigAooooAKKKKACvI/2kP+Se6Z/2GYf/AEXLXrleR/tIf8k90z/sMw/+i5aip8D9Dqwf+80/8S/M+eaKKK+dP2QKKKKANXwl/wAlD8Lf9hm1/wDRgr7Nr4y8Jf8AJQ/C3/YZtf8A0YK+za9nB/wvmfm3Ev8Av3/bq/UKKKK7D5oK4P4wf8ifYf8AYb0//wBKErvK4P4wf8ifYf8AYb0//wBKEpx3QnsQ0UUV6pxBRRRQBy3xF/5FH/t/sv8A0pjrqa5b4i/8ij/2/wBl/wClMddTU/aY+gUUUVQgrmfiF/yJNz/13tv/AEojrpq5n4hf8iTc/wDXe2/9KI6ifwsqO6PaKKKK8w7ArA8e5Pw38S7Tg/2TdYOOn7lq36wPHn/JOfEn/YJuv/RLUAfFlvDfG2i23cYGwYHk9OPrUnkX/wDz+Rf9+P8A7Kp7X/jzh/65r/Kpa+flN3e33I/YKWFg6cdZbL7Uv8yn5F//AM/kX/fj/wCyo8i//wCfyL/vx/8AZVcopc78vuRp9Vp95f8AgUv8zPuIb4W0u67jI2HI8jrx9a+o/BuiePJPAmgvZ+MtNgt2023MUT6HvMaGJcKW84ZIHGcDNfM9z/x6Tf7jfyr7I8Bf8k38Nf8AYJtf/RK16WCk2mfE8T0o050rX2e7b7d2zJ/sH4if9Dxpf/gg/wDt9H9g/ET/AKHjS/8AwQf/AG+u1orvPkTiv7B+In/Q8aX/AOCD/wC31V1TQ/iCuj3hl8a6W6CByyjQcEjacjPn8V39UtZ/5AV//wBe0n/oJoA8h8DaR40l+H+gSWPivT7e2bToDFC+j+Y0a+WMKW80ZIHfAzW9/Ynj3/octN/8Ef8A9uq38Of+SY+Gv+wXb/8Aota6SvlalSXO9t+yPSjFWRyH9iePf+hy03/wR/8A26j+xPHv/Q5ab/4I/wD7dXX0VHtZeX3L/IrlRxsui+PPJfPjHTSNpyP7D/8At1Ufhno3jif4Y+H5dN8XadaWjWSGGCTRfNaNccAv5w3fXArvZv8AUSf7p/lWd8Iv+SP+GP8AsHx/yr18tk5c1/L9TlxCtYZ/YPxE/wCh40v/AMEH/wBvo/sH4if9Dxpf/gg/+312tFescpxX9g/ET/oeNL/8EH/2+j+wfiJ/0PGl/wDgg/8At9drRQBxHwbDj4QaAJWDN5L5IXGf3j9q7euK+D3/ACSPQf8Ari//AKMau1oAKKKKACiiigAooooAK8++OwY/BTX9h2nEHJGf+XiOvQa8/wDjn/yRbXv92D/0ojpPYqHxI+UfIv8A/n8i/wC/H/2VHkX/APz+Rf8Afj/7KrlFfP8AO/L7kfsX1Wn3l/4FL/Mp+Rf/APP5F/34/wDsqPIv/wDn8i/78f8A2VXKKOd+X3IPqtPvL/wKX+ZmXkN6LRi93GwyOBDjuPevpn+xvHH/AEN2nf8Agl/+3V84X/8Ax5P9V/mK+u66ITfJ8+y8j5DO6MYYlJN/CurfV92cn/Y3jj/obtO/8Ev/ANuo/sbxx/0N2nf+CX/7dXWUU+Z/0jxORf02cn/Y3jj/AKG7Tv8AwS//AG6ud8f6X4vh+H2tyX/iaxubZbRzLCmk+WzrjkBvNOPrg16dXLfE3/kl/iH/AK8ZP5VUZPmRM4rlf+Z0MOhfEMwR48b6WBtGB/YHt/13p/8AYPxE/wCh40v/AMEH/wBvrsYP+PaL/cH8qkr1jxziv7B+In/Q8aX/AOCD/wC30f2D8RP+h40v/wAEH/2+u1ooA8p8f6L46h+HHiKS/wDGGm3NqmmXDTQponltInltlQ3nHaSOM4OPStbStD+ILaPZmLxrpaIYEKqdByQNowM+fzWx8Tf+SUeKv+wRdf8Aopq29G/5ANh/17R/+gigDl/7B+In/Q8aX/4IP/t9H9g/ET/oeNL/APBB/wDb67WigDiv7B+In/Q8aX/4IP8A7fWN4x0Tx5H4F157zxlps9uum3BliTQ9hkTymyobzjgkcZwcV6dWB48/5Jx4k/7BN1/6JagCx4S3DwVom8gt/Z8GSBgE+Wvatesnwp/yJui/9eEH/ota1qACiiigAooooAKKKKACvIP2lFkb4c6YInCN/bMPJXP/ACylr1+vI/2kP+Se6Z/2GYf/AEXLUVPgZ04RXxFNea/M+bfIv/8An8i/78f/AGVHkX//AD+Rf9+P/squUV4PO/L7kfrf1Wn3l/4FL/Mp+Rf/APP5F/34/wDsqPIv/wDn8i/78f8A2VXKKOd+X3IPqtPvL/wKX+ZL4attUfxt4eS21CGK4fVbdYZWttwjcuMMV3DcAe2Rn1r6o/sH4if9Dxpf/gg/+318z+Ev+Sh+Fv8AsM2v/owV9m162Ed6Z+e8RQVPG2V9lu2+/c4r+wfiJ/0PGl/+CD/7fR/YPxE/6HjS/wDwQf8A2+u1orrPnTiv7B+In/Q8aX/4IP8A7fXG/E7R/G0HhizbU/Fmn3cR1ayVUj0byiHM6hWz5xyAcHHfpkV7PXB/GD/kT7D/ALDen/8ApQlNbiexyH9keNP+hr0//wAE/wD9to/sjxp/0Nen/wDgn/8AttdTRXp8qOS5y39keNP+hr0//wAE/wD9to/sjxp/0Nen/wDgn/8AttdTRRyoLnmnjjTPFcXhndfeI7K4i+2Wo2JpflncbhApz5h6HBx3xjiui/sjxp/0Nen/APgn/wDttHxF/wCRR/7f7L/0pjrqanlXMO+hy39keNP+hr0//wAE/wD9to/sjxp/0Nen/wDgn/8AttdTRVcqFc5b+yPGn/Q16f8A+Cf/AO21heM9N8VQ+F5pNQ8RWV1bie33xJpfllv36Y+bzTjnB6dq9GrmfiF/yJNz/wBd7b/0ojqZxXKxxeqPaKKKK806wrA8ef8AJOfEn/YJuv8A0S1b9YHjz/knPiT/ALBN1/6JagD43tf+POH/AK5r/Kpaitf+POH/AK5r/Kpa+cluz9ppfw4+iCiiipNSK5/49Jv9xv5V9keAv+Sb+Gv+wTa/+iVr43uf+PSb/cb+VfZHgL/km/hr/sE2v/ola9TA7SPhOKv4lL0f6G/RRRXonxgVS1n/AJAV/wD9e0n/AKCau1S1n/kBX/8A17Sf+gmgDivhz/yTHw1/2C7f/wBFrXSVzfw5/wCSY+Gv+wXb/wDota6Svkanxv1PUjsgoooqChk3+ok/3T/Ks74Rf8kf8Mf9g+P+VaM3+ok/3T/Ks74Rf8kf8Mf9g+P+Vezln2/l+pyYnodlRRRXsHIFFFFAHFfB7/kkeg/9cX/9GNXa1xXwe/5JHoP/AFxf/wBGNXa0AFFFFABRRRQAUUUUAFef/HP/AJItr3+7B/6UR16BXn/xz/5Itr3+7B/6UR0nsXD40fLtFFFfNn7WFFFFAFa//wCPJ/qv8xX13XyJf/8AHk/1X+Yr67rph8Hz/wAj4zPv96j/AIV+bCiiiqPBCuW+Jv8AyS/xD/14yfyrqa5b4m/8kv8AEP8A14yfyqofEiJ/Cz1WD/j2i/3B/KpKjg/49ov9wfyqSvYPFCiiigDl/ib/AMko8Vf9gi6/9FNW3o3/ACAbD/r2j/8AQRWJ8Tf+SUeKv+wRdf8Aopq29G/5ANh/17R/+gigC7RRRQAVgePP+SceJP8AsE3X/olq36wPHn/JOPEn/YJuv/RLUAWfCn/Im6L/ANeEH/ota1qyfCn/ACJui/8AXhB/6LWtagAooooAKKKKACiiigAryP8AaQ/5J7pn/YZh/wDRcteuV5H+0h/yT3TP+wzD/wCi5aip8D9Dqwf+80/8S/M+eaKKK+dP2QKKKKANXwl/yUPwt/2GbX/0YK+za+MvCX/JQ/C3/YZtf/Rgr7Nr2cH/AAvmfm3Ev+/f9ur9QooorsPmgrg/jB/yJ9h/2G9P/wDShK7yuD+MH/In2H/Yb0//ANKEpx3QnsQ0UUV6pxBRRRQBy3xF/wCRR/7f7L/0pjrqa5b4i/8AIo/9v9l/6Ux11NT9pj6BRRRVCCuZ+IX/ACJNz/13tv8A0ojrpq5n4hf8iTc/9d7b/wBKI6ifwsqO6PaKKKK8w7ArA8ef8k58Sf8AYJuv/RLVv1z/AI9O34b+JTgnGk3RwB/0xagD44tf+POH/rmv8qlrPt9QVbWIfZ7o4QDIhPpUn9or/wA+11/34avn5U5Xeh+wUsXQVOPvdC5RVP8AtFf+fa6/78NR/aK/8+11/wB+Gpezl2NPrlD+Ynuf+PSb/cb+VfZHgL/km/hr/sE2v/ola+LLjUFa2lH2e6GUIyYT6V9R+DfiLbWfgTQbZvDXimUw6bbxmSHRZnR8RKMqwGCD2PcV6WCi0nc+J4nqwqzpcjvo/wBD0+iuK/4Wba/9Ct4u/wDBDP8A4Uf8LNtf+hW8Xf8Aghn/AMK7z5E7WqWs/wDICv8A/r2k/wDQTXL/APCzbX/oVvF3/ghn/wAKq6p8SraXR7yMeF/Fi7oHXc2hzADKnknHAoAZ8Of+SY+Gv+wXb/8Aota6SvMvA3jyCy+H+gWreH/Ekxh06BDJBpErxviMDKsBgj0Nb3/Cxbb/AKFrxV/4JJv8K+VqUp8706npRkrI6+iuQ/4WLbf9C14q/wDBJN/hR/wsW2/6FrxV/wCCSb/Co9lPsVzROsm/1En+6f5VnfCL/kj/AIY/7B8f8qwZfiJbmFx/wjXikZU9dFm/wqj8M/iBb6d8MfD9m/h3xNcNDZIhlttGmkjfA6qwGCPcV6+WxlHmv5fqcuIadrHr1FcV/wALNtf+hW8Xf+CGf/Cj/hZtr/0K3i7/AMEM/wDhXrHKdrRXFf8ACzbX/oVvF3/ghn/wo/4Wba/9Ct4u/wDBDP8A4UAHwe/5JHoP/XF//RjV2tcR8GnEnwg0BgGXML8MuD/rH7V29ABRRRQAUUUUAFFFFABXn/xz/wCSLa9/uwf+lEdegV598dm2fBTXzgniDgDJ/wCPiOk9iofEj5eoqn/aK/8APtdf9+Go/tFf+fa6/wC/DV8/7OXY/YvrlD+YuUVT/tFf+fa6/wC/DUf2iv8Az7XX/fhqPZy7B9cofzD7/wD48n+q/wAxX13Xx1e36vaMv2e5HI5MJA6ivpn/AIWBb/8AQu+J/wDwTTf4V0QhLk26/wCR8hndanPEpxf2V+bOsork/wDhYFv/ANC74n/8E03+FH/CwLf/AKF3xP8A+Cab/CnyS7Hic8e51lct8Tf+SX+If+vGT+VM/wCFgW//AELvif8A8E03+Fc74/8AGsF98PtbtV0LxBAZbR1Elxpcsca8dWYjAHvVRjLmRM5x5Xqe9Qf8e0X+4P5VJXDw/Ey2EEY/4RbxccKOmhT+n0p//CzbX/oVvF3/AIIZ/wDCvWPHO1oriv8AhZtr/wBCt4u/8EM/+FH/AAs21/6Fbxd/4IZ/8KALvxN/5JR4q/7BF1/6KatvRv8AkA2H/XtH/wCgivNvH/xCt774ceIrRfDfiiAz6ZcRiW40WaONMxsMsxGFA7k9K19K+JVtFo9lGfC/ixtsCLuTQ5iDhRyDjkUAd/RXFf8ACzbX/oVvF3/ghn/wo/4Wba/9Ct4u/wDBDP8A4UAdrWB48/5Jx4k/7BN1/wCiWrJ/4Wba/wDQreLv/BDP/hWN4x+Ittd+Bdetl8NeKojNptxGJJtFmREzEwyzEYAHc9qAO48Kf8ibov8A14Qf+i1rWrI8JNv8FaIwBAOn25wRg/6te1a9ABRRRQAUUUUAFFFFABXkf7SH/JPdM/7DMP8A6Llr1yvIP2lJPK+HOmMVZv8Aicw8IuT/AKqWoqfAzpwjSxFNvuvzPnyiqf8AaK/8+11/34aj+0V/59rr/vw1eD7OXY/W/rlD+YuUVT/tFf8An2uv+/DUf2iv/Ptdf9+Go9nLsH1yh/MdD4S/5KH4W/7DNr/6MFfZtfEXhrV0tvG3h64NnfSCDVbeQxxWzM74cHCqOWY9gOtfVH/CzbX/AKFbxd/4IZ/8K9bCJqnZn57xFUjUxvNB3Vl+p2tFcV/ws21/6Fbxd/4IZ/8ACj/hZtr/ANCt4u/8EM/+FdZ86drXB/GD/kT7D/sN6f8A+lCVP/ws21/6Fbxd/wCCGf8Awrjvid49t9S8MWcKeHvEtuV1ayl33WkSxKds6naCRyxxgDueKa3E9jpKK5b/AITyD/oX/En/AIKJf8KP+E8g/wChf8Sf+CiX/CvT5onJZnU0Vy3/AAnkH/Qv+JP/AAUS/wCFH/CeQf8AQv8AiT/wUS/4Uc0Qsw+Iv/Io/wDb/Zf+lMddTXmnjjxjDe+GfJXRddhP2y1fdPpkiL8twhxkjqcYA7kgV0X/AAnkH/Qv+JP/AAUS/wCFTzLmHZ2Oporlv+E8g/6F/wASf+CiX/Cj/hPIP+hf8Sf+CiX/AAquaIrM6muZ+IX/ACJNz/13tv8A0ojpn/CeQf8AQv8AiT/wUS/4VheM/GEN/wCFprZdG12AvPb/ALy40ySNFxOh5Yjjp+eKmclyscU7o+iKKKK806wrA8ef8k58Sf8AYJuv/RLVv1gePP8AknPiT/sE3X/olqAPje1/484f+ua/yqWorX/jzh/65r/Kpa+cluz9ppfw4+iCiiipNSK5/wCPSb/cb+VfZHgL/km/hr/sE2v/AKJWvje5/wCPSb/cb+VfZHgL/km/hr/sE2v/AKJWvUwO0j4Tir+JS9H+hv0UUV6J8YFUtZ/5AV//ANe0n/oJq7VLWf8AkBX/AP17Sf8AoJoA4r4c/wDJMfDX/YLt/wD0WtdJXN/Dn/kmPhr/ALBdv/6LWukr5Gp8b9T1I7IKKKKgoZN/qJP90/yrO+EX/JH/AAx/2D4/5Vozf6iT/dP8qzvhF/yR/wAMf9g+P+Vezln2/l+pyYnodlRRRXsHIFFFFAHFfB7/AJJHoP8A1xf/ANGNXa1xXwe/5JHoP/XF/wD0Y1drQAUUUUAFFFFABRRRQAV5/wDHP/ki2vf7sH/pRHXoFef/ABz/AOSLa9/uwf8ApRHSexcPjR8u0UUV82ftYUUUUAVr/wD48n+q/wAxX13XyJf/APHk/wBV/mK+u66YfB8/8j4zPv8Aeo/4V+bCiiiqPBCuW+Jv/JL/ABD/ANeMn8q6muW+Jv8AyS/xD/14yfyqofEiJ/Cz1WD/AI9ov9wfyqSo4P8Aj2i/3B/KpK9g8UKKKKAOX+Jv/JKPFX/YIuv/AEU1bejf8gGw/wCvaP8A9BFYnxN/5JR4q/7BF1/6KatvRv8AkA2H/XtH/wCgigC7RRRQAVgePP8AknHiT/sE3X/olq36wPHn/JOPEn/YJuv/AES1AFnwp/yJui/9eEH/AKLWtasnwp/yJui/9eEH/ota1qACiiigAooooAKKKKACvI/2kP8Aknumf9hmH/0XLXrleR/tIf8AJPdM/wCwzD/6LlqKnwP0OrB/7zT/AMS/M+eaKKK+dP2QKKKKANXwl/yUPwt/2GbX/wBGCvs2vjLwl/yUPwt/2GbX/wBGCvs2vZwf8L5n5txL/v3/AG6v1Ciiiuw+aCuD+MH/ACJ9h/2G9P8A/ShK7yuD+MH/ACJ9h/2G9P8A/ShKcd0J7ENFFFeqcQUUUUAct8Rf+RR/7f7L/wBKY66muW+Iv/Io/wDb/Zf+lMddTU/aY+gUUUVQgrmfiF/yJNz/ANd7b/0ojrpq5n4hf8iTc/8AXe2/9KI6ifwsqO6PaKKKK8w7ArA8ef8AJOfEn/YJuv8A0S1b9YHjz/knPiT/ALBN1/6JagD43tf+POH/AK5r/Kpaitf+POH/AK5r/Kpa+cluz9ppfw4+iCiiipNSK5/49Jv9xv5V9keAv+Sb+Gv+wTa/+iVr43uf+PSb/cb+VfZHgL/km/hr/sE2v/ola9TA7SPhOKv4lL0f6G/RRRXonxgVS1n/AJAV/wD9e0n/AKCau1S1n/kBX/8A17Sf+gmgDivhz/yTHw1/2C7f/wBFrXSVzfw5/wCSY+Gv+wXb/wDota6Svkanxv1PUjsgoooqChk3+ok/3T/Ks74Rf8kf8Mf9g+P+VaM3+ok/3T/Ks74Rf8kf8Mf9g+P+Vezln2/l+pyYnodlRRRXsHIFFFFAHFfB7/kkeg/9cX/9GNXa1xXwe/5JHoP/AFxf/wBGNXa0AFFFFABRRRQAUUUUAFef/HP/AJItr3+7B/6UR16BXn/xz/5Itr3+7B/6UR0nsXD40fLtFFFfNn7WFFFFAFa//wCPJ/qv8xX13XyJf/8AHk/1X+Yr67rph8Hz/wAj4zPv96j/AIV+bCiiiqPBCuW+Jv8AyS/xD/14yfyrqa5b4m/8kv8AEP8A14yfyqofEiJ/Cz1WD/j2i/3B/KpKjg/49ov9wfyqSvYPFCiiigDl/ib/AMko8Vf9gi6/9FNW3o3/ACAbD/r2j/8AQRWJ8Tf+SUeKv+wRdf8Aopq29G/5ANh/17R/+gigC7RRRQAVgePP+SceJP8AsE3X/olq36wPHn/JOPEn/YJuv/RLUAWfCn/Im6L/ANeEH/ota1qyfCn/ACJui/8AXhB/6LWtagAooooAKKKKACiiigAryP8AaQ/5J7pn/YZh/wDRcteuV5H+0h/yT3TP+wzD/wCi5aip8D9Dqwf+80/8S/M+eaKKK+dP2QKKKKANXwl/yUPwt/2GbX/0YK+za+MvCX/JQ/C3/YZtf/Rgr7Nr2cH/AAvmfm3Ev+/f9ur9QooorsPmgrg/jB/yJ9h/2G9P/wDShK7yuD+MH/In2H/Yb0//ANKEpx3QnsQ0UUV6pxBRRRQBy3xF/wCRR/7f7L/0pjrqa5b4i/8AIo/9v9l/6Ux11NT9pj6BRRRVCCuZ+IX/ACJNz/13tv8A0ojrpq5n4hf8iTc/9d7b/wBKI6ifwsqO6PaKKKK8w7ArA8ef8k58Sf8AYJuv/RLVv1X1CwttV0y60+/j821u4Xgmj3Fd6MCrDIwRkE9KAPiC1/484f8Armv8qlr6iHwM+HIAA8Npgf8AT3P/APF0v/Cjfhz/ANC2n/gXP/8AF15rwLbvzH28OKYxio+y28/+AfLlFfUf/Cjfhz/0Laf+Bc//AMXR/wAKN+HP/Qtp/wCBc/8A8XS+ov8AmK/1rj/z6/H/AIB8r3P/AB6Tf7jfyr7I8Bf8k38Nf9gm1/8ARK1zx+Bnw5IIPhtMH/p7n/8Ai6sx/B3wPFGscejyqiAKqjULngDt/rK6qFD2Kave54ObZosxlBqPLy3633O3oriv+FQ+Cf8AoEzf+DG5/wDjlH/CofBP/QJm/wDBjc//AByuk8Q7WqWs/wDICv8A/r2k/wDQTXL/APCofBP/AECZv/Bjc/8AxykPwg8EMpDaRMQRgj+0Ln/45QBT+HP/ACTHw1/2C7f/ANFrXSVxPgX4VeDtR+Hfhy9u9Kke4udKtppWF9cLudolJOA4A5J4HFb3/CnvA/8A0B5f/Bhc/wDxyvHllrlJvm/A61iLK1jYorH/AOFPeB/+gPL/AODC5/8AjlH/AAp7wP8A9AeX/wAGFz/8cqf7Mf8AN+AfWPI1Zv8AUSf7p/lWd8Iv+SP+GP8AsHx/yqP/AIU94H/6A8v/AIMLn/45TYfg34Ft4Uih0aVI0GFVdQucAf8Afyu3C4V4e+t7mVSpz20O4oriv+FQ+Cf+gTN/4Mbn/wCOUf8ACofBP/QJm/8ABjc//HK7TE7WiuK/4VD4J/6BM3/gxuf/AI5R/wAKh8E/9Amb/wAGNz/8coAPg9/ySPQf+uL/APoxq7WqGiaJp/hzRbfSdGt/s1jbKVii3s+0EknliSeSepq/QAUUUUAFFFFABRRRQAV5/wDHP/ki2vf7sH/pRHXoFZ2vaDpvifRLjSNctvtVhc7fNh3sm7awYcqQRyoPBoHF2aZ8XUV9R/8ACjfhz/0Laf8AgXP/APF0f8KN+HP/AELaf+Bc/wD8XXmfUX/Mfcf61x/59fj/AMA+XKK+o/8AhRvw5/6FtP8AwLn/APi6P+FG/Dn/AKFtP/Auf/4uj6i/5g/1rj/z6/H/AIB8p3//AB5P9V/mK+u6zm+BXw4dSreG0wfS7nH/ALPVr/hTvgb/AKA0n/gfc/8AxytI4RqNrni5hm6xlVVFC2lt/Xy8yeioP+FO+Bv+gNJ/4H3P/wAco/4U74G/6A0n/gfc/wDxyn9Vfc8/62uxPXLfE3/kl/iH/rxk/lXRf8Kd8Df9AaT/AMD7n/45VXUvg54FOlXWdFcjyXODf3B7H/ppTjhmne4pYpNWsd7B/wAe0X+4P5VJXmvhb4WeENQ8H6NeXemzSXFxYQSyv9vuBuZo1JOBJgcntWr/AMKh8E/9Amb/AMGNz/8AHK7ThO1oriv+FQ+Cf+gTN/4Mbn/45R/wqHwT/wBAmb/wY3P/AMcoAu/E3/klHir/ALBF1/6KatvRv+QDYf8AXtH/AOgiuVl+DngaaF4pdHldHUqynULnBB7f6ylHwg8EKoC6RMABgAahc8f+RKAO2oriv+FQ+Cf+gTN/4Mbn/wCOUf8ACofBP/QJm/8ABjc//HKAO1rA8ef8k48Sf9gm6/8ARLVk/wDCofBP/QJm/wDBjc//ABymyfB3wPLG0cmjysjgqynULnkHt/rKAOh8Kf8AIm6L/wBeEH/ota1qhs7SDT7GCztE8u3t41iiTJO1VGAMnk8DvU1ABRRRQAUUUUAFFFFABXkf7SH/ACT3TP8AsMw/+i5a9crG8T+E9E8ZabFp/iSxF7axTCdIzK6YcAgHKkHox46c1MlzRaNaNT2VWNTs0/uPjaivqP8A4Ub8Of8AoW0/8C5//i6P+FG/Dn/oW0/8C5//AIuvO+ov+Y+0/wBa4/8APr8f+AfLlFfUf/Cjfhz/ANC2n/gXP/8AF0f8KN+HP/Qtp/4Fz/8AxdH1F/zB/rXH/n1+P/APnHwl/wAlD8Lf9hm1/wDRgr7NrgB8Dfh0HR18OBWRgyst5cAgjoeJKtf8Kh8E/wDQJm/8GNz/APHK7aNL2UeW58zmmOWPr+2UbaW7na0VxX/CofBP/QJm/wDBjc//AByj/hUPgn/oEzf+DG5/+OVseYdrXB/GD/kT7D/sN6f/AOlCVP8A8Kh8E/8AQJm/8GNz/wDHKwPHPwq8HWXgbVby20qVZ7a3aaJzfXDbXXkHBcjg01owNKirX/Cm/An/AEBX/wDA+4/+OUf8Kb8Cf9AV/wDwPuP/AI5XV9Y8jD2XmVaKtf8ACm/An/QFf/wPuP8A45R/wpvwJ/0BX/8AA+4/+OUfWPIPZeZxnxF/5FH/ALf7L/0pjrqanl+C3gGZNkuhsy5Bwb+46g5H/LSn/wDCm/An/QFf/wAD7j/45S+sa3sHstNyrRVr/hTfgT/oCv8A+B9x/wDHKP8AhTfgT/oCv/4H3H/xyn9Y8g9l5lWuZ+IX/Ik3P/Xe2/8ASiOuw/4U34E/6Ar/APgfcf8AxykPwZ8BtjdobHawYA31weQcj/lp6ilLEXVrDVKzvc7miiiuU2CiiigAooooAKKKKACiiigAooooAKKKKAOb+HH/ACSzwp/2BbP/ANEJXSVzfw4/5JZ4U/7Atn/6ISukoAKKKKACiiigAooooAKKKKACiiigAooooAKKKKACiiigAooooAKKKKACiiigAooooAKKKKACq2pf8gq7/wCuL/8AoJqzVbUv+QVd/wDXF/8A0E0AZvgr/kQfD/8A2DLb/wBFLW3WJ4K/5EHw/wD9gy2/9FLW3QAUUUUAFFFFABRRRQAUUUUAFFFFABRRRQAUUUUAFFFFABRRRQAUUUUAFFFFABRRRQAUUUUAFc38RP8AknGvf9eUn8q6Sub+In/JONe/68pP5UAdJRRRQAUUUUAFFFFABRRRQAUUUUAFFFFABRRRQAUUUUAFFFFABRRRQAUUUUAFFFFAHN/Dj/klnhT/ALAtn/6ISukrm/hx/wAks8Kf9gWz/wDRCV0lABRRRQAUUUUAFFFFABRRRQAUUUUAFFFFABRRRQAUUUUAFFFFABRRRQAUUUUAFFFFABRRRQAVW1L/AJBV3/1xf/0E1ZqtqX/IKu/+uL/+gmgDN8Ff8iD4f/7Blt/6KWtusTwV/wAiD4f/AOwZbf8Aopa26ACiiigAooooAKKKKACiiigAooooAKKKKACiiigAooooAKKKKACiiigAooooAKKKKACiiigArm/iJ/yTjXv+vKT+VdJXN/ET/knGvf8AXlJ/KgDpKKKKACiiigAooooAKKKKACiiigAooooAKKKKACiiigAooooAKKKKACiiigAooooA5v4cf8ks8Kf9gWz/APRCV0lc38OP+SWeFP8AsC2f/ohK6SgAooooAKKKKACiiigAooooAKKKKACiiigAooooAKKKKACiiigAooooAKKKKACiiigAooooAKral/yCrv8A64v/AOgmrNVtS/5BV3/1xf8A9BNAGb4K/wCRB8P/APYMtv8A0UtbdYngr/kQfD//AGDLb/0UtbdABRRRQAUUUUAFFFFABRRRQAUUUUAFFFFABRRRQAUUUUAFFFFABRRRQAUUUUAFFFFABRRRQAVzfxE/5Jxr3/XlJ/Kukrm/iJ/yTjXv+vKT+VAHSUUUUAFFFFABRRRQAUUUUAFFFFABRRRQAUUUUAFFFFABRRRQAUUUUAFFFFABRRRQBy1r8PNHsbOG0s7zXILeCNY4oo9cu1WNFGAoAk4AAxipf+EF07/oJeIP/B9ef/Ha6SigDm/+EF07/oJeIP8AwfXn/wAdo/4QXTv+gl4g/wDB9ef/AB2ukooA5v8A4QXTv+gl4g/8H15/8do/4QXTv+gl4g/8H15/8drpKKAOb/4QXTv+gl4g/wDB9ef/AB2j/hBdO/6CXiD/AMH15/8AHa6SigDm/wDhBdO/6CXiD/wfXn/x2j/hBdO/6CXiD/wfXn/x2ukooA5v/hBdO/6CXiD/AMH15/8AHaP+EF07/oJeIP8AwfXn/wAdrpKKAOb/AOEF07/oJeIP/B9ef/HaP+EF07/oJeIP/B9ef/Ha6SigDm/+EF07/oJeIP8AwfXn/wAdo/4QXTv+gl4g/wDB9ef/AB2ukooA5v8A4QXTv+gl4g/8H15/8do/4QXTv+gl4g/8H15/8drpKKAOb/4QXTv+gl4g/wDB9ef/AB2j/hBdO/6CXiD/AMH15/8AHa6SigDm/wDhBdO/6CXiD/wfXn/x2j/hBdO/6CXiD/wfXn/x2ukooA5v/hBdO/6CXiD/AMH15/8AHaP+EF07/oJeIP8AwfXn/wAdrpKKAOb/AOEF07/oJeIP/B9ef/HaP+EF07/oJeIP/B9ef/Ha6SigDm/+EF07/oJeIP8AwfXn/wAdo/4QXTv+gl4g/wDB9ef/AB2ukooA5v8A4QXTv+gl4g/8H15/8drkPit4fTw98Ldc1TSdX1+G7t4AY3bW7pwMuqnhpCDwTXqdcF8cP+SKeJP+vdf/AEYlAGpb/D7SbS1it7a+16OGFBHGia7dgKoGAABJgDFS/wDCC6d/0EvEH/g+vP8A47XSUUAc3/wgunf9BLxB/wCD68/+O0f8ILp3/QS8Qf8Ag+vP/jtdJRQBzf8Awgunf9BLxB/4Prz/AOO0f8ILp3/QS8Qf+D68/wDjtdJRQBzf/CC6d/0EvEH/AIPrz/47R/wgunf9BLxB/wCD68/+O10lFAHN/wDCC6d/0EvEH/g+vP8A47R/wgunf9BLxB/4Prz/AOO10lFAHN/8ILp3/QS8Qf8Ag+vP/jtH/CC6d/0EvEH/AIPrz/47XSUUAc3/AMILp3/QS8Qf+D68/wDjtH/CC6d/0EvEH/g+vP8A47XSUUAc3/wgunf9BLxB/wCD68/+O0f8ILp3/QS8Qf8Ag+vP/jtdJRQBzf8Awgunf9BLxB/4Prz/AOO0f8ILp3/QS8Qf+D68/wDjtdJRQBzf/CC6d/0EvEH/AIPrz/47R/wgunf9BLxB/wCD68/+O10lFAHN/wDCC6d/0EvEH/g+vP8A47R/wgunf9BLxB/4Prz/AOO10lFAHN/8ILp3/QS8Qf8Ag+vP/jtH/CC6d/0EvEH/AIPrz/47XSUUAc3/AMILp3/QS8Qf+D68/wDjtH/CC6d/0EvEH/g+vP8A47XSUUAc3/wgunf9BLxB/wCD68/+O0f8ILp3/QS8Qf8Ag+vP/jtdJRQBzf8Awgunf9BLxB/4Prz/AOO1HP8AD7R7q3eC7u9bnhkG14pdbu3Rx6FTJgj2NdRRQAUUUUAFFFFABRRRQAUUUUAFFFFABRRRQAUUUUAFFFFABRRRQAUUUUAFFFFABRRRQAUUUUAFFFFABRRRQAUUUUAFFFFABRRRQAUUUUAFFFFABRRRQAUUUUAFFFFABRRRQAUUUUAFFFFABXBfHD/kiniT/r3X/wBGJXe1wXxw/wCSKeJP+vdf/RiUAd7RRRQAUUUUAFFFFABRRRQAUUUUAFFFFABRRRQAUUUUAFFFFABRRRQAUUUUAFFFFABRRRQAUUUUAFFFFABRRRQAUUUUAFFFFABRRRQAUUUUAFFFFABRRRQAUUUUAFFFFABRRRQAUUUUAFFFFABRRRQAUUUUAFFFFABRRRQAUUUUAFFFFABRRRQAUUUUAFFFFABRRRQAUUUUAFFFFABRRRQAUUUUAFcF8cP+SKeJP+vdf/RiV3tcF8cP+SKeJP8Ar3X/ANGJQB3tFFFABRRRQAUUUUAFFFFABRRRQAUUUUAFFFFABRRRQAUUUUAFFFFABRRRQAUUUUAFFFFABRRRQAUUUUAFFFFABRRRQAUUUUAFFFFABRRRQAUUUUAFFFFABRRRQAUUUUAFFFFABRRRQAUUUUAFFFFABRRRQAUUUUAFFFFABRRRQAUUUUAFFFFABRXCfFS1S/tfDFjO86QXXiC3hmEE7ws6GOXK7kIOPxqb/hUnhL/nhqn/AIO7z/47QB2tFcV/wqTwl/zw1T/wd3n/AMdo/wCFSeEv+eGqf+Du8/8AjtAHa0VxX/CpPCX/ADw1T/wd3n/x2j/hUnhL/nhqn/g7vP8A47QB2tFcV/wqTwl/zw1T/wAHd5/8do/4VJ4S/wCeGqf+Du8/+O0AdrRXFf8ACpPCX/PDVP8Awd3n/wAdo/4VJ4S/54ap/wCDu8/+O0AdrRXFf8Kk8Jf88NU/8Hd5/wDHaP8AhUnhL/nhqn/g7vP/AI7QB2tFcV/wqTwl/wA8NU/8Hd5/8do/4VJ4S/54ap/4O7z/AOO0AdrXz5+1DpWu2+l2mt6ZquoppMwFnqNil04gzndG5jB288gnHUL3Nenf8Kk8Jf8APDVP/B3ef/Haiufg14Kvbdre8sb+4hf70cusXjK3OeQZcHmgDN+BGma9b/DuLVvFWrajqN7q5FxGt9dSTeTDj92BuJxuBLEjqGUHpXplcSvwi8IKoVbfUwoGABrV5x/5Fpf+FSeEv+eGqf8Ag7vP/jtAHa0VxX/CpPCX/PDVP/B3ef8Ax2j/AIVJ4S/54ap/4O7z/wCO0AdrRXFf8Kk8Jf8APDVP/B3ef/HaP+FSeEv+eGqf+Du8/wDjtAHa0VxX/CpPCX/PDVP/AAd3n/x2j/hUnhL/AJ4ap/4O7z/47QB2tFcV/wAKk8Jf88NU/wDB3ef/AB2j/hUnhL/nhqn/AIO7z/47QB2tFcV/wqTwl/zw1T/wd3n/AMdo/wCFSeEv+eGqf+Du8/8AjtAHa0VxX/CpPCX/ADw1T/wd3n/x2j/hUnhL/nhqn/g7vP8A47QB2tFeS/Eb4ceHdF+G2v6lpq6nFdWtlJJE51i7cKwH91pSD9CK9Wts/ZYskk7F5JyTxQBJRRRQAUUUUAFFFFABRRRQAUUUUAFFFFABRRRQAUUUUAFFFFABRRRQAUUUUAFFFFABRRRQAUUUUAFFFFABRRRQAUUUUAFFFFABRRRQAUUUUAFFFFABRRRQAUUUUAFFFFABRRRQAUUUUAcV8R/9f4P/AOxltf8A0CWu1riviP8A6/wf/wBjLa/+gS12tABRRRQAUUUUAFFFFABRRRQAUVg+ONG1HxD4J1LStFu1tL26jCRyu7IuNwLKWX5gGUFSRyA1eZa7e6PF8M/GmlQ+FD4Q1tNH8670tFQQuhBxLGYj5cgySpcANwAegAAPa6K8x8V6Dpfg2x0LX/CWn2uj38epWlvIlhEsC3sU0ixvFKqgBxhtwJBKlcjHOXeDtav9P1TxhDaeGdU1RD4iuGM9pLaqgPlxfLiWZGzx6Y560AemVljxPoJvpbMa3ppuoZUglg+1x745HO1EZc5DMeADyT0rmvhKJn+DOiC2ZIp2tX8tpU3qjb2wWUEZAPUAjPqOtcFo0epL8MPD0uoXVrPHL4zgMYhtWjcN/acgcuxkbfk8jhdo4JbrQB7tRXmviL4j3mj6tO9rc2V3ZWuow2VxbQaXdS7N8iI269BEKSDeCYypwflySRVrwjN4kn+JnjCG/wBZtrjT7O8gX7N9lkBUNaoyiImYiMcgt8p3HcflzgAHZ6nrWl6JFFLrOpWenxzOI43u51iDv/dBYjJ46Uia3pUoiMWp2biadraIrcIfMmXO6Mc8uNrZUcjB9K4jxLDq8nxu8LfZL6yihGn3rxpNZvIVAMAk5EqjcQQAcDbzkNnjFGpDU5/CsgsbOyEXja9gEdnD5atsW6XeRnl2xlj3JJoA9foryuD4n63qGNS0rTpbqxN8YE02LQb15XhWUxGQXgHkhuC+3aQANu7PNeqUAFFFFABRRRQAUUUUAFFFFAHH/Fv/AJJB4n/7B0v8q6u2/wCPSH/cX+Vcp8W/+SQeJ/8AsHS/yrq7b/j0h/3F/lQBLRRRQAUUUUAFFFFABRRRQAUUUUAFFFFABRRRQAUUUUAFFFFABRRRQAUUUUAFFFFABRRRQAUUUUAFFFFABRRRQAUUUUAFFFFABRRRQAUUUUAFFFFABRRRQAUUUUAFFFFABRRRQAUUUUAcV8R/9f4P/wCxltf/AECWu1riviP/AK/wf/2Mtr/6BLXa0AFFFFABRRRQAUUUUAFFFFAFPVNP/tOwa2F5dWTlldLi0k2SRspBBGQQRkcqwKkcEEHFc5c/Dmw1Cw1iHWNU1PUrrV7T7FPfTvEsscAyRHGEjWNRklvuZJPJPGOvooA5m38ExHUbG81rWdU1xtOfzLOK+MKxQSYx5myGOMOwHQvu25JXBOa0tF0C10KTU3tJJnOpXz303msDtkdVUhcAYXCDrk9ea1KKAMvw3oFr4X8O2ei6fJNJbWiFI2nYFyCSeSAB39Ky4vAOlw+HdP0ZZ7w22n6mNTiYuu9pRcNcYY7cbd7EYABx3zzXUUUAcXffDHT7/wC2QNrGsQ6dd341F9OiliEIuPMWQsCYy+C67ipYrkkgA4xs2/hmKz8W3mvWmoXsLX6p9rswYzBMyJsVzlC6kLgfKwBwMg1t0UAZd14ftbvxRp+vSSTC60+3mt4kVhsZZShYsMZz+7GMEd+tZdv4A0u2+w7Li8P2LV5tYjy68zS+ZuU/L9z962BweBye/UUUAcxY+B4dLu5P7M1vV7TTZLlro6VFLGIA7NuYKxTzVVnyxVZAMswxgkV09FFABRRRQAUUUUAFFFFABRRRQBx/xb/5JB4n/wCwdL/Kurtv+PSH/cX+Vcp8W/8AkkHif/sHS/yrq7b/AI9If9xf5UAS0UUUAFFFFABRRRQAUUUUAFFFFABRRRQAUUUUAFFFFABRRRQAUUUUAFFFFABRRRQAUUUUAFFFFABRRRQAUUUUAFFFFABRRRQAUUUUAFFFFABRRRQAUUUUAFFFFABRRRQAUUUUAFFFFAHkX7SKhvh3pmcjGswkFWII/dy9xXzt5X/TW4/7/v8A419FftH/APJO9N/7DMH/AKLlr55rzMZOUZqzPueGsPRrYebqQT16pPoR+V/01uP+/wC/+NHlf9Nbj/v+/wDjUlFcPtan8z+8+p+o4T/n1H/wFf5Eflf9Nbj/AL/v/jVvRbGG98WaFaXTTSwXGp28UqNO+GVnAI61BWh4b/5Hnw1/2F7X/wBGCrjUnf4mcGY4PDQwlSUacU7Poj6G/wCFWeDv+gS3/gZP/wDF0f8ACrPB3/QJb/wMn/8Ai666iuH21X+Z/efn/JHscj/wqzwd/wBAlv8AwMn/APi6P+FWeDv+gS3/AIGT/wDxdddRR7ar/M/vDkj2PKfH3w+8M6XodjNYac8Ukmq2ULH7VMco86Kw5fuDWz/wrPwn/wBAt/8AwMm/+Lq58Tv+Rc07/sNWH/pQlb9ehRqTdO7b3KhCN3ocp/wrPwn/ANAt/wDwMm/+Lo/4Vn4T/wCgW/8A4GTf/F11dFa+0n3NPZw7I5T/AIVn4T/6Bb/+Bk3/AMXXN+P/AAH4c0vwk1zY2DxTC8tEDfapTw1xGp6t6E16fXI/E7/kR3/6/rL/ANKoqulOTmk31IqwioNpdCp/wrrwv/0Dn/8AAub/AOLo/wCFdeF/+gc//gXN/wDF109FfT8kex87zPucx/wrrwv/ANA5/wDwLm/+Lo/4V14X/wCgc/8A4Fzf/F109FHJHsHM+55v478EaBpvg28urKykimR4QrfapTjMyA8FsdCa6H/hXXhf/oHP/wCBc3/xdN+JP/IgX3/XS3/9Hx11NLkjzbD5nbc5j/hXXhf/AKBz/wDgXN/8XR/wrrwv/wBA5/8AwLm/+Lrp6KfJHsLmfc5j/hXXhf8A6Bz/APgXN/8AF1z3jzwRoGm+BdUu7KykiniiBR/tUpx8wHQtivSK5b4lf8k31j/riP8A0NamUY8r0GpO+5f/AOFaeE/+gY//AIFzf/F0f8K08J/9Ax//AALm/wDi66qsrxLrR0DQ5b2O2a6nLxw29urYMssjhEXPYFmGT6Zr53mk+o7syv8AhWnhP/oGP/4Fzf8AxdH/AArTwn/0DH/8C5v/AIuqVxffEHSLOTVNQh0K/toUMs9jZrKkoQcny3YkMwHYgZxxiuxtLqK9soLq3bdFPGsiH1VhkfoablJdR3fc868feAPDWnfD7W7yz09o54bN3jY3UrYIHoWwa94tv+PSH/cX+VeVfEv/AJJj4h/68ZP5V6rbf8ekP+4v8q6aLbTua022iWiiitzQKKKKACiiigAooooAKKKKACiiigAooooAKKKKACiiigAooooAKKKKACiiigAooooAKKKKACiiigAooooAKKKKACiiigAooooAKKKKACiiigAooooAKKKKACiiigAooooAKKKKAPI/2j/+Sd6b/wBhmD/0XLXzzX0N+0f/AMk703/sMwf+i5a+ea8rHfGvQ/QOFv8Adp/4v0QUUUV559cFaHhv/kefDX/YXtf/AEYKz60PDf8AyPPhr/sL2v8A6MFXD4jz8z/3Kr6M+tKKKK4D83CiiigDjvid/wAi5p3/AGGrD/0oSt+sD4nf8i5p3/YasP8A0oSt+vRofwvm/wBBw3YUUUVsbBXI/E7/AJEd/wDr+sv/AEqirrq5H4nf8iO//X9Zf+lUVaUv4kfUyq/w5ehuUUUV9YfMhRRRQBy3xJ/5EC+/66W//o+OuprlviT/AMiBff8AXS3/APR8ddTU/aK6BRRRVEhXLfEr/km+sf8AXEf+hrXU1y3xK/5JvrH/AFxH/oa1E/hZUd0dzXOeO5IIvCrmaCeeQ3Vutslu6o/nmZPKIZgQvz7eSCMZro6wvGdnb3/ha5t7yy1C+hdk3QaawEzYYEYJIHBAPXtXzUdxrcy4vEY8RwtoOpWlxpV1eG4sbjyJ1cwSpGrkK+MHdG+4Nj8Aa6y2t4rO0htrdQkUKLGijsoGAPyrzLRI7PQtXbU4PB/ja6u2LHfeyRzYZgqswDT/AHiqqu7rgAV6Tp141/p8V09pcWbSDJguVCyJzjDAEj8iaclbYbMD4l/8kx8Q/wDXjJ/KvVbb/j0h/wBxf5V5V8S/+SY+If8Arxk/lXqtt/x6Q/7i/wAq6aGzNaexLRRRXQahRRRQAUUUUAFFFFABRRRQAUUUUAFFFFABRRRQAUUUUAFFFFABRRRQAUUUUAFFFFABRRRQAUUUUAFFFFABRRRQAUUUUAFFFFABRRRQAUUUUAFFFFABRRRQAUUUUAFFFFABRRRQB5H+0f8A8k703/sMwf8AouWvnmvoP9pTzP8AhXGm+Tt3f2zD9/OP9XLXzhjUvW1/Jq8zGRvNan3XDNXkw81yt69PQuUVTxqXra/k1GNS9bX8mrh5PNH1X1h/yS+7/glytDw3/wAjz4a/7C9r/wCjBWHjUvW1/Jqu6ENW/wCEu0H7M1l9o/tO38nzFfZv3jbuwc4z1xzVRhrujgzGvfB1FyPZ9D7DorkNvxJ/56+Ff+/Vz/8AFUbfiT/z18K/9+rn/wCKrh9n5o/PubyOvorkNvxJ/wCevhX/AL9XP/xVG34k/wDPXwr/AN+rn/4qj2fmg5vIb8Tv+Rc07/sNWH/pQlb9ec+P18djQ7H+05PDpi/tWy2fZ45w3meeuzOW+7nGe+OlbW34if8APXwx/wB+rj/4qvQoRtT36/5DhLV6HWUVye34if8APXwx/wB+rj/4qjb8RP8Anr4Y/wC/Vx/8VWvL5mvN5HWVyPxO/wCRHf8A6/rL/wBKoqdt+In/AD18Mf8Afq4/+KrmfiAvjf8A4RF/7Tk8Pm3+2Wmfs8c4fd9oj29TjG7GfbNaUo/vI69TOrL93LToegUVy23x/wD89fDf/fuf/wCKo2+P/wDnr4b/AO/c/wD8VX1HN5HztjqaK5bb4/8A+evhv/v3P/8AFUbfH/8Az18N/wDfuf8A+Ko5vILB8Sf+RAvv+ulv/wCj466mvNPHi+M/+EMvP7Rk0I22+Hd5EcwfPnJjGTjrjPtmui2+P/8Anr4b/wC/c/8A8VU83vbDtodTRXLbfH//AD18N/8Afuf/AOKo2+P/APnr4b/79z//ABVVzeQrHU1y3xK/5JvrH/XEf+hrRt8f/wDPXw3/AN+5/wD4qud8er4z/wCEF1T+0pNCNr5Q8wW8cwfG4dMnFTKXuvQaWp63WD40j1CXwvNHpT3McrzQrK9pnzlhMqiUx4/i2bsd/TnFb1cv8RLma18FXMsMt1EBNCJfsYbzmi81fMVCoJDFdwB9+o6183HdAtyvZeHD4d8YaeugnUTY3EM329bi6knhGANjZkY4ct6dRuz2rsK8/wDCf/CDf2/D/wAI9/av2/Y2z7T9v2Y285835Onr+FegU5bjZy/xL/5Jj4h/68ZP5V6rbf8AHpD/ALi/yryr4l/8kx8Q/wDXjJ/KvVbb/j0h/wBxf5V00Nma09iWiiiug1CiiigAooooAKKKKACiiigAooooAKKKKACiiigAooooAKKKKACiiigAooooAKKKKACiiigAooooAKKKKACiiigAooooAKKKKACiiigAooooAKKKKACiiigAooooAKKKKACiiigDyP8AaP8A+Sd6b/2GYP8A0XLXzzX0N+0f/wAk703/ALDMH/ouWvnmvKx3xr0P0Dhb/dp/4v0QUUUV559cFaHhv/kefDX/AGF7X/0YKz60PDf/ACPPhr/sL2v/AKMFXD4jz8z/ANyq+jPrSiiiuA/NwooooA474nf8i5p3/YasP/ShK36wPid/yLmnf9hqw/8AShK369Gh/C+b/QcN2FFFFbGwVyPxO/5Ed/8Ar+sv/SqKuurkfid/yI7/APX9Zf8ApVFWlL+JH1Mqv8OXoblFFFfWHzIUUUUAct8Sf+RAvv8Arpb/APo+OuprlviT/wAiBff9dLf/ANHx11NT9oroFFFFUSFct8Sv+Sb6x/1xH/oa11Nct8Sv+Sb6x/1xH/oa1E/hZUd0dzWH4wuobPwzPLcXuoWYLxoj6aFNwzs4VUQMCCWJA6d+1blc945gsp/CNyNU1T+ybeOSKX7YFBaJlkVlK5/i3AYxzmvmo7jW5y2k2sOrTW8C+MPGFrczNLH5Fy8CvHJHtLRtiIgNhgw5wRyDXoOnWbWGnxWsl3cXrRjBuLllMj89WKgD9BXlGi614Y0nxhbXl74tvtZnup5ZF32IijjmaJULsFQEkoiqAOBycck17BVTKkcv8S/+SY+If+vGT+Veq23/AB6Q/wC4v8q8q+Jf/JMfEP8A14yfyr1W2/49If8AcX+VdFDZmlPYloooroNQooooAKKKKACiiigAooooAKKKKACiiigAooooAKKKKACiiigAooooAKKKKACiiigAooooAKKKKACiiigAooooAKKKKACiiigAooooAKKKKACiiigAooooAKKKKACiiigAooooA8j/AGj/APknem/9hmD/ANFy18819DftH/8AJO9N/wCwzB/6Llr55rysd8a9D9A4W/3af+L9EFFFFeefXBWh4b/5Hnw1/wBhe1/9GCs+tDw3/wAjz4a/7C9r/wCjBVw+I8/M/wDcqvoz60ooorgPzcKKKKAOO+J3/Iuad/2GrD/0oSt+sD4nf8i5p3/YasP/AEoSt+vRofwvm/0HDdhRRRWxsFcj8Tv+RHf/AK/rL/0qirrq5H4nf8iO/wD1/WX/AKVRVpS/iR9TKr/Dl6G5RRRX1h8yFFFFAHLfEn/kQL7/AK6W/wD6Pjrqa5b4k/8AIgX3/XS3/wDR8ddTU/aK6BRRRVEhXLfEr/km+sf9cR/6GtdTXLfEr/km+sf9cR/6GtRP4WVHdHc1z/jW4htvDgkkslvpjd2y2kDSFFNwZkERLDkAOVJ9hXQVg+M7q0tfDExvrGTUFllhiitY5PLaWZpVEYD5G07yp3Z4xmvmo7jW5zmha7ql/wCMo7LxXZac9xZ3c9taXNg0i7JRBHIwKsTkFJSM+q9ORXoNcBoURsvH32nXvDY07UtWWR4LqHUTdRFgq712kKEYoi8gfNs68V39OW42cv8AEv8A5Jj4h/68ZP5V6rbf8ekP+4v8q8q+Jf8AyTHxD/14yfyr1W2/49If9xf5V00Nma09iWiiiug1CiiigAooooAKKKKACiiigAooooAKKKKACiiigAooooAKKKKACiiigAooooAKKKKACiiigAooooAKKKKACiiigAooooAKKKKACiiigAooooAKKKKACiiigAooooAKKKKACiiigDyD9pSVIfhxprSEgf2zD0BP/LOX0r5w/tW0/vv/AN+n/wAK+kv2j/8Aknem/wDYZg/9Fy18815mM5edXR91wyqrw8/ZyS16pvp6op/2raf33/79P/hR/atp/ff/AL9P/hVyiuG8Oz+//gH1XLif54/+Av8A+SKf9q2n99/+/T/4Vd0LWrG38XaDcyySCKDU7eWQiFyQquCSABk/Qc0laHhv/kefDX/YXtf/AEYKqLhfZ/f/AMA4MxjiPqdTmkrWf2X/APJH0L/wtTwj/wA/15/4K7r/AON0f8LU8I/8/wBef+Cu6/8AjddfRXDen2f3/wDAPz73u5yH/C1PCP8Az/Xn/gruv/jdH/C1PCP/AD/Xn/gruv8A43XX0UXp9n9//AD3u55P8QPiJ4a1LQ7GKzu7l3TVbKVg2n3CfKs6sxy0Y7Dp1Patr/hZ3hX/AJ/bv/wWXP8A8bq78Tv+Rc07/sNWH/pQlb9ehQcPZ6Lr3/4A4c13qcn/AMLO8K/8/t3/AOCy5/8AjdH/AAs7wr/z+3f/AILLn/43XWUVrePb+vuNbS7/ANfecn/ws7wr/wA/t3/4LLn/AON1zPxA8f8Ah3UvCL29ndXLSm8tHw1hcIMLcRseWQDoD9e1epVyPxO/5Ed/+v6y/wDSqKtKXL7SOnUzq83s5a9Cl/wsjwx/z+XX/guuf/jdH/CyPDH/AD+XX/guuf8A43XU0V9R73c+d0OW/wCFkeGP+fy6/wDBdc//ABuj/hZHhj/n8uv/AAXXP/xuupoo97uGh5p488d+H9R8GXlraXVw0rvCVDWM6DiZCeWQDoDXRf8ACyPDH/P5df8Aguuf/jdHxJ/5EC+/66W//o+Oupqfe5h6WOW/4WR4Y/5/Lr/wXXP/AMbo/wCFkeGP+fy6/wDBdc//ABuupoqve7i0OW/4WR4Y/wCfy6/8F1z/APG653x7478P6j4F1S0tLq4aaWIBA1jOgJ3A9WQAfia9LrlviV/yTfWP+uI/9DWplzcrGrXO5rL8R6IviPQZ9Lku5rRZip86ALvXawYEbgcHIHPUdRWpWN4rube08PTTXmtPocSsub2PblPmHHzAjnp07180twW5hP8AD+/l1KG/k8aa09zBG0cUjR252KxG7A8vAJ2jnrxXWaday2WnxW9xeTX0kYw1xOFDyc9TtAH5CvLYHttf8SaZFo3xPurySHzncAwh0XyzyoEWD756CvQ/CN7daj4T0+7v7qK8nljy1xCBtlGThuOMkYJxxnOKuSdtSncofEv/AJJj4h/68ZP5V6rbf8ekP+4v8q8q+Jf/ACTHxD/14yfyr1W2/wCPSH/cX+VdFDZmlPYloooroNQooooAKKKKACiiigAooooAKKKKACiiigAooooAKKKKACiiigAooooAKKKKACiiigAooooAKKKKACiiigAooooAKKKKACiiigAooooAKKKKACiiigAooooAKKKKACiiigAooooA8j/aP/5J3pv/AGGYP/RctfPNfQ37R/8AyTvTf+wzB/6Llr55rysd8a9D9A4W/wB2n/i/RBRRRXnn1wVoeG/+R58Nf9he1/8ARgrPrQ8N/wDI8+Gv+wva/wDowVcPiPPzP/cqvoz60ooorgPzcKKKKAOO+J3/ACLmnf8AYasP/ShK36wPid/yLmnf9hqw/wDShK369Gh/C+b/AEHDdhRRRWxsFcj8Tv8AkR3/AOv6y/8ASqKuurkfid/yI7/9f1l/6VRVpS/iR9TKr/Dl6G5RRRX1h8yFFFFAHLfEn/kQL7/rpb/+j466muW+JP8AyIF9/wBdLf8A9Hx11NT9oroFFFFUSFct8Sv+Sb6x/wBcR/6GtdTXLfEr/km+sf8AXEf+hrUT+FlR3R3NYni7VLvSPDzTab5a3U08FtFJKuUiMsqx72Hou7P4Vt1l+JFmfw/ciBdNY4BcaoCbfbn5t+PavmluNbnIeGNe1638aT6JrWrx6tH9rmtlJtkhkj8uCKXzPk42kyFcEddvPWvQlVUUKihVHAAGAK820OfV9S1W81Hw9N4Eu7+QAXNxaPI8jAcDcy844HtxXoOnfbv7Pi/tb7P9sx+9+zbvLzn+Hdz0x1qpDkYHxL/5Jj4h/wCvGT+Veq23/HpD/uL/ACryr4l/8kx8Q/8AXjJ/KvVbb/j0h/3F/lXRQ2ZrT2JaKKK6DUKKKKACiiigAooooAKKKKACiiigAooooAKKKKACiiigAooooAKKKKACiiigAooooAKKKKACiiigAooooAKKKKACiiigAooooAKKKKACiiigAooooAKKKKACiiigAooooAKKKKAPI/2j/wDknem/9hmD/wBFy18819DftH/8k703/sMwf+i5a+ea8rHfGvQ/QOFv92n/AIv0QUUUV559cFaHhv8A5Hnw1/2F7X/0YKz60PDf/I8+Gv8AsL2v/owVcPiPPzP/AHKr6M+tKKKK4D83CiiigDjvid/yLmnf9hqw/wDShK36wPid/wAi5p3/AGGrD/0oSt+vRofwvm/0HDdhRRRWxsFcj8Tv+RHf/r+sv/SqKuurkfid/wAiO/8A1/WX/pVFWlL+JH1Mqv8ADl6G5RRRX1h8yFFFFAHLfEn/AJEC+/66W/8A6Pjrqa5b4k/8iBff9dLf/wBHx11NT9oroFFFFUSFct8Sv+Sb6x/1xH/oa11Nct8Sv+Sb6x/1xH/oa1E/hZUd0dzXNeP7C41HwfPDZ2D6jMs8Eos1KgXASVWKNuIG0hcH27HpXS0V8ynZ3GeZy3Wqf8JZpmq2fw+1C0jsoJkkMTWyyS7woVDiQDYME89wMAc16Fp11Ne6fFcXNnNYyyDLW8xUvHz0O0ke/Bq1RTbuNu5y/wAS/wDkmPiH/rxk/lXqtt/x6Q/7i/yryr4l/wDJMfEP/XjJ/KvVbb/j0h/3F/lXVQ2ZrT2JaKKK6DUKKKKACiiigAooooAKKKKACiiigAooooAKKKKACiiigAooooAKKKKACiiigAooooAKKKKACiiigAooooAKKKKACiiigAooooAKKKKACiiigAooooAKKKKACiiigAooooAKKKKAMDxh4M0nxzo8Wm68s7W8NwtwvkTGNt4VlHI7YY1x3/DPfgb+5qn/AIMZP8a9QopOKe6NI1akFaMmjy//AIZ78Df3NU/8GMn+NH/DPfgb+5qn/gxk/wAa9Qopckexf1it/O/vZ5f/AMM9+Bv7mqf+DGT/ABpU/Z+8ExTRTQnVopYnWSORNSkDIwOQQc8H3616fRRyx7Cdeq1Zyf3nDf8ACqNK/wCg74o/8H1x/wDFUf8ACqNK/wCg74o/8H1x/wDFV3NFL2cOxlzM4b/hVGlf9B3xR/4Prj/4qj/hVGlf9B3xR/4Prj/4qu5oo9nDsHMzz+7+Deg30Sx3er+JJkSRZFWTWp3AZSCDgk8gjr1Hapf+FSaN/wBBrxP/AODy4/8Aiq7uinyxXQOZ9zhP+FSaN/0GvE//AIPLj/4qj/hUmjf9BrxP/wCDy4/+Kru6KfKuw+aXc4T/AIVJo3/Qa8T/APg8uP8A4qobv4MeH7638i71TxHNFvVykmszOCVYMOCSOoH07c16DRRyoXM+5wX/AAqDQ/8AoL+Jf/B3cf8AxVH/AAqDQ/8AoL+Jf/B3cf8AxVd7RVczJsjgv+FQaH/0F/Ev/g7uP/iqP+FQaH/0F/Ev/g7uP/iq72ijmYWR55dfBXw5e27QXepeIZomILJJrEzKcEEcE46gVN/wqDQ/+gv4l/8AB3cf/FV3tFHMwsjgv+FQaH/0F/Ev/g7uP/iqP+FQaH/0F/Ev/g7uP/iq72ijmYWRwX/CoND/AOgv4l/8Hdx/8VUN18FfDl9ayW13qXiGaGQYZJNYmZT9QSQfxr0Oii7CyOE/4VHo3/Qa8Tf+Dy4/+Ko/4VHo3/Qa8Tf+Dy4/+Kru6KnlQWRwn/Co9G/6DXib/wAHlx/8VR/wqPRv+g14m/8AB5cf/FV3dFHKgsjz67+DPh++s5bW61XxHLDMhR0k1md1YH1BJB/EV36II41ROFUADJzxTqKLJDCiiimAUUUUAFFFFABRRRQAUUUUAFFFFABRRRQAUUUUAFFFFABRRRQAUUUUAFFFFABRRRQB/9k=)"
      ]
    },
    {
      "cell_type": "code",
      "metadata": {
        "id": "amE9QR39nUTA"
      },
      "source": [
        "VACCINe = dfCT\n",
        "VACCINe = join_to_vaccine(VACCINe, 'FIPS', epa_11, 'CT')\n",
        "VACCINe = join_to_vaccine(VACCINe, 'FIPS', svi_11, 'CT')\n",
        "VACCINe = join_to_vaccine(VACCINe, 'FIPS', food_11, 'CT')\n",
        "VACCINe = join_to_vaccine(VACCINe, 'FIPS', tree_11, 'CT')\n",
        "VACCINe = join_to_vaccine(VACCINe, 'FIPS', bus_11, 'CT')\n",
        "VACCINe = join_to_vaccine(VACCINe, 'FIPS', subloc_11, 'CT')\n",
        "VACCINe = join_to_vaccine(VACCINe, 'FIPS', subentrance_11, 'CT')\n",
        "VACCINe = join_to_vaccine(VACCINe, 'FIPS', felony_11, 'CT')\n",
        "VACCINe = join_to_vaccine(VACCINe, 'FIPS', violation_11, 'CT')\n",
        "VACCINe = join_to_vaccine(VACCINe, 'FIPS', misdemeanor_11, 'CT')"
      ],
      "execution_count": 65,
      "outputs": []
    },
    {
      "cell_type": "markdown",
      "metadata": {
        "id": "8x1m71tQnUTC"
      },
      "source": [
        "## Creating derived variables\n",
        "In this section, we use total population of each FIPS code (extracted from ACS dataset) and crime dataset to find the percentage of crime per 1000 people in each geographical unit. We then add these additional variables to the main dataset."
      ]
    },
    {
      "cell_type": "code",
      "metadata": {
        "id": "u-LWYFFPnUTC"
      },
      "source": [
        "VACCINe['felonyPer1000PeoplePercent'] = (VACCINe.felony_count * 1000) / (dfCT.totalPopulation)\n",
        "VACCINe['violationPer1000PeoplePercent'] = (VACCINe.violation_count * 1000) / (dfCT.totalPopulation)\n",
        "VACCINe['misdemeanorPer1000PeoplePercent'] = (VACCINe.misdemeanor_count * 1000) / (dfCT.totalPopulation)\n",
        "VACCINe['subway_yn'] = np.where(np.logical_or(VACCINe['station_yn'] == 1, VACCINe['entrance_yn'] == 1), 1,0)"
      ],
      "execution_count": 66,
      "outputs": []
    },
    {
      "cell_type": "markdown",
      "metadata": {
        "id": "0yr54G5XnUTF"
      },
      "source": [
        "## Data cleanup\n",
        "Before exporting the dataset, we need to make sure we do a series of data cleanups. It includes removing values that are out of range. For example, replacing _-666666666_ from ACS dataset and _-999_ from SVI dataset with _-666_. This will help to unify all numbers that are flagged as out of range. We will also fill all NULL values with _-666_."
      ]
    },
    {
      "cell_type": "code",
      "metadata": {
        "id": "j4Zfc5QgnUTF"
      },
      "source": [
        "#remove values that are -666 from census tract data (low or zero populations)\n",
        "VACCINe['medianHouseIncome'] = np.where(VACCINe['medianHouseIncome']== -666666666.0, -666, VACCINe['medianHouseIncome'])\n",
        "VACCINe['GINI'] = np.where(VACCINe['GINI']== -666666666.0, -666, VACCINe['GINI'])\n",
        "# remove -999 values from SVI (low or zero populations)\n",
        "VACCINe['RPL_THEME1'] = np.where(VACCINe['RPL_THEME1']== -999.0000, -666, VACCINe['RPL_THEME1'])\n",
        "VACCINe['RPL_THEME2'] = np.where(VACCINe['RPL_THEME2']== -999.0000, -666, VACCINe['RPL_THEME2'])\n",
        "VACCINe['RPL_THEME3'] = np.where(VACCINe['RPL_THEME3']== -999.0000, -666, VACCINe['RPL_THEME3'])\n",
        "VACCINe['RPL_THEME4'] = np.where(VACCINe['RPL_THEME4']== -999.0000, -666, VACCINe['RPL_THEME4'])\n",
        "VACCINe['RPL_THEMES'] = np.where(VACCINe['RPL_THEMES']== -999.0000, -666, VACCINe['RPL_THEMES'])\n",
        "# remove NaN values (from dividing by a population of zero )\n",
        "VACCINe = VACCINe.fillna(value = -666)"
      ],
      "execution_count": 67,
      "outputs": []
    },
    {
      "cell_type": "code",
      "metadata": {
        "id": "l6Kcw9WjSmZm"
      },
      "source": [
        "data_table.DataTable(VACCINe, include_index=False, num_rows_per_page=5)"
      ],
      "execution_count": null,
      "outputs": []
    },
    {
      "cell_type": "markdown",
      "metadata": {
        "id": "mJ4xe6MjnUTH"
      },
      "source": [
        "## Exporting the final dataset\n",
        "We can now confidently export the dataset into a .CSV file. It is good practice to inspect the dataset before exporting."
      ]
    },
    {
      "cell_type": "code",
      "metadata": {
        "id": "C1FJ7XN_nUTH"
      },
      "source": [
        "list(VACCINe.columns.values)"
      ],
      "execution_count": null,
      "outputs": []
    },
    {
      "cell_type": "code",
      "metadata": {
        "id": "zX_EYX5nnUTK"
      },
      "source": [
        "VACCINe.to_csv('VACCINe_' + str(fips_check(VACCINe, 'FIPS')) + '_digits_fips_'+ str(date.today()) + '.csv')"
      ],
      "execution_count": 70,
      "outputs": []
    },
    {
      "cell_type": "code",
      "metadata": {
        "id": "PNYlPLuynUTM",
        "outputId": "5c154c62-4583-4817-d46f-44468f66e396",
        "colab": {
          "base_uri": "https://localhost:8080/",
          "height": 17
        }
      },
      "source": [
        "files.download('VACCINe_' + str(fips_check(VACCINe, 'FIPS')) + '_digits_fips_'+ str(date.today()) + '.csv')"
      ],
      "execution_count": 71,
      "outputs": [
        {
          "output_type": "display_data",
          "data": {
            "application/javascript": [
              "\n",
              "    async function download(id, filename, size) {\n",
              "      if (!google.colab.kernel.accessAllowed) {\n",
              "        return;\n",
              "      }\n",
              "      const div = document.createElement('div');\n",
              "      const label = document.createElement('label');\n",
              "      label.textContent = `Downloading \"${filename}\": `;\n",
              "      div.appendChild(label);\n",
              "      const progress = document.createElement('progress');\n",
              "      progress.max = size;\n",
              "      div.appendChild(progress);\n",
              "      document.body.appendChild(div);\n",
              "\n",
              "      const buffers = [];\n",
              "      let downloaded = 0;\n",
              "\n",
              "      const channel = await google.colab.kernel.comms.open(id);\n",
              "      // Send a message to notify the kernel that we're ready.\n",
              "      channel.send({})\n",
              "\n",
              "      for await (const message of channel.messages) {\n",
              "        // Send a message to notify the kernel that we're ready.\n",
              "        channel.send({})\n",
              "        if (message.buffers) {\n",
              "          for (const buffer of message.buffers) {\n",
              "            buffers.push(buffer);\n",
              "            downloaded += buffer.byteLength;\n",
              "            progress.value = downloaded;\n",
              "          }\n",
              "        }\n",
              "      }\n",
              "      const blob = new Blob(buffers, {type: 'application/binary'});\n",
              "      const a = document.createElement('a');\n",
              "      a.href = window.URL.createObjectURL(blob);\n",
              "      a.download = filename;\n",
              "      div.appendChild(a);\n",
              "      a.click();\n",
              "      div.remove();\n",
              "    }\n",
              "  "
            ],
            "text/plain": [
              "<IPython.core.display.Javascript object>"
            ]
          },
          "metadata": {
            "tags": []
          }
        },
        {
          "output_type": "display_data",
          "data": {
            "application/javascript": [
              "download(\"download_fbe891bd-80a7-448b-b630-ce362f9baae4\", \"VACCINe_11_digits_fips_2020-11-14.csv\", 764424)"
            ],
            "text/plain": [
              "<IPython.core.display.Javascript object>"
            ]
          },
          "metadata": {
            "tags": []
          }
        }
      ]
    }
  ]
}